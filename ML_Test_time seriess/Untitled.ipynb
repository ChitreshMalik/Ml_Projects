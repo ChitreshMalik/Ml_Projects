{
 "cells": [
  {
   "cell_type": "code",
   "execution_count": 1,
   "id": "617ae3e8",
   "metadata": {},
   "outputs": [
    {
     "name": "stderr",
     "output_type": "stream",
     "text": [
      "C:\\Users\\Lenovo\\anaconda3\\lib\\site-packages\\scipy\\__init__.py:146: UserWarning: A NumPy version >=1.16.5 and <1.23.0 is required for this version of SciPy (detected version 1.26.4\n",
      "  warnings.warn(f\"A NumPy version >={np_minversion} and <{np_maxversion}\"\n"
     ]
    }
   ],
   "source": [
    "import numpy as np\n",
    "import pandas as pd\n",
    "import matplotlib.pyplot as plt\n",
    "import seaborn as sns"
   ]
  },
  {
   "cell_type": "code",
   "execution_count": 2,
   "id": "f0161b4a",
   "metadata": {},
   "outputs": [],
   "source": [
    "import warnings\n",
    "warnings.filterwarnings('ignore')"
   ]
  },
  {
   "cell_type": "code",
   "execution_count": 3,
   "id": "c5e669a7",
   "metadata": {},
   "outputs": [
    {
     "data": {
      "text/html": [
       "<div>\n",
       "<style scoped>\n",
       "    .dataframe tbody tr th:only-of-type {\n",
       "        vertical-align: middle;\n",
       "    }\n",
       "\n",
       "    .dataframe tbody tr th {\n",
       "        vertical-align: top;\n",
       "    }\n",
       "\n",
       "    .dataframe thead th {\n",
       "        text-align: right;\n",
       "    }\n",
       "</style>\n",
       "<table border=\"1\" class=\"dataframe\">\n",
       "  <thead>\n",
       "    <tr style=\"text-align: right;\">\n",
       "      <th></th>\n",
       "      <th>market</th>\n",
       "      <th>month</th>\n",
       "      <th>year</th>\n",
       "      <th>quantity</th>\n",
       "      <th>priceMin</th>\n",
       "      <th>priceMax</th>\n",
       "      <th>priceMod</th>\n",
       "      <th>state</th>\n",
       "      <th>city</th>\n",
       "      <th>date</th>\n",
       "    </tr>\n",
       "  </thead>\n",
       "  <tbody>\n",
       "    <tr>\n",
       "      <th>0</th>\n",
       "      <td>ABOHAR(PB)</td>\n",
       "      <td>January</td>\n",
       "      <td>2005</td>\n",
       "      <td>2350</td>\n",
       "      <td>404</td>\n",
       "      <td>493</td>\n",
       "      <td>446</td>\n",
       "      <td>PB</td>\n",
       "      <td>ABOHAR</td>\n",
       "      <td>January-2005</td>\n",
       "    </tr>\n",
       "    <tr>\n",
       "      <th>1</th>\n",
       "      <td>ABOHAR(PB)</td>\n",
       "      <td>January</td>\n",
       "      <td>2006</td>\n",
       "      <td>900</td>\n",
       "      <td>487</td>\n",
       "      <td>638</td>\n",
       "      <td>563</td>\n",
       "      <td>PB</td>\n",
       "      <td>ABOHAR</td>\n",
       "      <td>January-2006</td>\n",
       "    </tr>\n",
       "    <tr>\n",
       "      <th>2</th>\n",
       "      <td>ABOHAR(PB)</td>\n",
       "      <td>January</td>\n",
       "      <td>2010</td>\n",
       "      <td>790</td>\n",
       "      <td>1283</td>\n",
       "      <td>1592</td>\n",
       "      <td>1460</td>\n",
       "      <td>PB</td>\n",
       "      <td>ABOHAR</td>\n",
       "      <td>January-2010</td>\n",
       "    </tr>\n",
       "    <tr>\n",
       "      <th>3</th>\n",
       "      <td>ABOHAR(PB)</td>\n",
       "      <td>January</td>\n",
       "      <td>2011</td>\n",
       "      <td>245</td>\n",
       "      <td>3067</td>\n",
       "      <td>3750</td>\n",
       "      <td>3433</td>\n",
       "      <td>PB</td>\n",
       "      <td>ABOHAR</td>\n",
       "      <td>January-2011</td>\n",
       "    </tr>\n",
       "    <tr>\n",
       "      <th>4</th>\n",
       "      <td>ABOHAR(PB)</td>\n",
       "      <td>January</td>\n",
       "      <td>2012</td>\n",
       "      <td>1035</td>\n",
       "      <td>523</td>\n",
       "      <td>686</td>\n",
       "      <td>605</td>\n",
       "      <td>PB</td>\n",
       "      <td>ABOHAR</td>\n",
       "      <td>January-2012</td>\n",
       "    </tr>\n",
       "  </tbody>\n",
       "</table>\n",
       "</div>"
      ],
      "text/plain": [
       "       market    month  year  quantity  priceMin  priceMax  priceMod state  \\\n",
       "0  ABOHAR(PB)  January  2005      2350       404       493       446    PB   \n",
       "1  ABOHAR(PB)  January  2006       900       487       638       563    PB   \n",
       "2  ABOHAR(PB)  January  2010       790      1283      1592      1460    PB   \n",
       "3  ABOHAR(PB)  January  2011       245      3067      3750      3433    PB   \n",
       "4  ABOHAR(PB)  January  2012      1035       523       686       605    PB   \n",
       "\n",
       "     city          date  \n",
       "0  ABOHAR  January-2005  \n",
       "1  ABOHAR  January-2006  \n",
       "2  ABOHAR  January-2010  \n",
       "3  ABOHAR  January-2011  \n",
       "4  ABOHAR  January-2012  "
      ]
     },
     "execution_count": 3,
     "metadata": {},
     "output_type": "execute_result"
    }
   ],
   "source": [
    "df = pd.read_csv('MonthWiseMarketArrivals.csv')\n",
    "df.head()"
   ]
  },
  {
   "cell_type": "code",
   "execution_count": 4,
   "id": "32686135",
   "metadata": {},
   "outputs": [],
   "source": [
    "# from pandas import read_csv\n",
    "# series = read_csv('daily-total-female-births-in-cal.csv', header=0, parse_dates=[0], index_col=0, squeeze=True)\n",
    "# print(type(series))\n",
    "# print(series.head())"
   ]
  },
  {
   "cell_type": "code",
   "execution_count": 5,
   "id": "0384b96a",
   "metadata": {},
   "outputs": [],
   "source": [
    "# from pandas import read_csv\n",
    "# from matplotlib import pyplot\n",
    "# from statsmodels.tsa.seasonal import seasonal_decompose\n",
    "\n",
    "# result = seasonal_decompose(df2, model='add')\n",
    "# result.plot()\n",
    "# pyplot.show()"
   ]
  },
  {
   "cell_type": "code",
   "execution_count": 6,
   "id": "a539e297",
   "metadata": {},
   "outputs": [],
   "source": [
    "def fetch_count_and_percent_of_null(data):  # data is df\n",
    "    nv = data.isnull().sum()  # nv = null values\n",
    "    nv = nv[nv>0]\n",
    "    res = pd.DataFrame({'Feature':nv.index,'Count_Null':nv.values,\n",
    "                       'Percent_Null':(nv.values/data.shape[0])*100})\n",
    "    res = res.sort_values('Percent_Null',ascending=False)\n",
    "    return res"
   ]
  },
  {
   "cell_type": "code",
   "execution_count": 7,
   "id": "b86345b3",
   "metadata": {},
   "outputs": [
    {
     "data": {
      "text/html": [
       "<div>\n",
       "<style scoped>\n",
       "    .dataframe tbody tr th:only-of-type {\n",
       "        vertical-align: middle;\n",
       "    }\n",
       "\n",
       "    .dataframe tbody tr th {\n",
       "        vertical-align: top;\n",
       "    }\n",
       "\n",
       "    .dataframe thead th {\n",
       "        text-align: right;\n",
       "    }\n",
       "</style>\n",
       "<table border=\"1\" class=\"dataframe\">\n",
       "  <thead>\n",
       "    <tr style=\"text-align: right;\">\n",
       "      <th></th>\n",
       "      <th>Feature</th>\n",
       "      <th>Count_Null</th>\n",
       "      <th>Percent_Null</th>\n",
       "    </tr>\n",
       "  </thead>\n",
       "  <tbody>\n",
       "  </tbody>\n",
       "</table>\n",
       "</div>"
      ],
      "text/plain": [
       "Empty DataFrame\n",
       "Columns: [Feature, Count_Null, Percent_Null]\n",
       "Index: []"
      ]
     },
     "execution_count": 7,
     "metadata": {},
     "output_type": "execute_result"
    }
   ],
   "source": [
    "fetch_count_and_percent_of_null(df)"
   ]
  },
  {
   "cell_type": "code",
   "execution_count": 8,
   "id": "984fe55a",
   "metadata": {},
   "outputs": [],
   "source": [
    "df[\"date\"]=pd.to_datetime(df['date'],format=\"%B-%Y\")"
   ]
  },
  {
   "cell_type": "code",
   "execution_count": 9,
   "id": "71a2ae9e",
   "metadata": {},
   "outputs": [
    {
     "data": {
      "text/plain": [
       "0       2005-01-01\n",
       "1       2006-01-01\n",
       "2       2010-01-01\n",
       "3       2011-01-01\n",
       "4       2012-01-01\n",
       "           ...    \n",
       "10222   2011-12-01\n",
       "10223   2012-12-01\n",
       "10224   2013-12-01\n",
       "10225   2014-12-01\n",
       "10226   2015-12-01\n",
       "Name: date, Length: 10227, dtype: datetime64[ns]"
      ]
     },
     "execution_count": 9,
     "metadata": {},
     "output_type": "execute_result"
    }
   ],
   "source": [
    "df[\"date\"]"
   ]
  },
  {
   "cell_type": "code",
   "execution_count": null,
   "id": "87d47bbd",
   "metadata": {},
   "outputs": [],
   "source": [
    "df=df.set_index(\"date\")"
   ]
  },
  {
   "cell_type": "code",
   "execution_count": null,
   "id": "146199dc",
   "metadata": {},
   "outputs": [],
   "source": [
    "df.head()"
   ]
  },
  {
   "cell_type": "code",
   "execution_count": 10,
   "id": "c60e0b9c",
   "metadata": {},
   "outputs": [],
   "source": [
    "mumbai_data=df[df[\"state\"]==\"MS\"]"
   ]
  },
  {
   "cell_type": "code",
   "execution_count": 11,
   "id": "d47ec24f",
   "metadata": {},
   "outputs": [
    {
     "data": {
      "text/plain": [
       "(4354, 10)"
      ]
     },
     "execution_count": 11,
     "metadata": {},
     "output_type": "execute_result"
    }
   ],
   "source": [
    "mumbai_data.shape"
   ]
  },
  {
   "cell_type": "code",
   "execution_count": null,
   "id": "d7d3984c",
   "metadata": {},
   "outputs": [],
   "source": [
    "mumbai_data.reset_index(inplace=True)"
   ]
  },
  {
   "cell_type": "code",
   "execution_count": 12,
   "id": "8d16f3bf",
   "metadata": {},
   "outputs": [
    {
     "data": {
      "text/plain": [
       "4112"
      ]
     },
     "execution_count": 12,
     "metadata": {},
     "output_type": "execute_result"
    }
   ],
   "source": [
    "mumbai_data[\"date\"].duplicated().sum()"
   ]
  },
  {
   "cell_type": "code",
   "execution_count": 13,
   "id": "20d0eb27",
   "metadata": {},
   "outputs": [],
   "source": [
    "df2=mumbai_data.groupby(\"date\")[\"priceMod\"].mean().reset_index().sort_values(by=\"date\",ascending=True)"
   ]
  },
  {
   "cell_type": "code",
   "execution_count": 14,
   "id": "73f374f6",
   "metadata": {},
   "outputs": [
    {
     "data": {
      "text/html": [
       "<div>\n",
       "<style scoped>\n",
       "    .dataframe tbody tr th:only-of-type {\n",
       "        vertical-align: middle;\n",
       "    }\n",
       "\n",
       "    .dataframe tbody tr th {\n",
       "        vertical-align: top;\n",
       "    }\n",
       "\n",
       "    .dataframe thead th {\n",
       "        text-align: right;\n",
       "    }\n",
       "</style>\n",
       "<table border=\"1\" class=\"dataframe\">\n",
       "  <thead>\n",
       "    <tr style=\"text-align: right;\">\n",
       "      <th></th>\n",
       "      <th>date</th>\n",
       "      <th>priceMod</th>\n",
       "    </tr>\n",
       "  </thead>\n",
       "  <tbody>\n",
       "    <tr>\n",
       "      <th>0</th>\n",
       "      <td>1996-01-01</td>\n",
       "      <td>226.0</td>\n",
       "    </tr>\n",
       "    <tr>\n",
       "      <th>1</th>\n",
       "      <td>1996-02-01</td>\n",
       "      <td>186.0</td>\n",
       "    </tr>\n",
       "    <tr>\n",
       "      <th>2</th>\n",
       "      <td>1996-03-01</td>\n",
       "      <td>243.0</td>\n",
       "    </tr>\n",
       "    <tr>\n",
       "      <th>3</th>\n",
       "      <td>1996-04-01</td>\n",
       "      <td>254.0</td>\n",
       "    </tr>\n",
       "    <tr>\n",
       "      <th>4</th>\n",
       "      <td>1996-05-01</td>\n",
       "      <td>269.0</td>\n",
       "    </tr>\n",
       "  </tbody>\n",
       "</table>\n",
       "</div>"
      ],
      "text/plain": [
       "        date  priceMod\n",
       "0 1996-01-01     226.0\n",
       "1 1996-02-01     186.0\n",
       "2 1996-03-01     243.0\n",
       "3 1996-04-01     254.0\n",
       "4 1996-05-01     269.0"
      ]
     },
     "execution_count": 14,
     "metadata": {},
     "output_type": "execute_result"
    }
   ],
   "source": [
    "df2.head()"
   ]
  },
  {
   "cell_type": "code",
   "execution_count": 21,
   "id": "bab34c73",
   "metadata": {},
   "outputs": [
    {
     "data": {
      "text/plain": [
       "date        datetime64[ns]\n",
       "priceMod           float64\n",
       "dtype: object"
      ]
     },
     "execution_count": 21,
     "metadata": {},
     "output_type": "execute_result"
    }
   ],
   "source": [
    "df2.dtypes"
   ]
  },
  {
   "cell_type": "code",
   "execution_count": 22,
   "id": "6ca3dd5b",
   "metadata": {},
   "outputs": [],
   "source": [
    "#df2[\"date\"]=pd.to_datetime(df2['date'],format=\"%B-%Y\")"
   ]
  },
  {
   "cell_type": "code",
   "execution_count": 23,
   "id": "e0e4a028",
   "metadata": {},
   "outputs": [],
   "source": [
    "#df2.reset_index(\"date\",inplace=True)"
   ]
  },
  {
   "cell_type": "markdown",
   "id": "69986e82",
   "metadata": {},
   "source": [
    "## "
   ]
  },
  {
   "cell_type": "code",
   "execution_count": 24,
   "id": "052b0d02",
   "metadata": {},
   "outputs": [],
   "source": [
    "df2.to_csv(\"Mumbai_data.csv\")"
   ]
  },
  {
   "cell_type": "code",
   "execution_count": 25,
   "id": "05f5f334",
   "metadata": {},
   "outputs": [
    {
     "name": "stdout",
     "output_type": "stream",
     "text": [
      "<class 'pandas.core.frame.DataFrame'>\n",
      "         date  priceMod\n",
      "0  1996-01-01     226.0\n",
      "1  1996-02-01     186.0\n",
      "2  1996-03-01     243.0\n",
      "3  1996-04-01     254.0\n",
      "4  1996-05-01     269.0\n"
     ]
    }
   ],
   "source": [
    "from pandas import read_csv\n",
    "series = read_csv('Mumbai_data.csv', header=0, parse_dates=[0], index_col=0, squeeze=True)\n",
    "print(type(series))\n",
    "print(series.head())"
   ]
  },
  {
   "cell_type": "code",
   "execution_count": 27,
   "id": "32caa6d1",
   "metadata": {},
   "outputs": [
    {
     "name": "stdout",
     "output_type": "stream",
     "text": [
      "          priceMod\n",
      "count   242.000000\n",
      "mean    717.382884\n",
      "std     657.645943\n",
      "min     148.200000\n",
      "25%     301.638889\n",
      "50%     499.164835\n",
      "75%     875.308352\n",
      "max    4055.000000\n"
     ]
    }
   ],
   "source": [
    "print(series.describe())"
   ]
  },
  {
   "cell_type": "code",
   "execution_count": 32,
   "id": "f9d1d36d",
   "metadata": {},
   "outputs": [],
   "source": [
    "df2.set_index(\"date\",inplace=True)"
   ]
  },
  {
   "cell_type": "code",
   "execution_count": 33,
   "id": "0fdcaaa2",
   "metadata": {},
   "outputs": [
    {
     "data": {
      "text/plain": [
       "[<matplotlib.lines.Line2D at 0x1e3861162b0>]"
      ]
     },
     "execution_count": 33,
     "metadata": {},
     "output_type": "execute_result"
    },
    {
     "data": {
      "image/png": "[encoded data removed]",
      "text/plain": [
       "<Figure size 432x288 with 1 Axes>"
      ]
     },
     "metadata": {
      "needs_background": "light"
     },
     "output_type": "display_data"
    }
   ],
   "source": [
    "plt.plot(df2)"
   ]
  },
  {
   "cell_type": "code",
   "execution_count": 36,
   "id": "e5dd381f",
   "metadata": {},
   "outputs": [
    {
     "data": {
      "text/plain": [
       "<seaborn.axisgrid.FacetGrid at 0x1e3861161c0>"
      ]
     },
     "execution_count": 36,
     "metadata": {},
     "output_type": "execute_result"
    },
    {
     "data": {
      "image/png": "[encoded data removed]",
      "text/plain": [
       "<Figure size 441.875x360 with 1 Axes>"
      ]
     },
     "metadata": {
      "needs_background": "light"
     },
     "output_type": "display_data"
    }
   ],
   "source": [
    "sns.displot(df2,kde=True)"
   ]
  },
  {
   "cell_type": "code",
   "execution_count": 41,
   "id": "bcc1caa3",
   "metadata": {},
   "outputs": [
    {
     "data": {
      "text/plain": [
       "<AxesSubplot:xlabel='priceMod', ylabel='Density'>"
      ]
     },
     "execution_count": 41,
     "metadata": {},
     "output_type": "execute_result"
    },
    {
     "data": {
      "image/png": "[encoded data removed]",
      "text/plain": [
       "<Figure size 432x288 with 1 Axes>"
      ]
     },
     "metadata": {
      "needs_background": "light"
     },
     "output_type": "display_data"
    }
   ],
   "source": [
    "import numpy as np\n",
    "sns.distplot(np.log(df2[\"priceMod\"]),kde=True)"
   ]
  },
  {
   "cell_type": "code",
   "execution_count": 40,
   "id": "27cd8158",
   "metadata": {},
   "outputs": [
    {
     "data": {
      "text/plain": [
       "<AxesSubplot:xlabel='priceMod', ylabel='Density'>"
      ]
     },
     "execution_count": 40,
     "metadata": {},
     "output_type": "execute_result"
    },
    {
     "data": {
      "image/png": "[encoded data removed]",
      "text/plain": [
       "<Figure size 432x288 with 1 Axes>"
      ]
     },
     "metadata": {
      "needs_background": "light"
     },
     "output_type": "display_data"
    }
   ],
   "source": [
    "import numpy as np\n",
    "sns.distplot(np.log(df2[\"priceMod\"].diff().dropna()),kde=True)"
   ]
  },
  {
   "cell_type": "code",
   "execution_count": 42,
   "id": "2efc88bb",
   "metadata": {},
   "outputs": [
    {
     "data": {
      "text/plain": [
       "<AxesSubplot:xlabel='priceMod', ylabel='Density'>"
      ]
     },
     "execution_count": 42,
     "metadata": {},
     "output_type": "execute_result"
    },
    {
     "data": {
      "image/png": "[encoded data removed]",
      "text/plain": [
       "<Figure size 432x288 with 1 Axes>"
      ]
     },
     "metadata": {
      "needs_background": "light"
     },
     "output_type": "display_data"
    }
   ],
   "source": [
    "import numpy as np\n",
    "sns.distplot(np.log(df2[\"priceMod\"].diff().diff().dropna()),kde=True)"
   ]
  },
  {
   "cell_type": "code",
   "execution_count": null,
   "id": "0d79d1c3",
   "metadata": {},
   "outputs": [],
   "source": []
  },
  {
   "cell_type": "code",
   "execution_count": null,
   "id": "26513a33",
   "metadata": {},
   "outputs": [],
   "source": [
    " "
   ]
  }
 ],
 "metadata": {
  "kernelspec": {
   "display_name": "Python 3 (ipykernel)",
   "language": "python",
   "name": "python3"
  },
  "language_info": {
   "codemirror_mode": {
    "name": "ipython",
    "version": 3
   },
   "file_extension": ".py",
   "mimetype": "text/x-python",
   "name": "python",
   "nbconvert_exporter": "python",
   "pygments_lexer": "ipython3",
   "version": "3.9.12"
  }
 },
 "nbformat": 4,
 "nbformat_minor": 5
}
