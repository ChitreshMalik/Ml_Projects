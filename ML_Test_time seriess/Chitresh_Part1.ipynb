{
 "cells": [
  {
   "cell_type": "markdown",
   "id": "089ac54e",
   "metadata": {},
   "source": [
    "## Import The Libraries"
   ]
  },
  {
   "cell_type": "code",
   "execution_count": 97,
   "id": "ee0e3d4a",
   "metadata": {},
   "outputs": [],
   "source": [
    "import pandas as pd \n",
    "import numpy as np\n",
    "import matplotlib.pyplot as plt \n",
    "import seaborn as sns \n",
    "import zipfile"
   ]
  },
  {
   "cell_type": "code",
   "execution_count": 98,
   "id": "a8d98f24",
   "metadata": {},
   "outputs": [],
   "source": [
    "import warnings \n",
    "warnings.filterwarnings('ignore')"
   ]
  },
  {
   "cell_type": "markdown",
   "id": "60d2256a",
   "metadata": {},
   "source": [
    "## Read The Dataset"
   ]
  },
  {
   "cell_type": "code",
   "execution_count": 102,
   "id": "72e03ebb",
   "metadata": {},
   "outputs": [],
   "source": [
    "df=pd.read_csv(\"bank.csv\",sep=\";\")"
   ]
  },
  {
   "cell_type": "markdown",
   "id": "34ec7f3d",
   "metadata": {},
   "source": [
    "## Now See The Dataset To Analyse"
   ]
  },
  {
   "cell_type": "code",
   "execution_count": 103,
   "id": "71889ce4",
   "metadata": {},
   "outputs": [
    {
     "data": {
      "text/html": [
       "<div>\n",
       "<style scoped>\n",
       "    .dataframe tbody tr th:only-of-type {\n",
       "        vertical-align: middle;\n",
       "    }\n",
       "\n",
       "    .dataframe tbody tr th {\n",
       "        vertical-align: top;\n",
       "    }\n",
       "\n",
       "    .dataframe thead th {\n",
       "        text-align: right;\n",
       "    }\n",
       "</style>\n",
       "<table border=\"1\" class=\"dataframe\">\n",
       "  <thead>\n",
       "    <tr style=\"text-align: right;\">\n",
       "      <th></th>\n",
       "      <th>age</th>\n",
       "      <th>job</th>\n",
       "      <th>marital</th>\n",
       "      <th>education</th>\n",
       "      <th>default</th>\n",
       "      <th>housing</th>\n",
       "      <th>loan</th>\n",
       "      <th>contact</th>\n",
       "      <th>month</th>\n",
       "      <th>day_of_week</th>\n",
       "      <th>...</th>\n",
       "      <th>campaign</th>\n",
       "      <th>pdays</th>\n",
       "      <th>previous</th>\n",
       "      <th>poutcome</th>\n",
       "      <th>emp.var.rate</th>\n",
       "      <th>cons.price.idx</th>\n",
       "      <th>cons.conf.idx</th>\n",
       "      <th>euribor3m</th>\n",
       "      <th>nr.employed</th>\n",
       "      <th>y</th>\n",
       "    </tr>\n",
       "  </thead>\n",
       "  <tbody>\n",
       "    <tr>\n",
       "      <th>0</th>\n",
       "      <td>56</td>\n",
       "      <td>housemaid</td>\n",
       "      <td>married</td>\n",
       "      <td>basic.4y</td>\n",
       "      <td>no</td>\n",
       "      <td>no</td>\n",
       "      <td>no</td>\n",
       "      <td>telephone</td>\n",
       "      <td>may</td>\n",
       "      <td>mon</td>\n",
       "      <td>...</td>\n",
       "      <td>1</td>\n",
       "      <td>999</td>\n",
       "      <td>0</td>\n",
       "      <td>nonexistent</td>\n",
       "      <td>1.1</td>\n",
       "      <td>93.994</td>\n",
       "      <td>-36.4</td>\n",
       "      <td>4.857</td>\n",
       "      <td>5191.0</td>\n",
       "      <td>no</td>\n",
       "    </tr>\n",
       "    <tr>\n",
       "      <th>1</th>\n",
       "      <td>57</td>\n",
       "      <td>services</td>\n",
       "      <td>married</td>\n",
       "      <td>high.school</td>\n",
       "      <td>unknown</td>\n",
       "      <td>no</td>\n",
       "      <td>no</td>\n",
       "      <td>telephone</td>\n",
       "      <td>may</td>\n",
       "      <td>mon</td>\n",
       "      <td>...</td>\n",
       "      <td>1</td>\n",
       "      <td>999</td>\n",
       "      <td>0</td>\n",
       "      <td>nonexistent</td>\n",
       "      <td>1.1</td>\n",
       "      <td>93.994</td>\n",
       "      <td>-36.4</td>\n",
       "      <td>4.857</td>\n",
       "      <td>5191.0</td>\n",
       "      <td>no</td>\n",
       "    </tr>\n",
       "    <tr>\n",
       "      <th>2</th>\n",
       "      <td>37</td>\n",
       "      <td>services</td>\n",
       "      <td>married</td>\n",
       "      <td>high.school</td>\n",
       "      <td>no</td>\n",
       "      <td>yes</td>\n",
       "      <td>no</td>\n",
       "      <td>telephone</td>\n",
       "      <td>may</td>\n",
       "      <td>mon</td>\n",
       "      <td>...</td>\n",
       "      <td>1</td>\n",
       "      <td>999</td>\n",
       "      <td>0</td>\n",
       "      <td>nonexistent</td>\n",
       "      <td>1.1</td>\n",
       "      <td>93.994</td>\n",
       "      <td>-36.4</td>\n",
       "      <td>4.857</td>\n",
       "      <td>5191.0</td>\n",
       "      <td>no</td>\n",
       "    </tr>\n",
       "    <tr>\n",
       "      <th>3</th>\n",
       "      <td>40</td>\n",
       "      <td>admin.</td>\n",
       "      <td>married</td>\n",
       "      <td>basic.6y</td>\n",
       "      <td>no</td>\n",
       "      <td>no</td>\n",
       "      <td>no</td>\n",
       "      <td>telephone</td>\n",
       "      <td>may</td>\n",
       "      <td>mon</td>\n",
       "      <td>...</td>\n",
       "      <td>1</td>\n",
       "      <td>999</td>\n",
       "      <td>0</td>\n",
       "      <td>nonexistent</td>\n",
       "      <td>1.1</td>\n",
       "      <td>93.994</td>\n",
       "      <td>-36.4</td>\n",
       "      <td>4.857</td>\n",
       "      <td>5191.0</td>\n",
       "      <td>no</td>\n",
       "    </tr>\n",
       "    <tr>\n",
       "      <th>4</th>\n",
       "      <td>56</td>\n",
       "      <td>services</td>\n",
       "      <td>married</td>\n",
       "      <td>high.school</td>\n",
       "      <td>no</td>\n",
       "      <td>no</td>\n",
       "      <td>yes</td>\n",
       "      <td>telephone</td>\n",
       "      <td>may</td>\n",
       "      <td>mon</td>\n",
       "      <td>...</td>\n",
       "      <td>1</td>\n",
       "      <td>999</td>\n",
       "      <td>0</td>\n",
       "      <td>nonexistent</td>\n",
       "      <td>1.1</td>\n",
       "      <td>93.994</td>\n",
       "      <td>-36.4</td>\n",
       "      <td>4.857</td>\n",
       "      <td>5191.0</td>\n",
       "      <td>no</td>\n",
       "    </tr>\n",
       "  </tbody>\n",
       "</table>\n",
       "<p>5 rows × 21 columns</p>\n",
       "</div>"
      ],
      "text/plain": [
       "   age        job  marital    education  default housing loan    contact  \\\n",
       "0   56  housemaid  married     basic.4y       no      no   no  telephone   \n",
       "1   57   services  married  high.school  unknown      no   no  telephone   \n",
       "2   37   services  married  high.school       no     yes   no  telephone   \n",
       "3   40     admin.  married     basic.6y       no      no   no  telephone   \n",
       "4   56   services  married  high.school       no      no  yes  telephone   \n",
       "\n",
       "  month day_of_week  ...  campaign  pdays  previous     poutcome emp.var.rate  \\\n",
       "0   may         mon  ...         1    999         0  nonexistent          1.1   \n",
       "1   may         mon  ...         1    999         0  nonexistent          1.1   \n",
       "2   may         mon  ...         1    999         0  nonexistent          1.1   \n",
       "3   may         mon  ...         1    999         0  nonexistent          1.1   \n",
       "4   may         mon  ...         1    999         0  nonexistent          1.1   \n",
       "\n",
       "   cons.price.idx  cons.conf.idx  euribor3m  nr.employed   y  \n",
       "0          93.994          -36.4      4.857       5191.0  no  \n",
       "1          93.994          -36.4      4.857       5191.0  no  \n",
       "2          93.994          -36.4      4.857       5191.0  no  \n",
       "3          93.994          -36.4      4.857       5191.0  no  \n",
       "4          93.994          -36.4      4.857       5191.0  no  \n",
       "\n",
       "[5 rows x 21 columns]"
      ]
     },
     "execution_count": 103,
     "metadata": {},
     "output_type": "execute_result"
    }
   ],
   "source": [
    "df.head()"
   ]
  },
  {
   "cell_type": "markdown",
   "id": "b4bb71d4",
   "metadata": {},
   "source": [
    "## See The Attributes Of DataFrame "
   ]
  },
  {
   "cell_type": "code",
   "execution_count": 104,
   "id": "7b537c8d",
   "metadata": {},
   "outputs": [
    {
     "data": {
      "text/plain": [
       "(41188, 21)"
      ]
     },
     "execution_count": 104,
     "metadata": {},
     "output_type": "execute_result"
    }
   ],
   "source": [
    "df.shape"
   ]
  },
  {
   "cell_type": "code",
   "execution_count": 105,
   "id": "70101c16",
   "metadata": {},
   "outputs": [
    {
     "data": {
      "text/plain": [
       "Index(['age', 'job', 'marital', 'education', 'default', 'housing', 'loan',\n",
       "       'contact', 'month', 'day_of_week', 'duration', 'campaign', 'pdays',\n",
       "       'previous', 'poutcome', 'emp.var.rate', 'cons.price.idx',\n",
       "       'cons.conf.idx', 'euribor3m', 'nr.employed', 'y'],\n",
       "      dtype='object')"
      ]
     },
     "execution_count": 105,
     "metadata": {},
     "output_type": "execute_result"
    }
   ],
   "source": [
    "df.columns"
   ]
  },
  {
   "cell_type": "code",
   "execution_count": 106,
   "id": "203b0a7a",
   "metadata": {},
   "outputs": [
    {
     "data": {
      "text/plain": [
       "age                 int64\n",
       "job                object\n",
       "marital            object\n",
       "education          object\n",
       "default            object\n",
       "housing            object\n",
       "loan               object\n",
       "contact            object\n",
       "month              object\n",
       "day_of_week        object\n",
       "duration            int64\n",
       "campaign            int64\n",
       "pdays               int64\n",
       "previous            int64\n",
       "poutcome           object\n",
       "emp.var.rate      float64\n",
       "cons.price.idx    float64\n",
       "cons.conf.idx     float64\n",
       "euribor3m         float64\n",
       "nr.employed       float64\n",
       "y                  object\n",
       "dtype: object"
      ]
     },
     "execution_count": 106,
     "metadata": {},
     "output_type": "execute_result"
    }
   ],
   "source": [
    "df.dtypes"
   ]
  },
  {
   "cell_type": "markdown",
   "id": "498d9317",
   "metadata": {},
   "source": [
    "## Separate The Numerical And Categorical Columns"
   ]
  },
  {
   "cell_type": "code",
   "execution_count": 107,
   "id": "8d2fc9b2",
   "metadata": {},
   "outputs": [],
   "source": [
    "num_cols=df.dtypes[df.dtypes!='object'].index\n",
    "cat_cols=df.dtypes[df.dtypes=='object'].index"
   ]
  },
  {
   "cell_type": "code",
   "execution_count": 108,
   "id": "227fe851",
   "metadata": {},
   "outputs": [
    {
     "data": {
      "text/plain": [
       "Index(['age', 'duration', 'campaign', 'pdays', 'previous', 'emp.var.rate',\n",
       "       'cons.price.idx', 'cons.conf.idx', 'euribor3m', 'nr.employed'],\n",
       "      dtype='object')"
      ]
     },
     "execution_count": 108,
     "metadata": {},
     "output_type": "execute_result"
    }
   ],
   "source": [
    "num_cols"
   ]
  },
  {
   "cell_type": "code",
   "execution_count": 109,
   "id": "eeefcced",
   "metadata": {},
   "outputs": [
    {
     "data": {
      "text/plain": [
       "Index(['job', 'marital', 'education', 'default', 'housing', 'loan', 'contact',\n",
       "       'month', 'day_of_week', 'poutcome', 'y'],\n",
       "      dtype='object')"
      ]
     },
     "execution_count": 109,
     "metadata": {},
     "output_type": "execute_result"
    }
   ],
   "source": [
    "cat_cols"
   ]
  },
  {
   "cell_type": "markdown",
   "id": "29ba64fe",
   "metadata": {},
   "source": [
    "## Now Find The Columns Whose  Are Numerical But Act As Categorical and vice versa"
   ]
  },
  {
   "cell_type": "code",
   "execution_count": 110,
   "id": "017a8c75",
   "metadata": {},
   "outputs": [
    {
     "name": "stdout",
     "output_type": "stream",
     "text": [
      "Feature age has a unique count of 78\n",
      "Feature job has a unique count of 12\n",
      "Feature marital has a unique count of 4\n",
      "Feature education has a unique count of 8\n",
      "Feature default has a unique count of 3\n",
      "Feature housing has a unique count of 3\n",
      "Feature loan has a unique count of 3\n",
      "Feature contact has a unique count of 2\n",
      "Feature month has a unique count of 10\n",
      "Feature day_of_week has a unique count of 5\n",
      "Feature duration has a unique count of 1544\n",
      "Feature campaign has a unique count of 42\n",
      "Feature pdays has a unique count of 27\n",
      "Feature previous has a unique count of 8\n",
      "Feature poutcome has a unique count of 3\n",
      "Feature emp.var.rate has a unique count of 10\n",
      "Feature cons.price.idx has a unique count of 26\n",
      "Feature cons.conf.idx has a unique count of 26\n",
      "Feature euribor3m has a unique count of 316\n",
      "Feature nr.employed has a unique count of 11\n",
      "Feature y has a unique count of 2\n"
     ]
    }
   ],
   "source": [
    "for i in df.columns:\n",
    "    print(f'Feature {i} has a unique count of {df[i].nunique()}')"
   ]
  },
  {
   "cell_type": "code",
   "execution_count": 111,
   "id": "889267da",
   "metadata": {},
   "outputs": [],
   "source": [
    "eda_num=['age','duration','campaign']"
   ]
  },
  {
   "cell_type": "code",
   "execution_count": 112,
   "id": "28e14b08",
   "metadata": {},
   "outputs": [],
   "source": [
    "eda_cat=['job','marital','education','default', 'housing', 'loan', 'contact',\n",
    "       'month', 'day_of_week','previous', 'poutcome','emp.var.rate','nr.employed']"
   ]
  },
  {
   "cell_type": "code",
   "execution_count": 113,
   "id": "e76eb23b",
   "metadata": {},
   "outputs": [
    {
     "data": {
      "text/plain": [
       "13"
      ]
     },
     "execution_count": 113,
     "metadata": {},
     "output_type": "execute_result"
    }
   ],
   "source": [
    "len(eda_cat)"
   ]
  },
  {
   "cell_type": "code",
   "execution_count": 114,
   "id": "e0d7779e",
   "metadata": {},
   "outputs": [
    {
     "data": {
      "text/plain": [
       "3"
      ]
     },
     "execution_count": 114,
     "metadata": {},
     "output_type": "execute_result"
    }
   ],
   "source": [
    "len(eda_num)"
   ]
  },
  {
   "cell_type": "markdown",
   "id": "b951dd6a",
   "metadata": {},
   "source": [
    "## EDA (Exploratory Data Analysis)"
   ]
  },
  {
   "cell_type": "markdown",
   "id": "95bf52a3",
   "metadata": {},
   "source": [
    "## Univariate Analysis"
   ]
  },
  {
   "cell_type": "markdown",
   "id": "8a17fa49",
   "metadata": {},
   "source": [
    "### Histogram"
   ]
  },
  {
   "cell_type": "code",
   "execution_count": 115,
   "id": "5eb84892",
   "metadata": {},
   "outputs": [
    {
     "data": {
      "image/png": "[encoded data removed]",
      "text/plain": [
       "<Figure size 720x576 with 3 Axes>"
      ]
     },
     "metadata": {
      "needs_background": "light"
     },
     "output_type": "display_data"
    }
   ],
   "source": [
    "plt.figure(figsize=(10,8))\n",
    "for i in range(len(eda_num)):\n",
    "    plt.subplot(2,2,i+1)\n",
    "    sns.histplot(x=df[eda_num[i]],kde=True)\n",
    "    plt.title(f'Histogram for {eda_num[i]}')\n",
    "plt.tight_layout()\n",
    "plt.show()"
   ]
  },
  {
   "cell_type": "markdown",
   "id": "2faeabf0",
   "metadata": {},
   "source": [
    "## Inference := "
   ]
  },
  {
   "cell_type": "markdown",
   "id": "06d417bb",
   "metadata": {},
   "source": [
    "* age,duration and compaign are right skewed ."
   ]
  },
  {
   "cell_type": "markdown",
   "id": "899e8a11",
   "metadata": {},
   "source": [
    "### Boxplot"
   ]
  },
  {
   "cell_type": "code",
   "execution_count": 116,
   "id": "34e20bfe",
   "metadata": {},
   "outputs": [
    {
     "data": {
      "image/png": "[encoded data removed]",
      "text/plain": [
       "<Figure size 720x576 with 3 Axes>"
      ]
     },
     "metadata": {
      "needs_background": "light"
     },
     "output_type": "display_data"
    }
   ],
   "source": [
    "plt.figure(figsize=(10,8))\n",
    "for i in range(len(eda_num)):\n",
    "    plt.subplot(4,2,i+1)\n",
    "    sns.boxplot(x=df[eda_num[i]])\n",
    "    plt.title(f'Boxplot for {eda_num[i]}')\n",
    "plt.tight_layout()\n",
    "plt.show()"
   ]
  },
  {
   "cell_type": "markdown",
   "id": "007336cc",
   "metadata": {},
   "source": [
    "## Inference :="
   ]
  },
  {
   "cell_type": "markdown",
   "id": "2ec79dde",
   "metadata": {},
   "source": [
    "* age , compaign,cons.conf.idx  and duration  have right outliers ."
   ]
  },
  {
   "cell_type": "markdown",
   "id": "2842e24d",
   "metadata": {},
   "source": [
    "## Bivariate Analysis"
   ]
  },
  {
   "cell_type": "markdown",
   "id": "21183054",
   "metadata": {},
   "source": [
    "### Countplot"
   ]
  },
  {
   "cell_type": "code",
   "execution_count": 117,
   "id": "77bb2922",
   "metadata": {},
   "outputs": [
    {
     "data": {
      "image/png": "[encoded data removed]",
      "text/plain": [
       "<Figure size 720x1440 with 13 Axes>"
      ]
     },
     "metadata": {
      "needs_background": "light"
     },
     "output_type": "display_data"
    }
   ],
   "source": [
    "plt.figure(figsize=(10,20))\n",
    "for i in range(len(eda_cat)):\n",
    "    plt.subplot(7,2,i+1)\n",
    "    ax=sns.countplot(x=df[eda_cat[i]])\n",
    "    ax.bar_label(ax.containers[0])\n",
    "    plt.title(f'countplot for {eda_cat[i]}')\n",
    "    plt.xticks(rotation=45)\n",
    "plt.tight_layout()\n",
    "plt.show()"
   ]
  },
  {
   "cell_type": "markdown",
   "id": "896e3a0a",
   "metadata": {},
   "source": [
    "## Inference := "
   ]
  },
  {
   "cell_type": "markdown",
   "id": "9af05158",
   "metadata": {},
   "source": [
    "* People having admin and blue-collar jobs in high amount.\n",
    "* There are more married .\n",
    "* Mostly have a High school or University degree .\n",
    "* Mostly Default is no .\n",
    "* housing is like 50-50 between yes or no .\n",
    "* most of them not having loan .\n",
    "* cellular contact is more .\n",
    "* may month have high number .\n",
    "* day_of_week all having almost same amount of numbers .\n",
    "* poutcome of nonexistence is more .\n",
    "* emp.var.rate is highly 1.4 .\n",
    "* nr.employed is more where emp.var.rate is high ."
   ]
  },
  {
   "cell_type": "markdown",
   "id": "b337844b",
   "metadata": {},
   "source": [
    "## Boxplot WRT to Traget"
   ]
  },
  {
   "cell_type": "code",
   "execution_count": 118,
   "id": "af6f4b5c",
   "metadata": {},
   "outputs": [
    {
     "data": {
      "image/png": "[encoded data removed]",
      "text/plain": [
       "<Figure size 720x720 with 3 Axes>"
      ]
     },
     "metadata": {
      "needs_background": "light"
     },
     "output_type": "display_data"
    }
   ],
   "source": [
    "plt.figure(figsize=(10,10))\n",
    "for i in range(len(eda_num)):\n",
    "    plt.subplot(4,2,i+1)\n",
    "    sns.boxplot(y=df[eda_num[i]],x=df['y'])\n",
    "    plt.title(f'Boxplot for {eda_num[i]} VS y')\n",
    "plt.tight_layout()\n",
    "plt.show()"
   ]
  },
  {
   "cell_type": "markdown",
   "id": "9791107c",
   "metadata": {},
   "source": [
    " ## Inference :="
   ]
  },
  {
   "cell_type": "markdown",
   "id": "60c60d49",
   "metadata": {},
   "source": [
    "* high euribor3m and cons.price.idx have high chance of no."
   ]
  },
  {
   "cell_type": "markdown",
   "id": "981e9ecc",
   "metadata": {},
   "source": [
    "## Countplot WRT to Target"
   ]
  },
  {
   "cell_type": "code",
   "execution_count": 119,
   "id": "5724bbc5",
   "metadata": {},
   "outputs": [
    {
     "data": {
      "image/png": "[encoded data removed]",
      "text/plain": [
       "<Figure size 720x1440 with 13 Axes>"
      ]
     },
     "metadata": {
      "needs_background": "light"
     },
     "output_type": "display_data"
    }
   ],
   "source": [
    "plt.figure(figsize=(10,20))\n",
    "for i in range(len(eda_cat)):\n",
    "    plt.subplot(7,2,i+1)\n",
    "    ax=sns.countplot(x=df[eda_cat[i]],hue=df['y'])\n",
    "    for j in ax.containers:\n",
    "        ax.bar_label(j)\n",
    "    plt.title(f'countplot for {eda_cat[i]} VS y')\n",
    "    plt.xticks(rotation=45)\n",
    "plt.tight_layout()\n",
    "plt.show()"
   ]
  },
  {
   "cell_type": "markdown",
   "id": "f80bdb9f",
   "metadata": {},
   "source": [
    "### Inference := "
   ]
  },
  {
   "cell_type": "markdown",
   "id": "ea9ff7d3",
   "metadata": {},
   "source": [
    "* In the month of Oct,dec,mar and sep almost  50% got yes ."
   ]
  },
  {
   "cell_type": "markdown",
   "id": "241f9d70",
   "metadata": {},
   "source": [
    "### Correlation"
   ]
  },
  {
   "cell_type": "code",
   "execution_count": 120,
   "id": "69c7faac",
   "metadata": {},
   "outputs": [
    {
     "data": {
      "image/png": "[encoded data removed]",
      "text/plain": [
       "<Figure size 720x720 with 2 Axes>"
      ]
     },
     "metadata": {
      "needs_background": "light"
     },
     "output_type": "display_data"
    }
   ],
   "source": [
    "corr=df[num_cols].corr()\n",
    "plt.figure(figsize=(10,10))\n",
    "sns.heatmap(corr,annot=True)\n",
    "plt.show()"
   ]
  },
  {
   "cell_type": "code",
   "execution_count": 121,
   "id": "37dcb228",
   "metadata": {},
   "outputs": [
    {
     "data": {
      "image/png": "[encoded data removed]",
      "text/plain": [
       "<Figure size 720x720 with 2 Axes>"
      ]
     },
     "metadata": {
      "needs_background": "light"
     },
     "output_type": "display_data"
    }
   ],
   "source": [
    "plt.figure(figsize=(10,10))\n",
    "sns.heatmap(corr[abs(corr)>=0.8],annot=True)\n",
    "plt.show()"
   ]
  },
  {
   "cell_type": "markdown",
   "id": "17f23b4e",
   "metadata": {},
   "source": [
    "\n",
    "\n",
    "\n",
    "\n",
    "\n",
    "\n",
    "\n",
    "## Inference :="
   ]
  },
  {
   "cell_type": "markdown",
   "id": "5fab2808",
   "metadata": {},
   "source": [
    "* Highly Correlated elements are nr.employed and emp.var.rate ."
   ]
  },
  {
   "cell_type": "markdown",
   "id": "bfe9d381",
   "metadata": {},
   "source": [
    "## Check and Treating The Null Values"
   ]
  },
  {
   "cell_type": "code",
   "execution_count": 122,
   "id": "62d95641",
   "metadata": {},
   "outputs": [],
   "source": [
    "def null_check(x):\n",
    "    nv=df.isnull().sum()\n",
    "    res=pd.DataFrame({'Features':nv.index,'Null Count':nv.values,'Null %':(nv.values/df.shape[0])*100})\n",
    "    res=res.sort_values('Null %',ascending=False)\n",
    "    return res"
   ]
  },
  {
   "cell_type": "code",
   "execution_count": 123,
   "id": "e1b9f50a",
   "metadata": {},
   "outputs": [
    {
     "data": {
      "text/html": [
       "<div>\n",
       "<style scoped>\n",
       "    .dataframe tbody tr th:only-of-type {\n",
       "        vertical-align: middle;\n",
       "    }\n",
       "\n",
       "    .dataframe tbody tr th {\n",
       "        vertical-align: top;\n",
       "    }\n",
       "\n",
       "    .dataframe thead th {\n",
       "        text-align: right;\n",
       "    }\n",
       "</style>\n",
       "<table border=\"1\" class=\"dataframe\">\n",
       "  <thead>\n",
       "    <tr style=\"text-align: right;\">\n",
       "      <th></th>\n",
       "      <th>Features</th>\n",
       "      <th>Null Count</th>\n",
       "      <th>Null %</th>\n",
       "    </tr>\n",
       "  </thead>\n",
       "  <tbody>\n",
       "    <tr>\n",
       "      <th>0</th>\n",
       "      <td>age</td>\n",
       "      <td>0</td>\n",
       "      <td>0.0</td>\n",
       "    </tr>\n",
       "    <tr>\n",
       "      <th>11</th>\n",
       "      <td>campaign</td>\n",
       "      <td>0</td>\n",
       "      <td>0.0</td>\n",
       "    </tr>\n",
       "    <tr>\n",
       "      <th>19</th>\n",
       "      <td>nr.employed</td>\n",
       "      <td>0</td>\n",
       "      <td>0.0</td>\n",
       "    </tr>\n",
       "    <tr>\n",
       "      <th>18</th>\n",
       "      <td>euribor3m</td>\n",
       "      <td>0</td>\n",
       "      <td>0.0</td>\n",
       "    </tr>\n",
       "    <tr>\n",
       "      <th>17</th>\n",
       "      <td>cons.conf.idx</td>\n",
       "      <td>0</td>\n",
       "      <td>0.0</td>\n",
       "    </tr>\n",
       "    <tr>\n",
       "      <th>16</th>\n",
       "      <td>cons.price.idx</td>\n",
       "      <td>0</td>\n",
       "      <td>0.0</td>\n",
       "    </tr>\n",
       "    <tr>\n",
       "      <th>15</th>\n",
       "      <td>emp.var.rate</td>\n",
       "      <td>0</td>\n",
       "      <td>0.0</td>\n",
       "    </tr>\n",
       "    <tr>\n",
       "      <th>14</th>\n",
       "      <td>poutcome</td>\n",
       "      <td>0</td>\n",
       "      <td>0.0</td>\n",
       "    </tr>\n",
       "    <tr>\n",
       "      <th>13</th>\n",
       "      <td>previous</td>\n",
       "      <td>0</td>\n",
       "      <td>0.0</td>\n",
       "    </tr>\n",
       "    <tr>\n",
       "      <th>12</th>\n",
       "      <td>pdays</td>\n",
       "      <td>0</td>\n",
       "      <td>0.0</td>\n",
       "    </tr>\n",
       "    <tr>\n",
       "      <th>10</th>\n",
       "      <td>duration</td>\n",
       "      <td>0</td>\n",
       "      <td>0.0</td>\n",
       "    </tr>\n",
       "    <tr>\n",
       "      <th>1</th>\n",
       "      <td>job</td>\n",
       "      <td>0</td>\n",
       "      <td>0.0</td>\n",
       "    </tr>\n",
       "    <tr>\n",
       "      <th>9</th>\n",
       "      <td>day_of_week</td>\n",
       "      <td>0</td>\n",
       "      <td>0.0</td>\n",
       "    </tr>\n",
       "    <tr>\n",
       "      <th>8</th>\n",
       "      <td>month</td>\n",
       "      <td>0</td>\n",
       "      <td>0.0</td>\n",
       "    </tr>\n",
       "    <tr>\n",
       "      <th>7</th>\n",
       "      <td>contact</td>\n",
       "      <td>0</td>\n",
       "      <td>0.0</td>\n",
       "    </tr>\n",
       "    <tr>\n",
       "      <th>6</th>\n",
       "      <td>loan</td>\n",
       "      <td>0</td>\n",
       "      <td>0.0</td>\n",
       "    </tr>\n",
       "    <tr>\n",
       "      <th>5</th>\n",
       "      <td>housing</td>\n",
       "      <td>0</td>\n",
       "      <td>0.0</td>\n",
       "    </tr>\n",
       "    <tr>\n",
       "      <th>4</th>\n",
       "      <td>default</td>\n",
       "      <td>0</td>\n",
       "      <td>0.0</td>\n",
       "    </tr>\n",
       "    <tr>\n",
       "      <th>3</th>\n",
       "      <td>education</td>\n",
       "      <td>0</td>\n",
       "      <td>0.0</td>\n",
       "    </tr>\n",
       "    <tr>\n",
       "      <th>2</th>\n",
       "      <td>marital</td>\n",
       "      <td>0</td>\n",
       "      <td>0.0</td>\n",
       "    </tr>\n",
       "    <tr>\n",
       "      <th>20</th>\n",
       "      <td>y</td>\n",
       "      <td>0</td>\n",
       "      <td>0.0</td>\n",
       "    </tr>\n",
       "  </tbody>\n",
       "</table>\n",
       "</div>"
      ],
      "text/plain": [
       "          Features  Null Count  Null %\n",
       "0              age           0     0.0\n",
       "11        campaign           0     0.0\n",
       "19     nr.employed           0     0.0\n",
       "18       euribor3m           0     0.0\n",
       "17   cons.conf.idx           0     0.0\n",
       "16  cons.price.idx           0     0.0\n",
       "15    emp.var.rate           0     0.0\n",
       "14        poutcome           0     0.0\n",
       "13        previous           0     0.0\n",
       "12           pdays           0     0.0\n",
       "10        duration           0     0.0\n",
       "1              job           0     0.0\n",
       "9      day_of_week           0     0.0\n",
       "8            month           0     0.0\n",
       "7          contact           0     0.0\n",
       "6             loan           0     0.0\n",
       "5          housing           0     0.0\n",
       "4          default           0     0.0\n",
       "3        education           0     0.0\n",
       "2          marital           0     0.0\n",
       "20               y           0     0.0"
      ]
     },
     "execution_count": 123,
     "metadata": {},
     "output_type": "execute_result"
    }
   ],
   "source": [
    "null_check(df)"
   ]
  },
  {
   "cell_type": "markdown",
   "id": "ce64a8e9",
   "metadata": {},
   "source": [
    "## Check the duplicates and drop them if any"
   ]
  },
  {
   "cell_type": "code",
   "execution_count": 124,
   "id": "ae10e3cc",
   "metadata": {},
   "outputs": [
    {
     "data": {
      "text/plain": [
       "12"
      ]
     },
     "execution_count": 124,
     "metadata": {},
     "output_type": "execute_result"
    }
   ],
   "source": [
    "df.duplicated().sum()"
   ]
  },
  {
   "cell_type": "code",
   "execution_count": 125,
   "id": "c6a94624",
   "metadata": {},
   "outputs": [],
   "source": [
    "df.drop_duplicates(inplace=True)"
   ]
  },
  {
   "cell_type": "code",
   "execution_count": 126,
   "id": "1c19f583",
   "metadata": {},
   "outputs": [
    {
     "data": {
      "text/plain": [
       "0"
      ]
     },
     "execution_count": 126,
     "metadata": {},
     "output_type": "execute_result"
    }
   ],
   "source": [
    "df.duplicated().sum()"
   ]
  },
  {
   "cell_type": "markdown",
   "id": "01f08587",
   "metadata": {},
   "source": [
    "## Also check the min and max and data which is inconsistent so you can impute them also"
   ]
  },
  {
   "cell_type": "code",
   "execution_count": 127,
   "id": "e0d61a89",
   "metadata": {},
   "outputs": [
    {
     "data": {
      "text/html": [
       "<div>\n",
       "<style scoped>\n",
       "    .dataframe tbody tr th:only-of-type {\n",
       "        vertical-align: middle;\n",
       "    }\n",
       "\n",
       "    .dataframe tbody tr th {\n",
       "        vertical-align: top;\n",
       "    }\n",
       "\n",
       "    .dataframe thead th {\n",
       "        text-align: right;\n",
       "    }\n",
       "</style>\n",
       "<table border=\"1\" class=\"dataframe\">\n",
       "  <thead>\n",
       "    <tr style=\"text-align: right;\">\n",
       "      <th></th>\n",
       "      <th>min</th>\n",
       "      <th>1%</th>\n",
       "      <th>2%</th>\n",
       "      <th>3%</th>\n",
       "      <th>4%</th>\n",
       "      <th>50%</th>\n",
       "      <th>97%</th>\n",
       "      <th>98%</th>\n",
       "      <th>99%</th>\n",
       "      <th>max</th>\n",
       "    </tr>\n",
       "  </thead>\n",
       "  <tbody>\n",
       "    <tr>\n",
       "      <th>age</th>\n",
       "      <td>17.000</td>\n",
       "      <td>23.000</td>\n",
       "      <td>24.000</td>\n",
       "      <td>25.000</td>\n",
       "      <td>25.000</td>\n",
       "      <td>38.000</td>\n",
       "      <td>59.000</td>\n",
       "      <td>62.000</td>\n",
       "      <td>71.000</td>\n",
       "      <td>98.000</td>\n",
       "    </tr>\n",
       "    <tr>\n",
       "      <th>duration</th>\n",
       "      <td>0.000</td>\n",
       "      <td>11.000</td>\n",
       "      <td>17.000</td>\n",
       "      <td>23.000</td>\n",
       "      <td>29.000</td>\n",
       "      <td>180.000</td>\n",
       "      <td>911.000</td>\n",
       "      <td>1052.500</td>\n",
       "      <td>1271.250</td>\n",
       "      <td>4918.000</td>\n",
       "    </tr>\n",
       "    <tr>\n",
       "      <th>campaign</th>\n",
       "      <td>1.000</td>\n",
       "      <td>1.000</td>\n",
       "      <td>1.000</td>\n",
       "      <td>1.000</td>\n",
       "      <td>1.000</td>\n",
       "      <td>2.000</td>\n",
       "      <td>9.000</td>\n",
       "      <td>11.000</td>\n",
       "      <td>14.000</td>\n",
       "      <td>56.000</td>\n",
       "    </tr>\n",
       "    <tr>\n",
       "      <th>pdays</th>\n",
       "      <td>0.000</td>\n",
       "      <td>3.000</td>\n",
       "      <td>6.000</td>\n",
       "      <td>9.000</td>\n",
       "      <td>999.000</td>\n",
       "      <td>999.000</td>\n",
       "      <td>999.000</td>\n",
       "      <td>999.000</td>\n",
       "      <td>999.000</td>\n",
       "      <td>999.000</td>\n",
       "    </tr>\n",
       "    <tr>\n",
       "      <th>previous</th>\n",
       "      <td>0.000</td>\n",
       "      <td>0.000</td>\n",
       "      <td>0.000</td>\n",
       "      <td>0.000</td>\n",
       "      <td>0.000</td>\n",
       "      <td>0.000</td>\n",
       "      <td>1.000</td>\n",
       "      <td>2.000</td>\n",
       "      <td>2.000</td>\n",
       "      <td>7.000</td>\n",
       "    </tr>\n",
       "    <tr>\n",
       "      <th>emp.var.rate</th>\n",
       "      <td>-3.400</td>\n",
       "      <td>-3.400</td>\n",
       "      <td>-3.400</td>\n",
       "      <td>-3.000</td>\n",
       "      <td>-2.900</td>\n",
       "      <td>1.100</td>\n",
       "      <td>1.400</td>\n",
       "      <td>1.400</td>\n",
       "      <td>1.400</td>\n",
       "      <td>1.400</td>\n",
       "    </tr>\n",
       "    <tr>\n",
       "      <th>cons.price.idx</th>\n",
       "      <td>92.201</td>\n",
       "      <td>92.201</td>\n",
       "      <td>92.379</td>\n",
       "      <td>92.431</td>\n",
       "      <td>92.469</td>\n",
       "      <td>93.749</td>\n",
       "      <td>94.465</td>\n",
       "      <td>94.465</td>\n",
       "      <td>94.465</td>\n",
       "      <td>94.767</td>\n",
       "    </tr>\n",
       "    <tr>\n",
       "      <th>cons.conf.idx</th>\n",
       "      <td>-50.800</td>\n",
       "      <td>-49.500</td>\n",
       "      <td>-47.100</td>\n",
       "      <td>-47.100</td>\n",
       "      <td>-47.100</td>\n",
       "      <td>-41.800</td>\n",
       "      <td>-31.400</td>\n",
       "      <td>-30.100</td>\n",
       "      <td>-26.900</td>\n",
       "      <td>-26.900</td>\n",
       "    </tr>\n",
       "    <tr>\n",
       "      <th>euribor3m</th>\n",
       "      <td>0.634</td>\n",
       "      <td>0.658</td>\n",
       "      <td>0.714</td>\n",
       "      <td>0.720</td>\n",
       "      <td>0.740</td>\n",
       "      <td>4.857</td>\n",
       "      <td>4.967</td>\n",
       "      <td>4.968</td>\n",
       "      <td>4.968</td>\n",
       "      <td>5.045</td>\n",
       "    </tr>\n",
       "    <tr>\n",
       "      <th>nr.employed</th>\n",
       "      <td>4963.600</td>\n",
       "      <td>4963.600</td>\n",
       "      <td>4991.600</td>\n",
       "      <td>4991.600</td>\n",
       "      <td>5008.700</td>\n",
       "      <td>5191.000</td>\n",
       "      <td>5228.100</td>\n",
       "      <td>5228.100</td>\n",
       "      <td>5228.100</td>\n",
       "      <td>5228.100</td>\n",
       "    </tr>\n",
       "  </tbody>\n",
       "</table>\n",
       "</div>"
      ],
      "text/plain": [
       "                     min        1%        2%        3%        4%       50%  \\\n",
       "age               17.000    23.000    24.000    25.000    25.000    38.000   \n",
       "duration           0.000    11.000    17.000    23.000    29.000   180.000   \n",
       "campaign           1.000     1.000     1.000     1.000     1.000     2.000   \n",
       "pdays              0.000     3.000     6.000     9.000   999.000   999.000   \n",
       "previous           0.000     0.000     0.000     0.000     0.000     0.000   \n",
       "emp.var.rate      -3.400    -3.400    -3.400    -3.000    -2.900     1.100   \n",
       "cons.price.idx    92.201    92.201    92.379    92.431    92.469    93.749   \n",
       "cons.conf.idx    -50.800   -49.500   -47.100   -47.100   -47.100   -41.800   \n",
       "euribor3m          0.634     0.658     0.714     0.720     0.740     4.857   \n",
       "nr.employed     4963.600  4963.600  4991.600  4991.600  5008.700  5191.000   \n",
       "\n",
       "                     97%       98%       99%       max  \n",
       "age               59.000    62.000    71.000    98.000  \n",
       "duration         911.000  1052.500  1271.250  4918.000  \n",
       "campaign           9.000    11.000    14.000    56.000  \n",
       "pdays            999.000   999.000   999.000   999.000  \n",
       "previous           1.000     2.000     2.000     7.000  \n",
       "emp.var.rate       1.400     1.400     1.400     1.400  \n",
       "cons.price.idx    94.465    94.465    94.465    94.767  \n",
       "cons.conf.idx    -31.400   -30.100   -26.900   -26.900  \n",
       "euribor3m          4.967     4.968     4.968     5.045  \n",
       "nr.employed     5228.100  5228.100  5228.100  5228.100  "
      ]
     },
     "execution_count": 127,
     "metadata": {},
     "output_type": "execute_result"
    }
   ],
   "source": [
    "a=df.describe(percentiles=[0.01,0.02,0.03,0.04,0.97,0.98,0.99]).T\n",
    "a.iloc[:,3:]"
   ]
  },
  {
   "cell_type": "markdown",
   "id": "a3c06aa7",
   "metadata": {},
   "source": [
    "## And also Treating the Outliers if effect of them"
   ]
  },
  {
   "cell_type": "code",
   "execution_count": 128,
   "id": "cda6bf9d",
   "metadata": {},
   "outputs": [],
   "source": [
    "cols_left_skewed = ['duration','age','pdays']\n",
    "def l_o_treat(x):\n",
    "    x=x.clip(lower=x.quantile(0.01))\n",
    "    return x"
   ]
  },
  {
   "cell_type": "code",
   "execution_count": 129,
   "id": "784f1ce1",
   "metadata": {},
   "outputs": [],
   "source": [
    "df[cols_left_skewed] = df[cols_left_skewed].apply(l_o_treat)"
   ]
  },
  {
   "cell_type": "code",
   "execution_count": 130,
   "id": "9f74a9a5",
   "metadata": {},
   "outputs": [],
   "source": [
    "cols_right_skewed = ['previous','campaign','duration','age']\n",
    "def u_o_treat(x):\n",
    "    x=x.clip(upper=x.quantile(0.99))\n",
    "    return x"
   ]
  },
  {
   "cell_type": "code",
   "execution_count": 131,
   "id": "dadd8ede",
   "metadata": {},
   "outputs": [],
   "source": [
    "df[cols_right_skewed] = df[cols_right_skewed].apply(u_o_treat)"
   ]
  },
  {
   "cell_type": "code",
   "execution_count": 132,
   "id": "ffdf6d1b",
   "metadata": {},
   "outputs": [
    {
     "data": {
      "text/html": [
       "<div>\n",
       "<style scoped>\n",
       "    .dataframe tbody tr th:only-of-type {\n",
       "        vertical-align: middle;\n",
       "    }\n",
       "\n",
       "    .dataframe tbody tr th {\n",
       "        vertical-align: top;\n",
       "    }\n",
       "\n",
       "    .dataframe thead th {\n",
       "        text-align: right;\n",
       "    }\n",
       "</style>\n",
       "<table border=\"1\" class=\"dataframe\">\n",
       "  <thead>\n",
       "    <tr style=\"text-align: right;\">\n",
       "      <th></th>\n",
       "      <th>min</th>\n",
       "      <th>1%</th>\n",
       "      <th>2%</th>\n",
       "      <th>3%</th>\n",
       "      <th>4%</th>\n",
       "      <th>50%</th>\n",
       "      <th>97%</th>\n",
       "      <th>98%</th>\n",
       "      <th>99%</th>\n",
       "      <th>max</th>\n",
       "    </tr>\n",
       "  </thead>\n",
       "  <tbody>\n",
       "    <tr>\n",
       "      <th>age</th>\n",
       "      <td>23.000</td>\n",
       "      <td>23.000</td>\n",
       "      <td>24.000</td>\n",
       "      <td>25.000</td>\n",
       "      <td>25.000</td>\n",
       "      <td>38.000</td>\n",
       "      <td>59.000</td>\n",
       "      <td>62.000</td>\n",
       "      <td>71.0000</td>\n",
       "      <td>71.000</td>\n",
       "    </tr>\n",
       "    <tr>\n",
       "      <th>duration</th>\n",
       "      <td>11.000</td>\n",
       "      <td>11.000</td>\n",
       "      <td>17.000</td>\n",
       "      <td>23.000</td>\n",
       "      <td>29.000</td>\n",
       "      <td>180.000</td>\n",
       "      <td>911.000</td>\n",
       "      <td>1052.500</td>\n",
       "      <td>1271.0625</td>\n",
       "      <td>1271.250</td>\n",
       "    </tr>\n",
       "    <tr>\n",
       "      <th>campaign</th>\n",
       "      <td>1.000</td>\n",
       "      <td>1.000</td>\n",
       "      <td>1.000</td>\n",
       "      <td>1.000</td>\n",
       "      <td>1.000</td>\n",
       "      <td>2.000</td>\n",
       "      <td>9.000</td>\n",
       "      <td>11.000</td>\n",
       "      <td>14.0000</td>\n",
       "      <td>14.000</td>\n",
       "    </tr>\n",
       "    <tr>\n",
       "      <th>pdays</th>\n",
       "      <td>3.000</td>\n",
       "      <td>3.000</td>\n",
       "      <td>6.000</td>\n",
       "      <td>9.000</td>\n",
       "      <td>999.000</td>\n",
       "      <td>999.000</td>\n",
       "      <td>999.000</td>\n",
       "      <td>999.000</td>\n",
       "      <td>999.0000</td>\n",
       "      <td>999.000</td>\n",
       "    </tr>\n",
       "    <tr>\n",
       "      <th>previous</th>\n",
       "      <td>0.000</td>\n",
       "      <td>0.000</td>\n",
       "      <td>0.000</td>\n",
       "      <td>0.000</td>\n",
       "      <td>0.000</td>\n",
       "      <td>0.000</td>\n",
       "      <td>1.000</td>\n",
       "      <td>2.000</td>\n",
       "      <td>2.0000</td>\n",
       "      <td>2.000</td>\n",
       "    </tr>\n",
       "    <tr>\n",
       "      <th>emp.var.rate</th>\n",
       "      <td>-3.400</td>\n",
       "      <td>-3.400</td>\n",
       "      <td>-3.400</td>\n",
       "      <td>-3.000</td>\n",
       "      <td>-2.900</td>\n",
       "      <td>1.100</td>\n",
       "      <td>1.400</td>\n",
       "      <td>1.400</td>\n",
       "      <td>1.4000</td>\n",
       "      <td>1.400</td>\n",
       "    </tr>\n",
       "    <tr>\n",
       "      <th>cons.price.idx</th>\n",
       "      <td>92.201</td>\n",
       "      <td>92.201</td>\n",
       "      <td>92.379</td>\n",
       "      <td>92.431</td>\n",
       "      <td>92.469</td>\n",
       "      <td>93.749</td>\n",
       "      <td>94.465</td>\n",
       "      <td>94.465</td>\n",
       "      <td>94.4650</td>\n",
       "      <td>94.767</td>\n",
       "    </tr>\n",
       "    <tr>\n",
       "      <th>cons.conf.idx</th>\n",
       "      <td>-50.800</td>\n",
       "      <td>-49.500</td>\n",
       "      <td>-47.100</td>\n",
       "      <td>-47.100</td>\n",
       "      <td>-47.100</td>\n",
       "      <td>-41.800</td>\n",
       "      <td>-31.400</td>\n",
       "      <td>-30.100</td>\n",
       "      <td>-26.9000</td>\n",
       "      <td>-26.900</td>\n",
       "    </tr>\n",
       "    <tr>\n",
       "      <th>euribor3m</th>\n",
       "      <td>0.634</td>\n",
       "      <td>0.658</td>\n",
       "      <td>0.714</td>\n",
       "      <td>0.720</td>\n",
       "      <td>0.740</td>\n",
       "      <td>4.857</td>\n",
       "      <td>4.967</td>\n",
       "      <td>4.968</td>\n",
       "      <td>4.9680</td>\n",
       "      <td>5.045</td>\n",
       "    </tr>\n",
       "    <tr>\n",
       "      <th>nr.employed</th>\n",
       "      <td>4963.600</td>\n",
       "      <td>4963.600</td>\n",
       "      <td>4991.600</td>\n",
       "      <td>4991.600</td>\n",
       "      <td>5008.700</td>\n",
       "      <td>5191.000</td>\n",
       "      <td>5228.100</td>\n",
       "      <td>5228.100</td>\n",
       "      <td>5228.1000</td>\n",
       "      <td>5228.100</td>\n",
       "    </tr>\n",
       "  </tbody>\n",
       "</table>\n",
       "</div>"
      ],
      "text/plain": [
       "                     min        1%        2%        3%        4%       50%  \\\n",
       "age               23.000    23.000    24.000    25.000    25.000    38.000   \n",
       "duration          11.000    11.000    17.000    23.000    29.000   180.000   \n",
       "campaign           1.000     1.000     1.000     1.000     1.000     2.000   \n",
       "pdays              3.000     3.000     6.000     9.000   999.000   999.000   \n",
       "previous           0.000     0.000     0.000     0.000     0.000     0.000   \n",
       "emp.var.rate      -3.400    -3.400    -3.400    -3.000    -2.900     1.100   \n",
       "cons.price.idx    92.201    92.201    92.379    92.431    92.469    93.749   \n",
       "cons.conf.idx    -50.800   -49.500   -47.100   -47.100   -47.100   -41.800   \n",
       "euribor3m          0.634     0.658     0.714     0.720     0.740     4.857   \n",
       "nr.employed     4963.600  4963.600  4991.600  4991.600  5008.700  5191.000   \n",
       "\n",
       "                     97%       98%        99%       max  \n",
       "age               59.000    62.000    71.0000    71.000  \n",
       "duration         911.000  1052.500  1271.0625  1271.250  \n",
       "campaign           9.000    11.000    14.0000    14.000  \n",
       "pdays            999.000   999.000   999.0000   999.000  \n",
       "previous           1.000     2.000     2.0000     2.000  \n",
       "emp.var.rate       1.400     1.400     1.4000     1.400  \n",
       "cons.price.idx    94.465    94.465    94.4650    94.767  \n",
       "cons.conf.idx    -31.400   -30.100   -26.9000   -26.900  \n",
       "euribor3m          4.967     4.968     4.9680     5.045  \n",
       "nr.employed     5228.100  5228.100  5228.1000  5228.100  "
      ]
     },
     "execution_count": 132,
     "metadata": {},
     "output_type": "execute_result"
    }
   ],
   "source": [
    "a1=df.describe(percentiles=[0.01,0.02,0.03,0.04,0.97,0.98,0.99]).T\n",
    "a1.iloc[:,3:]"
   ]
  },
  {
   "cell_type": "markdown",
   "id": "cb783fc6",
   "metadata": {},
   "source": [
    "## Label Encoding"
   ]
  },
  {
   "cell_type": "code",
   "execution_count": 133,
   "id": "41595b0b",
   "metadata": {},
   "outputs": [],
   "source": [
    "df['y']=df['y'].replace({'yes':1,'no':0})"
   ]
  },
  {
   "cell_type": "code",
   "execution_count": 134,
   "id": "9daba75e",
   "metadata": {},
   "outputs": [
    {
     "data": {
      "text/plain": [
       "0    36537\n",
       "1     4639\n",
       "Name: y, dtype: int64"
      ]
     },
     "execution_count": 134,
     "metadata": {},
     "output_type": "execute_result"
    }
   ],
   "source": [
    "df['y'].value_counts()"
   ]
  },
  {
   "cell_type": "code",
   "execution_count": 135,
   "id": "6dbe713d",
   "metadata": {},
   "outputs": [
    {
     "data": {
      "text/plain": [
       "age               float64\n",
       "job                object\n",
       "marital            object\n",
       "education          object\n",
       "default            object\n",
       "housing            object\n",
       "loan               object\n",
       "contact            object\n",
       "month              object\n",
       "day_of_week        object\n",
       "duration          float64\n",
       "campaign          float64\n",
       "pdays             float64\n",
       "previous          float64\n",
       "poutcome           object\n",
       "emp.var.rate      float64\n",
       "cons.price.idx    float64\n",
       "cons.conf.idx     float64\n",
       "euribor3m         float64\n",
       "nr.employed       float64\n",
       "y                   int64\n",
       "dtype: object"
      ]
     },
     "execution_count": 135,
     "metadata": {},
     "output_type": "execute_result"
    }
   ],
   "source": [
    "df.dtypes"
   ]
  },
  {
   "cell_type": "code",
   "execution_count": 136,
   "id": "d00e402a",
   "metadata": {},
   "outputs": [],
   "source": [
    "cat_cols=df.dtypes[df.dtypes=='object'].index"
   ]
  },
  {
   "cell_type": "code",
   "execution_count": 137,
   "id": "93ad1903",
   "metadata": {},
   "outputs": [
    {
     "data": {
      "text/plain": [
       "Index(['job', 'marital', 'education', 'default', 'housing', 'loan', 'contact',\n",
       "       'month', 'day_of_week', 'poutcome'],\n",
       "      dtype='object')"
      ]
     },
     "execution_count": 137,
     "metadata": {},
     "output_type": "execute_result"
    }
   ],
   "source": [
    "cat_cols"
   ]
  },
  {
   "cell_type": "code",
   "execution_count": 138,
   "id": "d928115e",
   "metadata": {},
   "outputs": [
    {
     "name": "stdout",
     "output_type": "stream",
     "text": [
      "(41176, 54)\n",
      "Index(['age', 'duration', 'campaign', 'pdays', 'previous', 'emp.var.rate',\n",
      "       'cons.price.idx', 'cons.conf.idx', 'euribor3m', 'nr.employed', 'y',\n",
      "       'job_blue-collar', 'job_entrepreneur', 'job_housemaid',\n",
      "       'job_management', 'job_retired', 'job_self-employed', 'job_services',\n",
      "       'job_student', 'job_technician', 'job_unemployed', 'job_unknown',\n",
      "       'marital_married', 'marital_single', 'marital_unknown',\n",
      "       'education_basic.6y', 'education_basic.9y', 'education_high.school',\n",
      "       'education_illiterate', 'education_professional.course',\n",
      "       'education_university.degree', 'education_unknown', 'default_unknown',\n",
      "       'default_yes', 'housing_unknown', 'housing_yes', 'loan_unknown',\n",
      "       'loan_yes', 'contact_telephone', 'month_aug', 'month_dec', 'month_jul',\n",
      "       'month_jun', 'month_mar', 'month_may', 'month_nov', 'month_oct',\n",
      "       'month_sep', 'day_of_week_mon', 'day_of_week_thu', 'day_of_week_tue',\n",
      "       'day_of_week_wed', 'poutcome_nonexistent', 'poutcome_success'],\n",
      "      dtype='object')\n"
     ]
    }
   ],
   "source": [
    "df_dum=pd.get_dummies(data=df,columns=cat_cols,drop_first=True)\n",
    "print(df_dum.shape)\n",
    "print(df_dum.columns)"
   ]
  },
  {
   "cell_type": "markdown",
   "id": "6b726ae7",
   "metadata": {},
   "source": [
    "## Select X and Y "
   ]
  },
  {
   "cell_type": "code",
   "execution_count": 139,
   "id": "9ae7b669",
   "metadata": {},
   "outputs": [],
   "source": [
    "x=df_dum.drop(['y'],axis=1)\n",
    "y=df_dum['y']"
   ]
  },
  {
   "cell_type": "markdown",
   "id": "ae7db324",
   "metadata": {},
   "source": [
    "## Split into train and test data"
   ]
  },
  {
   "cell_type": "code",
   "execution_count": 140,
   "id": "e47ca18b",
   "metadata": {},
   "outputs": [],
   "source": [
    "from sklearn.model_selection import train_test_split"
   ]
  },
  {
   "cell_type": "code",
   "execution_count": 141,
   "id": "6ec9c6b1",
   "metadata": {},
   "outputs": [],
   "source": [
    "x_train,x_test,y_train,y_test=train_test_split(x,y,test_size=0.25,random_state=42)"
   ]
  },
  {
   "cell_type": "code",
   "execution_count": 142,
   "id": "22fc264e",
   "metadata": {},
   "outputs": [
    {
     "name": "stdout",
     "output_type": "stream",
     "text": [
      "(30882, 53)\n",
      "(10294, 53)\n",
      "(30882,)\n",
      "(10294,)\n"
     ]
    }
   ],
   "source": [
    "print(x_train.shape)\n",
    "print(x_test.shape)\n",
    "print(y_train.shape)\n",
    "print(y_test.shape)"
   ]
  },
  {
   "cell_type": "markdown",
   "id": "4869da44",
   "metadata": {},
   "source": [
    "## Handling Unbalanced Data ."
   ]
  },
  {
   "cell_type": "code",
   "execution_count": 143,
   "id": "9c36b71b",
   "metadata": {},
   "outputs": [],
   "source": [
    "import imblearn"
   ]
  },
  {
   "cell_type": "code",
   "execution_count": 144,
   "id": "8606dd5e",
   "metadata": {},
   "outputs": [],
   "source": [
    "from imblearn.over_sampling import RandomOverSampler"
   ]
  },
  {
   "cell_type": "code",
   "execution_count": 145,
   "id": "e17a9644",
   "metadata": {},
   "outputs": [],
   "source": [
    "from collections import Counter"
   ]
  },
  {
   "cell_type": "code",
   "execution_count": 146,
   "id": "376d667b",
   "metadata": {},
   "outputs": [
    {
     "data": {
      "text/plain": [
       "Counter({0: 27443, 1: 3439})"
      ]
     },
     "execution_count": 146,
     "metadata": {},
     "output_type": "execute_result"
    }
   ],
   "source": [
    "Counter(y_train)"
   ]
  },
  {
   "cell_type": "code",
   "execution_count": 147,
   "id": "f3f9557d",
   "metadata": {},
   "outputs": [],
   "source": [
    "over = RandomOverSampler(sampling_strategy=0.8)\n",
    "x_over, y_over = over.fit_resample(x_train,y_train)"
   ]
  },
  {
   "cell_type": "markdown",
   "id": "6b0764be",
   "metadata": {},
   "source": [
    "## Standard Scaler ."
   ]
  },
  {
   "cell_type": "code",
   "execution_count": 148,
   "id": "0398b38e",
   "metadata": {},
   "outputs": [],
   "source": [
    "from sklearn.preprocessing import StandardScaler  "
   ]
  },
  {
   "cell_type": "code",
   "execution_count": 149,
   "id": "a04f3664",
   "metadata": {},
   "outputs": [
    {
     "name": "stdout",
     "output_type": "stream",
     "text": [
      "(30882, 53)\n",
      "(10294, 53)\n"
     ]
    }
   ],
   "source": [
    "ss = StandardScaler()\n",
    "ss.fit(x_train)\n",
    "x_train_ss = ss.transform(x_train)\n",
    "\n",
    "x_test_ss = ss.transform(x_test)\n",
    "print(x_train_ss.shape)\n",
    "print(x_test_ss.shape)"
   ]
  },
  {
   "cell_type": "code",
   "execution_count": 150,
   "id": "ccbed598",
   "metadata": {},
   "outputs": [
    {
     "name": "stdout",
     "output_type": "stream",
     "text": [
      "(30882, 53)\n",
      "(10294, 53)\n"
     ]
    }
   ],
   "source": [
    "x_train_ss = pd.DataFrame(x_train_ss, columns=x_train.columns)\n",
    "x_test_ss = pd.DataFrame(x_test_ss, columns=x_test.columns)\n",
    "print(x_train_ss.shape)\n",
    "print(x_test_ss.shape)"
   ]
  },
  {
   "cell_type": "markdown",
   "id": "2c7c5732",
   "metadata": {},
   "source": [
    "## Advanced Function Which calculate all models scores"
   ]
  },
  {
   "cell_type": "code",
   "execution_count": 151,
   "id": "040f4ed2",
   "metadata": {},
   "outputs": [],
   "source": [
    "from sklearn.metrics import *"
   ]
  },
  {
   "cell_type": "code",
   "execution_count": 152,
   "id": "627a17ac",
   "metadata": {},
   "outputs": [],
   "source": [
    "def eval_classification(model,x_train,x_test,y_train,y_test,modelname):\n",
    "    model.fit(x_train,y_train)\n",
    "    y_pred=model.predict(x_test)\n",
    "    cm=confusion_matrix(y_test,y_pred)\n",
    "    cr=classification_report(y_test,y_pred)\n",
    "    train=model.score(x_train,y_train)\n",
    "    test=model.score(x_test,y_test)\n",
    "    pre1=precision_score(y_test,y_pred)\n",
    "    rec1=recall_score(y_test,y_pred)\n",
    "    res=pd.DataFrame({'Train Acc':train,'Test Acc':test,'PRECISON':pre1,'RECALL':rec1},index=[modelname])\n",
    "    print('Confusion matrix\\n',cm)\n",
    "    print('Classification report\\n',cr)\n",
    "    return res,y_pred"
   ]
  },
  {
   "cell_type": "markdown",
   "id": "539f3e8a",
   "metadata": {},
   "source": [
    "## Import the Model "
   ]
  },
  {
   "cell_type": "code",
   "execution_count": 153,
   "id": "d358b183",
   "metadata": {},
   "outputs": [],
   "source": [
    "from sklearn.linear_model import LogisticRegression"
   ]
  },
  {
   "cell_type": "markdown",
   "id": "f5405d71",
   "metadata": {},
   "source": [
    "## Logistic Regression ."
   ]
  },
  {
   "cell_type": "code",
   "execution_count": 154,
   "id": "aad46069",
   "metadata": {},
   "outputs": [],
   "source": [
    "lg1=LogisticRegression()"
   ]
  },
  {
   "cell_type": "code",
   "execution_count": 155,
   "id": "b2ae5c3d",
   "metadata": {},
   "outputs": [
    {
     "name": "stdout",
     "output_type": "stream",
     "text": [
      "Confusion matrix\n",
      " [[8835  259]\n",
      " [ 707  493]]\n",
      "Classification report\n",
      "               precision    recall  f1-score   support\n",
      "\n",
      "           0       0.93      0.97      0.95      9094\n",
      "           1       0.66      0.41      0.51      1200\n",
      "\n",
      "    accuracy                           0.91     10294\n",
      "   macro avg       0.79      0.69      0.73     10294\n",
      "weighted avg       0.89      0.91      0.90     10294\n",
      "\n"
     ]
    },
    {
     "data": {
      "text/html": [
       "<div>\n",
       "<style scoped>\n",
       "    .dataframe tbody tr th:only-of-type {\n",
       "        vertical-align: middle;\n",
       "    }\n",
       "\n",
       "    .dataframe tbody tr th {\n",
       "        vertical-align: top;\n",
       "    }\n",
       "\n",
       "    .dataframe thead th {\n",
       "        text-align: right;\n",
       "    }\n",
       "</style>\n",
       "<table border=\"1\" class=\"dataframe\">\n",
       "  <thead>\n",
       "    <tr style=\"text-align: right;\">\n",
       "      <th></th>\n",
       "      <th>Train Acc</th>\n",
       "      <th>Test Acc</th>\n",
       "      <th>PRECISON</th>\n",
       "      <th>RECALL</th>\n",
       "    </tr>\n",
       "  </thead>\n",
       "  <tbody>\n",
       "    <tr>\n",
       "      <th>Log_Reg</th>\n",
       "      <td>0.911469</td>\n",
       "      <td>0.906159</td>\n",
       "      <td>0.655585</td>\n",
       "      <td>0.410833</td>\n",
       "    </tr>\n",
       "  </tbody>\n",
       "</table>\n",
       "</div>"
      ],
      "text/plain": [
       "         Train Acc  Test Acc  PRECISON    RECALL\n",
       "Log_Reg   0.911469  0.906159  0.655585  0.410833"
      ]
     },
     "execution_count": 155,
     "metadata": {},
     "output_type": "execute_result"
    }
   ],
   "source": [
    "lg1_res,lg1_pred=eval_classification(lg1,x_train,x_test,y_train,y_test,'Log_Reg')\n",
    "lg1_res"
   ]
  },
  {
   "cell_type": "markdown",
   "id": "d815d298",
   "metadata": {},
   "source": [
    "## ROC AUC "
   ]
  },
  {
   "cell_type": "code",
   "execution_count": 156,
   "id": "70c33a30",
   "metadata": {},
   "outputs": [],
   "source": [
    "from sklearn.metrics import roc_auc_score,roc_curve"
   ]
  },
  {
   "cell_type": "code",
   "execution_count": 157,
   "id": "14eaf76c",
   "metadata": {},
   "outputs": [
    {
     "name": "stdout",
     "output_type": "stream",
     "text": [
      "[[0.01705641 0.98294359]\n",
      " [0.89811758 0.10188242]\n",
      " [0.78279253 0.21720747]\n",
      " [0.92096912 0.07903088]\n",
      " [0.99034791 0.00965209]]\n",
      "(10294, 2)\n"
     ]
    }
   ],
   "source": [
    "ypred_prob = lg1.predict_proba(x_test)  \n",
    "print(ypred_prob[:5])  # top5 values\n",
    "print(ypred_prob.shape)"
   ]
  },
  {
   "cell_type": "code",
   "execution_count": 158,
   "id": "f88af6eb",
   "metadata": {},
   "outputs": [
    {
     "data": {
      "image/png": "[encoded data removed]",
      "text/plain": [
       "<Figure size 432x288 with 1 Axes>"
      ]
     },
     "metadata": {
      "needs_background": "light"
     },
     "output_type": "display_data"
    }
   ],
   "source": [
    "fpr,tpr,thresh = roc_curve(y_test,ypred_prob[:,1])   # ROC curve\n",
    "auc_score = roc_auc_score(y_test,ypred_prob[:,1])    # AUC_score\n",
    "plt.plot(fpr,tpr,label='AUC: '+str(auc_score))\n",
    "plt.plot([0,1],[0,1],color='red',linestyle='dotted',label='TPR=FPR')\n",
    "plt.title('ROC Curve')\n",
    "plt.xlabel('FPR')  # FP/(TN+FP)  # prob of +ve prediction when actual values are negative\n",
    "plt.ylabel('TPR')  # TP/(TP+FN)  # prob of +ve prediction when actual values are positive\n",
    "plt.legend()\n",
    "plt.show()"
   ]
  },
  {
   "cell_type": "markdown",
   "id": "ff3bf577",
   "metadata": {},
   "source": [
    "### Best Threshold Values "
   ]
  },
  {
   "cell_type": "markdown",
   "id": "addfc89e",
   "metadata": {},
   "source": [
    "### Best Threshold\n",
    "\n",
    "1) thresh[np.argmax(tpr-fpr)]\n",
    "2) thresh[np.argmax(tpr*(1-fpr)]\n",
    "3) thresh[np.argmax(np.sqrt(tpr*(1-fpr))]"
   ]
  },
  {
   "cell_type": "code",
   "execution_count": 159,
   "id": "106557fc",
   "metadata": {},
   "outputs": [],
   "source": [
    "best_thresh=thresh[np.argmax(tpr-fpr)]"
   ]
  },
  {
   "cell_type": "markdown",
   "id": "bd92791e",
   "metadata": {},
   "source": [
    "## Change the values based on this new Threshold"
   ]
  },
  {
   "cell_type": "code",
   "execution_count": 160,
   "id": "5499ee2c",
   "metadata": {},
   "outputs": [],
   "source": [
    "y_pred_lg2=np.where(ypred_prob[:,1]>best_thresh,1,0)"
   ]
  },
  {
   "cell_type": "markdown",
   "id": "6bd237bb",
   "metadata": {},
   "source": [
    "## Now Check the model on this threshold"
   ]
  },
  {
   "cell_type": "code",
   "execution_count": 161,
   "id": "6f1c7592",
   "metadata": {},
   "outputs": [],
   "source": [
    "def advanced_eval(model,x_train,y_train,x_test,y_test,y_pred,modelname):\n",
    "    cm=confusion_matrix(y_test,y_pred)\n",
    "    cr=classification_report(y_test,y_pred)\n",
    "    train=model.score(x_train,y_train)\n",
    "    test=model.score(x_test,y_test)\n",
    "    pre1=precision_score(y_test,y_pred)\n",
    "    rec1=recall_score(y_test,y_pred)\n",
    "    res=pd.DataFrame({'Train Acc':train,'Test Acc':test,'PRECISON':pre1,'RECALL':rec1},index=[modelname])\n",
    "    print('Confusion matrix\\n',cm)\n",
    "    print('Classification report\\n',cr)\n",
    "    return res"
   ]
  },
  {
   "cell_type": "code",
   "execution_count": 162,
   "id": "6db518d9",
   "metadata": {},
   "outputs": [
    {
     "name": "stdout",
     "output_type": "stream",
     "text": [
      "Confusion matrix\n",
      " [[7352 1742]\n",
      " [ 149 1051]]\n",
      "Classification report\n",
      "               precision    recall  f1-score   support\n",
      "\n",
      "           0       0.98      0.81      0.89      9094\n",
      "           1       0.38      0.88      0.53      1200\n",
      "\n",
      "    accuracy                           0.82     10294\n",
      "   macro avg       0.68      0.84      0.71     10294\n",
      "weighted avg       0.91      0.82      0.84     10294\n",
      "\n"
     ]
    },
    {
     "data": {
      "text/html": [
       "<div>\n",
       "<style scoped>\n",
       "    .dataframe tbody tr th:only-of-type {\n",
       "        vertical-align: middle;\n",
       "    }\n",
       "\n",
       "    .dataframe tbody tr th {\n",
       "        vertical-align: top;\n",
       "    }\n",
       "\n",
       "    .dataframe thead th {\n",
       "        text-align: right;\n",
       "    }\n",
       "</style>\n",
       "<table border=\"1\" class=\"dataframe\">\n",
       "  <thead>\n",
       "    <tr style=\"text-align: right;\">\n",
       "      <th></th>\n",
       "      <th>Train Acc</th>\n",
       "      <th>Test Acc</th>\n",
       "      <th>PRECISON</th>\n",
       "      <th>RECALL</th>\n",
       "    </tr>\n",
       "  </thead>\n",
       "  <tbody>\n",
       "    <tr>\n",
       "      <th>Log_Reg (thresh=0.092)</th>\n",
       "      <td>0.911469</td>\n",
       "      <td>0.906159</td>\n",
       "      <td>0.376298</td>\n",
       "      <td>0.875833</td>\n",
       "    </tr>\n",
       "  </tbody>\n",
       "</table>\n",
       "</div>"
      ],
      "text/plain": [
       "                        Train Acc  Test Acc  PRECISON    RECALL\n",
       "Log_Reg (thresh=0.092)   0.911469  0.906159  0.376298  0.875833"
      ]
     },
     "execution_count": 162,
     "metadata": {},
     "output_type": "execute_result"
    }
   ],
   "source": [
    "lg2_res=advanced_eval(lg1,x_train,y_train,x_test,y_test,y_pred_lg2,f'Log_Reg (thresh={round(best_thresh,3)})')\n",
    "lg2_res"
   ]
  },
  {
   "cell_type": "markdown",
   "id": "9b10efc3",
   "metadata": {},
   "source": [
    "## Decision Tree Model"
   ]
  },
  {
   "cell_type": "code",
   "execution_count": 163,
   "id": "0271e2df",
   "metadata": {},
   "outputs": [],
   "source": [
    "from sklearn.tree import DecisionTreeClassifier"
   ]
  },
  {
   "cell_type": "markdown",
   "id": "95c97e24",
   "metadata": {},
   "source": [
    "## DT model :=1"
   ]
  },
  {
   "cell_type": "code",
   "execution_count": 164,
   "id": "6351a0d0",
   "metadata": {},
   "outputs": [],
   "source": [
    "dt1=DecisionTreeClassifier()"
   ]
  },
  {
   "cell_type": "code",
   "execution_count": 165,
   "id": "38ec999a",
   "metadata": {},
   "outputs": [
    {
     "name": "stdout",
     "output_type": "stream",
     "text": [
      "Confusion matrix\n",
      " [[8524  570]\n",
      " [ 542  658]]\n",
      "Classification report\n",
      "               precision    recall  f1-score   support\n",
      "\n",
      "           0       0.94      0.94      0.94      9094\n",
      "           1       0.54      0.55      0.54      1200\n",
      "\n",
      "    accuracy                           0.89     10294\n",
      "   macro avg       0.74      0.74      0.74     10294\n",
      "weighted avg       0.89      0.89      0.89     10294\n",
      "\n"
     ]
    },
    {
     "data": {
      "text/html": [
       "<div>\n",
       "<style scoped>\n",
       "    .dataframe tbody tr th:only-of-type {\n",
       "        vertical-align: middle;\n",
       "    }\n",
       "\n",
       "    .dataframe tbody tr th {\n",
       "        vertical-align: top;\n",
       "    }\n",
       "\n",
       "    .dataframe thead th {\n",
       "        text-align: right;\n",
       "    }\n",
       "</style>\n",
       "<table border=\"1\" class=\"dataframe\">\n",
       "  <thead>\n",
       "    <tr style=\"text-align: right;\">\n",
       "      <th></th>\n",
       "      <th>Train Acc</th>\n",
       "      <th>Test Acc</th>\n",
       "      <th>PRECISON</th>\n",
       "      <th>RECALL</th>\n",
       "    </tr>\n",
       "  </thead>\n",
       "  <tbody>\n",
       "    <tr>\n",
       "      <th>Decision Tree(No Pruning)</th>\n",
       "      <td>1.0</td>\n",
       "      <td>0.891976</td>\n",
       "      <td>0.535831</td>\n",
       "      <td>0.548333</td>\n",
       "    </tr>\n",
       "  </tbody>\n",
       "</table>\n",
       "</div>"
      ],
      "text/plain": [
       "                           Train Acc  Test Acc  PRECISON    RECALL\n",
       "Decision Tree(No Pruning)        1.0  0.891976  0.535831  0.548333"
      ]
     },
     "execution_count": 165,
     "metadata": {},
     "output_type": "execute_result"
    }
   ],
   "source": [
    "dt1_res,r=eval_classification(dt1,x_train,x_test,y_train,y_test,'Decision Tree(No Pruning)')\n",
    "dt1_res"
   ]
  },
  {
   "cell_type": "markdown",
   "id": "81ef5614",
   "metadata": {},
   "source": [
    "## DT model :=2"
   ]
  },
  {
   "cell_type": "code",
   "execution_count": 166,
   "id": "44ee56b1",
   "metadata": {},
   "outputs": [],
   "source": [
    "dt2=DecisionTreeClassifier(criterion='gini',min_samples_split=6,max_depth=8)"
   ]
  },
  {
   "cell_type": "code",
   "execution_count": 167,
   "id": "bde3f109",
   "metadata": {},
   "outputs": [
    {
     "name": "stdout",
     "output_type": "stream",
     "text": [
      "Confusion matrix\n",
      " [[8753  341]\n",
      " [ 589  611]]\n",
      "Classification report\n",
      "               precision    recall  f1-score   support\n",
      "\n",
      "           0       0.94      0.96      0.95      9094\n",
      "           1       0.64      0.51      0.57      1200\n",
      "\n",
      "    accuracy                           0.91     10294\n",
      "   macro avg       0.79      0.74      0.76     10294\n",
      "weighted avg       0.90      0.91      0.91     10294\n",
      "\n"
     ]
    },
    {
     "data": {
      "text/html": [
       "<div>\n",
       "<style scoped>\n",
       "    .dataframe tbody tr th:only-of-type {\n",
       "        vertical-align: middle;\n",
       "    }\n",
       "\n",
       "    .dataframe tbody tr th {\n",
       "        vertical-align: top;\n",
       "    }\n",
       "\n",
       "    .dataframe thead th {\n",
       "        text-align: right;\n",
       "    }\n",
       "</style>\n",
       "<table border=\"1\" class=\"dataframe\">\n",
       "  <thead>\n",
       "    <tr style=\"text-align: right;\">\n",
       "      <th></th>\n",
       "      <th>Train Acc</th>\n",
       "      <th>Test Acc</th>\n",
       "      <th>PRECISON</th>\n",
       "      <th>RECALL</th>\n",
       "    </tr>\n",
       "  </thead>\n",
       "  <tbody>\n",
       "    <tr>\n",
       "      <th>DT2(with Pruning)</th>\n",
       "      <td>0.928729</td>\n",
       "      <td>0.909656</td>\n",
       "      <td>0.641807</td>\n",
       "      <td>0.509167</td>\n",
       "    </tr>\n",
       "  </tbody>\n",
       "</table>\n",
       "</div>"
      ],
      "text/plain": [
       "                   Train Acc  Test Acc  PRECISON    RECALL\n",
       "DT2(with Pruning)   0.928729  0.909656  0.641807  0.509167"
      ]
     },
     "execution_count": 167,
     "metadata": {},
     "output_type": "execute_result"
    }
   ],
   "source": [
    "dt2_res,r=eval_classification(dt2, x_train,x_test,y_train,y_test,'DT2(with Pruning)')\n",
    "dt2_res"
   ]
  },
  {
   "cell_type": "code",
   "execution_count": 168,
   "id": "328939ff",
   "metadata": {},
   "outputs": [
    {
     "name": "stdout",
     "output_type": "stream",
     "text": [
      "Confusion matrix\n",
      " [[7833 1261]\n",
      " [ 159 1041]]\n",
      "Classification report\n",
      "               precision    recall  f1-score   support\n",
      "\n",
      "           0       0.98      0.86      0.92      9094\n",
      "           1       0.45      0.87      0.59      1200\n",
      "\n",
      "    accuracy                           0.86     10294\n",
      "   macro avg       0.72      0.86      0.76     10294\n",
      "weighted avg       0.92      0.86      0.88     10294\n",
      "\n"
     ]
    },
    {
     "data": {
      "text/html": [
       "<div>\n",
       "<style scoped>\n",
       "    .dataframe tbody tr th:only-of-type {\n",
       "        vertical-align: middle;\n",
       "    }\n",
       "\n",
       "    .dataframe tbody tr th {\n",
       "        vertical-align: top;\n",
       "    }\n",
       "\n",
       "    .dataframe thead th {\n",
       "        text-align: right;\n",
       "    }\n",
       "</style>\n",
       "<table border=\"1\" class=\"dataframe\">\n",
       "  <thead>\n",
       "    <tr style=\"text-align: right;\">\n",
       "      <th></th>\n",
       "      <th>Train Acc</th>\n",
       "      <th>Test Acc</th>\n",
       "      <th>PRECISON</th>\n",
       "      <th>RECALL</th>\n",
       "    </tr>\n",
       "  </thead>\n",
       "  <tbody>\n",
       "    <tr>\n",
       "      <th>DT2(with Pruning)</th>\n",
       "      <td>0.89963</td>\n",
       "      <td>0.862056</td>\n",
       "      <td>0.452215</td>\n",
       "      <td>0.8675</td>\n",
       "    </tr>\n",
       "  </tbody>\n",
       "</table>\n",
       "</div>"
      ],
      "text/plain": [
       "                   Train Acc  Test Acc  PRECISON  RECALL\n",
       "DT2(with Pruning)    0.89963  0.862056  0.452215  0.8675"
      ]
     },
     "execution_count": 168,
     "metadata": {},
     "output_type": "execute_result"
    }
   ],
   "source": [
    "dt3_res,r=eval_classification(dt2, x_over,x_test,y_over,y_test,'DT2(with Pruning)')\n",
    "dt3_res"
   ]
  },
  {
   "cell_type": "markdown",
   "id": "3458d45b",
   "metadata": {},
   "source": [
    "## Cross Validation"
   ]
  },
  {
   "cell_type": "code",
   "execution_count": 169,
   "id": "16f78e8d",
   "metadata": {},
   "outputs": [],
   "source": [
    "from sklearn.model_selection import cross_val_score"
   ]
  },
  {
   "cell_type": "code",
   "execution_count": 170,
   "id": "2e2c601f",
   "metadata": {},
   "outputs": [
    {
     "name": "stdout",
     "output_type": "stream",
     "text": [
      "Cri: gini Depth: 8 MSS: 4 ==> Mean Scores 0.912894069047721\n",
      "**************************************************\n",
      "Cri: gini Depth: 8 MSS: 5 ==> Mean Scores 0.9152903791937499\n",
      "**************************************************\n",
      "Cri: gini Depth: 8 MSS: 6 ==> Mean Scores 0.9148369641348777\n",
      "**************************************************\n",
      "Cri: gini Depth: 8 MSS: 7 ==> Mean Scores 0.9132180972200903\n",
      "**************************************************\n",
      "Cri: gini Depth: 8 MSS: 8 ==> Mean Scores 0.912181780606814\n",
      "**************************************************\n",
      "Cri: gini Depth: 10 MSS: 4 ==> Mean Scores 0.912894069047721\n",
      "**************************************************\n",
      "Cri: gini Depth: 10 MSS: 5 ==> Mean Scores 0.9152903791937499\n",
      "**************************************************\n",
      "Cri: gini Depth: 10 MSS: 6 ==> Mean Scores 0.9148369641348777\n",
      "**************************************************\n",
      "Cri: gini Depth: 10 MSS: 7 ==> Mean Scores 0.9132180972200903\n",
      "**************************************************\n",
      "Cri: gini Depth: 10 MSS: 8 ==> Mean Scores 0.9120522049874136\n",
      "**************************************************\n",
      "Cri: gini Depth: 12 MSS: 4 ==> Mean Scores 0.912894069047721\n",
      "**************************************************\n",
      "Cri: gini Depth: 12 MSS: 5 ==> Mean Scores 0.9152903791937499\n",
      "**************************************************\n",
      "Cri: gini Depth: 12 MSS: 6 ==> Mean Scores 0.9148045807151887\n",
      "**************************************************\n",
      "Cri: gini Depth: 12 MSS: 7 ==> Mean Scores 0.9132504701546184\n",
      "**************************************************\n",
      "Cri: gini Depth: 12 MSS: 8 ==> Mean Scores 0.9121493709742226\n",
      "**************************************************\n",
      "Cri: gini Depth: 14 MSS: 4 ==> Mean Scores 0.912894069047721\n",
      "**************************************************\n",
      "Cri: gini Depth: 14 MSS: 5 ==> Mean Scores 0.9152903791937499\n",
      "**************************************************\n",
      "Cri: gini Depth: 14 MSS: 6 ==> Mean Scores 0.9148369641348777\n",
      "**************************************************\n",
      "Cri: gini Depth: 14 MSS: 7 ==> Mean Scores 0.9130885582987533\n",
      "**************************************************\n",
      "Cri: gini Depth: 14 MSS: 8 ==> Mean Scores 0.9119550547283464\n",
      "**************************************************\n",
      "Cri: entropy Depth: 8 MSS: 4 ==> Mean Scores 0.9131855617655671\n",
      "**************************************************\n",
      "Cri: entropy Depth: 8 MSS: 5 ==> Mean Scores 0.9138008100415969\n",
      "**************************************************\n",
      "Cri: entropy Depth: 8 MSS: 6 ==> Mean Scores 0.9132827225097951\n",
      "**************************************************\n",
      "Cri: entropy Depth: 8 MSS: 7 ==> Mean Scores 0.9133799251946675\n",
      "**************************************************\n",
      "Cri: entropy Depth: 8 MSS: 8 ==> Mean Scores 0.911242740074537\n",
      "**************************************************\n",
      "Cri: entropy Depth: 10 MSS: 4 ==> Mean Scores 0.9131855617655671\n",
      "**************************************************\n",
      "Cri: entropy Depth: 10 MSS: 5 ==> Mean Scores 0.9138008100415969\n",
      "**************************************************\n",
      "Cri: entropy Depth: 10 MSS: 6 ==> Mean Scores 0.9132827225097951\n",
      "**************************************************\n",
      "Cri: entropy Depth: 10 MSS: 7 ==> Mean Scores 0.9134770754537349\n",
      "**************************************************\n",
      "Cri: entropy Depth: 10 MSS: 8 ==> Mean Scores 0.9112751287368066\n",
      "**************************************************\n",
      "Cri: entropy Depth: 12 MSS: 4 ==> Mean Scores 0.9131855617655671\n",
      "**************************************************\n",
      "Cri: entropy Depth: 12 MSS: 5 ==> Mean Scores 0.9138008100415969\n",
      "**************************************************\n",
      "Cri: entropy Depth: 12 MSS: 6 ==> Mean Scores 0.913217955670417\n",
      "**************************************************\n",
      "Cri: entropy Depth: 12 MSS: 7 ==> Mean Scores 0.9132180080962218\n",
      "**************************************************\n",
      "Cri: entropy Depth: 12 MSS: 8 ==> Mean Scores 0.9113398850910238\n",
      "**************************************************\n",
      "Cri: entropy Depth: 14 MSS: 4 ==> Mean Scores 0.9131855617655671\n",
      "**************************************************\n",
      "Cri: entropy Depth: 14 MSS: 5 ==> Mean Scores 0.9138008100415969\n",
      "**************************************************\n",
      "Cri: entropy Depth: 14 MSS: 6 ==> Mean Scores 0.9132503390901061\n",
      "**************************************************\n",
      "Cri: entropy Depth: 14 MSS: 7 ==> Mean Scores 0.913541842293113\n",
      "**************************************************\n",
      "Cri: entropy Depth: 14 MSS: 8 ==> Mean Scores 0.9115341856091584\n",
      "**************************************************\n"
     ]
    }
   ],
   "source": [
    "criterion=['gini','entropy']\n",
    "min_samples_split=[8,10,12,14]\n",
    "max_depth=[4,5,6,7,8]\n",
    "for i in criterion:\n",
    "    for j in min_samples_split:\n",
    "        for k in max_depth:\n",
    "            model=DecisionTreeClassifier(criterion=i,min_samples_split=j,max_depth=k)\n",
    "            scores=cross_val_score(model,x_train,y_train,cv=5)\n",
    "            print('Cri:',i,'Depth:',j,'MSS:',k,'==> Mean Scores',scores.mean())\n",
    "            print('*'*50)"
   ]
  },
  {
   "cell_type": "markdown",
   "id": "dc273f3c",
   "metadata": {},
   "source": [
    "## Hyperparameter Tuning"
   ]
  },
  {
   "cell_type": "code",
   "execution_count": 171,
   "id": "98903b7a",
   "metadata": {},
   "outputs": [],
   "source": [
    "from sklearn.model_selection import GridSearchCV,RandomizedSearchCV"
   ]
  },
  {
   "cell_type": "code",
   "execution_count": 172,
   "id": "5db7030d",
   "metadata": {},
   "outputs": [],
   "source": [
    "hparams_dt={'criterion':['gini','entropy']\n",
    ",'min_samples_split':[8,10,12,14]\n",
    ",'max_depth':[4,5,6,7,8]}"
   ]
  },
  {
   "cell_type": "markdown",
   "id": "1e7f9af4",
   "metadata": {},
   "source": [
    "## RandomizedSearchCV"
   ]
  },
  {
   "cell_type": "code",
   "execution_count": 173,
   "id": "5403b1a4",
   "metadata": {},
   "outputs": [
    {
     "data": {
      "text/plain": [
       "RandomizedSearchCV(cv=5, estimator=DecisionTreeClassifier(),\n",
       "                   param_distributions={'criterion': ['gini', 'entropy'],\n",
       "                                        'max_depth': [4, 5, 6, 7, 8],\n",
       "                                        'min_samples_split': [8, 10, 12, 14]},\n",
       "                   scoring='accuracy')"
      ]
     },
     "execution_count": 173,
     "metadata": {},
     "output_type": "execute_result"
    }
   ],
   "source": [
    "dt_base2 = DecisionTreeClassifier()\n",
    "rs1 = RandomizedSearchCV(dt_base2,param_distributions=hparams_dt,scoring='accuracy',cv=5)\n",
    "rs1.fit(x_train,y_train)"
   ]
  },
  {
   "cell_type": "code",
   "execution_count": 174,
   "id": "a55657a2",
   "metadata": {},
   "outputs": [
    {
     "name": "stdout",
     "output_type": "stream",
     "text": [
      "0.9152903791937499\n",
      "{'min_samples_split': 8, 'max_depth': 5, 'criterion': 'gini'}\n"
     ]
    }
   ],
   "source": [
    "print(rs1.best_score_)\n",
    "print(rs1.best_params_)"
   ]
  },
  {
   "cell_type": "markdown",
   "id": "b5d1c468",
   "metadata": {},
   "source": [
    "## Model after Randomized Search "
   ]
  },
  {
   "cell_type": "code",
   "execution_count": 175,
   "id": "7f348dd0",
   "metadata": {},
   "outputs": [
    {
     "name": "stdout",
     "output_type": "stream",
     "text": [
      "Confusion matrix\n",
      " [[8813  281]\n",
      " [ 626  574]]\n",
      "Classification report\n",
      "               precision    recall  f1-score   support\n",
      "\n",
      "           0       0.93      0.97      0.95      9094\n",
      "           1       0.67      0.48      0.56      1200\n",
      "\n",
      "    accuracy                           0.91     10294\n",
      "   macro avg       0.80      0.72      0.75     10294\n",
      "weighted avg       0.90      0.91      0.91     10294\n",
      "\n"
     ]
    },
    {
     "data": {
      "text/html": [
       "<div>\n",
       "<style scoped>\n",
       "    .dataframe tbody tr th:only-of-type {\n",
       "        vertical-align: middle;\n",
       "    }\n",
       "\n",
       "    .dataframe tbody tr th {\n",
       "        vertical-align: top;\n",
       "    }\n",
       "\n",
       "    .dataframe thead th {\n",
       "        text-align: right;\n",
       "    }\n",
       "</style>\n",
       "<table border=\"1\" class=\"dataframe\">\n",
       "  <thead>\n",
       "    <tr style=\"text-align: right;\">\n",
       "      <th></th>\n",
       "      <th>Train Acc</th>\n",
       "      <th>Test Acc</th>\n",
       "      <th>PRECISON</th>\n",
       "      <th>RECALL</th>\n",
       "    </tr>\n",
       "  </thead>\n",
       "  <tbody>\n",
       "    <tr>\n",
       "      <th>DT_RS1</th>\n",
       "      <td>0.918334</td>\n",
       "      <td>0.91189</td>\n",
       "      <td>0.671345</td>\n",
       "      <td>0.478333</td>\n",
       "    </tr>\n",
       "  </tbody>\n",
       "</table>\n",
       "</div>"
      ],
      "text/plain": [
       "        Train Acc  Test Acc  PRECISON    RECALL\n",
       "DT_RS1   0.918334   0.91189  0.671345  0.478333"
      ]
     },
     "execution_count": 175,
     "metadata": {},
     "output_type": "execute_result"
    }
   ],
   "source": [
    "dt_rs1 = DecisionTreeClassifier(**rs1.best_params_)\n",
    "dt_rs1_res,ypred_rs1 = eval_classification(dt_rs1,x_train,x_test,y_train,y_test,'DT_RS1')\n",
    "dt_rs1_res"
   ]
  },
  {
   "cell_type": "markdown",
   "id": "19ab3490",
   "metadata": {},
   "source": [
    "## Random Forest"
   ]
  },
  {
   "cell_type": "code",
   "execution_count": 176,
   "id": "e2b967c1",
   "metadata": {},
   "outputs": [],
   "source": [
    "from sklearn.ensemble import RandomForestClassifier"
   ]
  },
  {
   "cell_type": "code",
   "execution_count": 177,
   "id": "a7501ac2",
   "metadata": {},
   "outputs": [
    {
     "name": "stdout",
     "output_type": "stream",
     "text": [
      "Confusion matrix\n",
      " [[8937  157]\n",
      " [ 771  429]]\n",
      "Classification report\n",
      "               precision    recall  f1-score   support\n",
      "\n",
      "           0       0.92      0.98      0.95      9094\n",
      "           1       0.73      0.36      0.48      1200\n",
      "\n",
      "    accuracy                           0.91     10294\n",
      "   macro avg       0.83      0.67      0.72     10294\n",
      "weighted avg       0.90      0.91      0.90     10294\n",
      "\n"
     ]
    },
    {
     "data": {
      "text/html": [
       "<div>\n",
       "<style scoped>\n",
       "    .dataframe tbody tr th:only-of-type {\n",
       "        vertical-align: middle;\n",
       "    }\n",
       "\n",
       "    .dataframe tbody tr th {\n",
       "        vertical-align: top;\n",
       "    }\n",
       "\n",
       "    .dataframe thead th {\n",
       "        text-align: right;\n",
       "    }\n",
       "</style>\n",
       "<table border=\"1\" class=\"dataframe\">\n",
       "  <thead>\n",
       "    <tr style=\"text-align: right;\">\n",
       "      <th></th>\n",
       "      <th>Train Acc</th>\n",
       "      <th>Test Acc</th>\n",
       "      <th>PRECISON</th>\n",
       "      <th>RECALL</th>\n",
       "    </tr>\n",
       "  </thead>\n",
       "  <tbody>\n",
       "    <tr>\n",
       "      <th>Random Forest</th>\n",
       "      <td>0.933618</td>\n",
       "      <td>0.90985</td>\n",
       "      <td>0.732082</td>\n",
       "      <td>0.3575</td>\n",
       "    </tr>\n",
       "  </tbody>\n",
       "</table>\n",
       "</div>"
      ],
      "text/plain": [
       "               Train Acc  Test Acc  PRECISON  RECALL\n",
       "Random Forest   0.933618   0.90985  0.732082  0.3575"
      ]
     },
     "execution_count": 177,
     "metadata": {},
     "output_type": "execute_result"
    }
   ],
   "source": [
    "rf = RandomForestClassifier(n_estimators=80,criterion='gini',max_depth=12,min_samples_split=15)\n",
    "rf_res,ypred_rf =eval_classification(rf,x_train,x_test,y_train,y_test,'Random Forest')\n",
    "rf_res"
   ]
  },
  {
   "cell_type": "markdown",
   "id": "24488393",
   "metadata": {},
   "source": [
    "## Hyperparameter Tuning"
   ]
  },
  {
   "cell_type": "code",
   "execution_count": 178,
   "id": "d6ee03c6",
   "metadata": {},
   "outputs": [],
   "source": [
    "hparams_rf={'criterion':['gini','entropy']\n",
    ",'min_samples_split':[8,10,12,14]\n",
    ",'max_depth':[4,5,6,7,8]}"
   ]
  },
  {
   "cell_type": "markdown",
   "id": "7043fd46",
   "metadata": {},
   "source": [
    "## RandomizedSearchCV"
   ]
  },
  {
   "cell_type": "code",
   "execution_count": 179,
   "id": "abdbbda3",
   "metadata": {},
   "outputs": [],
   "source": [
    "from sklearn.model_selection import RandomizedSearchCV"
   ]
  },
  {
   "cell_type": "code",
   "execution_count": 180,
   "id": "83d0cdcc",
   "metadata": {},
   "outputs": [
    {
     "data": {
      "text/plain": [
       "RandomizedSearchCV(cv=5, estimator=RandomForestClassifier(),\n",
       "                   param_distributions={'criterion': ['gini', 'entropy'],\n",
       "                                        'max_depth': [4, 5, 6, 7, 8],\n",
       "                                        'min_samples_split': [8, 10, 12, 14]},\n",
       "                   scoring='accuracy')"
      ]
     },
     "execution_count": 180,
     "metadata": {},
     "output_type": "execute_result"
    }
   ],
   "source": [
    "rf_base1=RandomForestClassifier()\n",
    "rs1=RandomizedSearchCV(rf_base1,param_distributions=hparams_rf,scoring='accuracy',cv=5)\n",
    "rs1.fit(x_train,y_train)"
   ]
  },
  {
   "cell_type": "code",
   "execution_count": 181,
   "id": "b08611a2",
   "metadata": {},
   "outputs": [
    {
     "name": "stdout",
     "output_type": "stream",
     "text": [
      "{'min_samples_split': 14, 'max_depth': 8, 'criterion': 'gini'}\n",
      "0.9087817522129982\n"
     ]
    }
   ],
   "source": [
    "print(rs1.best_params_)\n",
    "print(rs1.best_score_)"
   ]
  },
  {
   "cell_type": "code",
   "execution_count": 182,
   "id": "9c0934ca",
   "metadata": {},
   "outputs": [],
   "source": [
    "rs_rf1=RandomForestClassifier(**rs1.best_params_)"
   ]
  },
  {
   "cell_type": "code",
   "execution_count": 183,
   "id": "0de687c1",
   "metadata": {},
   "outputs": [
    {
     "name": "stdout",
     "output_type": "stream",
     "text": [
      "Confusion matrix\n",
      " [[8993  101]\n",
      " [ 880  320]]\n",
      "Classification report\n",
      "               precision    recall  f1-score   support\n",
      "\n",
      "           0       0.91      0.99      0.95      9094\n",
      "           1       0.76      0.27      0.39      1200\n",
      "\n",
      "    accuracy                           0.90     10294\n",
      "   macro avg       0.84      0.63      0.67     10294\n",
      "weighted avg       0.89      0.90      0.88     10294\n",
      "\n"
     ]
    },
    {
     "data": {
      "text/html": [
       "<div>\n",
       "<style scoped>\n",
       "    .dataframe tbody tr th:only-of-type {\n",
       "        vertical-align: middle;\n",
       "    }\n",
       "\n",
       "    .dataframe tbody tr th {\n",
       "        vertical-align: top;\n",
       "    }\n",
       "\n",
       "    .dataframe thead th {\n",
       "        text-align: right;\n",
       "    }\n",
       "</style>\n",
       "<table border=\"1\" class=\"dataframe\">\n",
       "  <thead>\n",
       "    <tr style=\"text-align: right;\">\n",
       "      <th></th>\n",
       "      <th>Train Acc</th>\n",
       "      <th>Test Acc</th>\n",
       "      <th>PRECISON</th>\n",
       "      <th>RECALL</th>\n",
       "    </tr>\n",
       "  </thead>\n",
       "  <tbody>\n",
       "    <tr>\n",
       "      <th>RF(Random Search)</th>\n",
       "      <td>0.917071</td>\n",
       "      <td>0.904702</td>\n",
       "      <td>0.760095</td>\n",
       "      <td>0.266667</td>\n",
       "    </tr>\n",
       "  </tbody>\n",
       "</table>\n",
       "</div>"
      ],
      "text/plain": [
       "                   Train Acc  Test Acc  PRECISON    RECALL\n",
       "RF(Random Search)   0.917071  0.904702  0.760095  0.266667"
      ]
     },
     "execution_count": 183,
     "metadata": {},
     "output_type": "execute_result"
    }
   ],
   "source": [
    "rs_rf1_res,gs_rf1_pred=eval_classification(rs_rf1,x_train,x_test,y_train,y_test,'RF(Random Search)')\n",
    "rs_rf1_res"
   ]
  },
  {
   "cell_type": "code",
   "execution_count": 184,
   "id": "f5d11dcc",
   "metadata": {},
   "outputs": [
    {
     "name": "stdout",
     "output_type": "stream",
     "text": [
      "Confusion matrix\n",
      " [[7902 1192]\n",
      " [ 179 1021]]\n",
      "Classification report\n",
      "               precision    recall  f1-score   support\n",
      "\n",
      "           0       0.98      0.87      0.92      9094\n",
      "           1       0.46      0.85      0.60      1200\n",
      "\n",
      "    accuracy                           0.87     10294\n",
      "   macro avg       0.72      0.86      0.76     10294\n",
      "weighted avg       0.92      0.87      0.88     10294\n",
      "\n"
     ]
    },
    {
     "data": {
      "text/html": [
       "<div>\n",
       "<style scoped>\n",
       "    .dataframe tbody tr th:only-of-type {\n",
       "        vertical-align: middle;\n",
       "    }\n",
       "\n",
       "    .dataframe tbody tr th {\n",
       "        vertical-align: top;\n",
       "    }\n",
       "\n",
       "    .dataframe thead th {\n",
       "        text-align: right;\n",
       "    }\n",
       "</style>\n",
       "<table border=\"1\" class=\"dataframe\">\n",
       "  <thead>\n",
       "    <tr style=\"text-align: right;\">\n",
       "      <th></th>\n",
       "      <th>Train Acc</th>\n",
       "      <th>Test Acc</th>\n",
       "      <th>PRECISON</th>\n",
       "      <th>RECALL</th>\n",
       "    </tr>\n",
       "  </thead>\n",
       "  <tbody>\n",
       "    <tr>\n",
       "      <th>log_reg [smote]</th>\n",
       "      <td>0.865619</td>\n",
       "      <td>0.866816</td>\n",
       "      <td>0.461365</td>\n",
       "      <td>0.850833</td>\n",
       "    </tr>\n",
       "  </tbody>\n",
       "</table>\n",
       "</div>"
      ],
      "text/plain": [
       "                 Train Acc  Test Acc  PRECISON    RECALL\n",
       "log_reg [smote]   0.865619  0.866816  0.461365  0.850833"
      ]
     },
     "execution_count": 184,
     "metadata": {},
     "output_type": "execute_result"
    }
   ],
   "source": [
    "m2 = LogisticRegression(max_iter=1000)\n",
    "lg_smote,lgs_res=eval_classification(m2,x_over,x_test,y_over,y_test,\"log_reg [smote]\")\n",
    "lg_smote"
   ]
  },
  {
   "cell_type": "code",
   "execution_count": 185,
   "id": "a6e40253",
   "metadata": {},
   "outputs": [
    {
     "name": "stdout",
     "output_type": "stream",
     "text": [
      "Confusion matrix\n",
      " [[7925 1169]\n",
      " [ 118 1082]]\n",
      "Classification report\n",
      "               precision    recall  f1-score   support\n",
      "\n",
      "           0       0.99      0.87      0.92      9094\n",
      "           1       0.48      0.90      0.63      1200\n",
      "\n",
      "    accuracy                           0.87     10294\n",
      "   macro avg       0.73      0.89      0.78     10294\n",
      "weighted avg       0.93      0.87      0.89     10294\n",
      "\n"
     ]
    },
    {
     "data": {
      "text/html": [
       "<div>\n",
       "<style scoped>\n",
       "    .dataframe tbody tr th:only-of-type {\n",
       "        vertical-align: middle;\n",
       "    }\n",
       "\n",
       "    .dataframe tbody tr th {\n",
       "        vertical-align: top;\n",
       "    }\n",
       "\n",
       "    .dataframe thead th {\n",
       "        text-align: right;\n",
       "    }\n",
       "</style>\n",
       "<table border=\"1\" class=\"dataframe\">\n",
       "  <thead>\n",
       "    <tr style=\"text-align: right;\">\n",
       "      <th></th>\n",
       "      <th>Train Acc</th>\n",
       "      <th>Test Acc</th>\n",
       "      <th>PRECISON</th>\n",
       "      <th>RECALL</th>\n",
       "    </tr>\n",
       "  </thead>\n",
       "  <tbody>\n",
       "    <tr>\n",
       "      <th>Random Forest[smote]</th>\n",
       "      <td>0.921858</td>\n",
       "      <td>0.874976</td>\n",
       "      <td>0.480675</td>\n",
       "      <td>0.901667</td>\n",
       "    </tr>\n",
       "  </tbody>\n",
       "</table>\n",
       "</div>"
      ],
      "text/plain": [
       "                      Train Acc  Test Acc  PRECISON    RECALL\n",
       "Random Forest[smote]   0.921858  0.874976  0.480675  0.901667"
      ]
     },
     "execution_count": 185,
     "metadata": {},
     "output_type": "execute_result"
    }
   ],
   "source": [
    "rf = RandomForestClassifier(n_estimators=80,criterion='gini',max_depth=12,min_samples_split=15)\n",
    "rf_res3,ypred_rf =eval_classification(rf,x_over,x_test,y_over,y_test,'Random Forest[smote]')\n",
    "rf_res3"
   ]
  },
  {
   "cell_type": "code",
   "execution_count": 186,
   "id": "e1911c23",
   "metadata": {},
   "outputs": [
    {
     "data": {
      "text/html": [
       "<div>\n",
       "<style scoped>\n",
       "    .dataframe tbody tr th:only-of-type {\n",
       "        vertical-align: middle;\n",
       "    }\n",
       "\n",
       "    .dataframe tbody tr th {\n",
       "        vertical-align: top;\n",
       "    }\n",
       "\n",
       "    .dataframe thead th {\n",
       "        text-align: right;\n",
       "    }\n",
       "</style>\n",
       "<table border=\"1\" class=\"dataframe\">\n",
       "  <thead>\n",
       "    <tr style=\"text-align: right;\">\n",
       "      <th></th>\n",
       "      <th>Train Acc</th>\n",
       "      <th>Test Acc</th>\n",
       "      <th>PRECISON</th>\n",
       "      <th>RECALL</th>\n",
       "    </tr>\n",
       "  </thead>\n",
       "  <tbody>\n",
       "    <tr>\n",
       "      <th>Log_Reg</th>\n",
       "      <td>0.911469</td>\n",
       "      <td>0.906159</td>\n",
       "      <td>0.655585</td>\n",
       "      <td>0.410833</td>\n",
       "    </tr>\n",
       "    <tr>\n",
       "      <th>Log_Reg (thresh=0.092)</th>\n",
       "      <td>0.911469</td>\n",
       "      <td>0.906159</td>\n",
       "      <td>0.376298</td>\n",
       "      <td>0.875833</td>\n",
       "    </tr>\n",
       "    <tr>\n",
       "      <th>Decision Tree(No Pruning)</th>\n",
       "      <td>1.000000</td>\n",
       "      <td>0.891976</td>\n",
       "      <td>0.535831</td>\n",
       "      <td>0.548333</td>\n",
       "    </tr>\n",
       "    <tr>\n",
       "      <th>DT2(with Pruning)</th>\n",
       "      <td>0.928729</td>\n",
       "      <td>0.909656</td>\n",
       "      <td>0.641807</td>\n",
       "      <td>0.509167</td>\n",
       "    </tr>\n",
       "    <tr>\n",
       "      <th>DT_RS1</th>\n",
       "      <td>0.918334</td>\n",
       "      <td>0.911890</td>\n",
       "      <td>0.671345</td>\n",
       "      <td>0.478333</td>\n",
       "    </tr>\n",
       "    <tr>\n",
       "      <th>Random Forest</th>\n",
       "      <td>0.933618</td>\n",
       "      <td>0.909850</td>\n",
       "      <td>0.732082</td>\n",
       "      <td>0.357500</td>\n",
       "    </tr>\n",
       "    <tr>\n",
       "      <th>Random Forest[smote]</th>\n",
       "      <td>0.921858</td>\n",
       "      <td>0.874976</td>\n",
       "      <td>0.480675</td>\n",
       "      <td>0.901667</td>\n",
       "    </tr>\n",
       "    <tr>\n",
       "      <th>RF(Random Search)</th>\n",
       "      <td>0.917071</td>\n",
       "      <td>0.904702</td>\n",
       "      <td>0.760095</td>\n",
       "      <td>0.266667</td>\n",
       "    </tr>\n",
       "    <tr>\n",
       "      <th>log_reg [smote]</th>\n",
       "      <td>0.865619</td>\n",
       "      <td>0.866816</td>\n",
       "      <td>0.461365</td>\n",
       "      <td>0.850833</td>\n",
       "    </tr>\n",
       "  </tbody>\n",
       "</table>\n",
       "</div>"
      ],
      "text/plain": [
       "                           Train Acc  Test Acc  PRECISON    RECALL\n",
       "Log_Reg                     0.911469  0.906159  0.655585  0.410833\n",
       "Log_Reg (thresh=0.092)      0.911469  0.906159  0.376298  0.875833\n",
       "Decision Tree(No Pruning)   1.000000  0.891976  0.535831  0.548333\n",
       "DT2(with Pruning)           0.928729  0.909656  0.641807  0.509167\n",
       "DT_RS1                      0.918334  0.911890  0.671345  0.478333\n",
       "Random Forest               0.933618  0.909850  0.732082  0.357500\n",
       "Random Forest[smote]        0.921858  0.874976  0.480675  0.901667\n",
       "RF(Random Search)           0.917071  0.904702  0.760095  0.266667\n",
       "log_reg [smote]             0.865619  0.866816  0.461365  0.850833"
      ]
     },
     "execution_count": 186,
     "metadata": {},
     "output_type": "execute_result"
    }
   ],
   "source": [
    "all_res = pd.concat([lg1_res,lg2_res,dt1_res,dt2_res,dt_rs1_res,rf_res,rf_res3,rs_rf1_res,lg_smote])\n",
    "all_res"
   ]
  },
  {
   "cell_type": "markdown",
   "id": "5f080ab3",
   "metadata": {},
   "source": [
    "## Tabulate All Results"
   ]
  },
  {
   "cell_type": "code",
   "execution_count": 190,
   "id": "27d59818",
   "metadata": {},
   "outputs": [
    {
     "data": {
      "text/html": [
       "<div>\n",
       "<style scoped>\n",
       "    .dataframe tbody tr th:only-of-type {\n",
       "        vertical-align: middle;\n",
       "    }\n",
       "\n",
       "    .dataframe tbody tr th {\n",
       "        vertical-align: top;\n",
       "    }\n",
       "\n",
       "    .dataframe thead th {\n",
       "        text-align: right;\n",
       "    }\n",
       "</style>\n",
       "<table border=\"1\" class=\"dataframe\">\n",
       "  <thead>\n",
       "    <tr style=\"text-align: right;\">\n",
       "      <th></th>\n",
       "      <th>Train Acc</th>\n",
       "      <th>Test Acc</th>\n",
       "      <th>PRECISON</th>\n",
       "      <th>RECALL</th>\n",
       "    </tr>\n",
       "  </thead>\n",
       "  <tbody>\n",
       "    <tr>\n",
       "      <th>Log_Reg</th>\n",
       "      <td>0.911469</td>\n",
       "      <td>0.906159</td>\n",
       "      <td>0.655585</td>\n",
       "      <td>0.410833</td>\n",
       "    </tr>\n",
       "    <tr>\n",
       "      <th>Log_Reg (thresh=0.092)</th>\n",
       "      <td>0.911469</td>\n",
       "      <td>0.906159</td>\n",
       "      <td>0.376298</td>\n",
       "      <td>0.875833</td>\n",
       "    </tr>\n",
       "    <tr>\n",
       "      <th>Decision Tree(No Pruning)</th>\n",
       "      <td>1.000000</td>\n",
       "      <td>0.891976</td>\n",
       "      <td>0.535831</td>\n",
       "      <td>0.548333</td>\n",
       "    </tr>\n",
       "    <tr>\n",
       "      <th>DT2(with Pruning)</th>\n",
       "      <td>0.928729</td>\n",
       "      <td>0.909656</td>\n",
       "      <td>0.641807</td>\n",
       "      <td>0.509167</td>\n",
       "    </tr>\n",
       "    <tr>\n",
       "      <th>DT_RS1</th>\n",
       "      <td>0.918334</td>\n",
       "      <td>0.911890</td>\n",
       "      <td>0.671345</td>\n",
       "      <td>0.478333</td>\n",
       "    </tr>\n",
       "    <tr>\n",
       "      <th>Random Forest</th>\n",
       "      <td>0.933618</td>\n",
       "      <td>0.909850</td>\n",
       "      <td>0.732082</td>\n",
       "      <td>0.357500</td>\n",
       "    </tr>\n",
       "    <tr>\n",
       "      <th>RF(Random Search)</th>\n",
       "      <td>0.917071</td>\n",
       "      <td>0.904702</td>\n",
       "      <td>0.760095</td>\n",
       "      <td>0.266667</td>\n",
       "    </tr>\n",
       "  </tbody>\n",
       "</table>\n",
       "</div>"
      ],
      "text/plain": [
       "                           Train Acc  Test Acc  PRECISON    RECALL\n",
       "Log_Reg                     0.911469  0.906159  0.655585  0.410833\n",
       "Log_Reg (thresh=0.092)      0.911469  0.906159  0.376298  0.875833\n",
       "Decision Tree(No Pruning)   1.000000  0.891976  0.535831  0.548333\n",
       "DT2(with Pruning)           0.928729  0.909656  0.641807  0.509167\n",
       "DT_RS1                      0.918334  0.911890  0.671345  0.478333\n",
       "Random Forest               0.933618  0.909850  0.732082  0.357500\n",
       "RF(Random Search)           0.917071  0.904702  0.760095  0.266667"
      ]
     },
     "execution_count": 190,
     "metadata": {},
     "output_type": "execute_result"
    }
   ],
   "source": [
    "all_res = pd.concat([lg1_res,lg2_res,dt1_res,dt2_res,dt_rs1_res,rf_res,rs_rf1_res])\n",
    "all_res"
   ]
  },
  {
   "cell_type": "code",
   "execution_count": null,
   "id": "a45c6aa4",
   "metadata": {},
   "outputs": [],
   "source": []
  },
  {
   "cell_type": "code",
   "execution_count": null,
   "id": "2d004f16",
   "metadata": {},
   "outputs": [],
   "source": []
  },
  {
   "cell_type": "code",
   "execution_count": null,
   "id": "892550a0",
   "metadata": {},
   "outputs": [],
   "source": []
  },
  {
   "cell_type": "code",
   "execution_count": null,
   "id": "5f5db7dd",
   "metadata": {},
   "outputs": [],
   "source": []
  },
  {
   "cell_type": "code",
   "execution_count": null,
   "id": "e8baf63b",
   "metadata": {},
   "outputs": [],
   "source": []
  },
  {
   "cell_type": "code",
   "execution_count": null,
   "id": "dfdcc651",
   "metadata": {},
   "outputs": [],
   "source": []
  },
  {
   "cell_type": "code",
   "execution_count": null,
   "id": "db226ebe",
   "metadata": {},
   "outputs": [],
   "source": []
  },
  {
   "cell_type": "code",
   "execution_count": null,
   "id": "643a823a",
   "metadata": {},
   "outputs": [],
   "source": []
  },
  {
   "cell_type": "code",
   "execution_count": null,
   "id": "2e4cd658",
   "metadata": {},
   "outputs": [],
   "source": []
  },
  {
   "cell_type": "code",
   "execution_count": null,
   "id": "7246780b",
   "metadata": {},
   "outputs": [],
   "source": []
  },
  {
   "cell_type": "code",
   "execution_count": null,
   "id": "6f2e31da",
   "metadata": {},
   "outputs": [],
   "source": []
  },
  {
   "cell_type": "code",
   "execution_count": null,
   "id": "48ce9d2e",
   "metadata": {},
   "outputs": [],
   "source": []
  },
  {
   "cell_type": "code",
   "execution_count": null,
   "id": "b28a6573",
   "metadata": {},
   "outputs": [],
   "source": []
  },
  {
   "cell_type": "code",
   "execution_count": null,
   "id": "2d175f20",
   "metadata": {},
   "outputs": [],
   "source": []
  },
  {
   "cell_type": "code",
   "execution_count": null,
   "id": "3c13070e",
   "metadata": {},
   "outputs": [],
   "source": []
  },
  {
   "cell_type": "code",
   "execution_count": null,
   "id": "821466d3",
   "metadata": {},
   "outputs": [],
   "source": []
  },
  {
   "cell_type": "code",
   "execution_count": null,
   "id": "b7111fbd",
   "metadata": {},
   "outputs": [],
   "source": []
  },
  {
   "cell_type": "code",
   "execution_count": null,
   "id": "d60fe39a",
   "metadata": {},
   "outputs": [],
   "source": []
  },
  {
   "cell_type": "code",
   "execution_count": null,
   "id": "b91ed676",
   "metadata": {},
   "outputs": [],
   "source": []
  },
  {
   "cell_type": "code",
   "execution_count": null,
   "id": "4921a5da",
   "metadata": {},
   "outputs": [],
   "source": []
  },
  {
   "cell_type": "code",
   "execution_count": null,
   "id": "8cb022d2",
   "metadata": {},
   "outputs": [],
   "source": []
  },
  {
   "cell_type": "code",
   "execution_count": null,
   "id": "68c61d33",
   "metadata": {},
   "outputs": [],
   "source": []
  },
  {
   "cell_type": "code",
   "execution_count": null,
   "id": "e47c8d3e",
   "metadata": {},
   "outputs": [],
   "source": []
  },
  {
   "cell_type": "code",
   "execution_count": null,
   "id": "39eb818b",
   "metadata": {},
   "outputs": [],
   "source": []
  },
  {
   "cell_type": "code",
   "execution_count": null,
   "id": "a990b173",
   "metadata": {},
   "outputs": [],
   "source": []
  },
  {
   "cell_type": "code",
   "execution_count": null,
   "id": "dc165244",
   "metadata": {},
   "outputs": [],
   "source": []
  },
  {
   "cell_type": "code",
   "execution_count": null,
   "id": "fb3faaef",
   "metadata": {},
   "outputs": [],
   "source": []
  },
  {
   "cell_type": "code",
   "execution_count": null,
   "id": "f7aaa8a6",
   "metadata": {},
   "outputs": [],
   "source": []
  },
  {
   "cell_type": "code",
   "execution_count": null,
   "id": "889db1bf",
   "metadata": {},
   "outputs": [],
   "source": []
  },
  {
   "cell_type": "code",
   "execution_count": null,
   "id": "9082ec35",
   "metadata": {},
   "outputs": [],
   "source": []
  },
  {
   "cell_type": "code",
   "execution_count": null,
   "id": "3a502401",
   "metadata": {},
   "outputs": [],
   "source": []
  },
  {
   "cell_type": "code",
   "execution_count": null,
   "id": "c0ebab31",
   "metadata": {},
   "outputs": [],
   "source": []
  },
  {
   "cell_type": "code",
   "execution_count": null,
   "id": "0647d326",
   "metadata": {},
   "outputs": [],
   "source": []
  },
  {
   "cell_type": "code",
   "execution_count": null,
   "id": "ef1e2583",
   "metadata": {},
   "outputs": [],
   "source": []
  },
  {
   "cell_type": "code",
   "execution_count": null,
   "id": "eb91461f",
   "metadata": {},
   "outputs": [],
   "source": []
  },
  {
   "cell_type": "code",
   "execution_count": null,
   "id": "7a25ff3e",
   "metadata": {},
   "outputs": [],
   "source": []
  }
 ],
 "metadata": {
  "kernelspec": {
   "display_name": "Python 3 (ipykernel)",
   "language": "python",
   "name": "python3"
  },
  "language_info": {
   "codemirror_mode": {
    "name": "ipython",
    "version": 3
   },
   "file_extension": ".py",
   "mimetype": "text/x-python",
   "name": "python",
   "nbconvert_exporter": "python",
   "pygments_lexer": "ipython3",
   "version": "3.9.12"
  }
 },
 "nbformat": 4,
 "nbformat_minor": 5
}
