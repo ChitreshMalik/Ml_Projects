{
 "cells": [
  {
   "cell_type": "code",
   "execution_count": 175,
   "id": "21b5e774",
   "metadata": {},
   "outputs": [],
   "source": [
    "import numpy as np\n",
    "import pandas as pd\n",
    "import matplotlib.pyplot as plt\n",
    "import seaborn as sns"
   ]
  },
  {
   "cell_type": "code",
   "execution_count": 176,
   "id": "d2599407",
   "metadata": {},
   "outputs": [],
   "source": [
    "import warnings\n",
    "warnings.filterwarnings('ignore')"
   ]
  },
  {
   "cell_type": "code",
   "execution_count": 177,
   "id": "f4786eb0",
   "metadata": {},
   "outputs": [
    {
     "data": {
      "text/html": [
       "<div>\n",
       "<style scoped>\n",
       "    .dataframe tbody tr th:only-of-type {\n",
       "        vertical-align: middle;\n",
       "    }\n",
       "\n",
       "    .dataframe tbody tr th {\n",
       "        vertical-align: top;\n",
       "    }\n",
       "\n",
       "    .dataframe thead th {\n",
       "        text-align: right;\n",
       "    }\n",
       "</style>\n",
       "<table border=\"1\" class=\"dataframe\">\n",
       "  <thead>\n",
       "    <tr style=\"text-align: right;\">\n",
       "      <th></th>\n",
       "      <th>market</th>\n",
       "      <th>month</th>\n",
       "      <th>year</th>\n",
       "      <th>quantity</th>\n",
       "      <th>priceMin</th>\n",
       "      <th>priceMax</th>\n",
       "      <th>priceMod</th>\n",
       "      <th>state</th>\n",
       "      <th>city</th>\n",
       "      <th>date</th>\n",
       "    </tr>\n",
       "  </thead>\n",
       "  <tbody>\n",
       "    <tr>\n",
       "      <th>0</th>\n",
       "      <td>ABOHAR(PB)</td>\n",
       "      <td>January</td>\n",
       "      <td>2005</td>\n",
       "      <td>2350</td>\n",
       "      <td>404</td>\n",
       "      <td>493</td>\n",
       "      <td>446</td>\n",
       "      <td>PB</td>\n",
       "      <td>ABOHAR</td>\n",
       "      <td>January-2005</td>\n",
       "    </tr>\n",
       "    <tr>\n",
       "      <th>1</th>\n",
       "      <td>ABOHAR(PB)</td>\n",
       "      <td>January</td>\n",
       "      <td>2006</td>\n",
       "      <td>900</td>\n",
       "      <td>487</td>\n",
       "      <td>638</td>\n",
       "      <td>563</td>\n",
       "      <td>PB</td>\n",
       "      <td>ABOHAR</td>\n",
       "      <td>January-2006</td>\n",
       "    </tr>\n",
       "    <tr>\n",
       "      <th>2</th>\n",
       "      <td>ABOHAR(PB)</td>\n",
       "      <td>January</td>\n",
       "      <td>2010</td>\n",
       "      <td>790</td>\n",
       "      <td>1283</td>\n",
       "      <td>1592</td>\n",
       "      <td>1460</td>\n",
       "      <td>PB</td>\n",
       "      <td>ABOHAR</td>\n",
       "      <td>January-2010</td>\n",
       "    </tr>\n",
       "    <tr>\n",
       "      <th>3</th>\n",
       "      <td>ABOHAR(PB)</td>\n",
       "      <td>January</td>\n",
       "      <td>2011</td>\n",
       "      <td>245</td>\n",
       "      <td>3067</td>\n",
       "      <td>3750</td>\n",
       "      <td>3433</td>\n",
       "      <td>PB</td>\n",
       "      <td>ABOHAR</td>\n",
       "      <td>January-2011</td>\n",
       "    </tr>\n",
       "    <tr>\n",
       "      <th>4</th>\n",
       "      <td>ABOHAR(PB)</td>\n",
       "      <td>January</td>\n",
       "      <td>2012</td>\n",
       "      <td>1035</td>\n",
       "      <td>523</td>\n",
       "      <td>686</td>\n",
       "      <td>605</td>\n",
       "      <td>PB</td>\n",
       "      <td>ABOHAR</td>\n",
       "      <td>January-2012</td>\n",
       "    </tr>\n",
       "  </tbody>\n",
       "</table>\n",
       "</div>"
      ],
      "text/plain": [
       "       market    month  year  quantity  priceMin  priceMax  priceMod state  \\\n",
       "0  ABOHAR(PB)  January  2005      2350       404       493       446    PB   \n",
       "1  ABOHAR(PB)  January  2006       900       487       638       563    PB   \n",
       "2  ABOHAR(PB)  January  2010       790      1283      1592      1460    PB   \n",
       "3  ABOHAR(PB)  January  2011       245      3067      3750      3433    PB   \n",
       "4  ABOHAR(PB)  January  2012      1035       523       686       605    PB   \n",
       "\n",
       "     city          date  \n",
       "0  ABOHAR  January-2005  \n",
       "1  ABOHAR  January-2006  \n",
       "2  ABOHAR  January-2010  \n",
       "3  ABOHAR  January-2011  \n",
       "4  ABOHAR  January-2012  "
      ]
     },
     "execution_count": 177,
     "metadata": {},
     "output_type": "execute_result"
    }
   ],
   "source": [
    "df = pd.read_csv('MonthWiseMarketArrivals.csv')\n",
    "df.head()"
   ]
  },
  {
   "cell_type": "code",
   "execution_count": 178,
   "id": "5903e98d",
   "metadata": {},
   "outputs": [],
   "source": [
    "def fetch_count_and_percent_of_null(data):  # data is df\n",
    "    nv = data.isnull().sum()  # nv = null values\n",
    "    nv = nv[nv>0]\n",
    "    res = pd.DataFrame({'Feature':nv.index,'Count_Null':nv.values,\n",
    "                       'Percent_Null':(nv.values/data.shape[0])*100})\n",
    "    res = res.sort_values('Percent_Null',ascending=False)\n",
    "    return res\n"
   ]
  },
  {
   "cell_type": "code",
   "execution_count": 179,
   "id": "03bad26f",
   "metadata": {},
   "outputs": [
    {
     "data": {
      "text/html": [
       "<div>\n",
       "<style scoped>\n",
       "    .dataframe tbody tr th:only-of-type {\n",
       "        vertical-align: middle;\n",
       "    }\n",
       "\n",
       "    .dataframe tbody tr th {\n",
       "        vertical-align: top;\n",
       "    }\n",
       "\n",
       "    .dataframe thead th {\n",
       "        text-align: right;\n",
       "    }\n",
       "</style>\n",
       "<table border=\"1\" class=\"dataframe\">\n",
       "  <thead>\n",
       "    <tr style=\"text-align: right;\">\n",
       "      <th></th>\n",
       "      <th>Feature</th>\n",
       "      <th>Count_Null</th>\n",
       "      <th>Percent_Null</th>\n",
       "    </tr>\n",
       "  </thead>\n",
       "  <tbody>\n",
       "  </tbody>\n",
       "</table>\n",
       "</div>"
      ],
      "text/plain": [
       "Empty DataFrame\n",
       "Columns: [Feature, Count_Null, Percent_Null]\n",
       "Index: []"
      ]
     },
     "execution_count": 179,
     "metadata": {},
     "output_type": "execute_result"
    }
   ],
   "source": [
    "fetch_count_and_percent_of_null(df)"
   ]
  },
  {
   "cell_type": "code",
   "execution_count": 180,
   "id": "8f9a5dfb",
   "metadata": {},
   "outputs": [],
   "source": [
    "df2=df[df[\"state\"]==\"MS\"]"
   ]
  },
  {
   "cell_type": "code",
   "execution_count": 181,
   "id": "0530fc92",
   "metadata": {},
   "outputs": [
    {
     "data": {
      "text/plain": [
       "9985"
      ]
     },
     "execution_count": 181,
     "metadata": {},
     "output_type": "execute_result"
    }
   ],
   "source": [
    "df[\"date\"].duplicated().sum()"
   ]
  },
  {
   "cell_type": "code",
   "execution_count": 182,
   "id": "f95be598",
   "metadata": {},
   "outputs": [
    {
     "data": {
      "text/plain": [
       "(4354, 10)"
      ]
     },
     "execution_count": 182,
     "metadata": {},
     "output_type": "execute_result"
    }
   ],
   "source": [
    "df2.shape"
   ]
  },
  {
   "cell_type": "code",
   "execution_count": 183,
   "id": "ae4335b3",
   "metadata": {},
   "outputs": [
    {
     "data": {
      "text/plain": [
       "4112"
      ]
     },
     "execution_count": 183,
     "metadata": {},
     "output_type": "execute_result"
    }
   ],
   "source": [
    "df2['date'].duplicated().sum()"
   ]
  },
  {
   "cell_type": "code",
   "execution_count": 184,
   "id": "d577f7e0",
   "metadata": {},
   "outputs": [
    {
     "data": {
      "text/plain": [
       "MS    4354\n",
       "Name: state, dtype: int64"
      ]
     },
     "execution_count": 184,
     "metadata": {},
     "output_type": "execute_result"
    }
   ],
   "source": [
    "df2[\"state\"].value_counts()"
   ]
  },
  {
   "cell_type": "code",
   "execution_count": 185,
   "id": "3db1eb08",
   "metadata": {},
   "outputs": [],
   "source": [
    "df2=d.groupby(\"date\")[[\"priceMod\"]].mean()"
   ]
  },
  {
   "cell_type": "code",
   "execution_count": 186,
   "id": "3db11903",
   "metadata": {},
   "outputs": [
    {
     "data": {
      "text/plain": [
       "Index(['priceMod'], dtype='object')"
      ]
     },
     "execution_count": 186,
     "metadata": {},
     "output_type": "execute_result"
    }
   ],
   "source": [
    "df2.columns"
   ]
  },
  {
   "cell_type": "code",
   "execution_count": 174,
   "id": "da9393b1",
   "metadata": {},
   "outputs": [
    {
     "ename": "KeyError",
     "evalue": "\"['market', 'month', 'year', 'quantity', 'priceMin', 'priceMax', 'state', 'city'] not found in axis\"",
     "output_type": "error",
     "traceback": [
      "\u001b[1;31m---------------------------------------------------------------------------\u001b[0m",
      "\u001b[1;31mKeyError\u001b[0m                                  Traceback (most recent call last)",
      "Input \u001b[1;32mIn [174]\u001b[0m, in \u001b[0;36m<cell line: 1>\u001b[1;34m()\u001b[0m\n\u001b[1;32m----> 1\u001b[0m df2\u001b[38;5;241m=\u001b[39m\u001b[43mdf2\u001b[49m\u001b[38;5;241;43m.\u001b[39;49m\u001b[43mdrop\u001b[49m\u001b[43m(\u001b[49m\u001b[43m[\u001b[49m\u001b[38;5;124;43m'\u001b[39;49m\u001b[38;5;124;43mmarket\u001b[39;49m\u001b[38;5;124;43m'\u001b[39;49m\u001b[43m,\u001b[49m\u001b[43m \u001b[49m\u001b[38;5;124;43m'\u001b[39;49m\u001b[38;5;124;43mmonth\u001b[39;49m\u001b[38;5;124;43m'\u001b[39;49m\u001b[43m,\u001b[49m\u001b[43m \u001b[49m\u001b[38;5;124;43m'\u001b[39;49m\u001b[38;5;124;43myear\u001b[39;49m\u001b[38;5;124;43m'\u001b[39;49m\u001b[43m,\u001b[49m\u001b[43m \u001b[49m\u001b[38;5;124;43m'\u001b[39;49m\u001b[38;5;124;43mquantity\u001b[39;49m\u001b[38;5;124;43m'\u001b[39;49m\u001b[43m,\u001b[49m\u001b[43m \u001b[49m\u001b[38;5;124;43m'\u001b[39;49m\u001b[38;5;124;43mpriceMin\u001b[39;49m\u001b[38;5;124;43m'\u001b[39;49m\u001b[43m,\u001b[49m\u001b[43m \u001b[49m\u001b[38;5;124;43m'\u001b[39;49m\u001b[38;5;124;43mpriceMax\u001b[39;49m\u001b[38;5;124;43m'\u001b[39;49m\u001b[43m,\u001b[49m\u001b[43m \u001b[49m\u001b[38;5;124;43m'\u001b[39;49m\u001b[38;5;124;43mstate\u001b[39;49m\u001b[38;5;124;43m'\u001b[39;49m\u001b[43m,\u001b[49m\u001b[43m \u001b[49m\u001b[38;5;124;43m'\u001b[39;49m\u001b[38;5;124;43mcity\u001b[39;49m\u001b[38;5;124;43m'\u001b[39;49m\u001b[43m]\u001b[49m\u001b[43m,\u001b[49m\u001b[43maxis\u001b[49m\u001b[38;5;241;43m=\u001b[39;49m\u001b[38;5;241;43m1\u001b[39;49m\u001b[43m)\u001b[49m\n",
      "File \u001b[1;32m~\\anaconda3\\lib\\site-packages\\pandas\\util\\_decorators.py:311\u001b[0m, in \u001b[0;36mdeprecate_nonkeyword_arguments.<locals>.decorate.<locals>.wrapper\u001b[1;34m(*args, **kwargs)\u001b[0m\n\u001b[0;32m    305\u001b[0m \u001b[38;5;28;01mif\u001b[39;00m \u001b[38;5;28mlen\u001b[39m(args) \u001b[38;5;241m>\u001b[39m num_allow_args:\n\u001b[0;32m    306\u001b[0m     warnings\u001b[38;5;241m.\u001b[39mwarn(\n\u001b[0;32m    307\u001b[0m         msg\u001b[38;5;241m.\u001b[39mformat(arguments\u001b[38;5;241m=\u001b[39marguments),\n\u001b[0;32m    308\u001b[0m         \u001b[38;5;167;01mFutureWarning\u001b[39;00m,\n\u001b[0;32m    309\u001b[0m         stacklevel\u001b[38;5;241m=\u001b[39mstacklevel,\n\u001b[0;32m    310\u001b[0m     )\n\u001b[1;32m--> 311\u001b[0m \u001b[38;5;28;01mreturn\u001b[39;00m func(\u001b[38;5;241m*\u001b[39margs, \u001b[38;5;241m*\u001b[39m\u001b[38;5;241m*\u001b[39mkwargs)\n",
      "File \u001b[1;32m~\\anaconda3\\lib\\site-packages\\pandas\\core\\frame.py:4954\u001b[0m, in \u001b[0;36mDataFrame.drop\u001b[1;34m(self, labels, axis, index, columns, level, inplace, errors)\u001b[0m\n\u001b[0;32m   4806\u001b[0m \u001b[38;5;129m@deprecate_nonkeyword_arguments\u001b[39m(version\u001b[38;5;241m=\u001b[39m\u001b[38;5;28;01mNone\u001b[39;00m, allowed_args\u001b[38;5;241m=\u001b[39m[\u001b[38;5;124m\"\u001b[39m\u001b[38;5;124mself\u001b[39m\u001b[38;5;124m\"\u001b[39m, \u001b[38;5;124m\"\u001b[39m\u001b[38;5;124mlabels\u001b[39m\u001b[38;5;124m\"\u001b[39m])\n\u001b[0;32m   4807\u001b[0m \u001b[38;5;28;01mdef\u001b[39;00m \u001b[38;5;21mdrop\u001b[39m(\n\u001b[0;32m   4808\u001b[0m     \u001b[38;5;28mself\u001b[39m,\n\u001b[1;32m   (...)\u001b[0m\n\u001b[0;32m   4815\u001b[0m     errors: \u001b[38;5;28mstr\u001b[39m \u001b[38;5;241m=\u001b[39m \u001b[38;5;124m\"\u001b[39m\u001b[38;5;124mraise\u001b[39m\u001b[38;5;124m\"\u001b[39m,\n\u001b[0;32m   4816\u001b[0m ):\n\u001b[0;32m   4817\u001b[0m \u001b[38;5;250m    \u001b[39m\u001b[38;5;124;03m\"\"\"\u001b[39;00m\n\u001b[0;32m   4818\u001b[0m \u001b[38;5;124;03m    Drop specified labels from rows or columns.\u001b[39;00m\n\u001b[0;32m   4819\u001b[0m \n\u001b[1;32m   (...)\u001b[0m\n\u001b[0;32m   4952\u001b[0m \u001b[38;5;124;03m            weight  1.0     0.8\u001b[39;00m\n\u001b[0;32m   4953\u001b[0m \u001b[38;5;124;03m    \"\"\"\u001b[39;00m\n\u001b[1;32m-> 4954\u001b[0m     \u001b[38;5;28;01mreturn\u001b[39;00m \u001b[38;5;28;43msuper\u001b[39;49m\u001b[43m(\u001b[49m\u001b[43m)\u001b[49m\u001b[38;5;241;43m.\u001b[39;49m\u001b[43mdrop\u001b[49m\u001b[43m(\u001b[49m\n\u001b[0;32m   4955\u001b[0m \u001b[43m        \u001b[49m\u001b[43mlabels\u001b[49m\u001b[38;5;241;43m=\u001b[39;49m\u001b[43mlabels\u001b[49m\u001b[43m,\u001b[49m\n\u001b[0;32m   4956\u001b[0m \u001b[43m        \u001b[49m\u001b[43maxis\u001b[49m\u001b[38;5;241;43m=\u001b[39;49m\u001b[43maxis\u001b[49m\u001b[43m,\u001b[49m\n\u001b[0;32m   4957\u001b[0m \u001b[43m        \u001b[49m\u001b[43mindex\u001b[49m\u001b[38;5;241;43m=\u001b[39;49m\u001b[43mindex\u001b[49m\u001b[43m,\u001b[49m\n\u001b[0;32m   4958\u001b[0m \u001b[43m        \u001b[49m\u001b[43mcolumns\u001b[49m\u001b[38;5;241;43m=\u001b[39;49m\u001b[43mcolumns\u001b[49m\u001b[43m,\u001b[49m\n\u001b[0;32m   4959\u001b[0m \u001b[43m        \u001b[49m\u001b[43mlevel\u001b[49m\u001b[38;5;241;43m=\u001b[39;49m\u001b[43mlevel\u001b[49m\u001b[43m,\u001b[49m\n\u001b[0;32m   4960\u001b[0m \u001b[43m        \u001b[49m\u001b[43minplace\u001b[49m\u001b[38;5;241;43m=\u001b[39;49m\u001b[43minplace\u001b[49m\u001b[43m,\u001b[49m\n\u001b[0;32m   4961\u001b[0m \u001b[43m        \u001b[49m\u001b[43merrors\u001b[49m\u001b[38;5;241;43m=\u001b[39;49m\u001b[43merrors\u001b[49m\u001b[43m,\u001b[49m\n\u001b[0;32m   4962\u001b[0m \u001b[43m    \u001b[49m\u001b[43m)\u001b[49m\n",
      "File \u001b[1;32m~\\anaconda3\\lib\\site-packages\\pandas\\core\\generic.py:4267\u001b[0m, in \u001b[0;36mNDFrame.drop\u001b[1;34m(self, labels, axis, index, columns, level, inplace, errors)\u001b[0m\n\u001b[0;32m   4265\u001b[0m \u001b[38;5;28;01mfor\u001b[39;00m axis, labels \u001b[38;5;129;01min\u001b[39;00m axes\u001b[38;5;241m.\u001b[39mitems():\n\u001b[0;32m   4266\u001b[0m     \u001b[38;5;28;01mif\u001b[39;00m labels \u001b[38;5;129;01mis\u001b[39;00m \u001b[38;5;129;01mnot\u001b[39;00m \u001b[38;5;28;01mNone\u001b[39;00m:\n\u001b[1;32m-> 4267\u001b[0m         obj \u001b[38;5;241m=\u001b[39m \u001b[43mobj\u001b[49m\u001b[38;5;241;43m.\u001b[39;49m\u001b[43m_drop_axis\u001b[49m\u001b[43m(\u001b[49m\u001b[43mlabels\u001b[49m\u001b[43m,\u001b[49m\u001b[43m \u001b[49m\u001b[43maxis\u001b[49m\u001b[43m,\u001b[49m\u001b[43m \u001b[49m\u001b[43mlevel\u001b[49m\u001b[38;5;241;43m=\u001b[39;49m\u001b[43mlevel\u001b[49m\u001b[43m,\u001b[49m\u001b[43m \u001b[49m\u001b[43merrors\u001b[49m\u001b[38;5;241;43m=\u001b[39;49m\u001b[43merrors\u001b[49m\u001b[43m)\u001b[49m\n\u001b[0;32m   4269\u001b[0m \u001b[38;5;28;01mif\u001b[39;00m inplace:\n\u001b[0;32m   4270\u001b[0m     \u001b[38;5;28mself\u001b[39m\u001b[38;5;241m.\u001b[39m_update_inplace(obj)\n",
      "File \u001b[1;32m~\\anaconda3\\lib\\site-packages\\pandas\\core\\generic.py:4311\u001b[0m, in \u001b[0;36mNDFrame._drop_axis\u001b[1;34m(self, labels, axis, level, errors, consolidate, only_slice)\u001b[0m\n\u001b[0;32m   4309\u001b[0m         new_axis \u001b[38;5;241m=\u001b[39m axis\u001b[38;5;241m.\u001b[39mdrop(labels, level\u001b[38;5;241m=\u001b[39mlevel, errors\u001b[38;5;241m=\u001b[39merrors)\n\u001b[0;32m   4310\u001b[0m     \u001b[38;5;28;01melse\u001b[39;00m:\n\u001b[1;32m-> 4311\u001b[0m         new_axis \u001b[38;5;241m=\u001b[39m \u001b[43maxis\u001b[49m\u001b[38;5;241;43m.\u001b[39;49m\u001b[43mdrop\u001b[49m\u001b[43m(\u001b[49m\u001b[43mlabels\u001b[49m\u001b[43m,\u001b[49m\u001b[43m \u001b[49m\u001b[43merrors\u001b[49m\u001b[38;5;241;43m=\u001b[39;49m\u001b[43merrors\u001b[49m\u001b[43m)\u001b[49m\n\u001b[0;32m   4312\u001b[0m     indexer \u001b[38;5;241m=\u001b[39m axis\u001b[38;5;241m.\u001b[39mget_indexer(new_axis)\n\u001b[0;32m   4314\u001b[0m \u001b[38;5;66;03m# Case for non-unique axis\u001b[39;00m\n\u001b[0;32m   4315\u001b[0m \u001b[38;5;28;01melse\u001b[39;00m:\n",
      "File \u001b[1;32m~\\anaconda3\\lib\\site-packages\\pandas\\core\\indexes\\base.py:6644\u001b[0m, in \u001b[0;36mIndex.drop\u001b[1;34m(self, labels, errors)\u001b[0m\n\u001b[0;32m   6642\u001b[0m \u001b[38;5;28;01mif\u001b[39;00m mask\u001b[38;5;241m.\u001b[39many():\n\u001b[0;32m   6643\u001b[0m     \u001b[38;5;28;01mif\u001b[39;00m errors \u001b[38;5;241m!=\u001b[39m \u001b[38;5;124m\"\u001b[39m\u001b[38;5;124mignore\u001b[39m\u001b[38;5;124m\"\u001b[39m:\n\u001b[1;32m-> 6644\u001b[0m         \u001b[38;5;28;01mraise\u001b[39;00m \u001b[38;5;167;01mKeyError\u001b[39;00m(\u001b[38;5;124mf\u001b[39m\u001b[38;5;124m\"\u001b[39m\u001b[38;5;132;01m{\u001b[39;00m\u001b[38;5;28mlist\u001b[39m(labels[mask])\u001b[38;5;132;01m}\u001b[39;00m\u001b[38;5;124m not found in axis\u001b[39m\u001b[38;5;124m\"\u001b[39m)\n\u001b[0;32m   6645\u001b[0m     indexer \u001b[38;5;241m=\u001b[39m indexer[\u001b[38;5;241m~\u001b[39mmask]\n\u001b[0;32m   6646\u001b[0m \u001b[38;5;28;01mreturn\u001b[39;00m \u001b[38;5;28mself\u001b[39m\u001b[38;5;241m.\u001b[39mdelete(indexer)\n",
      "\u001b[1;31mKeyError\u001b[0m: \"['market', 'month', 'year', 'quantity', 'priceMin', 'priceMax', 'state', 'city'] not found in axis\""
     ]
    }
   ],
   "source": [
    "df2=df2.drop(['market', 'month', 'year', 'quantity', 'priceMin', 'priceMax', 'state', 'city'],axis=1)\n"
   ]
  },
  {
   "cell_type": "markdown",
   "id": "f2d63c66",
   "metadata": {},
   "source": [
    "## Q1"
   ]
  },
  {
   "cell_type": "code",
   "execution_count": 126,
   "id": "990f31b2",
   "metadata": {},
   "outputs": [
    {
     "data": {
      "text/html": [
       "<div>\n",
       "<style scoped>\n",
       "    .dataframe tbody tr th:only-of-type {\n",
       "        vertical-align: middle;\n",
       "    }\n",
       "\n",
       "    .dataframe tbody tr th {\n",
       "        vertical-align: top;\n",
       "    }\n",
       "\n",
       "    .dataframe thead th {\n",
       "        text-align: right;\n",
       "    }\n",
       "</style>\n",
       "<table border=\"1\" class=\"dataframe\">\n",
       "  <thead>\n",
       "    <tr style=\"text-align: right;\">\n",
       "      <th></th>\n",
       "      <th>priceMod</th>\n",
       "    </tr>\n",
       "    <tr>\n",
       "      <th>date</th>\n",
       "      <th></th>\n",
       "    </tr>\n",
       "  </thead>\n",
       "  <tbody>\n",
       "    <tr>\n",
       "      <th>2002-01-01</th>\n",
       "      <td>212</td>\n",
       "    </tr>\n",
       "    <tr>\n",
       "      <th>2004-01-01</th>\n",
       "      <td>618</td>\n",
       "    </tr>\n",
       "    <tr>\n",
       "      <th>2005-01-01</th>\n",
       "      <td>266</td>\n",
       "    </tr>\n",
       "    <tr>\n",
       "      <th>2006-01-01</th>\n",
       "      <td>261</td>\n",
       "    </tr>\n",
       "    <tr>\n",
       "      <th>2007-01-01</th>\n",
       "      <td>795</td>\n",
       "    </tr>\n",
       "  </tbody>\n",
       "</table>\n",
       "</div>"
      ],
      "text/plain": [
       "            priceMod\n",
       "date                \n",
       "2002-01-01       212\n",
       "2004-01-01       618\n",
       "2005-01-01       266\n",
       "2006-01-01       261\n",
       "2007-01-01       795"
      ]
     },
     "execution_count": 126,
     "metadata": {},
     "output_type": "execute_result"
    }
   ],
   "source": [
    "df2=df2.set_index(\"date\")\n",
    "df2.head()"
   ]
  },
  {
   "cell_type": "code",
   "execution_count": 8,
   "id": "d9b336cd",
   "metadata": {},
   "outputs": [
    {
     "data": {
      "text/plain": [
       "market      object\n",
       "month       object\n",
       "year         int64\n",
       "quantity     int64\n",
       "priceMin     int64\n",
       "priceMax     int64\n",
       "priceMod     int64\n",
       "state       object\n",
       "city        object\n",
       "date        object\n",
       "dtype: object"
      ]
     },
     "execution_count": 8,
     "metadata": {},
     "output_type": "execute_result"
    }
   ],
   "source": [
    "df.dtypes"
   ]
  },
  {
   "cell_type": "code",
   "execution_count": 9,
   "id": "273ece55",
   "metadata": {},
   "outputs": [],
   "source": [
    "df[\"date\"]=pd.to_datetime(df['date'],format=\"%B-%Y\")"
   ]
  },
  {
   "cell_type": "code",
   "execution_count": 10,
   "id": "c98ae384",
   "metadata": {},
   "outputs": [
    {
     "data": {
      "text/plain": [
       "0       2005-01-01\n",
       "1       2006-01-01\n",
       "2       2010-01-01\n",
       "3       2011-01-01\n",
       "4       2012-01-01\n",
       "           ...    \n",
       "10222   2011-12-01\n",
       "10223   2012-12-01\n",
       "10224   2013-12-01\n",
       "10225   2014-12-01\n",
       "10226   2015-12-01\n",
       "Name: date, Length: 10227, dtype: datetime64[ns]"
      ]
     },
     "execution_count": 10,
     "metadata": {},
     "output_type": "execute_result"
    }
   ],
   "source": [
    "df[\"date\"]"
   ]
  },
  {
   "cell_type": "code",
   "execution_count": 18,
   "id": "a1370e81",
   "metadata": {},
   "outputs": [
    {
     "data": {
      "text/plain": [
       "Timestamp('1996-01-01 00:00:00')"
      ]
     },
     "execution_count": 18,
     "metadata": {},
     "output_type": "execute_result"
    }
   ],
   "source": [
    "df[\"date\"].min()"
   ]
  },
  {
   "cell_type": "code",
   "execution_count": 17,
   "id": "a116fc8f",
   "metadata": {},
   "outputs": [
    {
     "data": {
      "text/plain": [
       "market              object\n",
       "month               object\n",
       "year                 int64\n",
       "quantity             int64\n",
       "priceMin             int64\n",
       "priceMax             int64\n",
       "priceMod             int64\n",
       "state               object\n",
       "city                object\n",
       "date        datetime64[ns]\n",
       "dtype: object"
      ]
     },
     "execution_count": 17,
     "metadata": {},
     "output_type": "execute_result"
    }
   ],
   "source": [
    "df.dtypes"
   ]
  },
  {
   "cell_type": "code",
   "execution_count": 19,
   "id": "dce60f5b",
   "metadata": {},
   "outputs": [
    {
     "data": {
      "text/html": [
       "<div>\n",
       "<style scoped>\n",
       "    .dataframe tbody tr th:only-of-type {\n",
       "        vertical-align: middle;\n",
       "    }\n",
       "\n",
       "    .dataframe tbody tr th {\n",
       "        vertical-align: top;\n",
       "    }\n",
       "\n",
       "    .dataframe thead th {\n",
       "        text-align: right;\n",
       "    }\n",
       "</style>\n",
       "<table border=\"1\" class=\"dataframe\">\n",
       "  <thead>\n",
       "    <tr style=\"text-align: right;\">\n",
       "      <th></th>\n",
       "      <th>market</th>\n",
       "      <th>month</th>\n",
       "      <th>year</th>\n",
       "      <th>quantity</th>\n",
       "      <th>priceMin</th>\n",
       "      <th>priceMax</th>\n",
       "      <th>priceMod</th>\n",
       "      <th>state</th>\n",
       "      <th>city</th>\n",
       "      <th>date</th>\n",
       "    </tr>\n",
       "  </thead>\n",
       "  <tbody>\n",
       "    <tr>\n",
       "      <th>5399</th>\n",
       "      <td>LASALGAON(MS)</td>\n",
       "      <td>January</td>\n",
       "      <td>1996</td>\n",
       "      <td>225063</td>\n",
       "      <td>160</td>\n",
       "      <td>257</td>\n",
       "      <td>226</td>\n",
       "      <td>MS</td>\n",
       "      <td>LASALGAON</td>\n",
       "      <td>1996-01-01</td>\n",
       "    </tr>\n",
       "    <tr>\n",
       "      <th>5420</th>\n",
       "      <td>LASALGAON(MS)</td>\n",
       "      <td>February</td>\n",
       "      <td>1996</td>\n",
       "      <td>196164</td>\n",
       "      <td>133</td>\n",
       "      <td>229</td>\n",
       "      <td>186</td>\n",
       "      <td>MS</td>\n",
       "      <td>LASALGAON</td>\n",
       "      <td>1996-02-01</td>\n",
       "    </tr>\n",
       "    <tr>\n",
       "      <th>5441</th>\n",
       "      <td>LASALGAON(MS)</td>\n",
       "      <td>March</td>\n",
       "      <td>1996</td>\n",
       "      <td>178992</td>\n",
       "      <td>155</td>\n",
       "      <td>274</td>\n",
       "      <td>243</td>\n",
       "      <td>MS</td>\n",
       "      <td>LASALGAON</td>\n",
       "      <td>1996-03-01</td>\n",
       "    </tr>\n",
       "    <tr>\n",
       "      <th>5461</th>\n",
       "      <td>LASALGAON(MS)</td>\n",
       "      <td>April</td>\n",
       "      <td>1996</td>\n",
       "      <td>192592</td>\n",
       "      <td>136</td>\n",
       "      <td>279</td>\n",
       "      <td>254</td>\n",
       "      <td>MS</td>\n",
       "      <td>LASALGAON</td>\n",
       "      <td>1996-04-01</td>\n",
       "    </tr>\n",
       "    <tr>\n",
       "      <th>5481</th>\n",
       "      <td>LASALGAON(MS)</td>\n",
       "      <td>May</td>\n",
       "      <td>1996</td>\n",
       "      <td>237574</td>\n",
       "      <td>154</td>\n",
       "      <td>312</td>\n",
       "      <td>269</td>\n",
       "      <td>MS</td>\n",
       "      <td>LASALGAON</td>\n",
       "      <td>1996-05-01</td>\n",
       "    </tr>\n",
       "    <tr>\n",
       "      <th>...</th>\n",
       "      <td>...</td>\n",
       "      <td>...</td>\n",
       "      <td>...</td>\n",
       "      <td>...</td>\n",
       "      <td>...</td>\n",
       "      <td>...</td>\n",
       "      <td>...</td>\n",
       "      <td>...</td>\n",
       "      <td>...</td>\n",
       "      <td>...</td>\n",
       "    </tr>\n",
       "    <tr>\n",
       "      <th>8226</th>\n",
       "      <td>RAIPUR(CHGARH)</td>\n",
       "      <td>February</td>\n",
       "      <td>2016</td>\n",
       "      <td>4300</td>\n",
       "      <td>950</td>\n",
       "      <td>1142</td>\n",
       "      <td>1077</td>\n",
       "      <td>HR</td>\n",
       "      <td>RAIPUR</td>\n",
       "      <td>2016-02-01</td>\n",
       "    </tr>\n",
       "    <tr>\n",
       "      <th>3644</th>\n",
       "      <td>INDORE(MP)</td>\n",
       "      <td>February</td>\n",
       "      <td>2016</td>\n",
       "      <td>97178</td>\n",
       "      <td>104</td>\n",
       "      <td>856</td>\n",
       "      <td>575</td>\n",
       "      <td>MP</td>\n",
       "      <td>INDORE</td>\n",
       "      <td>2016-02-01</td>\n",
       "    </tr>\n",
       "    <tr>\n",
       "      <th>10106</th>\n",
       "      <td>YEOLA(MS)</td>\n",
       "      <td>February</td>\n",
       "      <td>2016</td>\n",
       "      <td>272527</td>\n",
       "      <td>347</td>\n",
       "      <td>984</td>\n",
       "      <td>730</td>\n",
       "      <td>MS</td>\n",
       "      <td>YEOLA</td>\n",
       "      <td>2016-02-01</td>\n",
       "    </tr>\n",
       "    <tr>\n",
       "      <th>8962</th>\n",
       "      <td>SATANA(MS)</td>\n",
       "      <td>February</td>\n",
       "      <td>2016</td>\n",
       "      <td>90142</td>\n",
       "      <td>281</td>\n",
       "      <td>1130</td>\n",
       "      <td>806</td>\n",
       "      <td>MS</td>\n",
       "      <td>SATANA</td>\n",
       "      <td>2016-02-01</td>\n",
       "    </tr>\n",
       "    <tr>\n",
       "      <th>5096</th>\n",
       "      <td>KOLKATA</td>\n",
       "      <td>February</td>\n",
       "      <td>2016</td>\n",
       "      <td>168020</td>\n",
       "      <td>1246</td>\n",
       "      <td>1368</td>\n",
       "      <td>1309</td>\n",
       "      <td>WB</td>\n",
       "      <td>KOLKATA</td>\n",
       "      <td>2016-02-01</td>\n",
       "    </tr>\n",
       "  </tbody>\n",
       "</table>\n",
       "<p>10227 rows × 10 columns</p>\n",
       "</div>"
      ],
      "text/plain": [
       "               market     month  year  quantity  priceMin  priceMax  priceMod  \\\n",
       "5399    LASALGAON(MS)   January  1996    225063       160       257       226   \n",
       "5420    LASALGAON(MS)  February  1996    196164       133       229       186   \n",
       "5441    LASALGAON(MS)     March  1996    178992       155       274       243   \n",
       "5461    LASALGAON(MS)     April  1996    192592       136       279       254   \n",
       "5481    LASALGAON(MS)       May  1996    237574       154       312       269   \n",
       "...               ...       ...   ...       ...       ...       ...       ...   \n",
       "8226   RAIPUR(CHGARH)  February  2016      4300       950      1142      1077   \n",
       "3644       INDORE(MP)  February  2016     97178       104       856       575   \n",
       "10106       YEOLA(MS)  February  2016    272527       347       984       730   \n",
       "8962       SATANA(MS)  February  2016     90142       281      1130       806   \n",
       "5096          KOLKATA  February  2016    168020      1246      1368      1309   \n",
       "\n",
       "      state       city       date  \n",
       "5399     MS  LASALGAON 1996-01-01  \n",
       "5420     MS  LASALGAON 1996-02-01  \n",
       "5441     MS  LASALGAON 1996-03-01  \n",
       "5461     MS  LASALGAON 1996-04-01  \n",
       "5481     MS  LASALGAON 1996-05-01  \n",
       "...     ...        ...        ...  \n",
       "8226     HR     RAIPUR 2016-02-01  \n",
       "3644     MP     INDORE 2016-02-01  \n",
       "10106    MS      YEOLA 2016-02-01  \n",
       "8962     MS     SATANA 2016-02-01  \n",
       "5096     WB    KOLKATA 2016-02-01  \n",
       "\n",
       "[10227 rows x 10 columns]"
      ]
     },
     "execution_count": 19,
     "metadata": {},
     "output_type": "execute_result"
    }
   ],
   "source": [
    "df.sort_values(by=\"date\")"
   ]
  },
  {
   "cell_type": "code",
   "execution_count": 159,
   "id": "0ebadbce",
   "metadata": {},
   "outputs": [
    {
     "name": "stdout",
     "output_type": "stream",
     "text": [
      "(242,)\n"
     ]
    }
   ],
   "source": [
    "d1 = pd.date_range(start=\"1996-01-01\",end=\"2016-02-01\", freq='MS') # Y = Year Start \n",
    "print(d1.shape)"
   ]
  },
  {
   "cell_type": "code",
   "execution_count": 21,
   "id": "883964d7",
   "metadata": {},
   "outputs": [
    {
     "name": "stdout",
     "output_type": "stream",
     "text": [
      "242\n",
      "0\n"
     ]
    }
   ],
   "source": [
    "print(len(set(d1).intersection(set(df['date']))))\n",
    "print(len(set(d1).difference(set(df['date']))))"
   ]
  },
  {
   "cell_type": "code",
   "execution_count": 30,
   "id": "2b3ff639",
   "metadata": {},
   "outputs": [],
   "source": [
    "#now there is no null values in date and date are in asc order and sequence\n",
    "\n",
    "\n",
    "\n"
   ]
  },
  {
   "cell_type": "code",
   "execution_count": 31,
   "id": "005e5c93",
   "metadata": {},
   "outputs": [
    {
     "data": {
      "text/html": [
       "<div>\n",
       "<style scoped>\n",
       "    .dataframe tbody tr th:only-of-type {\n",
       "        vertical-align: middle;\n",
       "    }\n",
       "\n",
       "    .dataframe tbody tr th {\n",
       "        vertical-align: top;\n",
       "    }\n",
       "\n",
       "    .dataframe thead tr th {\n",
       "        text-align: left;\n",
       "    }\n",
       "\n",
       "    .dataframe thead tr:last-of-type th {\n",
       "        text-align: right;\n",
       "    }\n",
       "</style>\n",
       "<table border=\"1\" class=\"dataframe\">\n",
       "  <thead>\n",
       "    <tr>\n",
       "      <th></th>\n",
       "      <th colspan=\"21\" halign=\"left\">priceMod</th>\n",
       "    </tr>\n",
       "    <tr>\n",
       "      <th>year</th>\n",
       "      <th>1996</th>\n",
       "      <th>1997</th>\n",
       "      <th>1998</th>\n",
       "      <th>1999</th>\n",
       "      <th>2000</th>\n",
       "      <th>2001</th>\n",
       "      <th>2002</th>\n",
       "      <th>2003</th>\n",
       "      <th>2004</th>\n",
       "      <th>2005</th>\n",
       "      <th>...</th>\n",
       "      <th>2007</th>\n",
       "      <th>2008</th>\n",
       "      <th>2009</th>\n",
       "      <th>2010</th>\n",
       "      <th>2011</th>\n",
       "      <th>2012</th>\n",
       "      <th>2013</th>\n",
       "      <th>2014</th>\n",
       "      <th>2015</th>\n",
       "      <th>2016</th>\n",
       "    </tr>\n",
       "    <tr>\n",
       "      <th>month</th>\n",
       "      <th></th>\n",
       "      <th></th>\n",
       "      <th></th>\n",
       "      <th></th>\n",
       "      <th></th>\n",
       "      <th></th>\n",
       "      <th></th>\n",
       "      <th></th>\n",
       "      <th></th>\n",
       "      <th></th>\n",
       "      <th></th>\n",
       "      <th></th>\n",
       "      <th></th>\n",
       "      <th></th>\n",
       "      <th></th>\n",
       "      <th></th>\n",
       "      <th></th>\n",
       "      <th></th>\n",
       "      <th></th>\n",
       "      <th></th>\n",
       "      <th></th>\n",
       "    </tr>\n",
       "  </thead>\n",
       "  <tbody>\n",
       "    <tr>\n",
       "      <th>April</th>\n",
       "      <td>254.0</td>\n",
       "      <td>214.00</td>\n",
       "      <td>243.300000</td>\n",
       "      <td>341.272727</td>\n",
       "      <td>202.636364</td>\n",
       "      <td>247.600000</td>\n",
       "      <td>205.181818</td>\n",
       "      <td>323.565217</td>\n",
       "      <td>351.318182</td>\n",
       "      <td>311.576923</td>\n",
       "      <td>...</td>\n",
       "      <td>540.000000</td>\n",
       "      <td>358.316667</td>\n",
       "      <td>583.290323</td>\n",
       "      <td>589.884058</td>\n",
       "      <td>533.725806</td>\n",
       "      <td>500.650000</td>\n",
       "      <td>963.150000</td>\n",
       "      <td>861.576271</td>\n",
       "      <td>1167.630952</td>\n",
       "      <td>NaN</td>\n",
       "    </tr>\n",
       "    <tr>\n",
       "      <th>August</th>\n",
       "      <td>340.0</td>\n",
       "      <td>195.00</td>\n",
       "      <td>1287.555556</td>\n",
       "      <td>397.000000</td>\n",
       "      <td>254.600000</td>\n",
       "      <td>498.300000</td>\n",
       "      <td>450.000000</td>\n",
       "      <td>478.400000</td>\n",
       "      <td>427.522727</td>\n",
       "      <td>571.622951</td>\n",
       "      <td>...</td>\n",
       "      <td>1101.952381</td>\n",
       "      <td>778.620000</td>\n",
       "      <td>717.879310</td>\n",
       "      <td>841.621212</td>\n",
       "      <td>1036.200000</td>\n",
       "      <td>727.633333</td>\n",
       "      <td>3368.327869</td>\n",
       "      <td>1638.500000</td>\n",
       "      <td>3627.806818</td>\n",
       "      <td>NaN</td>\n",
       "    </tr>\n",
       "    <tr>\n",
       "      <th>December</th>\n",
       "      <td>385.0</td>\n",
       "      <td>688.75</td>\n",
       "      <td>1044.250000</td>\n",
       "      <td>296.636364</td>\n",
       "      <td>498.300000</td>\n",
       "      <td>403.307692</td>\n",
       "      <td>314.789474</td>\n",
       "      <td>615.814815</td>\n",
       "      <td>394.704545</td>\n",
       "      <td>667.450000</td>\n",
       "      <td>...</td>\n",
       "      <td>578.450000</td>\n",
       "      <td>1064.418182</td>\n",
       "      <td>1411.971014</td>\n",
       "      <td>2403.606061</td>\n",
       "      <td>662.698413</td>\n",
       "      <td>1246.377049</td>\n",
       "      <td>1636.888889</td>\n",
       "      <td>1537.458824</td>\n",
       "      <td>1427.516129</td>\n",
       "      <td>NaN</td>\n",
       "    </tr>\n",
       "    <tr>\n",
       "      <th>February</th>\n",
       "      <td>186.0</td>\n",
       "      <td>271.00</td>\n",
       "      <td>822.000000</td>\n",
       "      <td>283.090909</td>\n",
       "      <td>215.636364</td>\n",
       "      <td>333.500000</td>\n",
       "      <td>237.142857</td>\n",
       "      <td>192.695652</td>\n",
       "      <td>718.523810</td>\n",
       "      <td>344.707692</td>\n",
       "      <td>...</td>\n",
       "      <td>1000.920635</td>\n",
       "      <td>336.866667</td>\n",
       "      <td>1077.274194</td>\n",
       "      <td>1105.985294</td>\n",
       "      <td>1023.078125</td>\n",
       "      <td>448.288136</td>\n",
       "      <td>1436.793651</td>\n",
       "      <td>800.540984</td>\n",
       "      <td>1482.588889</td>\n",
       "      <td>926.345679</td>\n",
       "    </tr>\n",
       "    <tr>\n",
       "      <th>January</th>\n",
       "      <td>226.0</td>\n",
       "      <td>290.00</td>\n",
       "      <td>1049.571429</td>\n",
       "      <td>491.777778</td>\n",
       "      <td>226.727273</td>\n",
       "      <td>478.100000</td>\n",
       "      <td>281.391304</td>\n",
       "      <td>231.681818</td>\n",
       "      <td>775.200000</td>\n",
       "      <td>386.555556</td>\n",
       "      <td>...</td>\n",
       "      <td>879.123077</td>\n",
       "      <td>389.370968</td>\n",
       "      <td>1231.250000</td>\n",
       "      <td>1316.782609</td>\n",
       "      <td>2565.171875</td>\n",
       "      <td>481.322581</td>\n",
       "      <td>1375.836066</td>\n",
       "      <td>1071.032787</td>\n",
       "      <td>1325.451220</td>\n",
       "      <td>1186.457831</td>\n",
       "    </tr>\n",
       "    <tr>\n",
       "      <th>July</th>\n",
       "      <td>368.0</td>\n",
       "      <td>148.20</td>\n",
       "      <td>829.111111</td>\n",
       "      <td>425.100000</td>\n",
       "      <td>203.300000</td>\n",
       "      <td>333.700000</td>\n",
       "      <td>356.045455</td>\n",
       "      <td>461.458333</td>\n",
       "      <td>384.744186</td>\n",
       "      <td>388.966102</td>\n",
       "      <td>...</td>\n",
       "      <td>834.301587</td>\n",
       "      <td>607.385965</td>\n",
       "      <td>690.898305</td>\n",
       "      <td>705.716418</td>\n",
       "      <td>795.225806</td>\n",
       "      <td>634.622951</td>\n",
       "      <td>1978.625000</td>\n",
       "      <td>1871.254237</td>\n",
       "      <td>1981.823529</td>\n",
       "      <td>NaN</td>\n",
       "    </tr>\n",
       "    <tr>\n",
       "      <th>June</th>\n",
       "      <td>367.0</td>\n",
       "      <td>195.00</td>\n",
       "      <td>566.555556</td>\n",
       "      <td>417.500000</td>\n",
       "      <td>187.800000</td>\n",
       "      <td>284.900000</td>\n",
       "      <td>299.136364</td>\n",
       "      <td>431.440000</td>\n",
       "      <td>372.333333</td>\n",
       "      <td>334.338983</td>\n",
       "      <td>...</td>\n",
       "      <td>734.766667</td>\n",
       "      <td>391.964286</td>\n",
       "      <td>665.225806</td>\n",
       "      <td>626.608696</td>\n",
       "      <td>641.950820</td>\n",
       "      <td>529.120690</td>\n",
       "      <td>1335.730159</td>\n",
       "      <td>1261.290323</td>\n",
       "      <td>1565.741176</td>\n",
       "      <td>NaN</td>\n",
       "    </tr>\n",
       "    <tr>\n",
       "      <th>March</th>\n",
       "      <td>243.0</td>\n",
       "      <td>273.00</td>\n",
       "      <td>399.333333</td>\n",
       "      <td>246.727273</td>\n",
       "      <td>208.363636</td>\n",
       "      <td>303.500000</td>\n",
       "      <td>208.400000</td>\n",
       "      <td>245.000000</td>\n",
       "      <td>460.000000</td>\n",
       "      <td>300.927273</td>\n",
       "      <td>...</td>\n",
       "      <td>707.030769</td>\n",
       "      <td>372.103448</td>\n",
       "      <td>805.790323</td>\n",
       "      <td>715.313433</td>\n",
       "      <td>564.803279</td>\n",
       "      <td>469.070175</td>\n",
       "      <td>1058.034483</td>\n",
       "      <td>856.633333</td>\n",
       "      <td>1325.000000</td>\n",
       "      <td>NaN</td>\n",
       "    </tr>\n",
       "    <tr>\n",
       "      <th>May</th>\n",
       "      <td>269.0</td>\n",
       "      <td>213.00</td>\n",
       "      <td>297.000000</td>\n",
       "      <td>451.454545</td>\n",
       "      <td>198.900000</td>\n",
       "      <td>216.700000</td>\n",
       "      <td>208.285714</td>\n",
       "      <td>344.833333</td>\n",
       "      <td>337.363636</td>\n",
       "      <td>313.262295</td>\n",
       "      <td>...</td>\n",
       "      <td>530.229508</td>\n",
       "      <td>324.166667</td>\n",
       "      <td>536.548387</td>\n",
       "      <td>547.800000</td>\n",
       "      <td>532.209677</td>\n",
       "      <td>468.915254</td>\n",
       "      <td>910.150000</td>\n",
       "      <td>967.813559</td>\n",
       "      <td>1286.885057</td>\n",
       "      <td>NaN</td>\n",
       "    </tr>\n",
       "    <tr>\n",
       "      <th>November</th>\n",
       "      <td>376.0</td>\n",
       "      <td>617.40</td>\n",
       "      <td>1436.625000</td>\n",
       "      <td>434.900000</td>\n",
       "      <td>559.600000</td>\n",
       "      <td>699.363636</td>\n",
       "      <td>463.700000</td>\n",
       "      <td>544.840000</td>\n",
       "      <td>441.244444</td>\n",
       "      <td>1049.206897</td>\n",
       "      <td>...</td>\n",
       "      <td>846.155172</td>\n",
       "      <td>962.824561</td>\n",
       "      <td>1446.911765</td>\n",
       "      <td>1803.746479</td>\n",
       "      <td>879.706897</td>\n",
       "      <td>1124.516667</td>\n",
       "      <td>3007.065574</td>\n",
       "      <td>1481.300000</td>\n",
       "      <td>2101.056180</td>\n",
       "      <td>NaN</td>\n",
       "    </tr>\n",
       "    <tr>\n",
       "      <th>October</th>\n",
       "      <td>492.0</td>\n",
       "      <td>322.00</td>\n",
       "      <td>2116.900000</td>\n",
       "      <td>556.200000</td>\n",
       "      <td>415.700000</td>\n",
       "      <td>511.272727</td>\n",
       "      <td>558.409091</td>\n",
       "      <td>695.791667</td>\n",
       "      <td>493.622222</td>\n",
       "      <td>1060.166667</td>\n",
       "      <td>...</td>\n",
       "      <td>1298.464286</td>\n",
       "      <td>675.072727</td>\n",
       "      <td>1350.915493</td>\n",
       "      <td>1400.234375</td>\n",
       "      <td>967.196429</td>\n",
       "      <td>902.067797</td>\n",
       "      <td>3758.269841</td>\n",
       "      <td>1519.046875</td>\n",
       "      <td>2838.788889</td>\n",
       "      <td>NaN</td>\n",
       "    </tr>\n",
       "    <tr>\n",
       "      <th>September</th>\n",
       "      <td>317.0</td>\n",
       "      <td>240.60</td>\n",
       "      <td>1723.666667</td>\n",
       "      <td>606.600000</td>\n",
       "      <td>297.100000</td>\n",
       "      <td>465.363636</td>\n",
       "      <td>463.545455</td>\n",
       "      <td>517.692308</td>\n",
       "      <td>424.204545</td>\n",
       "      <td>861.619048</td>\n",
       "      <td>...</td>\n",
       "      <td>1308.166667</td>\n",
       "      <td>684.254545</td>\n",
       "      <td>740.723077</td>\n",
       "      <td>1227.059701</td>\n",
       "      <td>1081.266667</td>\n",
       "      <td>646.838710</td>\n",
       "      <td>3989.190476</td>\n",
       "      <td>1518.753846</td>\n",
       "      <td>3900.185567</td>\n",
       "      <td>NaN</td>\n",
       "    </tr>\n",
       "  </tbody>\n",
       "</table>\n",
       "<p>12 rows × 21 columns</p>\n",
       "</div>"
      ],
      "text/plain": [
       "          priceMod                                                           \\\n",
       "year          1996    1997         1998        1999        2000        2001   \n",
       "month                                                                         \n",
       "April        254.0  214.00   243.300000  341.272727  202.636364  247.600000   \n",
       "August       340.0  195.00  1287.555556  397.000000  254.600000  498.300000   \n",
       "December     385.0  688.75  1044.250000  296.636364  498.300000  403.307692   \n",
       "February     186.0  271.00   822.000000  283.090909  215.636364  333.500000   \n",
       "January      226.0  290.00  1049.571429  491.777778  226.727273  478.100000   \n",
       "July         368.0  148.20   829.111111  425.100000  203.300000  333.700000   \n",
       "June         367.0  195.00   566.555556  417.500000  187.800000  284.900000   \n",
       "March        243.0  273.00   399.333333  246.727273  208.363636  303.500000   \n",
       "May          269.0  213.00   297.000000  451.454545  198.900000  216.700000   \n",
       "November     376.0  617.40  1436.625000  434.900000  559.600000  699.363636   \n",
       "October      492.0  322.00  2116.900000  556.200000  415.700000  511.272727   \n",
       "September    317.0  240.60  1723.666667  606.600000  297.100000  465.363636   \n",
       "\n",
       "                                                            ...               \\\n",
       "year             2002        2003        2004         2005  ...         2007   \n",
       "month                                                       ...                \n",
       "April      205.181818  323.565217  351.318182   311.576923  ...   540.000000   \n",
       "August     450.000000  478.400000  427.522727   571.622951  ...  1101.952381   \n",
       "December   314.789474  615.814815  394.704545   667.450000  ...   578.450000   \n",
       "February   237.142857  192.695652  718.523810   344.707692  ...  1000.920635   \n",
       "January    281.391304  231.681818  775.200000   386.555556  ...   879.123077   \n",
       "July       356.045455  461.458333  384.744186   388.966102  ...   834.301587   \n",
       "June       299.136364  431.440000  372.333333   334.338983  ...   734.766667   \n",
       "March      208.400000  245.000000  460.000000   300.927273  ...   707.030769   \n",
       "May        208.285714  344.833333  337.363636   313.262295  ...   530.229508   \n",
       "November   463.700000  544.840000  441.244444  1049.206897  ...   846.155172   \n",
       "October    558.409091  695.791667  493.622222  1060.166667  ...  1298.464286   \n",
       "September  463.545455  517.692308  424.204545   861.619048  ...  1308.166667   \n",
       "\n",
       "                                                                            \\\n",
       "year              2008         2009         2010         2011         2012   \n",
       "month                                                                        \n",
       "April       358.316667   583.290323   589.884058   533.725806   500.650000   \n",
       "August      778.620000   717.879310   841.621212  1036.200000   727.633333   \n",
       "December   1064.418182  1411.971014  2403.606061   662.698413  1246.377049   \n",
       "February    336.866667  1077.274194  1105.985294  1023.078125   448.288136   \n",
       "January     389.370968  1231.250000  1316.782609  2565.171875   481.322581   \n",
       "July        607.385965   690.898305   705.716418   795.225806   634.622951   \n",
       "June        391.964286   665.225806   626.608696   641.950820   529.120690   \n",
       "March       372.103448   805.790323   715.313433   564.803279   469.070175   \n",
       "May         324.166667   536.548387   547.800000   532.209677   468.915254   \n",
       "November    962.824561  1446.911765  1803.746479   879.706897  1124.516667   \n",
       "October     675.072727  1350.915493  1400.234375   967.196429   902.067797   \n",
       "September   684.254545   740.723077  1227.059701  1081.266667   646.838710   \n",
       "\n",
       "                                                               \n",
       "year              2013         2014         2015         2016  \n",
       "month                                                          \n",
       "April       963.150000   861.576271  1167.630952          NaN  \n",
       "August     3368.327869  1638.500000  3627.806818          NaN  \n",
       "December   1636.888889  1537.458824  1427.516129          NaN  \n",
       "February   1436.793651   800.540984  1482.588889   926.345679  \n",
       "January    1375.836066  1071.032787  1325.451220  1186.457831  \n",
       "July       1978.625000  1871.254237  1981.823529          NaN  \n",
       "June       1335.730159  1261.290323  1565.741176          NaN  \n",
       "March      1058.034483   856.633333  1325.000000          NaN  \n",
       "May         910.150000   967.813559  1286.885057          NaN  \n",
       "November   3007.065574  1481.300000  2101.056180          NaN  \n",
       "October    3758.269841  1519.046875  2838.788889          NaN  \n",
       "September  3989.190476  1518.753846  3900.185567          NaN  \n",
       "\n",
       "[12 rows x 21 columns]"
      ]
     },
     "execution_count": 31,
     "metadata": {},
     "output_type": "execute_result"
    }
   ],
   "source": [
    "pt1 = pd.pivot_table(data=df,columns=['year'],index=['month'],values=['priceMod'])\n",
    "pt1"
   ]
  },
  {
   "cell_type": "code",
   "execution_count": 33,
   "id": "953a0ead",
   "metadata": {},
   "outputs": [
    {
     "data": {
      "text/html": [
       "<div>\n",
       "<style scoped>\n",
       "    .dataframe tbody tr th:only-of-type {\n",
       "        vertical-align: middle;\n",
       "    }\n",
       "\n",
       "    .dataframe tbody tr th {\n",
       "        vertical-align: top;\n",
       "    }\n",
       "\n",
       "    .dataframe thead tr th {\n",
       "        text-align: left;\n",
       "    }\n",
       "\n",
       "    .dataframe thead tr:last-of-type th {\n",
       "        text-align: right;\n",
       "    }\n",
       "</style>\n",
       "<table border=\"1\" class=\"dataframe\">\n",
       "  <thead>\n",
       "    <tr>\n",
       "      <th></th>\n",
       "      <th colspan=\"4\" halign=\"left\">priceMod</th>\n",
       "    </tr>\n",
       "    <tr>\n",
       "      <th>year</th>\n",
       "      <th>2012</th>\n",
       "      <th>2013</th>\n",
       "      <th>2014</th>\n",
       "      <th>2015</th>\n",
       "    </tr>\n",
       "    <tr>\n",
       "      <th>month</th>\n",
       "      <th></th>\n",
       "      <th></th>\n",
       "      <th></th>\n",
       "      <th></th>\n",
       "    </tr>\n",
       "  </thead>\n",
       "  <tbody>\n",
       "    <tr>\n",
       "      <th>April</th>\n",
       "      <td>500.650000</td>\n",
       "      <td>963.150000</td>\n",
       "      <td>861.576271</td>\n",
       "      <td>1167.630952</td>\n",
       "    </tr>\n",
       "    <tr>\n",
       "      <th>August</th>\n",
       "      <td>727.633333</td>\n",
       "      <td>3368.327869</td>\n",
       "      <td>1638.500000</td>\n",
       "      <td>3627.806818</td>\n",
       "    </tr>\n",
       "    <tr>\n",
       "      <th>December</th>\n",
       "      <td>1246.377049</td>\n",
       "      <td>1636.888889</td>\n",
       "      <td>1537.458824</td>\n",
       "      <td>1427.516129</td>\n",
       "    </tr>\n",
       "    <tr>\n",
       "      <th>February</th>\n",
       "      <td>448.288136</td>\n",
       "      <td>1436.793651</td>\n",
       "      <td>800.540984</td>\n",
       "      <td>1482.588889</td>\n",
       "    </tr>\n",
       "    <tr>\n",
       "      <th>January</th>\n",
       "      <td>481.322581</td>\n",
       "      <td>1375.836066</td>\n",
       "      <td>1071.032787</td>\n",
       "      <td>1325.451220</td>\n",
       "    </tr>\n",
       "    <tr>\n",
       "      <th>July</th>\n",
       "      <td>634.622951</td>\n",
       "      <td>1978.625000</td>\n",
       "      <td>1871.254237</td>\n",
       "      <td>1981.823529</td>\n",
       "    </tr>\n",
       "    <tr>\n",
       "      <th>June</th>\n",
       "      <td>529.120690</td>\n",
       "      <td>1335.730159</td>\n",
       "      <td>1261.290323</td>\n",
       "      <td>1565.741176</td>\n",
       "    </tr>\n",
       "    <tr>\n",
       "      <th>March</th>\n",
       "      <td>469.070175</td>\n",
       "      <td>1058.034483</td>\n",
       "      <td>856.633333</td>\n",
       "      <td>1325.000000</td>\n",
       "    </tr>\n",
       "    <tr>\n",
       "      <th>May</th>\n",
       "      <td>468.915254</td>\n",
       "      <td>910.150000</td>\n",
       "      <td>967.813559</td>\n",
       "      <td>1286.885057</td>\n",
       "    </tr>\n",
       "    <tr>\n",
       "      <th>November</th>\n",
       "      <td>1124.516667</td>\n",
       "      <td>3007.065574</td>\n",
       "      <td>1481.300000</td>\n",
       "      <td>2101.056180</td>\n",
       "    </tr>\n",
       "    <tr>\n",
       "      <th>October</th>\n",
       "      <td>902.067797</td>\n",
       "      <td>3758.269841</td>\n",
       "      <td>1519.046875</td>\n",
       "      <td>2838.788889</td>\n",
       "    </tr>\n",
       "    <tr>\n",
       "      <th>September</th>\n",
       "      <td>646.838710</td>\n",
       "      <td>3989.190476</td>\n",
       "      <td>1518.753846</td>\n",
       "      <td>3900.185567</td>\n",
       "    </tr>\n",
       "  </tbody>\n",
       "</table>\n",
       "</div>"
      ],
      "text/plain": [
       "              priceMod                                       \n",
       "year              2012         2013         2014         2015\n",
       "month                                                        \n",
       "April       500.650000   963.150000   861.576271  1167.630952\n",
       "August      727.633333  3368.327869  1638.500000  3627.806818\n",
       "December   1246.377049  1636.888889  1537.458824  1427.516129\n",
       "February    448.288136  1436.793651   800.540984  1482.588889\n",
       "January     481.322581  1375.836066  1071.032787  1325.451220\n",
       "July        634.622951  1978.625000  1871.254237  1981.823529\n",
       "June        529.120690  1335.730159  1261.290323  1565.741176\n",
       "March       469.070175  1058.034483   856.633333  1325.000000\n",
       "May         468.915254   910.150000   967.813559  1286.885057\n",
       "November   1124.516667  3007.065574  1481.300000  2101.056180\n",
       "October     902.067797  3758.269841  1519.046875  2838.788889\n",
       "September   646.838710  3989.190476  1518.753846  3900.185567"
      ]
     },
     "execution_count": 33,
     "metadata": {},
     "output_type": "execute_result"
    }
   ],
   "source": [
    "plot_data = pt1.iloc[:,16:20]\n",
    "plot_data"
   ]
  },
  {
   "cell_type": "code",
   "execution_count": 34,
   "id": "eead99e7",
   "metadata": {},
   "outputs": [
    {
     "data": {
      "text/plain": [
       "[2012, 2013, 2014, 2015]"
      ]
     },
     "execution_count": 34,
     "metadata": {},
     "output_type": "execute_result"
    }
   ],
   "source": [
    "cols = [i[1] for i in plot_data.columns]\n",
    "cols"
   ]
  },
  {
   "cell_type": "code",
   "execution_count": 39,
   "id": "f2593b6f",
   "metadata": {},
   "outputs": [
    {
     "data": {
      "image/png": "[encoded data removed]",
      "text/plain": [
       "<Figure size 720x864 with 1 Axes>"
      ]
     },
     "metadata": {
      "needs_background": "light"
     },
     "output_type": "display_data"
    }
   ],
   "source": [
    "plt.figure(figsize=(10,12))\n",
    "plt.plot(plot_data,label=cols,marker='o')\n",
    "plt.legend()\n",
    "\n",
    "plt.show()"
   ]
  },
  {
   "cell_type": "code",
   "execution_count": 187,
   "id": "c27ff440",
   "metadata": {},
   "outputs": [],
   "source": [
    "d3=df.copy()"
   ]
  },
  {
   "cell_type": "code",
   "execution_count": 188,
   "id": "a157955c",
   "metadata": {},
   "outputs": [
    {
     "ename": "KeyError",
     "evalue": "\"None of ['date'] are in the columns\"",
     "output_type": "error",
     "traceback": [
      "\u001b[1;31m---------------------------------------------------------------------------\u001b[0m",
      "\u001b[1;31mKeyError\u001b[0m                                  Traceback (most recent call last)",
      "Input \u001b[1;32mIn [188]\u001b[0m, in \u001b[0;36m<cell line: 3>\u001b[1;34m()\u001b[0m\n\u001b[0;32m      1\u001b[0m d3\u001b[38;5;241m=\u001b[39md3\u001b[38;5;241m.\u001b[39mdrop([\u001b[38;5;124m'\u001b[39m\u001b[38;5;124mmarket\u001b[39m\u001b[38;5;124m'\u001b[39m, \u001b[38;5;124m'\u001b[39m\u001b[38;5;124mmonth\u001b[39m\u001b[38;5;124m'\u001b[39m, \u001b[38;5;124m'\u001b[39m\u001b[38;5;124myear\u001b[39m\u001b[38;5;124m'\u001b[39m, \u001b[38;5;124m'\u001b[39m\u001b[38;5;124mquantity\u001b[39m\u001b[38;5;124m'\u001b[39m, \u001b[38;5;124m'\u001b[39m\u001b[38;5;124mpriceMin\u001b[39m\u001b[38;5;124m'\u001b[39m, \u001b[38;5;124m'\u001b[39m\u001b[38;5;124mpriceMax\u001b[39m\u001b[38;5;124m'\u001b[39m, \u001b[38;5;124m'\u001b[39m\u001b[38;5;124mstate\u001b[39m\u001b[38;5;124m'\u001b[39m, \u001b[38;5;124m'\u001b[39m\u001b[38;5;124mcity\u001b[39m\u001b[38;5;124m'\u001b[39m],axis\u001b[38;5;241m=\u001b[39m\u001b[38;5;241m1\u001b[39m)\n\u001b[0;32m      2\u001b[0m d3\u001b[38;5;241m=\u001b[39md3\u001b[38;5;241m.\u001b[39mgroupby(\u001b[38;5;124m\"\u001b[39m\u001b[38;5;124mdate\u001b[39m\u001b[38;5;124m\"\u001b[39m)[[\u001b[38;5;124m\"\u001b[39m\u001b[38;5;124mpriceMod\u001b[39m\u001b[38;5;124m\"\u001b[39m]]\u001b[38;5;241m.\u001b[39mmean()\n\u001b[1;32m----> 3\u001b[0m d3\u001b[38;5;241m=\u001b[39m\u001b[43md3\u001b[49m\u001b[38;5;241;43m.\u001b[39;49m\u001b[43mset_index\u001b[49m\u001b[43m(\u001b[49m\u001b[38;5;124;43m\"\u001b[39;49m\u001b[38;5;124;43mdate\u001b[39;49m\u001b[38;5;124;43m\"\u001b[39;49m\u001b[43m)\u001b[49m\n\u001b[0;32m      4\u001b[0m \u001b[38;5;28mprint\u001b[39m(d3\u001b[38;5;241m.\u001b[39mshape)\n\u001b[0;32m      6\u001b[0m d3\u001b[38;5;241m.\u001b[39mhead()\n",
      "File \u001b[1;32m~\\anaconda3\\lib\\site-packages\\pandas\\util\\_decorators.py:311\u001b[0m, in \u001b[0;36mdeprecate_nonkeyword_arguments.<locals>.decorate.<locals>.wrapper\u001b[1;34m(*args, **kwargs)\u001b[0m\n\u001b[0;32m    305\u001b[0m \u001b[38;5;28;01mif\u001b[39;00m \u001b[38;5;28mlen\u001b[39m(args) \u001b[38;5;241m>\u001b[39m num_allow_args:\n\u001b[0;32m    306\u001b[0m     warnings\u001b[38;5;241m.\u001b[39mwarn(\n\u001b[0;32m    307\u001b[0m         msg\u001b[38;5;241m.\u001b[39mformat(arguments\u001b[38;5;241m=\u001b[39marguments),\n\u001b[0;32m    308\u001b[0m         \u001b[38;5;167;01mFutureWarning\u001b[39;00m,\n\u001b[0;32m    309\u001b[0m         stacklevel\u001b[38;5;241m=\u001b[39mstacklevel,\n\u001b[0;32m    310\u001b[0m     )\n\u001b[1;32m--> 311\u001b[0m \u001b[38;5;28;01mreturn\u001b[39;00m func(\u001b[38;5;241m*\u001b[39margs, \u001b[38;5;241m*\u001b[39m\u001b[38;5;241m*\u001b[39mkwargs)\n",
      "File \u001b[1;32m~\\anaconda3\\lib\\site-packages\\pandas\\core\\frame.py:5494\u001b[0m, in \u001b[0;36mDataFrame.set_index\u001b[1;34m(self, keys, drop, append, inplace, verify_integrity)\u001b[0m\n\u001b[0;32m   5491\u001b[0m                 missing\u001b[38;5;241m.\u001b[39mappend(col)\n\u001b[0;32m   5493\u001b[0m \u001b[38;5;28;01mif\u001b[39;00m missing:\n\u001b[1;32m-> 5494\u001b[0m     \u001b[38;5;28;01mraise\u001b[39;00m \u001b[38;5;167;01mKeyError\u001b[39;00m(\u001b[38;5;124mf\u001b[39m\u001b[38;5;124m\"\u001b[39m\u001b[38;5;124mNone of \u001b[39m\u001b[38;5;132;01m{\u001b[39;00mmissing\u001b[38;5;132;01m}\u001b[39;00m\u001b[38;5;124m are in the columns\u001b[39m\u001b[38;5;124m\"\u001b[39m)\n\u001b[0;32m   5496\u001b[0m \u001b[38;5;28;01mif\u001b[39;00m inplace:\n\u001b[0;32m   5497\u001b[0m     frame \u001b[38;5;241m=\u001b[39m \u001b[38;5;28mself\u001b[39m\n",
      "\u001b[1;31mKeyError\u001b[0m: \"None of ['date'] are in the columns\""
     ]
    }
   ],
   "source": [
    "d3=d3.drop(['market', 'month', 'year', 'quantity', 'priceMin', 'priceMax', 'state', 'city'],axis=1)\n",
    "d3=d3.groupby(\"date\")[[\"priceMod\"]].mean()\n",
    "d3=d3.set_index(\"date\")\n",
    "print(d3.shape)\n",
    "\n",
    "d3.head()\n",
    "print(d3.shape)"
   ]
  },
  {
   "cell_type": "code",
   "execution_count": 78,
   "id": "c8914cf0",
   "metadata": {},
   "outputs": [
    {
     "data": {
      "image/png": "[encoded data removed]",
      "text/plain": [
       "<Figure size 864x720 with 1 Axes>"
      ]
     },
     "metadata": {
      "needs_background": "light"
     },
     "output_type": "display_data"
    }
   ],
   "source": [
    "d3.plot(figsize=(12,10))\n",
    "plt.show()"
   ]
  },
  {
   "cell_type": "code",
   "execution_count": 79,
   "id": "e57ded41",
   "metadata": {},
   "outputs": [],
   "source": [
    "## Adf test to check data is stationary or not"
   ]
  },
  {
   "cell_type": "code",
   "execution_count": 80,
   "id": "3088ffe0",
   "metadata": {},
   "outputs": [],
   "source": [
    "from statsmodels.tsa.seasonal import seasonal_decompose\n",
    "from statsmodels.tsa.stattools import adfuller\n",
    "\n",
    "from statsmodels.graphics.tsaplots import plot_acf,plot_pacf\n",
    "from statsmodels.tsa.holtwinters import ExponentialSmoothing\n",
    "from statsmodels.tsa.arima.model import ARIMA\n",
    "from statsmodels.tsa.statespace.sarimax import SARIMAX\n",
    "from sklearn.metrics import mean_squared_error, mean_absolute_error, mean_absolute_percentage_error"
   ]
  },
  {
   "cell_type": "code",
   "execution_count": 81,
   "id": "c441aae4",
   "metadata": {},
   "outputs": [],
   "source": [
    "def adf_test(data):\n",
    "    res = adfuller(data)\n",
    "    print('Test_Stat',res[0])\n",
    "    print('p',res[1])\n",
    "    if res[1] > 0.05:\n",
    "        print('Ho accepted : Data is not Stationary')\n",
    "    else:\n",
    "        print('H1 accepted : Data is Stationary')"
   ]
  },
  {
   "cell_type": "code",
   "execution_count": 82,
   "id": "9fd9d6ac",
   "metadata": {},
   "outputs": [
    {
     "name": "stdout",
     "output_type": "stream",
     "text": [
      "Test_Stat -1.5529565759212167\n",
      "p 0.5071710159736894\n",
      "Ho accepted : Data is not Stationary\n"
     ]
    }
   ],
   "source": [
    "adf_test(d3)"
   ]
  },
  {
   "cell_type": "code",
   "execution_count": 83,
   "id": "e18e59fd",
   "metadata": {},
   "outputs": [],
   "source": [
    "d4=d3.copy()"
   ]
  },
  {
   "cell_type": "code",
   "execution_count": 84,
   "id": "6215a8a3",
   "metadata": {},
   "outputs": [
    {
     "data": {
      "text/html": [
       "<div>\n",
       "<style scoped>\n",
       "    .dataframe tbody tr th:only-of-type {\n",
       "        vertical-align: middle;\n",
       "    }\n",
       "\n",
       "    .dataframe tbody tr th {\n",
       "        vertical-align: top;\n",
       "    }\n",
       "\n",
       "    .dataframe thead th {\n",
       "        text-align: right;\n",
       "    }\n",
       "</style>\n",
       "<table border=\"1\" class=\"dataframe\">\n",
       "  <thead>\n",
       "    <tr style=\"text-align: right;\">\n",
       "      <th></th>\n",
       "      <th>priceMod</th>\n",
       "      <th>Lag1</th>\n",
       "      <th>Lag2</th>\n",
       "      <th>Diff1</th>\n",
       "      <th>Diff2</th>\n",
       "      <th>Diff1_Lag1</th>\n",
       "      <th>Diff_Diff</th>\n",
       "    </tr>\n",
       "    <tr>\n",
       "      <th>date</th>\n",
       "      <th></th>\n",
       "      <th></th>\n",
       "      <th></th>\n",
       "      <th></th>\n",
       "      <th></th>\n",
       "      <th></th>\n",
       "      <th></th>\n",
       "    </tr>\n",
       "  </thead>\n",
       "  <tbody>\n",
       "    <tr>\n",
       "      <th>1996-01-01</th>\n",
       "      <td>226.0</td>\n",
       "      <td>NaN</td>\n",
       "      <td>NaN</td>\n",
       "      <td>NaN</td>\n",
       "      <td>NaN</td>\n",
       "      <td>NaN</td>\n",
       "      <td>NaN</td>\n",
       "    </tr>\n",
       "    <tr>\n",
       "      <th>1996-02-01</th>\n",
       "      <td>186.0</td>\n",
       "      <td>226.0</td>\n",
       "      <td>NaN</td>\n",
       "      <td>-40.0</td>\n",
       "      <td>NaN</td>\n",
       "      <td>NaN</td>\n",
       "      <td>NaN</td>\n",
       "    </tr>\n",
       "    <tr>\n",
       "      <th>1996-03-01</th>\n",
       "      <td>243.0</td>\n",
       "      <td>186.0</td>\n",
       "      <td>226.0</td>\n",
       "      <td>57.0</td>\n",
       "      <td>17.0</td>\n",
       "      <td>-40.0</td>\n",
       "      <td>97.0</td>\n",
       "    </tr>\n",
       "    <tr>\n",
       "      <th>1996-04-01</th>\n",
       "      <td>254.0</td>\n",
       "      <td>243.0</td>\n",
       "      <td>186.0</td>\n",
       "      <td>11.0</td>\n",
       "      <td>68.0</td>\n",
       "      <td>57.0</td>\n",
       "      <td>-46.0</td>\n",
       "    </tr>\n",
       "    <tr>\n",
       "      <th>1996-05-01</th>\n",
       "      <td>269.0</td>\n",
       "      <td>254.0</td>\n",
       "      <td>243.0</td>\n",
       "      <td>15.0</td>\n",
       "      <td>26.0</td>\n",
       "      <td>11.0</td>\n",
       "      <td>4.0</td>\n",
       "    </tr>\n",
       "    <tr>\n",
       "      <th>1996-06-01</th>\n",
       "      <td>367.0</td>\n",
       "      <td>269.0</td>\n",
       "      <td>254.0</td>\n",
       "      <td>98.0</td>\n",
       "      <td>113.0</td>\n",
       "      <td>15.0</td>\n",
       "      <td>83.0</td>\n",
       "    </tr>\n",
       "    <tr>\n",
       "      <th>1996-07-01</th>\n",
       "      <td>368.0</td>\n",
       "      <td>367.0</td>\n",
       "      <td>269.0</td>\n",
       "      <td>1.0</td>\n",
       "      <td>99.0</td>\n",
       "      <td>98.0</td>\n",
       "      <td>-97.0</td>\n",
       "    </tr>\n",
       "    <tr>\n",
       "      <th>1996-08-01</th>\n",
       "      <td>340.0</td>\n",
       "      <td>368.0</td>\n",
       "      <td>367.0</td>\n",
       "      <td>-28.0</td>\n",
       "      <td>-27.0</td>\n",
       "      <td>1.0</td>\n",
       "      <td>-29.0</td>\n",
       "    </tr>\n",
       "  </tbody>\n",
       "</table>\n",
       "</div>"
      ],
      "text/plain": [
       "            priceMod   Lag1   Lag2  Diff1  Diff2  Diff1_Lag1  Diff_Diff\n",
       "date                                                                   \n",
       "1996-01-01     226.0    NaN    NaN    NaN    NaN         NaN        NaN\n",
       "1996-02-01     186.0  226.0    NaN  -40.0    NaN         NaN        NaN\n",
       "1996-03-01     243.0  186.0  226.0   57.0   17.0       -40.0       97.0\n",
       "1996-04-01     254.0  243.0  186.0   11.0   68.0        57.0      -46.0\n",
       "1996-05-01     269.0  254.0  243.0   15.0   26.0        11.0        4.0\n",
       "1996-06-01     367.0  269.0  254.0   98.0  113.0        15.0       83.0\n",
       "1996-07-01     368.0  367.0  269.0    1.0   99.0        98.0      -97.0\n",
       "1996-08-01     340.0  368.0  367.0  -28.0  -27.0         1.0      -29.0"
      ]
     },
     "execution_count": 84,
     "metadata": {},
     "output_type": "execute_result"
    }
   ],
   "source": [
    "d4['Lag1'] = d4['priceMod'].shift(1)\n",
    "d4['Lag2'] = d4['priceMod'].shift(2)\n",
    "d4['Diff1'] = d4['priceMod'].diff(1)       # OR  d4['Value'] - d4['Lag1']\n",
    "d4['Diff2'] = d4['priceMod'] - d4['Lag2']  # OR d4['Value'].diff(2) \n",
    "d4['Diff1_Lag1'] = d4['priceMod'].diff().shift(1)   \n",
    "d4['Diff_Diff'] = d4['priceMod'].diff().diff()   \n",
    "d4.head(8)"
   ]
  },
  {
   "cell_type": "code",
   "execution_count": 85,
   "id": "cd27a387",
   "metadata": {},
   "outputs": [
    {
     "name": "stdout",
     "output_type": "stream",
     "text": [
      "Test_Stat -5.2872869941639555\n",
      "p 5.81762786323471e-06\n",
      "H1 accepted : Data is Stationary\n"
     ]
    }
   ],
   "source": [
    "\n",
    "adf_test(d3.diff(1).dropna())"
   ]
  },
  {
   "cell_type": "code",
   "execution_count": 108,
   "id": "f7ba364e",
   "metadata": {},
   "outputs": [
    {
     "name": "stdout",
     "output_type": "stream",
     "text": [
      "Test_Stat -8.618111527419037\n",
      "p 6.210450231640707e-14\n",
      "H1 accepted : Data is Stationary\n"
     ]
    }
   ],
   "source": [
    "adf_test(d3.diff().diff().dropna())"
   ]
  },
  {
   "cell_type": "code",
   "execution_count": null,
   "id": "29a49b9a",
   "metadata": {},
   "outputs": [],
   "source": [
    "from statsmodels.graphics.tsaplots import plot_acf,plot_pacf"
   ]
  },
  {
   "cell_type": "code",
   "execution_count": 87,
   "id": "79172c32",
   "metadata": {},
   "outputs": [
    {
     "name": "stderr",
     "output_type": "stream",
     "text": [
      "C:\\Users\\Lenovo\\anaconda3\\lib\\site-packages\\statsmodels\\graphics\\tsaplots.py:348: FutureWarning: The default method 'yw' can produce PACF values outside of the [-1,1] interval. After 0.13, the default will change tounadjusted Yule-Walker ('ywm'). You can use this method now by setting method='ywm'.\n",
      "  warnings.warn(\n",
      "C:\\Users\\Lenovo\\anaconda3\\lib\\site-packages\\statsmodels\\graphics\\tsaplots.py:348: FutureWarning: The default method 'yw' can produce PACF values outside of the [-1,1] interval. After 0.13, the default will change tounadjusted Yule-Walker ('ywm'). You can use this method now by setting method='ywm'.\n",
      "  warnings.warn(\n",
      "C:\\Users\\Lenovo\\anaconda3\\lib\\site-packages\\statsmodels\\graphics\\tsaplots.py:348: FutureWarning: The default method 'yw' can produce PACF values outside of the [-1,1] interval. After 0.13, the default will change tounadjusted Yule-Walker ('ywm'). You can use this method now by setting method='ywm'.\n",
      "  warnings.warn(\n",
      "C:\\Users\\Lenovo\\anaconda3\\lib\\site-packages\\statsmodels\\graphics\\tsaplots.py:348: FutureWarning: The default method 'yw' can produce PACF values outside of the [-1,1] interval. After 0.13, the default will change tounadjusted Yule-Walker ('ywm'). You can use this method now by setting method='ywm'.\n",
      "  warnings.warn(\n"
     ]
    },
    {
     "data": {
      "image/png": "[encoded data removed]",
      "text/plain": [
       "<Figure size 1296x1440 with 12 Axes>"
      ]
     },
     "metadata": {
      "needs_background": "light"
     },
     "output_type": "display_data"
    }
   ],
   "source": [
    "fig, axes = plt.subplots(4,3,figsize=(18,20))\n",
    "\n",
    "# Original Data\n",
    "axes[0,0].plot(d3)\n",
    "axes[0,0].set_title('Original Series')\n",
    "plot_acf(d3,ax=axes[0,1])\n",
    "plot_pacf(d3,ax=axes[0,2])\n",
    "\n",
    "# 1st differencing\n",
    "axes[1,0].plot(d3.diff(1))\n",
    "axes[1,0].set_title('1st Order Differencing')\n",
    "plot_acf(d3.diff(1).dropna(),ax=axes[1,1])\n",
    "plot_pacf(d3.diff(1).dropna(),ax=axes[1,2])\n",
    "\n",
    "# 2nd differencing\n",
    "axes[2,0].plot(d3.diff().diff())\n",
    "axes[2,0].set_title('2nd Order Differencing')\n",
    "plot_acf(d3.diff().diff().dropna(),ax=axes[2,1])\n",
    "plot_pacf(d3.diff().diff().dropna(),ax=axes[2,2])\n",
    "\n",
    "# log\n",
    "axes[3,0].plot(np.log(d3))\n",
    "axes[3,0].set_title('Log Differencing')\n",
    "plot_acf(np.log(d3),ax=axes[3,1])\n",
    "plot_pacf(np.log(d3),ax=axes[3,2])\n",
    "\n",
    "plt.show()"
   ]
  },
  {
   "cell_type": "code",
   "execution_count": 88,
   "id": "719e45d3",
   "metadata": {},
   "outputs": [
    {
     "name": "stderr",
     "output_type": "stream",
     "text": [
      "C:\\Users\\Lenovo\\anaconda3\\lib\\site-packages\\statsmodels\\graphics\\tsaplots.py:348: FutureWarning: The default method 'yw' can produce PACF values outside of the [-1,1] interval. After 0.13, the default will change tounadjusted Yule-Walker ('ywm'). You can use this method now by setting method='ywm'.\n",
      "  warnings.warn(\n"
     ]
    },
    {
     "data": {
      "image/png": "[encoded data removed]",
      "text/plain": [
       "<Figure size 432x288 with 1 Axes>"
      ]
     },
     "metadata": {
      "needs_background": "light"
     },
     "output_type": "display_data"
    },
    {
     "data": {
      "image/png": "[encoded data removed]",
      "text/plain": [
       "<Figure size 432x288 with 1 Axes>"
      ]
     },
     "metadata": {
      "needs_background": "light"
     },
     "output_type": "display_data"
    }
   ],
   "source": [
    "plot_acf(d3.diff(1).dropna(),)\n",
    "plot_pacf(d3.diff(1).dropna())\n",
    "plt.show()"
   ]
  },
  {
   "cell_type": "markdown",
   "id": "ab2b5535",
   "metadata": {},
   "source": [
    "### Split data"
   ]
  },
  {
   "cell_type": "code",
   "execution_count": 92,
   "id": "2019ce4d",
   "metadata": {},
   "outputs": [
    {
     "data": {
      "text/plain": [
       "(242, 1)"
      ]
     },
     "execution_count": 92,
     "metadata": {},
     "output_type": "execute_result"
    }
   ],
   "source": [
    "d3.shape"
   ]
  },
  {
   "cell_type": "code",
   "execution_count": 93,
   "id": "fd6da509",
   "metadata": {},
   "outputs": [
    {
     "data": {
      "text/plain": [
       "72.6"
      ]
     },
     "execution_count": 93,
     "metadata": {},
     "output_type": "execute_result"
    }
   ],
   "source": [
    "(242*30)/100"
   ]
  },
  {
   "cell_type": "code",
   "execution_count": 94,
   "id": "54659295",
   "metadata": {},
   "outputs": [
    {
     "data": {
      "text/plain": [
       "170"
      ]
     },
     "execution_count": 94,
     "metadata": {},
     "output_type": "execute_result"
    }
   ],
   "source": [
    "242-72\n"
   ]
  },
  {
   "cell_type": "code",
   "execution_count": 109,
   "id": "161e5798",
   "metadata": {},
   "outputs": [],
   "source": [
    "d3_stationary = d3.diff(1).dropna()\n",
    "d3_stationary1 = d3.diff().diff().dropna()"
   ]
  },
  {
   "cell_type": "code",
   "execution_count": 102,
   "id": "2addcdf0",
   "metadata": {},
   "outputs": [
    {
     "data": {
      "text/html": [
       "<div>\n",
       "<style scoped>\n",
       "    .dataframe tbody tr th:only-of-type {\n",
       "        vertical-align: middle;\n",
       "    }\n",
       "\n",
       "    .dataframe tbody tr th {\n",
       "        vertical-align: top;\n",
       "    }\n",
       "\n",
       "    .dataframe thead th {\n",
       "        text-align: right;\n",
       "    }\n",
       "</style>\n",
       "<table border=\"1\" class=\"dataframe\">\n",
       "  <thead>\n",
       "    <tr style=\"text-align: right;\">\n",
       "      <th></th>\n",
       "      <th>priceMod</th>\n",
       "    </tr>\n",
       "    <tr>\n",
       "      <th>date</th>\n",
       "      <th></th>\n",
       "    </tr>\n",
       "  </thead>\n",
       "  <tbody>\n",
       "    <tr>\n",
       "      <th>1996-02-01</th>\n",
       "      <td>-40.000000</td>\n",
       "    </tr>\n",
       "    <tr>\n",
       "      <th>1996-03-01</th>\n",
       "      <td>57.000000</td>\n",
       "    </tr>\n",
       "    <tr>\n",
       "      <th>1996-04-01</th>\n",
       "      <td>11.000000</td>\n",
       "    </tr>\n",
       "    <tr>\n",
       "      <th>1996-05-01</th>\n",
       "      <td>15.000000</td>\n",
       "    </tr>\n",
       "    <tr>\n",
       "      <th>1996-06-01</th>\n",
       "      <td>98.000000</td>\n",
       "    </tr>\n",
       "    <tr>\n",
       "      <th>...</th>\n",
       "      <td>...</td>\n",
       "    </tr>\n",
       "    <tr>\n",
       "      <th>2015-10-01</th>\n",
       "      <td>-1061.396678</td>\n",
       "    </tr>\n",
       "    <tr>\n",
       "      <th>2015-11-01</th>\n",
       "      <td>-737.732709</td>\n",
       "    </tr>\n",
       "    <tr>\n",
       "      <th>2015-12-01</th>\n",
       "      <td>-673.540051</td>\n",
       "    </tr>\n",
       "    <tr>\n",
       "      <th>2016-01-01</th>\n",
       "      <td>-241.058298</td>\n",
       "    </tr>\n",
       "    <tr>\n",
       "      <th>2016-02-01</th>\n",
       "      <td>-260.112152</td>\n",
       "    </tr>\n",
       "  </tbody>\n",
       "</table>\n",
       "<p>241 rows × 1 columns</p>\n",
       "</div>"
      ],
      "text/plain": [
       "               priceMod\n",
       "date                   \n",
       "1996-02-01   -40.000000\n",
       "1996-03-01    57.000000\n",
       "1996-04-01    11.000000\n",
       "1996-05-01    15.000000\n",
       "1996-06-01    98.000000\n",
       "...                 ...\n",
       "2015-10-01 -1061.396678\n",
       "2015-11-01  -737.732709\n",
       "2015-12-01  -673.540051\n",
       "2016-01-01  -241.058298\n",
       "2016-02-01  -260.112152\n",
       "\n",
       "[241 rows x 1 columns]"
      ]
     },
     "execution_count": 102,
     "metadata": {},
     "output_type": "execute_result"
    }
   ],
   "source": [
    "d3_stationary"
   ]
  },
  {
   "cell_type": "code",
   "execution_count": 103,
   "id": "a80b62c6",
   "metadata": {},
   "outputs": [
    {
     "name": "stdout",
     "output_type": "stream",
     "text": [
      "Test_Stat -5.2872869941639555\n",
      "p 5.81762786323471e-06\n",
      "H1 accepted : Data is Stationary\n"
     ]
    }
   ],
   "source": [
    "adf_test(d3_stationary)"
   ]
  },
  {
   "cell_type": "code",
   "execution_count": null,
   "id": "2c274888",
   "metadata": {},
   "outputs": [],
   "source": []
  },
  {
   "cell_type": "code",
   "execution_count": null,
   "id": "f9b12b08",
   "metadata": {},
   "outputs": [],
   "source": []
  },
  {
   "cell_type": "code",
   "execution_count": 110,
   "id": "8f21e00d",
   "metadata": {},
   "outputs": [
    {
     "name": "stdout",
     "output_type": "stream",
     "text": [
      "(170, 1)\n",
      "(71, 1)\n"
     ]
    }
   ],
   "source": [
    "train = d3_stationary.iloc[:170]\n",
    "test = d3_stationary.iloc[170:]\n",
    "print(train.shape)\n",
    "print(test.shape)"
   ]
  },
  {
   "cell_type": "code",
   "execution_count": 111,
   "id": "250b2c92",
   "metadata": {},
   "outputs": [
    {
     "name": "stdout",
     "output_type": "stream",
     "text": [
      "(170, 1)\n",
      "(70, 1)\n"
     ]
    }
   ],
   "source": [
    "train1 = d3_stationary1.iloc[:170]\n",
    "test1 = d3_stationary1.iloc[170:]\n",
    "print(train1.shape)\n",
    "print(test1.shape)"
   ]
  },
  {
   "cell_type": "code",
   "execution_count": 105,
   "id": "50084cb4",
   "metadata": {},
   "outputs": [
    {
     "name": "stdout",
     "output_type": "stream",
     "text": [
      "128\n"
     ]
    }
   ],
   "source": [
    "plist = list(range(1,9)) # 8\n",
    "dlist = [1,2]            # 2\n",
    "qlist = list(range(1,9)) # 8\n",
    "print(8*2*8)"
   ]
  },
  {
   "cell_type": "code",
   "execution_count": 106,
   "id": "e15ae9c7",
   "metadata": {},
   "outputs": [
    {
     "name": "stdout",
     "output_type": "stream",
     "text": [
      "For Iteration 1,p=1,d=1,q=1,MSE=220615.55068225678\n",
      "For Iteration 2,p=1,d=1,q=2,MSE=220476.01935976883\n",
      "For Iteration 3,p=1,d=1,q=3,MSE=220432.8053223537\n",
      "For Iteration 4,p=1,d=1,q=4,MSE=220364.01106072075\n",
      "For Iteration 5,p=1,d=1,q=5,MSE=220205.8412225056\n",
      "For Iteration 6,p=1,d=1,q=6,MSE=220729.8894907999\n",
      "For Iteration 7,p=1,d=1,q=7,MSE=219717.97242589333\n",
      "For Iteration 8,p=1,d=1,q=8,MSE=219473.59253114878\n",
      "For Iteration 9,p=1,d=2,q=1,MSE=413315.5628066421\n",
      "For Iteration 10,p=1,d=2,q=2,MSE=429797.30504134455\n",
      "For Iteration 11,p=1,d=2,q=3,MSE=391204.78396733257\n",
      "For Iteration 12,p=1,d=2,q=4,MSE=220372.5918813765\n",
      "For Iteration 13,p=1,d=2,q=5,MSE=222845.67806764363\n",
      "For Iteration 14,p=1,d=2,q=6,MSE=221903.31845122864\n",
      "For Iteration 15,p=1,d=2,q=7,MSE=220714.66054290292\n",
      "For Iteration 16,p=1,d=2,q=8,MSE=220197.18734173465\n",
      "For Iteration 17,p=2,d=1,q=1,MSE=220332.18113867153\n",
      "For Iteration 18,p=2,d=1,q=2,MSE=220752.69950950885\n",
      "For Iteration 19,p=2,d=1,q=3,MSE=217543.46691729923\n",
      "For Iteration 20,p=2,d=1,q=4,MSE=220266.64630890882\n",
      "For Iteration 21,p=2,d=1,q=5,MSE=220673.36143744647\n",
      "For Iteration 22,p=2,d=1,q=6,MSE=219493.972317614\n",
      "For Iteration 23,p=2,d=1,q=7,MSE=220799.5837751618\n",
      "For Iteration 24,p=2,d=1,q=8,MSE=217614.34317846983\n",
      "For Iteration 25,p=2,d=2,q=1,MSE=401255.4585024574\n",
      "For Iteration 26,p=2,d=2,q=2,MSE=408695.42754320183\n",
      "For Iteration 27,p=2,d=2,q=3,MSE=441465.87379014026\n",
      "For Iteration 28,p=2,d=2,q=4,MSE=364866.27192122926\n",
      "For Iteration 29,p=2,d=2,q=5,MSE=220841.85492554295\n",
      "For Iteration 30,p=2,d=2,q=6,MSE=223384.19798153214\n",
      "For Iteration 31,p=2,d=2,q=7,MSE=220562.76745343782\n",
      "For Iteration 32,p=2,d=2,q=8,MSE=221484.46027450144\n",
      "For Iteration 33,p=3,d=1,q=1,MSE=221365.8725936116\n",
      "For Iteration 34,p=3,d=1,q=2,MSE=220495.31424676522\n",
      "For Iteration 35,p=3,d=1,q=3,MSE=220606.8050152321\n",
      "For Iteration 36,p=3,d=1,q=4,MSE=220278.79002761014\n",
      "For Iteration 37,p=3,d=1,q=5,MSE=219849.9415400905\n",
      "For Iteration 38,p=3,d=1,q=6,MSE=220875.56055731073\n",
      "For Iteration 39,p=3,d=1,q=7,MSE=219173.92723298416\n",
      "For Iteration 40,p=3,d=1,q=8,MSE=222753.05899229413\n",
      "For Iteration 41,p=3,d=2,q=1,MSE=347913.35794344684\n",
      "For Iteration 42,p=3,d=2,q=2,MSE=395105.4533160008\n",
      "For Iteration 43,p=3,d=2,q=3,MSE=395533.75150283135\n",
      "For Iteration 44,p=3,d=2,q=4,MSE=468664.1641425427\n",
      "For Iteration 45,p=3,d=2,q=5,MSE=225204.23351751606\n",
      "For Iteration 46,p=3,d=2,q=6,MSE=221108.469631104\n",
      "For Iteration 47,p=3,d=2,q=7,MSE=223720.98046466432\n",
      "For Iteration 48,p=3,d=2,q=8,MSE=220684.86133082243\n",
      "For Iteration 49,p=4,d=1,q=1,MSE=222558.13783945233\n",
      "For Iteration 50,p=4,d=1,q=2,MSE=221399.54822969023\n",
      "For Iteration 51,p=4,d=1,q=3,MSE=217114.76886948958\n",
      "For Iteration 52,p=4,d=1,q=4,MSE=220420.0390760137\n",
      "For Iteration 53,p=4,d=1,q=5,MSE=217783.70179603214\n",
      "For Iteration 54,p=4,d=1,q=6,MSE=219513.04748260987\n",
      "For Iteration 55,p=4,d=1,q=7,MSE=219796.56341043685\n",
      "For Iteration 56,p=4,d=1,q=8,MSE=220297.7707081592\n",
      "For Iteration 57,p=4,d=2,q=1,MSE=317549.1930274999\n",
      "For Iteration 58,p=4,d=2,q=2,MSE=357285.16277339763\n",
      "For Iteration 59,p=4,d=2,q=3,MSE=221273.94023314398\n",
      "For Iteration 60,p=4,d=2,q=4,MSE=436481.5783973133\n",
      "For Iteration 61,p=4,d=2,q=5,MSE=466027.1114084787\n",
      "For Iteration 62,p=4,d=2,q=6,MSE=221717.25142232867\n",
      "For Iteration 63,p=4,d=2,q=7,MSE=222006.62797573346\n",
      "For Iteration 64,p=4,d=2,q=8,MSE=219009.61412263347\n",
      "For Iteration 65,p=5,d=1,q=1,MSE=222858.0629378976\n",
      "For Iteration 66,p=5,d=1,q=2,MSE=222686.28115147128\n",
      "For Iteration 67,p=5,d=1,q=3,MSE=221352.87124226007\n",
      "For Iteration 68,p=5,d=1,q=4,MSE=218089.0306109609\n",
      "For Iteration 69,p=5,d=1,q=5,MSE=217778.18115848905\n",
      "For Iteration 70,p=5,d=1,q=6,MSE=214928.3573511545\n",
      "For Iteration 71,p=5,d=1,q=7,MSE=218736.77789735407\n",
      "For Iteration 72,p=5,d=1,q=8,MSE=218990.25626847718\n",
      "For Iteration 73,p=5,d=2,q=1,MSE=260590.44092147314\n",
      "For Iteration 74,p=5,d=2,q=2,MSE=315796.3685470848\n",
      "For Iteration 75,p=5,d=2,q=3,MSE=361369.4590772838\n",
      "For Iteration 76,p=5,d=2,q=4,MSE=220802.7467726952\n",
      "For Iteration 77,p=5,d=2,q=5,MSE=407832.7760050064\n",
      "For Iteration 78,p=5,d=2,q=6,MSE=223183.5005880539\n",
      "For Iteration 79,p=5,d=2,q=7,MSE=222998.30332905808\n",
      "For Iteration 80,p=5,d=2,q=8,MSE=219607.4976536396\n",
      "For Iteration 81,p=6,d=1,q=1,MSE=220550.23865080893\n",
      "For Iteration 82,p=6,d=1,q=2,MSE=222048.9458233138\n",
      "For Iteration 83,p=6,d=1,q=3,MSE=216763.99448838874\n",
      "For Iteration 84,p=6,d=1,q=4,MSE=222751.30440155638\n",
      "For Iteration 85,p=6,d=1,q=5,MSE=217742.78194935288\n",
      "For Iteration 86,p=6,d=1,q=6,MSE=218180.87648780228\n",
      "For Iteration 87,p=6,d=1,q=7,MSE=218257.48106993616\n",
      "For Iteration 88,p=6,d=1,q=8,MSE=218835.92100190726\n",
      "For Iteration 89,p=6,d=2,q=1,MSE=243740.71369527234\n",
      "For Iteration 90,p=6,d=2,q=2,MSE=254376.24358206283\n",
      "For Iteration 91,p=6,d=2,q=3,MSE=222729.5363359675\n",
      "For Iteration 92,p=6,d=2,q=4,MSE=221698.29126082556\n",
      "For Iteration 93,p=6,d=2,q=5,MSE=222253.31247197796\n",
      "For Iteration 94,p=6,d=2,q=6,MSE=221302.36322888164\n",
      "For Iteration 95,p=6,d=2,q=7,MSE=219148.9994519146\n",
      "For Iteration 96,p=6,d=2,q=8,MSE=221144.64098155618\n",
      "For Iteration 97,p=7,d=1,q=1,MSE=219649.54764708746\n",
      "For Iteration 98,p=7,d=1,q=2,MSE=220820.00689540792\n",
      "For Iteration 99,p=7,d=1,q=3,MSE=223112.05547368832\n",
      "For Iteration 100,p=7,d=1,q=4,MSE=223803.9585538891\n",
      "For Iteration 101,p=7,d=1,q=5,MSE=218803.46860503993\n",
      "For Iteration 102,p=7,d=1,q=6,MSE=217389.3967661674\n",
      "For Iteration 103,p=7,d=1,q=7,MSE=215518.31269038422\n",
      "For Iteration 104,p=7,d=1,q=8,MSE=215437.73951474766\n",
      "For Iteration 105,p=7,d=2,q=1,MSE=237552.22493673756\n",
      "For Iteration 106,p=7,d=2,q=2,MSE=219695.71472381582\n",
      "For Iteration 107,p=7,d=2,q=3,MSE=220482.1908234229\n",
      "For Iteration 108,p=7,d=2,q=4,MSE=221793.50214480437\n",
      "For Iteration 109,p=7,d=2,q=5,MSE=226326.05540043124\n",
      "For Iteration 110,p=7,d=2,q=6,MSE=223441.70989321978\n",
      "For Iteration 111,p=7,d=2,q=7,MSE=221107.33364076752\n",
      "For Iteration 112,p=7,d=2,q=8,MSE=227521.26995433334\n",
      "For Iteration 113,p=8,d=1,q=1,MSE=218003.83223217685\n",
      "For Iteration 114,p=8,d=1,q=2,MSE=218136.4917757191\n",
      "For Iteration 115,p=8,d=1,q=3,MSE=219483.34501341317\n",
      "For Iteration 116,p=8,d=1,q=4,MSE=220474.77238273254\n",
      "For Iteration 117,p=8,d=1,q=5,MSE=222686.93158344334\n",
      "For Iteration 118,p=8,d=1,q=6,MSE=215803.74688239195\n",
      "For Iteration 119,p=8,d=1,q=7,MSE=216667.5616594705\n",
      "For Iteration 120,p=8,d=1,q=8,MSE=220564.4581934018\n",
      "For Iteration 121,p=8,d=2,q=1,MSE=228607.89515905624\n",
      "For Iteration 122,p=8,d=2,q=2,MSE=217522.75780878923\n",
      "For Iteration 123,p=8,d=2,q=3,MSE=219699.84851435584\n",
      "For Iteration 124,p=8,d=2,q=4,MSE=221074.1875683971\n",
      "For Iteration 125,p=8,d=2,q=5,MSE=222459.64222358377\n",
      "For Iteration 126,p=8,d=2,q=6,MSE=221180.45122402298\n",
      "For Iteration 127,p=8,d=2,q=7,MSE=219884.32493916148\n",
      "For Iteration 128,p=8,d=2,q=8,MSE=226034.34386684897\n"
     ]
    }
   ],
   "source": [
    "z"
   ]
  },
  {
   "cell_type": "code",
   "execution_count": 107,
   "id": "03d68450",
   "metadata": {},
   "outputs": [
    {
     "data": {
      "text/plain": [
       "214928.3573511545"
      ]
     },
     "execution_count": 107,
     "metadata": {},
     "output_type": "execute_result"
    }
   ],
   "source": [
    "min_mse_arima"
   ]
  },
  {
   "cell_type": "code",
   "execution_count": 157,
   "id": "a17d94d0",
   "metadata": {},
   "outputs": [
    {
     "name": "stdout",
     "output_type": "stream",
     "text": [
      "For Iteration 1,p=1,d=1,q=1,MSE=224390.01291601453,rmse=473.69822980038094\n",
      "For Iteration 2,p=1,d=1,q=2,MSE=224062.15489953803,rmse=473.3520411908435\n",
      "For Iteration 3,p=1,d=1,q=3,MSE=224948.29016671446,rmse=474.2871389429767\n",
      "For Iteration 4,p=1,d=1,q=4,MSE=224193.54585958176,rmse=473.4908086326299\n",
      "For Iteration 5,p=1,d=1,q=5,MSE=224203.25780101214,rmse=473.5010642026184\n",
      "For Iteration 6,p=1,d=1,q=6,MSE=224061.78408543058,rmse=473.35164950111937\n",
      "For Iteration 7,p=1,d=1,q=7,MSE=224551.15069761316,rmse=473.8682841229334\n",
      "For Iteration 8,p=1,d=1,q=8,MSE=224578.1972806305,rmse=473.8968213447211\n",
      "For Iteration 9,p=1,d=2,q=1,MSE=238775.1654091199,rmse=488.6462579505955\n",
      "For Iteration 10,p=1,d=2,q=2,MSE=224606.61860033326,rmse=473.92680721851264\n",
      "For Iteration 11,p=1,d=2,q=3,MSE=225153.59548877977,rmse=474.5035252648602\n",
      "For Iteration 12,p=1,d=2,q=4,MSE=224665.73952063304,rmse=473.9891765859565\n",
      "For Iteration 13,p=1,d=2,q=5,MSE=224182.75794297492,rmse=473.4794165990481\n",
      "For Iteration 14,p=1,d=2,q=6,MSE=223972.3710590779,rmse=473.2571933516467\n",
      "For Iteration 15,p=1,d=2,q=7,MSE=223953.42285984554,rmse=473.23717400458463\n",
      "For Iteration 16,p=1,d=2,q=8,MSE=224425.0972474962,rmse=473.7352607179417\n",
      "For Iteration 17,p=2,d=1,q=1,MSE=224418.732132282,rmse=473.72854266159857\n",
      "For Iteration 18,p=2,d=1,q=2,MSE=224916.8190878392,rmse=474.2539605399613\n",
      "For Iteration 19,p=2,d=1,q=3,MSE=223600.91549481565,rmse=472.86458473310904\n",
      "For Iteration 20,p=2,d=1,q=4,MSE=225255.1324322059,rmse=474.61050602805443\n",
      "For Iteration 21,p=2,d=1,q=5,MSE=226560.12625797096,rmse=475.9833256091761\n",
      "For Iteration 22,p=2,d=1,q=6,MSE=224684.33510858,rmse=474.00879222708517\n",
      "For Iteration 23,p=2,d=1,q=7,MSE=224845.6410102287,rmse=474.17891244785307\n",
      "For Iteration 24,p=2,d=1,q=8,MSE=225958.70367685187,rmse=475.35113724156787\n",
      "For Iteration 25,p=2,d=2,q=1,MSE=228382.9182633541,rmse=477.8942542690319\n",
      "For Iteration 26,p=2,d=2,q=2,MSE=239912.01147376045,rmse=489.8081374107217\n",
      "For Iteration 27,p=2,d=2,q=3,MSE=225166.6671738741,rmse=474.5172991302573\n",
      "For Iteration 28,p=2,d=2,q=4,MSE=226242.67221736858,rmse=475.649736904551\n",
      "For Iteration 29,p=2,d=2,q=5,MSE=229079.79219160744,rmse=478.62280784727284\n",
      "For Iteration 30,p=2,d=2,q=6,MSE=229571.71994982983,rmse=479.13643145750234\n",
      "For Iteration 31,p=2,d=2,q=7,MSE=229915.4932389588,rmse=479.49503984812895\n",
      "For Iteration 32,p=2,d=2,q=8,MSE=225539.68589467398,rmse=474.9101871877187\n",
      "For Iteration 33,p=3,d=1,q=1,MSE=224484.59448822265,rmse=473.79805243185905\n",
      "For Iteration 34,p=3,d=1,q=2,MSE=224991.2385051618,rmse=474.33241350888284\n",
      "For Iteration 35,p=3,d=1,q=3,MSE=225040.6658045266,rmse=474.3845126103155\n",
      "For Iteration 36,p=3,d=1,q=4,MSE=227764.4727500306,rmse=477.2467629539572\n",
      "For Iteration 37,p=3,d=1,q=5,MSE=221999.87876702455,rmse=471.168630924242\n",
      "For Iteration 38,p=3,d=1,q=6,MSE=226317.94320144466,rmse=475.7288547076419\n",
      "For Iteration 39,p=3,d=1,q=7,MSE=224713.20707049232,rmse=474.03924633989146\n",
      "For Iteration 40,p=3,d=1,q=8,MSE=225910.30860071728,rmse=475.30022996072415\n",
      "For Iteration 41,p=3,d=2,q=1,MSE=225004.19955482523,rmse=474.3460757240701\n"
     ]
    },
    {
     "ename": "LinAlgError",
     "evalue": "LU decomposition error.",
     "output_type": "error",
     "traceback": [
      "\u001b[1;31m---------------------------------------------------------------------------\u001b[0m",
      "\u001b[1;31mLinAlgError\u001b[0m                               Traceback (most recent call last)",
      "Input \u001b[1;32mIn [157]\u001b[0m, in \u001b[0;36m<cell line: 4>\u001b[1;34m()\u001b[0m\n\u001b[0;32m      6\u001b[0m \u001b[38;5;28;01mfor\u001b[39;00m k \u001b[38;5;129;01min\u001b[39;00m qlist:\n\u001b[0;32m      7\u001b[0m     model \u001b[38;5;241m=\u001b[39m ARIMA(train1,order\u001b[38;5;241m=\u001b[39m(i,j,k))\n\u001b[1;32m----> 8\u001b[0m     model_fit \u001b[38;5;241m=\u001b[39m \u001b[43mmodel\u001b[49m\u001b[38;5;241;43m.\u001b[39;49m\u001b[43mfit\u001b[49m\u001b[43m(\u001b[49m\u001b[43m)\u001b[49m\n\u001b[0;32m      9\u001b[0m     fcast \u001b[38;5;241m=\u001b[39m model_fit\u001b[38;5;241m.\u001b[39mforecast(\u001b[38;5;28mlen\u001b[39m(test1))\n\u001b[0;32m     10\u001b[0m     mse \u001b[38;5;241m=\u001b[39m mean_squared_error(test1,fcast)\n",
      "File \u001b[1;32m~\\anaconda3\\lib\\site-packages\\statsmodels\\tsa\\arima\\model.py:390\u001b[0m, in \u001b[0;36mARIMA.fit\u001b[1;34m(self, start_params, transformed, includes_fixed, method, method_kwargs, gls, gls_kwargs, cov_type, cov_kwds, return_params, low_memory)\u001b[0m\n\u001b[0;32m    387\u001b[0m \u001b[38;5;28;01melse\u001b[39;00m:\n\u001b[0;32m    388\u001b[0m     method_kwargs\u001b[38;5;241m.\u001b[39msetdefault(\u001b[38;5;124m'\u001b[39m\u001b[38;5;124mdisp\u001b[39m\u001b[38;5;124m'\u001b[39m, \u001b[38;5;241m0\u001b[39m)\n\u001b[1;32m--> 390\u001b[0m     res \u001b[38;5;241m=\u001b[39m \u001b[38;5;28msuper\u001b[39m()\u001b[38;5;241m.\u001b[39mfit(\n\u001b[0;32m    391\u001b[0m         return_params\u001b[38;5;241m=\u001b[39mreturn_params, low_memory\u001b[38;5;241m=\u001b[39mlow_memory,\n\u001b[0;32m    392\u001b[0m         cov_type\u001b[38;5;241m=\u001b[39mcov_type, cov_kwds\u001b[38;5;241m=\u001b[39mcov_kwds, \u001b[38;5;241m*\u001b[39m\u001b[38;5;241m*\u001b[39mmethod_kwargs)\n\u001b[0;32m    393\u001b[0m     \u001b[38;5;28;01mif\u001b[39;00m \u001b[38;5;129;01mnot\u001b[39;00m return_params:\n\u001b[0;32m    394\u001b[0m         res\u001b[38;5;241m.\u001b[39mfit_details \u001b[38;5;241m=\u001b[39m res\u001b[38;5;241m.\u001b[39mmlefit\n",
      "File \u001b[1;32m~\\anaconda3\\lib\\site-packages\\statsmodels\\tsa\\statespace\\mlemodel.py:704\u001b[0m, in \u001b[0;36mMLEModel.fit\u001b[1;34m(self, start_params, transformed, includes_fixed, cov_type, cov_kwds, method, maxiter, full_output, disp, callback, return_params, optim_score, optim_complex_step, optim_hessian, flags, low_memory, **kwargs)\u001b[0m\n\u001b[0;32m    702\u001b[0m         flags[\u001b[38;5;124m'\u001b[39m\u001b[38;5;124mhessian_method\u001b[39m\u001b[38;5;124m'\u001b[39m] \u001b[38;5;241m=\u001b[39m optim_hessian\n\u001b[0;32m    703\u001b[0m     fargs \u001b[38;5;241m=\u001b[39m (flags,)\n\u001b[1;32m--> 704\u001b[0m     mlefit \u001b[38;5;241m=\u001b[39m \u001b[38;5;28msuper\u001b[39m(MLEModel, \u001b[38;5;28mself\u001b[39m)\u001b[38;5;241m.\u001b[39mfit(start_params, method\u001b[38;5;241m=\u001b[39mmethod,\n\u001b[0;32m    705\u001b[0m                                        fargs\u001b[38;5;241m=\u001b[39mfargs,\n\u001b[0;32m    706\u001b[0m                                        maxiter\u001b[38;5;241m=\u001b[39mmaxiter,\n\u001b[0;32m    707\u001b[0m                                        full_output\u001b[38;5;241m=\u001b[39mfull_output,\n\u001b[0;32m    708\u001b[0m                                        disp\u001b[38;5;241m=\u001b[39mdisp, callback\u001b[38;5;241m=\u001b[39mcallback,\n\u001b[0;32m    709\u001b[0m                                        skip_hessian\u001b[38;5;241m=\u001b[39m\u001b[38;5;28;01mTrue\u001b[39;00m, \u001b[38;5;241m*\u001b[39m\u001b[38;5;241m*\u001b[39mkwargs)\n\u001b[0;32m    711\u001b[0m \u001b[38;5;66;03m# Just return the fitted parameters if requested\u001b[39;00m\n\u001b[0;32m    712\u001b[0m \u001b[38;5;28;01mif\u001b[39;00m return_params:\n",
      "File \u001b[1;32m~\\anaconda3\\lib\\site-packages\\statsmodels\\base\\model.py:563\u001b[0m, in \u001b[0;36mLikelihoodModel.fit\u001b[1;34m(self, start_params, method, maxiter, full_output, disp, fargs, callback, retall, skip_hessian, **kwargs)\u001b[0m\n\u001b[0;32m    560\u001b[0m     \u001b[38;5;28;01mdel\u001b[39;00m kwargs[\u001b[38;5;124m\"\u001b[39m\u001b[38;5;124muse_t\u001b[39m\u001b[38;5;124m\"\u001b[39m]\n\u001b[0;32m    562\u001b[0m optimizer \u001b[38;5;241m=\u001b[39m Optimizer()\n\u001b[1;32m--> 563\u001b[0m xopt, retvals, optim_settings \u001b[38;5;241m=\u001b[39m \u001b[43moptimizer\u001b[49m\u001b[38;5;241;43m.\u001b[39;49m\u001b[43m_fit\u001b[49m\u001b[43m(\u001b[49m\u001b[43mf\u001b[49m\u001b[43m,\u001b[49m\u001b[43m \u001b[49m\u001b[43mscore\u001b[49m\u001b[43m,\u001b[49m\u001b[43m \u001b[49m\u001b[43mstart_params\u001b[49m\u001b[43m,\u001b[49m\n\u001b[0;32m    564\u001b[0m \u001b[43m                                               \u001b[49m\u001b[43mfargs\u001b[49m\u001b[43m,\u001b[49m\u001b[43m \u001b[49m\u001b[43mkwargs\u001b[49m\u001b[43m,\u001b[49m\n\u001b[0;32m    565\u001b[0m \u001b[43m                                               \u001b[49m\u001b[43mhessian\u001b[49m\u001b[38;5;241;43m=\u001b[39;49m\u001b[43mhess\u001b[49m\u001b[43m,\u001b[49m\n\u001b[0;32m    566\u001b[0m \u001b[43m                                               \u001b[49m\u001b[43mmethod\u001b[49m\u001b[38;5;241;43m=\u001b[39;49m\u001b[43mmethod\u001b[49m\u001b[43m,\u001b[49m\n\u001b[0;32m    567\u001b[0m \u001b[43m                                               \u001b[49m\u001b[43mdisp\u001b[49m\u001b[38;5;241;43m=\u001b[39;49m\u001b[43mdisp\u001b[49m\u001b[43m,\u001b[49m\n\u001b[0;32m    568\u001b[0m \u001b[43m                                               \u001b[49m\u001b[43mmaxiter\u001b[49m\u001b[38;5;241;43m=\u001b[39;49m\u001b[43mmaxiter\u001b[49m\u001b[43m,\u001b[49m\n\u001b[0;32m    569\u001b[0m \u001b[43m                                               \u001b[49m\u001b[43mcallback\u001b[49m\u001b[38;5;241;43m=\u001b[39;49m\u001b[43mcallback\u001b[49m\u001b[43m,\u001b[49m\n\u001b[0;32m    570\u001b[0m \u001b[43m                                               \u001b[49m\u001b[43mretall\u001b[49m\u001b[38;5;241;43m=\u001b[39;49m\u001b[43mretall\u001b[49m\u001b[43m,\u001b[49m\n\u001b[0;32m    571\u001b[0m \u001b[43m                                               \u001b[49m\u001b[43mfull_output\u001b[49m\u001b[38;5;241;43m=\u001b[39;49m\u001b[43mfull_output\u001b[49m\u001b[43m)\u001b[49m\n\u001b[0;32m    572\u001b[0m \u001b[38;5;66;03m# Restore cov_type, cov_kwds and use_t\u001b[39;00m\n\u001b[0;32m    573\u001b[0m optim_settings\u001b[38;5;241m.\u001b[39mupdate(kwds)\n",
      "File \u001b[1;32m~\\anaconda3\\lib\\site-packages\\statsmodels\\base\\optimizer.py:241\u001b[0m, in \u001b[0;36mOptimizer._fit\u001b[1;34m(self, objective, gradient, start_params, fargs, kwargs, hessian, method, maxiter, full_output, disp, callback, retall)\u001b[0m\n\u001b[0;32m    238\u001b[0m     fit_funcs\u001b[38;5;241m.\u001b[39mupdate(extra_fit_funcs)\n\u001b[0;32m    240\u001b[0m func \u001b[38;5;241m=\u001b[39m fit_funcs[method]\n\u001b[1;32m--> 241\u001b[0m xopt, retvals \u001b[38;5;241m=\u001b[39m \u001b[43mfunc\u001b[49m\u001b[43m(\u001b[49m\u001b[43mobjective\u001b[49m\u001b[43m,\u001b[49m\u001b[43m \u001b[49m\u001b[43mgradient\u001b[49m\u001b[43m,\u001b[49m\u001b[43m \u001b[49m\u001b[43mstart_params\u001b[49m\u001b[43m,\u001b[49m\u001b[43m \u001b[49m\u001b[43mfargs\u001b[49m\u001b[43m,\u001b[49m\u001b[43m \u001b[49m\u001b[43mkwargs\u001b[49m\u001b[43m,\u001b[49m\n\u001b[0;32m    242\u001b[0m \u001b[43m                     \u001b[49m\u001b[43mdisp\u001b[49m\u001b[38;5;241;43m=\u001b[39;49m\u001b[43mdisp\u001b[49m\u001b[43m,\u001b[49m\u001b[43m \u001b[49m\u001b[43mmaxiter\u001b[49m\u001b[38;5;241;43m=\u001b[39;49m\u001b[43mmaxiter\u001b[49m\u001b[43m,\u001b[49m\u001b[43m \u001b[49m\u001b[43mcallback\u001b[49m\u001b[38;5;241;43m=\u001b[39;49m\u001b[43mcallback\u001b[49m\u001b[43m,\u001b[49m\n\u001b[0;32m    243\u001b[0m \u001b[43m                     \u001b[49m\u001b[43mretall\u001b[49m\u001b[38;5;241;43m=\u001b[39;49m\u001b[43mretall\u001b[49m\u001b[43m,\u001b[49m\u001b[43m \u001b[49m\u001b[43mfull_output\u001b[49m\u001b[38;5;241;43m=\u001b[39;49m\u001b[43mfull_output\u001b[49m\u001b[43m,\u001b[49m\n\u001b[0;32m    244\u001b[0m \u001b[43m                     \u001b[49m\u001b[43mhess\u001b[49m\u001b[38;5;241;43m=\u001b[39;49m\u001b[43mhessian\u001b[49m\u001b[43m)\u001b[49m\n\u001b[0;32m    246\u001b[0m optim_settings \u001b[38;5;241m=\u001b[39m {\u001b[38;5;124m'\u001b[39m\u001b[38;5;124moptimizer\u001b[39m\u001b[38;5;124m'\u001b[39m: method, \u001b[38;5;124m'\u001b[39m\u001b[38;5;124mstart_params\u001b[39m\u001b[38;5;124m'\u001b[39m: start_params,\n\u001b[0;32m    247\u001b[0m                   \u001b[38;5;124m'\u001b[39m\u001b[38;5;124mmaxiter\u001b[39m\u001b[38;5;124m'\u001b[39m: maxiter, \u001b[38;5;124m'\u001b[39m\u001b[38;5;124mfull_output\u001b[39m\u001b[38;5;124m'\u001b[39m: full_output,\n\u001b[0;32m    248\u001b[0m                   \u001b[38;5;124m'\u001b[39m\u001b[38;5;124mdisp\u001b[39m\u001b[38;5;124m'\u001b[39m: disp, \u001b[38;5;124m'\u001b[39m\u001b[38;5;124mfargs\u001b[39m\u001b[38;5;124m'\u001b[39m: fargs, \u001b[38;5;124m'\u001b[39m\u001b[38;5;124mcallback\u001b[39m\u001b[38;5;124m'\u001b[39m: callback,\n\u001b[0;32m    249\u001b[0m                   \u001b[38;5;124m'\u001b[39m\u001b[38;5;124mretall\u001b[39m\u001b[38;5;124m'\u001b[39m: retall, \u001b[38;5;124m\"\u001b[39m\u001b[38;5;124mextra_fit_funcs\u001b[39m\u001b[38;5;124m\"\u001b[39m: extra_fit_funcs}\n\u001b[0;32m    250\u001b[0m optim_settings\u001b[38;5;241m.\u001b[39mupdate(kwargs)\n",
      "File \u001b[1;32m~\\anaconda3\\lib\\site-packages\\statsmodels\\base\\optimizer.py:651\u001b[0m, in \u001b[0;36m_fit_lbfgs\u001b[1;34m(f, score, start_params, fargs, kwargs, disp, maxiter, callback, retall, full_output, hess)\u001b[0m\n\u001b[0;32m    648\u001b[0m \u001b[38;5;28;01melif\u001b[39;00m approx_grad:\n\u001b[0;32m    649\u001b[0m     func \u001b[38;5;241m=\u001b[39m f\n\u001b[1;32m--> 651\u001b[0m retvals \u001b[38;5;241m=\u001b[39m optimize\u001b[38;5;241m.\u001b[39mfmin_l_bfgs_b(func, start_params, maxiter\u001b[38;5;241m=\u001b[39mmaxiter,\n\u001b[0;32m    652\u001b[0m                                  callback\u001b[38;5;241m=\u001b[39mcallback, args\u001b[38;5;241m=\u001b[39mfargs,\n\u001b[0;32m    653\u001b[0m                                  bounds\u001b[38;5;241m=\u001b[39mbounds, disp\u001b[38;5;241m=\u001b[39mdisp,\n\u001b[0;32m    654\u001b[0m                                  \u001b[38;5;241m*\u001b[39m\u001b[38;5;241m*\u001b[39mextra_kwargs)\n\u001b[0;32m    656\u001b[0m \u001b[38;5;28;01mif\u001b[39;00m full_output:\n\u001b[0;32m    657\u001b[0m     xopt, fopt, d \u001b[38;5;241m=\u001b[39m retvals\n",
      "File \u001b[1;32m~\\anaconda3\\lib\\site-packages\\scipy\\optimize\\lbfgsb.py:197\u001b[0m, in \u001b[0;36mfmin_l_bfgs_b\u001b[1;34m(func, x0, fprime, args, approx_grad, bounds, m, factr, pgtol, epsilon, iprint, maxfun, maxiter, disp, callback, maxls)\u001b[0m\n\u001b[0;32m    185\u001b[0m     disp \u001b[38;5;241m=\u001b[39m iprint\n\u001b[0;32m    186\u001b[0m opts \u001b[38;5;241m=\u001b[39m {\u001b[38;5;124m'\u001b[39m\u001b[38;5;124mdisp\u001b[39m\u001b[38;5;124m'\u001b[39m: disp,\n\u001b[0;32m    187\u001b[0m         \u001b[38;5;124m'\u001b[39m\u001b[38;5;124miprint\u001b[39m\u001b[38;5;124m'\u001b[39m: iprint,\n\u001b[0;32m    188\u001b[0m         \u001b[38;5;124m'\u001b[39m\u001b[38;5;124mmaxcor\u001b[39m\u001b[38;5;124m'\u001b[39m: m,\n\u001b[1;32m   (...)\u001b[0m\n\u001b[0;32m    194\u001b[0m         \u001b[38;5;124m'\u001b[39m\u001b[38;5;124mcallback\u001b[39m\u001b[38;5;124m'\u001b[39m: callback,\n\u001b[0;32m    195\u001b[0m         \u001b[38;5;124m'\u001b[39m\u001b[38;5;124mmaxls\u001b[39m\u001b[38;5;124m'\u001b[39m: maxls}\n\u001b[1;32m--> 197\u001b[0m res \u001b[38;5;241m=\u001b[39m _minimize_lbfgsb(fun, x0, args\u001b[38;5;241m=\u001b[39margs, jac\u001b[38;5;241m=\u001b[39mjac, bounds\u001b[38;5;241m=\u001b[39mbounds,\n\u001b[0;32m    198\u001b[0m                        \u001b[38;5;241m*\u001b[39m\u001b[38;5;241m*\u001b[39mopts)\n\u001b[0;32m    199\u001b[0m d \u001b[38;5;241m=\u001b[39m {\u001b[38;5;124m'\u001b[39m\u001b[38;5;124mgrad\u001b[39m\u001b[38;5;124m'\u001b[39m: res[\u001b[38;5;124m'\u001b[39m\u001b[38;5;124mjac\u001b[39m\u001b[38;5;124m'\u001b[39m],\n\u001b[0;32m    200\u001b[0m      \u001b[38;5;124m'\u001b[39m\u001b[38;5;124mtask\u001b[39m\u001b[38;5;124m'\u001b[39m: res[\u001b[38;5;124m'\u001b[39m\u001b[38;5;124mmessage\u001b[39m\u001b[38;5;124m'\u001b[39m],\n\u001b[0;32m    201\u001b[0m      \u001b[38;5;124m'\u001b[39m\u001b[38;5;124mfuncalls\u001b[39m\u001b[38;5;124m'\u001b[39m: res[\u001b[38;5;124m'\u001b[39m\u001b[38;5;124mnfev\u001b[39m\u001b[38;5;124m'\u001b[39m],\n\u001b[0;32m    202\u001b[0m      \u001b[38;5;124m'\u001b[39m\u001b[38;5;124mnit\u001b[39m\u001b[38;5;124m'\u001b[39m: res[\u001b[38;5;124m'\u001b[39m\u001b[38;5;124mnit\u001b[39m\u001b[38;5;124m'\u001b[39m],\n\u001b[0;32m    203\u001b[0m      \u001b[38;5;124m'\u001b[39m\u001b[38;5;124mwarnflag\u001b[39m\u001b[38;5;124m'\u001b[39m: res[\u001b[38;5;124m'\u001b[39m\u001b[38;5;124mstatus\u001b[39m\u001b[38;5;124m'\u001b[39m]}\n\u001b[0;32m    204\u001b[0m f \u001b[38;5;241m=\u001b[39m res[\u001b[38;5;124m'\u001b[39m\u001b[38;5;124mfun\u001b[39m\u001b[38;5;124m'\u001b[39m]\n",
      "File \u001b[1;32m~\\anaconda3\\lib\\site-packages\\scipy\\optimize\\lbfgsb.py:360\u001b[0m, in \u001b[0;36m_minimize_lbfgsb\u001b[1;34m(fun, x0, args, jac, bounds, disp, maxcor, ftol, gtol, eps, maxfun, maxiter, iprint, callback, maxls, finite_diff_rel_step, **unknown_options)\u001b[0m\n\u001b[0;32m    354\u001b[0m task_str \u001b[38;5;241m=\u001b[39m task\u001b[38;5;241m.\u001b[39mtobytes()\n\u001b[0;32m    355\u001b[0m \u001b[38;5;28;01mif\u001b[39;00m task_str\u001b[38;5;241m.\u001b[39mstartswith(\u001b[38;5;124mb\u001b[39m\u001b[38;5;124m'\u001b[39m\u001b[38;5;124mFG\u001b[39m\u001b[38;5;124m'\u001b[39m):\n\u001b[0;32m    356\u001b[0m     \u001b[38;5;66;03m# The minimization routine wants f and g at the current x.\u001b[39;00m\n\u001b[0;32m    357\u001b[0m     \u001b[38;5;66;03m# Note that interruptions due to maxfun are postponed\u001b[39;00m\n\u001b[0;32m    358\u001b[0m     \u001b[38;5;66;03m# until the completion of the current minimization iteration.\u001b[39;00m\n\u001b[0;32m    359\u001b[0m     \u001b[38;5;66;03m# Overwrite f and g:\u001b[39;00m\n\u001b[1;32m--> 360\u001b[0m     f, g \u001b[38;5;241m=\u001b[39m \u001b[43mfunc_and_grad\u001b[49m\u001b[43m(\u001b[49m\u001b[43mx\u001b[49m\u001b[43m)\u001b[49m\n\u001b[0;32m    361\u001b[0m \u001b[38;5;28;01melif\u001b[39;00m task_str\u001b[38;5;241m.\u001b[39mstartswith(\u001b[38;5;124mb\u001b[39m\u001b[38;5;124m'\u001b[39m\u001b[38;5;124mNEW_X\u001b[39m\u001b[38;5;124m'\u001b[39m):\n\u001b[0;32m    362\u001b[0m     \u001b[38;5;66;03m# new iteration\u001b[39;00m\n\u001b[0;32m    363\u001b[0m     n_iterations \u001b[38;5;241m+\u001b[39m\u001b[38;5;241m=\u001b[39m \u001b[38;5;241m1\u001b[39m\n",
      "File \u001b[1;32m~\\anaconda3\\lib\\site-packages\\scipy\\optimize\\_differentiable_functions.py:267\u001b[0m, in \u001b[0;36mScalarFunction.fun_and_grad\u001b[1;34m(self, x)\u001b[0m\n\u001b[0;32m    265\u001b[0m \u001b[38;5;28;01mif\u001b[39;00m \u001b[38;5;129;01mnot\u001b[39;00m np\u001b[38;5;241m.\u001b[39marray_equal(x, \u001b[38;5;28mself\u001b[39m\u001b[38;5;241m.\u001b[39mx):\n\u001b[0;32m    266\u001b[0m     \u001b[38;5;28mself\u001b[39m\u001b[38;5;241m.\u001b[39m_update_x_impl(x)\n\u001b[1;32m--> 267\u001b[0m \u001b[38;5;28;43mself\u001b[39;49m\u001b[38;5;241;43m.\u001b[39;49m\u001b[43m_update_fun\u001b[49m\u001b[43m(\u001b[49m\u001b[43m)\u001b[49m\n\u001b[0;32m    268\u001b[0m \u001b[38;5;28mself\u001b[39m\u001b[38;5;241m.\u001b[39m_update_grad()\n\u001b[0;32m    269\u001b[0m \u001b[38;5;28;01mreturn\u001b[39;00m \u001b[38;5;28mself\u001b[39m\u001b[38;5;241m.\u001b[39mf, \u001b[38;5;28mself\u001b[39m\u001b[38;5;241m.\u001b[39mg\n",
      "File \u001b[1;32m~\\anaconda3\\lib\\site-packages\\scipy\\optimize\\_differentiable_functions.py:233\u001b[0m, in \u001b[0;36mScalarFunction._update_fun\u001b[1;34m(self)\u001b[0m\n\u001b[0;32m    231\u001b[0m \u001b[38;5;28;01mdef\u001b[39;00m \u001b[38;5;21m_update_fun\u001b[39m(\u001b[38;5;28mself\u001b[39m):\n\u001b[0;32m    232\u001b[0m     \u001b[38;5;28;01mif\u001b[39;00m \u001b[38;5;129;01mnot\u001b[39;00m \u001b[38;5;28mself\u001b[39m\u001b[38;5;241m.\u001b[39mf_updated:\n\u001b[1;32m--> 233\u001b[0m         \u001b[38;5;28;43mself\u001b[39;49m\u001b[38;5;241;43m.\u001b[39;49m\u001b[43m_update_fun_impl\u001b[49m\u001b[43m(\u001b[49m\u001b[43m)\u001b[49m\n\u001b[0;32m    234\u001b[0m         \u001b[38;5;28mself\u001b[39m\u001b[38;5;241m.\u001b[39mf_updated \u001b[38;5;241m=\u001b[39m \u001b[38;5;28;01mTrue\u001b[39;00m\n",
      "File \u001b[1;32m~\\anaconda3\\lib\\site-packages\\scipy\\optimize\\_differentiable_functions.py:137\u001b[0m, in \u001b[0;36mScalarFunction.__init__.<locals>.update_fun\u001b[1;34m()\u001b[0m\n\u001b[0;32m    136\u001b[0m \u001b[38;5;28;01mdef\u001b[39;00m \u001b[38;5;21mupdate_fun\u001b[39m():\n\u001b[1;32m--> 137\u001b[0m     \u001b[38;5;28mself\u001b[39m\u001b[38;5;241m.\u001b[39mf \u001b[38;5;241m=\u001b[39m \u001b[43mfun_wrapped\u001b[49m\u001b[43m(\u001b[49m\u001b[38;5;28;43mself\u001b[39;49m\u001b[38;5;241;43m.\u001b[39;49m\u001b[43mx\u001b[49m\u001b[43m)\u001b[49m\n",
      "File \u001b[1;32m~\\anaconda3\\lib\\site-packages\\scipy\\optimize\\_differentiable_functions.py:134\u001b[0m, in \u001b[0;36mScalarFunction.__init__.<locals>.fun_wrapped\u001b[1;34m(x)\u001b[0m\n\u001b[0;32m    130\u001b[0m \u001b[38;5;28mself\u001b[39m\u001b[38;5;241m.\u001b[39mnfev \u001b[38;5;241m+\u001b[39m\u001b[38;5;241m=\u001b[39m \u001b[38;5;241m1\u001b[39m\n\u001b[0;32m    131\u001b[0m \u001b[38;5;66;03m# Send a copy because the user may overwrite it.\u001b[39;00m\n\u001b[0;32m    132\u001b[0m \u001b[38;5;66;03m# Overwriting results in undefined behaviour because\u001b[39;00m\n\u001b[0;32m    133\u001b[0m \u001b[38;5;66;03m# fun(self.x) will change self.x, with the two no longer linked.\u001b[39;00m\n\u001b[1;32m--> 134\u001b[0m \u001b[38;5;28;01mreturn\u001b[39;00m \u001b[43mfun\u001b[49m\u001b[43m(\u001b[49m\u001b[43mnp\u001b[49m\u001b[38;5;241;43m.\u001b[39;49m\u001b[43mcopy\u001b[49m\u001b[43m(\u001b[49m\u001b[43mx\u001b[49m\u001b[43m)\u001b[49m\u001b[43m,\u001b[49m\u001b[43m \u001b[49m\u001b[38;5;241;43m*\u001b[39;49m\u001b[43margs\u001b[49m\u001b[43m)\u001b[49m\n",
      "File \u001b[1;32m~\\anaconda3\\lib\\site-packages\\statsmodels\\base\\model.py:531\u001b[0m, in \u001b[0;36mLikelihoodModel.fit.<locals>.f\u001b[1;34m(params, *args)\u001b[0m\n\u001b[0;32m    530\u001b[0m \u001b[38;5;28;01mdef\u001b[39;00m \u001b[38;5;21mf\u001b[39m(params, \u001b[38;5;241m*\u001b[39margs):\n\u001b[1;32m--> 531\u001b[0m     \u001b[38;5;28;01mreturn\u001b[39;00m \u001b[38;5;241m-\u001b[39m\u001b[38;5;28;43mself\u001b[39;49m\u001b[38;5;241;43m.\u001b[39;49m\u001b[43mloglike\u001b[49m\u001b[43m(\u001b[49m\u001b[43mparams\u001b[49m\u001b[43m,\u001b[49m\u001b[43m \u001b[49m\u001b[38;5;241;43m*\u001b[39;49m\u001b[43margs\u001b[49m\u001b[43m)\u001b[49m \u001b[38;5;241m/\u001b[39m nobs\n",
      "File \u001b[1;32m~\\anaconda3\\lib\\site-packages\\statsmodels\\tsa\\statespace\\mlemodel.py:939\u001b[0m, in \u001b[0;36mMLEModel.loglike\u001b[1;34m(self, params, *args, **kwargs)\u001b[0m\n\u001b[0;32m    936\u001b[0m \u001b[38;5;28;01mif\u001b[39;00m complex_step:\n\u001b[0;32m    937\u001b[0m     kwargs[\u001b[38;5;124m'\u001b[39m\u001b[38;5;124minversion_method\u001b[39m\u001b[38;5;124m'\u001b[39m] \u001b[38;5;241m=\u001b[39m INVERT_UNIVARIATE \u001b[38;5;241m|\u001b[39m SOLVE_LU\n\u001b[1;32m--> 939\u001b[0m loglike \u001b[38;5;241m=\u001b[39m \u001b[38;5;28mself\u001b[39m\u001b[38;5;241m.\u001b[39mssm\u001b[38;5;241m.\u001b[39mloglike(complex_step\u001b[38;5;241m=\u001b[39mcomplex_step, \u001b[38;5;241m*\u001b[39m\u001b[38;5;241m*\u001b[39mkwargs)\n\u001b[0;32m    941\u001b[0m \u001b[38;5;66;03m# Koopman, Shephard, and Doornik recommend maximizing the average\u001b[39;00m\n\u001b[0;32m    942\u001b[0m \u001b[38;5;66;03m# likelihood to avoid scale issues, but the averaging is done\u001b[39;00m\n\u001b[0;32m    943\u001b[0m \u001b[38;5;66;03m# automatically in the base model `fit` method\u001b[39;00m\n\u001b[0;32m    944\u001b[0m \u001b[38;5;28;01mreturn\u001b[39;00m loglike\n",
      "File \u001b[1;32m~\\anaconda3\\lib\\site-packages\\statsmodels\\tsa\\statespace\\kalman_filter.py:983\u001b[0m, in \u001b[0;36mKalmanFilter.loglike\u001b[1;34m(self, **kwargs)\u001b[0m\n\u001b[0;32m    967\u001b[0m \u001b[38;5;250m\u001b[39m\u001b[38;5;124mr\u001b[39m\u001b[38;5;124;03m\"\"\"\u001b[39;00m\n\u001b[0;32m    968\u001b[0m \u001b[38;5;124;03mCalculate the loglikelihood associated with the statespace model.\u001b[39;00m\n\u001b[0;32m    969\u001b[0m \n\u001b[1;32m   (...)\u001b[0m\n\u001b[0;32m    979\u001b[0m \u001b[38;5;124;03m    The joint loglikelihood.\u001b[39;00m\n\u001b[0;32m    980\u001b[0m \u001b[38;5;124;03m\"\"\"\u001b[39;00m\n\u001b[0;32m    981\u001b[0m kwargs\u001b[38;5;241m.\u001b[39msetdefault(\u001b[38;5;124m'\u001b[39m\u001b[38;5;124mconserve_memory\u001b[39m\u001b[38;5;124m'\u001b[39m,\n\u001b[0;32m    982\u001b[0m                   MEMORY_CONSERVE \u001b[38;5;241m^\u001b[39m MEMORY_NO_LIKELIHOOD)\n\u001b[1;32m--> 983\u001b[0m kfilter \u001b[38;5;241m=\u001b[39m \u001b[38;5;28mself\u001b[39m\u001b[38;5;241m.\u001b[39m_filter(\u001b[38;5;241m*\u001b[39m\u001b[38;5;241m*\u001b[39mkwargs)\n\u001b[0;32m    984\u001b[0m loglikelihood_burn \u001b[38;5;241m=\u001b[39m kwargs\u001b[38;5;241m.\u001b[39mget(\u001b[38;5;124m'\u001b[39m\u001b[38;5;124mloglikelihood_burn\u001b[39m\u001b[38;5;124m'\u001b[39m,\n\u001b[0;32m    985\u001b[0m                                 \u001b[38;5;28mself\u001b[39m\u001b[38;5;241m.\u001b[39mloglikelihood_burn)\n\u001b[0;32m    986\u001b[0m \u001b[38;5;28;01mif\u001b[39;00m \u001b[38;5;129;01mnot\u001b[39;00m (kwargs[\u001b[38;5;124m'\u001b[39m\u001b[38;5;124mconserve_memory\u001b[39m\u001b[38;5;124m'\u001b[39m] \u001b[38;5;241m&\u001b[39m MEMORY_NO_LIKELIHOOD):\n",
      "File \u001b[1;32m~\\anaconda3\\lib\\site-packages\\statsmodels\\tsa\\statespace\\kalman_filter.py:903\u001b[0m, in \u001b[0;36mKalmanFilter._filter\u001b[1;34m(self, filter_method, inversion_method, stability_method, conserve_memory, filter_timing, tolerance, loglikelihood_burn, complex_step)\u001b[0m\n\u001b[0;32m    900\u001b[0m kfilter \u001b[38;5;241m=\u001b[39m \u001b[38;5;28mself\u001b[39m\u001b[38;5;241m.\u001b[39m_kalman_filters[prefix]\n\u001b[0;32m    902\u001b[0m \u001b[38;5;66;03m# Initialize the state\u001b[39;00m\n\u001b[1;32m--> 903\u001b[0m \u001b[38;5;28;43mself\u001b[39;49m\u001b[38;5;241;43m.\u001b[39;49m\u001b[43m_initialize_state\u001b[49m\u001b[43m(\u001b[49m\u001b[43mprefix\u001b[49m\u001b[38;5;241;43m=\u001b[39;49m\u001b[43mprefix\u001b[49m\u001b[43m,\u001b[49m\u001b[43m \u001b[49m\u001b[43mcomplex_step\u001b[49m\u001b[38;5;241;43m=\u001b[39;49m\u001b[43mcomplex_step\u001b[49m\u001b[43m)\u001b[49m\n\u001b[0;32m    905\u001b[0m \u001b[38;5;66;03m# Run the filter\u001b[39;00m\n\u001b[0;32m    906\u001b[0m kfilter()\n",
      "File \u001b[1;32m~\\anaconda3\\lib\\site-packages\\statsmodels\\tsa\\statespace\\representation.py:983\u001b[0m, in \u001b[0;36mRepresentation._initialize_state\u001b[1;34m(self, prefix, complex_step)\u001b[0m\n\u001b[0;32m    981\u001b[0m     \u001b[38;5;28;01mif\u001b[39;00m \u001b[38;5;129;01mnot\u001b[39;00m \u001b[38;5;28mself\u001b[39m\u001b[38;5;241m.\u001b[39minitialization\u001b[38;5;241m.\u001b[39minitialized:\n\u001b[0;32m    982\u001b[0m         \u001b[38;5;28;01mraise\u001b[39;00m \u001b[38;5;167;01mRuntimeError\u001b[39;00m(\u001b[38;5;124m'\u001b[39m\u001b[38;5;124mInitialization is incomplete.\u001b[39m\u001b[38;5;124m'\u001b[39m)\n\u001b[1;32m--> 983\u001b[0m     \u001b[38;5;28;43mself\u001b[39;49m\u001b[38;5;241;43m.\u001b[39;49m\u001b[43m_statespaces\u001b[49m\u001b[43m[\u001b[49m\u001b[43mprefix\u001b[49m\u001b[43m]\u001b[49m\u001b[38;5;241;43m.\u001b[39;49m\u001b[43minitialize\u001b[49m\u001b[43m(\u001b[49m\u001b[38;5;28;43mself\u001b[39;49m\u001b[38;5;241;43m.\u001b[39;49m\u001b[43minitialization\u001b[49m\u001b[43m,\u001b[49m\n\u001b[0;32m    984\u001b[0m \u001b[43m                                         \u001b[49m\u001b[43mcomplex_step\u001b[49m\u001b[38;5;241;43m=\u001b[39;49m\u001b[43mcomplex_step\u001b[49m\u001b[43m)\u001b[49m\n\u001b[0;32m    985\u001b[0m \u001b[38;5;28;01melse\u001b[39;00m:\n\u001b[0;32m    986\u001b[0m     \u001b[38;5;28;01mraise\u001b[39;00m \u001b[38;5;167;01mRuntimeError\u001b[39;00m(\u001b[38;5;124m'\u001b[39m\u001b[38;5;124mStatespace model not initialized.\u001b[39m\u001b[38;5;124m'\u001b[39m)\n",
      "File \u001b[1;32mstatsmodels\\tsa\\statespace\\_representation.pyx:1373\u001b[0m, in \u001b[0;36mstatsmodels.tsa.statespace._representation.dStatespace.initialize\u001b[1;34m()\u001b[0m\n",
      "File \u001b[1;32mstatsmodels\\tsa\\statespace\\_representation.pyx:1362\u001b[0m, in \u001b[0;36mstatsmodels.tsa.statespace._representation.dStatespace.initialize\u001b[1;34m()\u001b[0m\n",
      "File \u001b[1;32mstatsmodels\\tsa\\statespace\\_initialization.pyx:288\u001b[0m, in \u001b[0;36mstatsmodels.tsa.statespace._initialization.dInitialization.initialize\u001b[1;34m()\u001b[0m\n",
      "File \u001b[1;32mstatsmodels\\tsa\\statespace\\_initialization.pyx:406\u001b[0m, in \u001b[0;36mstatsmodels.tsa.statespace._initialization.dInitialization.initialize_stationary_stationary_cov\u001b[1;34m()\u001b[0m\n",
      "File \u001b[1;32mstatsmodels\\tsa\\statespace\\_tools.pyx:1206\u001b[0m, in \u001b[0;36mstatsmodels.tsa.statespace._tools._dsolve_discrete_lyapunov\u001b[1;34m()\u001b[0m\n",
      "\u001b[1;31mLinAlgError\u001b[0m: LU decomposition error."
     ]
    }
   ],
   "source": [
    "min_mse_arima = 99999999999999999999\n",
    "pv = dv = qv = 0\n",
    "c = 0\n",
    "for i in plist:\n",
    "    for j in dlist:\n",
    "        for k in qlist:\n",
    "            model = ARIMA(train1,order=(i,j,k))\n",
    "            model_fit = model.fit()\n",
    "            fcast = model_fit.forecast(len(test1))\n",
    "            mse = mean_squared_error(test1,fcast)\n",
    "            rmse = np.sqrt(mse)\n",
    "            c += 1\n",
    "            print(f'For Iteration {c},p={i},d={j},q={k},MSE={mse},rmse={rmse}')\n",
    "            if mse <= min_mse_arima:\n",
    "                min_mse_arima = mse\n",
    "                pv = i\n",
    "                dv = j\n",
    "                qv = k "
   ]
  },
  {
   "cell_type": "code",
   "execution_count": null,
   "id": "cb453726",
   "metadata": {},
   "outputs": [],
   "source": []
  },
  {
   "cell_type": "code",
   "execution_count": null,
   "id": "02eb1c8a",
   "metadata": {},
   "outputs": [],
   "source": []
  },
  {
   "cell_type": "code",
   "execution_count": null,
   "id": "6c3f7dcf",
   "metadata": {},
   "outputs": [],
   "source": []
  },
  {
   "cell_type": "code",
   "execution_count": null,
   "id": "dbad488c",
   "metadata": {},
   "outputs": [],
   "source": []
  },
  {
   "cell_type": "code",
   "execution_count": null,
   "id": "12ed1db4",
   "metadata": {},
   "outputs": [],
   "source": []
  },
  {
   "cell_type": "code",
   "execution_count": null,
   "id": "2198d8c3",
   "metadata": {},
   "outputs": [],
   "source": []
  },
  {
   "cell_type": "code",
   "execution_count": null,
   "id": "f8e56688",
   "metadata": {},
   "outputs": [],
   "source": []
  },
  {
   "cell_type": "code",
   "execution_count": null,
   "id": "dbfe2d9f",
   "metadata": {},
   "outputs": [],
   "source": []
  },
  {
   "cell_type": "code",
   "execution_count": null,
   "id": "c88d58e2",
   "metadata": {},
   "outputs": [],
   "source": []
  },
  {
   "cell_type": "code",
   "execution_count": null,
   "id": "37e4abb1",
   "metadata": {},
   "outputs": [],
   "source": []
  },
  {
   "cell_type": "markdown",
   "id": "35764b01",
   "metadata": {},
   "source": [
    "## Tes"
   ]
  },
  {
   "cell_type": "code",
   "execution_count": 135,
   "id": "06607500",
   "metadata": {},
   "outputs": [],
   "source": [
    "def eval_model(test,pred,model_name):\n",
    "    mae = mean_absolute_error(test,pred)\n",
    "    mse = mean_squared_error(test,pred)\n",
    "    rmse = np.sqrt(mse)\n",
    "    mape = mean_absolute_percentage_error(test,pred)\n",
    "    res = pd.DataFrame({'MAE':mae,'MSE':mse,'RMSE':rmse,'MAPE':mape},index=[model_name])\n",
    "    return res\n",
    "\n",
    "def plot_res(train,test,fcast):\n",
    "    plt.plot(train,label='Train')\n",
    "    plt.plot(test,label='Test')\n",
    "    plt.plot(fcast,label='Forecast')\n",
    "    plt.legend()\n",
    "    plt.show()"
   ]
  },
  {
   "cell_type": "code",
   "execution_count": 136,
   "id": "036886c1",
   "metadata": {},
   "outputs": [
    {
     "name": "stdout",
     "output_type": "stream",
     "text": [
      "9 9 9\n",
      "729\n"
     ]
    }
   ],
   "source": [
    "alpha = [0.1,0.15,0.2,0.25,0.3,0.35,0.4,0.45,0.5] \n",
    "beta =  [0.1,0.15,0.2,0.25,0.3,0.35,0.4,0.45,0.5]\n",
    "gamma = [0.1,0.15,0.2,0.25,0.3,0.35,0.4,0.45,0.5]\n",
    "print(len(alpha),len(beta),len(gamma))\n",
    "print(9*9*9)"
   ]
  },
  {
   "cell_type": "code",
   "execution_count": 137,
   "id": "b9a714c3",
   "metadata": {},
   "outputs": [
    {
     "ename": "ValueError",
     "evalue": "seasonal_periods has not been provided and index does not have a known freq. You must provide seasonal_periods",
     "output_type": "error",
     "traceback": [
      "\u001b[1;31m---------------------------------------------------------------------------\u001b[0m",
      "\u001b[1;31mAttributeError\u001b[0m                            Traceback (most recent call last)",
      "File \u001b[1;32m~\\anaconda3\\lib\\site-packages\\statsmodels\\tsa\\holtwinters\\model.py:255\u001b[0m, in \u001b[0;36mExponentialSmoothing.__init__\u001b[1;34m(self, endog, trend, damped_trend, seasonal, seasonal_periods, initialization_method, initial_level, initial_trend, initial_seasonal, use_boxcox, bounds, dates, freq, missing)\u001b[0m\n\u001b[0;32m    254\u001b[0m \u001b[38;5;28;01mtry\u001b[39;00m:\n\u001b[1;32m--> 255\u001b[0m     \u001b[38;5;28mself\u001b[39m\u001b[38;5;241m.\u001b[39mseasonal_periods \u001b[38;5;241m=\u001b[39m \u001b[43mfreq_to_period\u001b[49m\u001b[43m(\u001b[49m\u001b[38;5;28;43mself\u001b[39;49m\u001b[38;5;241;43m.\u001b[39;49m\u001b[43m_index_freq\u001b[49m\u001b[43m)\u001b[49m\n\u001b[0;32m    256\u001b[0m \u001b[38;5;28;01mexcept\u001b[39;00m \u001b[38;5;167;01mException\u001b[39;00m:\n",
      "File \u001b[1;32m~\\anaconda3\\lib\\site-packages\\statsmodels\\tsa\\tsatools.py:796\u001b[0m, in \u001b[0;36mfreq_to_period\u001b[1;34m(freq)\u001b[0m\n\u001b[0;32m    795\u001b[0m     freq \u001b[38;5;241m=\u001b[39m to_offset(freq)  \u001b[38;5;66;03m# go ahead and standardize\u001b[39;00m\n\u001b[1;32m--> 796\u001b[0m freq \u001b[38;5;241m=\u001b[39m \u001b[43mfreq\u001b[49m\u001b[38;5;241;43m.\u001b[39;49m\u001b[43mrule_code\u001b[49m\u001b[38;5;241m.\u001b[39mupper()\n\u001b[0;32m    798\u001b[0m \u001b[38;5;28;01mif\u001b[39;00m freq \u001b[38;5;241m==\u001b[39m \u001b[38;5;124m\"\u001b[39m\u001b[38;5;124mA\u001b[39m\u001b[38;5;124m\"\u001b[39m \u001b[38;5;129;01mor\u001b[39;00m freq\u001b[38;5;241m.\u001b[39mstartswith((\u001b[38;5;124m\"\u001b[39m\u001b[38;5;124mA-\u001b[39m\u001b[38;5;124m\"\u001b[39m, \u001b[38;5;124m\"\u001b[39m\u001b[38;5;124mAS-\u001b[39m\u001b[38;5;124m\"\u001b[39m)):\n",
      "\u001b[1;31mAttributeError\u001b[0m: 'NoneType' object has no attribute 'rule_code'",
      "\nDuring handling of the above exception, another exception occurred:\n",
      "\u001b[1;31mValueError\u001b[0m                                Traceback (most recent call last)",
      "Input \u001b[1;32mIn [137]\u001b[0m, in \u001b[0;36m<cell line: 4>\u001b[1;34m()\u001b[0m\n\u001b[0;32m      5\u001b[0m \u001b[38;5;28;01mfor\u001b[39;00m j \u001b[38;5;129;01min\u001b[39;00m beta:\n\u001b[0;32m      6\u001b[0m     \u001b[38;5;28;01mfor\u001b[39;00m k \u001b[38;5;129;01min\u001b[39;00m gamma:\n\u001b[1;32m----> 7\u001b[0m         es \u001b[38;5;241m=\u001b[39m \u001b[43mExponentialSmoothing\u001b[49m\u001b[43m(\u001b[49m\u001b[43mtrain\u001b[49m\u001b[43m,\u001b[49m\u001b[43mtrend\u001b[49m\u001b[38;5;241;43m=\u001b[39;49m\u001b[38;5;124;43m'\u001b[39;49m\u001b[38;5;124;43madd\u001b[39;49m\u001b[38;5;124;43m'\u001b[39;49m\u001b[43m,\u001b[49m\u001b[43mseasonal\u001b[49m\u001b[38;5;241;43m=\u001b[39;49m\u001b[38;5;124;43m'\u001b[39;49m\u001b[38;5;124;43madd\u001b[39;49m\u001b[38;5;124;43m'\u001b[39;49m\u001b[43m)\u001b[49m\n\u001b[0;32m      8\u001b[0m         es_model \u001b[38;5;241m=\u001b[39m es\u001b[38;5;241m.\u001b[39mfit(smoothing_level\u001b[38;5;241m=\u001b[39mi,smoothing_trend\u001b[38;5;241m=\u001b[39mj,smoothing_seasonal\u001b[38;5;241m=\u001b[39mk)\n\u001b[0;32m      9\u001b[0m         fcast \u001b[38;5;241m=\u001b[39m es_model\u001b[38;5;241m.\u001b[39mforecast(\u001b[38;5;28mlen\u001b[39m(test))\n",
      "File \u001b[1;32m~\\anaconda3\\lib\\site-packages\\pandas\\util\\_decorators.py:207\u001b[0m, in \u001b[0;36mdeprecate_kwarg.<locals>._deprecate_kwarg.<locals>.wrapper\u001b[1;34m(*args, **kwargs)\u001b[0m\n\u001b[0;32m    205\u001b[0m     \u001b[38;5;28;01melse\u001b[39;00m:\n\u001b[0;32m    206\u001b[0m         kwargs[new_arg_name] \u001b[38;5;241m=\u001b[39m new_arg_value\n\u001b[1;32m--> 207\u001b[0m \u001b[38;5;28;01mreturn\u001b[39;00m func(\u001b[38;5;241m*\u001b[39margs, \u001b[38;5;241m*\u001b[39m\u001b[38;5;241m*\u001b[39mkwargs)\n",
      "File \u001b[1;32m~\\anaconda3\\lib\\site-packages\\statsmodels\\tsa\\holtwinters\\model.py:257\u001b[0m, in \u001b[0;36mExponentialSmoothing.__init__\u001b[1;34m(self, endog, trend, damped_trend, seasonal, seasonal_periods, initialization_method, initial_level, initial_trend, initial_seasonal, use_boxcox, bounds, dates, freq, missing)\u001b[0m\n\u001b[0;32m    255\u001b[0m         \u001b[38;5;28mself\u001b[39m\u001b[38;5;241m.\u001b[39mseasonal_periods \u001b[38;5;241m=\u001b[39m freq_to_period(\u001b[38;5;28mself\u001b[39m\u001b[38;5;241m.\u001b[39m_index_freq)\n\u001b[0;32m    256\u001b[0m     \u001b[38;5;28;01mexcept\u001b[39;00m \u001b[38;5;167;01mException\u001b[39;00m:\n\u001b[1;32m--> 257\u001b[0m         \u001b[38;5;28;01mraise\u001b[39;00m \u001b[38;5;167;01mValueError\u001b[39;00m(\n\u001b[0;32m    258\u001b[0m             \u001b[38;5;124m\"\u001b[39m\u001b[38;5;124mseasonal_periods has not been provided and index \u001b[39m\u001b[38;5;124m\"\u001b[39m\n\u001b[0;32m    259\u001b[0m             \u001b[38;5;124m\"\u001b[39m\u001b[38;5;124mdoes not have a known freq. You must provide \u001b[39m\u001b[38;5;124m\"\u001b[39m\n\u001b[0;32m    260\u001b[0m             \u001b[38;5;124m\"\u001b[39m\u001b[38;5;124mseasonal_periods\u001b[39m\u001b[38;5;124m\"\u001b[39m\n\u001b[0;32m    261\u001b[0m         )\n\u001b[0;32m    262\u001b[0m \u001b[38;5;28;01mif\u001b[39;00m \u001b[38;5;28mself\u001b[39m\u001b[38;5;241m.\u001b[39mseasonal_periods \u001b[38;5;241m<\u001b[39m\u001b[38;5;241m=\u001b[39m \u001b[38;5;241m1\u001b[39m:\n\u001b[0;32m    263\u001b[0m     \u001b[38;5;28;01mraise\u001b[39;00m \u001b[38;5;167;01mValueError\u001b[39;00m(\u001b[38;5;124m\"\u001b[39m\u001b[38;5;124mseasonal_periods must be larger than 1.\u001b[39m\u001b[38;5;124m\"\u001b[39m)\n",
      "\u001b[1;31mValueError\u001b[0m: seasonal_periods has not been provided and index does not have a known freq. You must provide seasonal_periods"
     ]
    }
   ],
   "source": []
  },
  {
   "cell_type": "code",
   "execution_count": 120,
   "id": "e0f9bea8",
   "metadata": {},
   "outputs": [
    {
     "data": {
      "image/png": "[encoded data removed]",
      "text/plain": [
       "<Figure size 864x360 with 1 Axes>"
      ]
     },
     "metadata": {
      "needs_background": "light"
     },
     "output_type": "display_data"
    }
   ],
   "source": [
    "decom_add = seasonal_decompose(d3,model='add')\n",
    "\n",
    "original = decom_add.observed\n",
    "trend = decom_add.trend\n",
    "seasonal = decom_add.seasonal\n",
    "\n",
    "plt.figure(figsize=(12,5))\n",
    "plt.plot(original,label='Original')\n",
    "plt.plot(trend,label='Trend')\n",
    "plt.plot(seasonal,label='seasonal')\n",
    "plt.title('Additive Decomposition')\n",
    "plt.legend()\n",
    "plt.show()"
   ]
  },
  {
   "cell_type": "code",
   "execution_count": 128,
   "id": "fa8aac16",
   "metadata": {},
   "outputs": [
    {
     "data": {
      "text/plain": [
       "(4354, 1)"
      ]
     },
     "execution_count": 128,
     "metadata": {},
     "output_type": "execute_result"
    }
   ],
   "source": [
    "df2.shape"
   ]
  },
  {
   "cell_type": "code",
   "execution_count": 130,
   "id": "48ab6739",
   "metadata": {},
   "outputs": [
    {
     "name": "stdout",
     "output_type": "stream",
     "text": [
      "Test_Stat -12.972710168225833\n",
      "p 3.057428805562459e-24\n",
      "H1 accepted : Data is Stationary\n"
     ]
    }
   ],
   "source": [
    "\n",
    "adf_test(df2.diff(1).dropna())"
   ]
  },
  {
   "cell_type": "code",
   "execution_count": 131,
   "id": "91a41386",
   "metadata": {},
   "outputs": [
    {
     "data": {
      "text/plain": [
       "130620"
      ]
     },
     "execution_count": 131,
     "metadata": {},
     "output_type": "execute_result"
    }
   ],
   "source": [
    "4354*30"
   ]
  },
  {
   "cell_type": "code",
   "execution_count": 132,
   "id": "9574acc7",
   "metadata": {},
   "outputs": [
    {
     "data": {
      "text/plain": [
       "1306.2"
      ]
     },
     "execution_count": 132,
     "metadata": {},
     "output_type": "execute_result"
    }
   ],
   "source": [
    "130620/100"
   ]
  },
  {
   "cell_type": "code",
   "execution_count": 133,
   "id": "d019edee",
   "metadata": {},
   "outputs": [
    {
     "data": {
      "text/plain": [
       "3048"
      ]
     },
     "execution_count": 133,
     "metadata": {},
     "output_type": "execute_result"
    }
   ],
   "source": [
    "4354-1306"
   ]
  },
  {
   "cell_type": "code",
   "execution_count": 146,
   "id": "b9f35d43",
   "metadata": {},
   "outputs": [],
   "source": [
    "from statsmodels.tsa.holtwinters import ExponentialSmoothing"
   ]
  },
  {
   "cell_type": "code",
   "execution_count": 145,
   "id": "d4f99131",
   "metadata": {},
   "outputs": [],
   "source": [
    "df2_stationary=df2.diff(1).dropna()\n",
    "# Example assuming 'date_column' is your datetime column\n",
    "#df2_stationary['date'] = pd.to_datetime( df2_stationary['date'])\n",
    "# d3.set_index('date_column', inplace=True)\n",
    "\n",
    "# Set the frequency explicitly if it's not set\n",
    "# Example assuming your frequency is monthly\n",
    "#df2_stationary.index.freq = 'M'"
   ]
  },
  {
   "cell_type": "code",
   "execution_count": 139,
   "id": "d2304034",
   "metadata": {},
   "outputs": [
    {
     "name": "stdout",
     "output_type": "stream",
     "text": [
      "(3048, 1)\n",
      "(1305, 1)\n"
     ]
    }
   ],
   "source": [
    "train = df2_stationary.iloc[:3048]\n",
    "test = df2_stationary.iloc[3048:]\n",
    "print(train.shape)\n",
    "print(test.shape)"
   ]
  },
  {
   "cell_type": "code",
   "execution_count": 150,
   "id": "838b6f9d",
   "metadata": {},
   "outputs": [
    {
     "name": "stdout",
     "output_type": "stream",
     "text": [
      "For Iteration 1,alpha=0.1,beta=0.1,gamma=0.1,MSE=47248945.63028714\n",
      "For Iteration 2,alpha=0.1,beta=0.1,gamma=0.15,MSE=67743557.0334375\n",
      "For Iteration 3,alpha=0.1,beta=0.1,gamma=0.2,MSE=87470645.52336626\n",
      "For Iteration 4,alpha=0.1,beta=0.1,gamma=0.25,MSE=105608472.47645023\n",
      "For Iteration 5,alpha=0.1,beta=0.1,gamma=0.3,MSE=122194068.22413632\n",
      "For Iteration 6,alpha=0.1,beta=0.1,gamma=0.35,MSE=137498262.81710258\n",
      "For Iteration 7,alpha=0.1,beta=0.1,gamma=0.4,MSE=151818825.92147142\n",
      "For Iteration 8,alpha=0.1,beta=0.1,gamma=0.45,MSE=165415233.00403586\n",
      "For Iteration 9,alpha=0.1,beta=0.1,gamma=0.5,MSE=178484107.74240765\n",
      "For Iteration 10,alpha=0.1,beta=0.15,gamma=0.1,MSE=108370446.54066195\n",
      "For Iteration 11,alpha=0.1,beta=0.15,gamma=0.15,MSE=155140841.33431774\n",
      "For Iteration 12,alpha=0.1,beta=0.15,gamma=0.2,MSE=200176075.43875462\n",
      "For Iteration 13,alpha=0.1,beta=0.15,gamma=0.25,MSE=241736712.9959126\n",
      "For Iteration 14,alpha=0.1,beta=0.15,gamma=0.3,MSE=279997301.01219547\n",
      "For Iteration 15,alpha=0.1,beta=0.15,gamma=0.35,MSE=315654278.82612866\n",
      "For Iteration 16,alpha=0.1,beta=0.15,gamma=0.4,MSE=349458960.01597315\n",
      "For Iteration 17,alpha=0.1,beta=0.15,gamma=0.45,MSE=382071115.4740952\n",
      "For Iteration 18,alpha=0.1,beta=0.15,gamma=0.5,MSE=414002680.7258505\n",
      "For Iteration 19,alpha=0.1,beta=0.2,gamma=0.1,MSE=198131603.41022635\n",
      "For Iteration 20,alpha=0.1,beta=0.2,gamma=0.15,MSE=283063302.7796944\n",
      "For Iteration 21,alpha=0.1,beta=0.2,gamma=0.2,MSE=365042609.0637838\n",
      "For Iteration 22,alpha=0.1,beta=0.2,gamma=0.25,MSE=441151480.2554915\n",
      "For Iteration 23,alpha=0.1,beta=0.2,gamma=0.3,MSE=511872030.3669296\n",
      "For Iteration 24,alpha=0.1,beta=0.2,gamma=0.35,MSE=578619700.398744\n",
      "For Iteration 25,alpha=0.1,beta=0.2,gamma=0.4,MSE=642905994.257706\n",
      "For Iteration 26,alpha=0.1,beta=0.2,gamma=0.45,MSE=706079334.1637349\n",
      "For Iteration 27,alpha=0.1,beta=0.2,gamma=0.5,MSE=769222985.2339231\n",
      "For Iteration 28,alpha=0.1,beta=0.25,gamma=0.1,MSE=314878682.1819898\n",
      "For Iteration 29,alpha=0.1,beta=0.25,gamma=0.15,MSE=450905843.02591044\n",
      "For Iteration 30,alpha=0.1,beta=0.25,gamma=0.2,MSE=582928813.3630491\n",
      "For Iteration 31,alpha=0.1,beta=0.25,gamma=0.25,MSE=706549897.5662464\n",
      "For Iteration 32,alpha=0.1,beta=0.25,gamma=0.3,MSE=822747426.0278027\n",
      "For Iteration 33,alpha=0.1,beta=0.25,gamma=0.35,MSE=934023486.2801746\n",
      "For Iteration 34,alpha=0.1,beta=0.25,gamma=0.4,MSE=1043075331.1809295\n",
      "For Iteration 35,alpha=0.1,beta=0.25,gamma=0.45,MSE=1152388464.8901494\n",
      "For Iteration 36,alpha=0.1,beta=0.25,gamma=0.5,MSE=1264071053.6594539\n",
      "For Iteration 37,alpha=0.1,beta=0.3,gamma=0.1,MSE=460733784.21703017\n",
      "For Iteration 38,alpha=0.1,beta=0.3,gamma=0.15,MSE=662216084.8863919\n",
      "For Iteration 39,alpha=0.1,beta=0.3,gamma=0.2,MSE=858966113.5541447\n",
      "For Iteration 40,alpha=0.1,beta=0.3,gamma=0.25,MSE=1044877767.7851598\n",
      "For Iteration 41,alpha=0.1,beta=0.3,gamma=0.3,MSE=1221778626.294596\n",
      "For Iteration 42,alpha=0.1,beta=0.3,gamma=0.35,MSE=1393860062.0279496\n",
      "For Iteration 43,alpha=0.1,beta=0.3,gamma=0.4,MSE=1565732718.7629373\n",
      "For Iteration 44,alpha=0.1,beta=0.3,gamma=0.45,MSE=1741845856.853053\n",
      "For Iteration 45,alpha=0.1,beta=0.3,gamma=0.5,MSE=1926249908.915317\n",
      "For Iteration 46,alpha=0.1,beta=0.35,gamma=0.1,MSE=640452343.7392247\n",
      "For Iteration 47,alpha=0.1,beta=0.35,gamma=0.15,MSE=922568454.4378139\n",
      "For Iteration 48,alpha=0.1,beta=0.35,gamma=0.2,MSE=1199610509.1353579\n",
      "For Iteration 49,alpha=0.1,beta=0.35,gamma=0.25,MSE=1463850001.9506903\n",
      "For Iteration 50,alpha=0.1,beta=0.35,gamma=0.3,MSE=1718720473.0398033\n",
      "For Iteration 51,alpha=0.1,beta=0.35,gamma=0.35,MSE=1971190928.6299958\n",
      "For Iteration 52,alpha=0.1,beta=0.35,gamma=0.4,MSE=2229111750.9917555\n",
      "For Iteration 53,alpha=0.1,beta=0.35,gamma=0.45,MSE=2500482544.4283977\n",
      "For Iteration 54,alpha=0.1,beta=0.35,gamma=0.5,MSE=2793188219.7240777\n",
      "For Iteration 55,alpha=0.1,beta=0.4,gamma=0.1,MSE=854296962.4888488\n",
      "For Iteration 56,alpha=0.1,beta=0.4,gamma=0.15,MSE=1232173575.4155061\n",
      "For Iteration 57,alpha=0.1,beta=0.4,gamma=0.2,MSE=1605661378.8168197\n",
      "For Iteration 58,alpha=0.1,beta=0.4,gamma=0.25,MSE=1965995150.9397812\n",
      "For Iteration 59,alpha=0.1,beta=0.4,gamma=0.3,MSE=2319586276.3678246\n",
      "For Iteration 60,alpha=0.1,beta=0.4,gamma=0.35,MSE=2678056782.211496\n",
      "For Iteration 61,alpha=0.1,beta=0.4,gamma=0.4,MSE=3054885515.2986326\n",
      "For Iteration 62,alpha=0.1,beta=0.4,gamma=0.45,MSE=3464680201.46147\n",
      "For Iteration 63,alpha=0.1,beta=0.4,gamma=0.5,MSE=3923093848.4156437\n",
      "For Iteration 64,alpha=0.1,beta=0.45,gamma=0.1,MSE=1095778686.182845\n",
      "For Iteration 65,alpha=0.1,beta=0.45,gamma=0.15,MSE=1584813995.2375066\n",
      "For Iteration 66,alpha=0.1,beta=0.45,gamma=0.2,MSE=2072891244.4677808\n",
      "For Iteration 67,alpha=0.1,beta=0.45,gamma=0.25,MSE=2551396059.8474574\n",
      "For Iteration 68,alpha=0.1,beta=0.45,gamma=0.3,MSE=3031987791.012865\n",
      "For Iteration 69,alpha=0.1,beta=0.45,gamma=0.35,MSE=3534160187.543253\n",
      "For Iteration 70,alpha=0.1,beta=0.45,gamma=0.4,MSE=4081410296.5029244\n",
      "For Iteration 71,alpha=0.1,beta=0.45,gamma=0.45,MSE=4700968413.486068\n",
      "For Iteration 72,alpha=0.1,beta=0.45,gamma=0.5,MSE=5424527844.140143\n",
      "For Iteration 73,alpha=0.1,beta=0.5,gamma=0.1,MSE=1356965546.6629655\n",
      "For Iteration 74,alpha=0.1,beta=0.5,gamma=0.15,MSE=1974936340.0810509\n",
      "For Iteration 75,alpha=0.1,beta=0.5,gamma=0.2,MSE=2601003347.396357\n",
      "For Iteration 76,alpha=0.1,beta=0.5,gamma=0.25,MSE=3228853865.2846603\n",
      "For Iteration 77,alpha=0.1,beta=0.5,gamma=0.3,MSE=3879230664.716221\n",
      "For Iteration 78,alpha=0.1,beta=0.5,gamma=0.35,MSE=4585148976.334052\n",
      "For Iteration 79,alpha=0.1,beta=0.5,gamma=0.4,MSE=5388274152.537964\n",
      "For Iteration 80,alpha=0.1,beta=0.5,gamma=0.45,MSE=6340310622.303328\n",
      "For Iteration 81,alpha=0.1,beta=0.5,gamma=0.5,MSE=7506347531.087392\n",
      "For Iteration 82,alpha=0.15,beta=0.1,gamma=0.1,MSE=83346141.9528549\n",
      "For Iteration 83,alpha=0.15,beta=0.1,gamma=0.15,MSE=123856459.84224905\n",
      "For Iteration 84,alpha=0.15,beta=0.1,gamma=0.2,MSE=162277444.25158417\n",
      "For Iteration 85,alpha=0.15,beta=0.1,gamma=0.25,MSE=196973506.22907552\n",
      "For Iteration 86,alpha=0.15,beta=0.1,gamma=0.3,MSE=228183561.45859745\n",
      "For Iteration 87,alpha=0.15,beta=0.1,gamma=0.35,MSE=256713484.14107674\n",
      "For Iteration 88,alpha=0.15,beta=0.1,gamma=0.4,MSE=283485594.3686903\n",
      "For Iteration 89,alpha=0.15,beta=0.1,gamma=0.45,MSE=309395218.07987404\n",
      "For Iteration 90,alpha=0.15,beta=0.1,gamma=0.5,MSE=335274290.2078268\n",
      "For Iteration 91,alpha=0.15,beta=0.15,gamma=0.1,MSE=185960605.35838914\n",
      "For Iteration 92,alpha=0.15,beta=0.15,gamma=0.15,MSE=277512576.4264117\n",
      "For Iteration 93,alpha=0.15,beta=0.15,gamma=0.2,MSE=364586638.51078224\n",
      "For Iteration 94,alpha=0.15,beta=0.15,gamma=0.25,MSE=443698236.76490396\n",
      "For Iteration 95,alpha=0.15,beta=0.15,gamma=0.3,MSE=515592708.9917662\n",
      "For Iteration 96,alpha=0.15,beta=0.15,gamma=0.35,MSE=582382166.8070035\n",
      "For Iteration 97,alpha=0.15,beta=0.15,gamma=0.4,MSE=646504867.7010847\n",
      "For Iteration 98,alpha=0.15,beta=0.15,gamma=0.45,MSE=710425673.26454\n",
      "For Iteration 99,alpha=0.15,beta=0.15,gamma=0.5,MSE=776592739.0743958\n",
      "For Iteration 100,alpha=0.15,beta=0.2,gamma=0.1,MSE=326447135.0941088\n",
      "For Iteration 101,alpha=0.15,beta=0.2,gamma=0.15,MSE=490201695.2302813\n",
      "For Iteration 102,alpha=0.15,beta=0.2,gamma=0.2,MSE=646674824.1080618\n",
      "For Iteration 103,alpha=0.15,beta=0.2,gamma=0.25,MSE=789946177.3709598\n",
      "For Iteration 104,alpha=0.15,beta=0.2,gamma=0.3,MSE=921790185.4154712\n",
      "For Iteration 105,alpha=0.15,beta=0.2,gamma=0.35,MSE=1046659086.7812215\n",
      "For Iteration 106,alpha=0.15,beta=0.2,gamma=0.4,MSE=1169789413.9266353\n",
      "For Iteration 107,alpha=0.15,beta=0.2,gamma=0.45,MSE=1296753107.981255\n",
      "For Iteration 108,alpha=0.15,beta=0.2,gamma=0.5,MSE=1433504631.2653127\n",
      "For Iteration 109,alpha=0.15,beta=0.25,gamma=0.1,MSE=499073277.35226256\n",
      "For Iteration 110,alpha=0.15,beta=0.25,gamma=0.15,MSE=755366970.6564279\n",
      "For Iteration 111,alpha=0.15,beta=0.25,gamma=0.2,MSE=1001680553.710259\n",
      "For Iteration 112,alpha=0.15,beta=0.25,gamma=0.25,MSE=1229234030.9888756\n",
      "For Iteration 113,alpha=0.15,beta=0.25,gamma=0.3,MSE=1441735657.0878563\n",
      "For Iteration 114,alpha=0.15,beta=0.25,gamma=0.35,MSE=1647578297.2564633\n",
      "For Iteration 115,alpha=0.15,beta=0.25,gamma=0.4,MSE=1856874937.5539808\n",
      "For Iteration 116,alpha=0.15,beta=0.25,gamma=0.45,MSE=2081007799.883626\n",
      "For Iteration 117,alpha=0.15,beta=0.25,gamma=0.5,MSE=2333054228.947995\n",
      "For Iteration 118,alpha=0.15,beta=0.3,gamma=0.1,MSE=693808630.5384543\n"
     ]
    },
    {
     "name": "stdout",
     "output_type": "stream",
     "text": [
      "For Iteration 119,alpha=0.15,beta=0.3,gamma=0.15,MSE=1060736298.2060584\n",
      "For Iteration 120,alpha=0.15,beta=0.3,gamma=0.2,MSE=1415870391.0242596\n",
      "For Iteration 121,alpha=0.15,beta=0.3,gamma=0.25,MSE=1747304413.7565837\n",
      "For Iteration 122,alpha=0.15,beta=0.3,gamma=0.3,MSE=2062016935.6345906\n",
      "For Iteration 123,alpha=0.15,beta=0.3,gamma=0.35,MSE=2374583639.794513\n",
      "For Iteration 124,alpha=0.15,beta=0.3,gamma=0.4,MSE=2703055335.034153\n",
      "For Iteration 125,alpha=0.15,beta=0.3,gamma=0.45,MSE=3068904656.2913065\n",
      "For Iteration 126,alpha=0.15,beta=0.3,gamma=0.5,MSE=3498473011.7185802\n",
      "For Iteration 127,alpha=0.15,beta=0.35,gamma=0.1,MSE=895233202.5109961\n",
      "For Iteration 128,alpha=0.15,beta=0.35,gamma=0.15,MSE=1387411864.5174508\n",
      "For Iteration 129,alpha=0.15,beta=0.35,gamma=0.2,MSE=1867577478.8798683\n",
      "For Iteration 130,alpha=0.15,beta=0.35,gamma=0.25,MSE=2320145778.267395\n",
      "For Iteration 131,alpha=0.15,beta=0.35,gamma=0.3,MSE=2756684658.0986886\n",
      "For Iteration 132,alpha=0.15,beta=0.35,gamma=0.35,MSE=3200275372.3808284\n",
      "For Iteration 133,alpha=0.15,beta=0.35,gamma=0.4,MSE=3680290987.6362743\n",
      "For Iteration 134,alpha=0.15,beta=0.35,gamma=0.45,MSE=4233368069.685862\n",
      "For Iteration 135,alpha=0.15,beta=0.35,gamma=0.5,MSE=4906826074.371725\n",
      "For Iteration 136,alpha=0.15,beta=0.4,gamma=0.1,MSE=1086549594.2736976\n",
      "For Iteration 137,alpha=0.15,beta=0.4,gamma=0.15,MSE=1712418941.1777356\n",
      "For Iteration 138,alpha=0.15,beta=0.4,gamma=0.2,MSE=2326201305.007523\n",
      "For Iteration 139,alpha=0.15,beta=0.4,gamma=0.25,MSE=2906700687.5622244\n",
      "For Iteration 140,alpha=0.15,beta=0.4,gamma=0.3,MSE=3469904736.42175\n",
      "For Iteration 141,alpha=0.15,beta=0.4,gamma=0.35,MSE=4047634927.787769\n",
      "For Iteration 142,alpha=0.15,beta=0.4,gamma=0.4,MSE=4681102068.6191845\n",
      "For Iteration 143,alpha=0.15,beta=0.4,gamma=0.45,MSE=5423085900.81372\n",
      "For Iteration 144,alpha=0.15,beta=0.4,gamma=0.5,MSE=6343374061.195822\n",
      "For Iteration 145,alpha=0.15,beta=0.45,gamma=0.1,MSE=1246704426.6951506\n",
      "For Iteration 146,alpha=0.15,beta=0.45,gamma=0.15,MSE=1999278659.468244\n",
      "For Iteration 147,alpha=0.15,beta=0.45,gamma=0.2,MSE=2732595314.5558057\n",
      "For Iteration 148,alpha=0.15,beta=0.45,gamma=0.25,MSE=3414590730.8143244\n",
      "For Iteration 149,alpha=0.15,beta=0.45,gamma=0.3,MSE=4061024378.7961655\n",
      "For Iteration 150,alpha=0.15,beta=0.45,gamma=0.35,MSE=4705973107.90906\n",
      "For Iteration 151,alpha=0.15,beta=0.45,gamma=0.4,MSE=5392964447.1764765\n",
      "For Iteration 152,alpha=0.15,beta=0.45,gamma=0.45,MSE=6176216823.192311\n",
      "For Iteration 153,alpha=0.15,beta=0.45,gamma=0.5,MSE=7123774893.258735\n",
      "For Iteration 154,alpha=0.15,beta=0.5,gamma=0.1,MSE=1334145248.216561\n",
      "For Iteration 155,alpha=0.15,beta=0.5,gamma=0.15,MSE=2170456691.3186064\n",
      "For Iteration 156,alpha=0.15,beta=0.5,gamma=0.2,MSE=2957807656.3600035\n",
      "For Iteration 157,alpha=0.15,beta=0.5,gamma=0.25,MSE=3643347762.307738\n",
      "For Iteration 158,alpha=0.15,beta=0.5,gamma=0.3,MSE=4231288604.3288245\n",
      "For Iteration 159,alpha=0.15,beta=0.5,gamma=0.35,MSE=4741917376.816547\n",
      "For Iteration 160,alpha=0.15,beta=0.5,gamma=0.4,MSE=5198105409.800561\n",
      "For Iteration 161,alpha=0.15,beta=0.5,gamma=0.45,MSE=5621021511.310181\n",
      "For Iteration 162,alpha=0.15,beta=0.5,gamma=0.5,MSE=6023573316.829573\n",
      "For Iteration 163,alpha=0.2,beta=0.1,gamma=0.1,MSE=105039632.6286807\n",
      "For Iteration 164,alpha=0.2,beta=0.1,gamma=0.15,MSE=164306577.68390912\n",
      "For Iteration 165,alpha=0.2,beta=0.1,gamma=0.2,MSE=219064396.5406173\n",
      "For Iteration 166,alpha=0.2,beta=0.1,gamma=0.25,MSE=266591449.9119686\n",
      "For Iteration 167,alpha=0.2,beta=0.1,gamma=0.3,MSE=307104192.47007585\n",
      "For Iteration 168,alpha=0.2,beta=0.1,gamma=0.35,MSE=341889611.8312454\n",
      "For Iteration 169,alpha=0.2,beta=0.1,gamma=0.4,MSE=372487774.13997173\n",
      "For Iteration 170,alpha=0.2,beta=0.1,gamma=0.45,MSE=400368815.3985083\n",
      "For Iteration 171,alpha=0.2,beta=0.1,gamma=0.5,MSE=426871289.8473847\n",
      "For Iteration 172,alpha=0.2,beta=0.15,gamma=0.1,MSE=218403130.17601568\n",
      "For Iteration 173,alpha=0.2,beta=0.15,gamma=0.15,MSE=346657360.1703191\n",
      "For Iteration 174,alpha=0.2,beta=0.15,gamma=0.2,MSE=464991627.02914125\n",
      "For Iteration 175,alpha=0.2,beta=0.15,gamma=0.25,MSE=567219375.1327295\n",
      "For Iteration 176,alpha=0.2,beta=0.15,gamma=0.3,MSE=653769852.5250125\n",
      "For Iteration 177,alpha=0.2,beta=0.15,gamma=0.35,MSE=727769344.4611099\n",
      "For Iteration 178,alpha=0.2,beta=0.15,gamma=0.4,MSE=792936300.3349651\n",
      "For Iteration 179,alpha=0.2,beta=0.15,gamma=0.45,MSE=852876730.6632442\n",
      "For Iteration 180,alpha=0.2,beta=0.15,gamma=0.5,MSE=911032260.2841612\n",
      "For Iteration 181,alpha=0.2,beta=0.2,gamma=0.1,MSE=348811670.84973115\n",
      "For Iteration 182,alpha=0.2,beta=0.2,gamma=0.15,MSE=564260176.0697303\n",
      "For Iteration 183,alpha=0.2,beta=0.2,gamma=0.2,MSE=762465020.3526123\n",
      "For Iteration 184,alpha=0.2,beta=0.2,gamma=0.25,MSE=931751165.654909\n",
      "For Iteration 185,alpha=0.2,beta=0.2,gamma=0.3,MSE=1072599543.8535721\n",
      "For Iteration 186,alpha=0.2,beta=0.2,gamma=0.35,MSE=1190743187.7483244\n",
      "For Iteration 187,alpha=0.2,beta=0.2,gamma=0.4,MSE=1292887723.5597057\n",
      "For Iteration 188,alpha=0.2,beta=0.2,gamma=0.45,MSE=1385565268.134317\n",
      "For Iteration 189,alpha=0.2,beta=0.2,gamma=0.5,MSE=1475199051.1791346\n",
      "For Iteration 190,alpha=0.2,beta=0.25,gamma=0.1,MSE=467257492.2667708\n",
      "For Iteration 191,alpha=0.2,beta=0.25,gamma=0.15,MSE=775418730.4533994\n",
      "For Iteration 192,alpha=0.2,beta=0.25,gamma=0.2,MSE=1056679995.1814977\n",
      "For Iteration 193,alpha=0.2,beta=0.25,gamma=0.25,MSE=1290660114.493897\n",
      "For Iteration 194,alpha=0.2,beta=0.25,gamma=0.3,MSE=1477132260.4311285\n",
      "For Iteration 195,alpha=0.2,beta=0.25,gamma=0.35,MSE=1624429107.3352368\n",
      "For Iteration 196,alpha=0.2,beta=0.25,gamma=0.4,MSE=1741936570.3297343\n",
      "For Iteration 197,alpha=0.2,beta=0.25,gamma=0.45,MSE=1838549297.8320377\n",
      "For Iteration 198,alpha=0.2,beta=0.25,gamma=0.5,MSE=1922914656.8967195\n",
      "For Iteration 199,alpha=0.2,beta=0.3,gamma=0.1,MSE=537021895.712274\n",
      "For Iteration 200,alpha=0.2,beta=0.3,gamma=0.15,MSE=923106705.716053\n",
      "For Iteration 201,alpha=0.2,beta=0.3,gamma=0.2,MSE=1268457993.5731359\n",
      "For Iteration 202,alpha=0.2,beta=0.3,gamma=0.25,MSE=1538990369.6867576\n",
      "For Iteration 203,alpha=0.2,beta=0.3,gamma=0.3,MSE=1732066164.59415\n",
      "For Iteration 204,alpha=0.2,beta=0.3,gamma=0.35,MSE=1857159519.9492812\n",
      "For Iteration 205,alpha=0.2,beta=0.3,gamma=0.4,MSE=1924288072.1786513\n",
      "For Iteration 206,alpha=0.2,beta=0.3,gamma=0.45,MSE=1942390161.4836001\n",
      "For Iteration 207,alpha=0.2,beta=0.3,gamma=0.5,MSE=1919847389.1427863\n",
      "For Iteration 208,alpha=0.2,beta=0.35,gamma=0.1,MSE=517792076.29960126\n",
      "For Iteration 209,alpha=0.2,beta=0.35,gamma=0.15,MSE=937133821.9625337\n",
      "For Iteration 210,alpha=0.2,beta=0.35,gamma=0.2,MSE=1295001205.9824421\n",
      "For Iteration 211,alpha=0.2,beta=0.35,gamma=0.25,MSE=1538082211.0692408\n",
      "For Iteration 212,alpha=0.2,beta=0.35,gamma=0.3,MSE=1660414448.1914678\n",
      "For Iteration 213,alpha=0.2,beta=0.35,gamma=0.35,MSE=1672233878.9583583\n",
      "For Iteration 214,alpha=0.2,beta=0.35,gamma=0.4,MSE=1585167769.728794\n",
      "For Iteration 215,alpha=0.2,beta=0.35,gamma=0.45,MSE=1412450227.3279626\n",
      "For Iteration 216,alpha=0.2,beta=0.35,gamma=0.5,MSE=1171400302.0833967\n",
      "For Iteration 217,alpha=0.2,beta=0.4,gamma=0.1,MSE=379395661.03376377\n",
      "For Iteration 218,alpha=0.2,beta=0.4,gamma=0.15,MSE=753236747.1121207\n",
      "For Iteration 219,alpha=0.2,beta=0.4,gamma=0.2,MSE=1041530596.6282346\n",
      "For Iteration 220,alpha=0.2,beta=0.4,gamma=0.25,MSE=1172120097.9747572\n",
      "For Iteration 221,alpha=0.2,beta=0.4,gamma=0.3,MSE=1142945603.103893\n",
      "For Iteration 222,alpha=0.2,beta=0.4,gamma=0.35,MSE=976983861.1147684\n",
      "For Iteration 223,alpha=0.2,beta=0.4,gamma=0.4,MSE=709564635.6209145\n",
      "For Iteration 224,alpha=0.2,beta=0.4,gamma=0.45,MSE=396359416.8168101\n",
      "For Iteration 225,alpha=0.2,beta=0.4,gamma=0.5,MSE=121831219.80202968\n",
      "For Iteration 226,alpha=0.2,beta=0.45,gamma=0.1,MSE=149824379.1524065\n",
      "For Iteration 227,alpha=0.2,beta=0.45,gamma=0.15,MSE=385370369.7226309\n",
      "For Iteration 228,alpha=0.2,beta=0.45,gamma=0.2,MSE=532651438.89948094\n",
      "For Iteration 229,alpha=0.2,beta=0.45,gamma=0.25,MSE=518027781.96013546\n",
      "For Iteration 230,alpha=0.2,beta=0.45,gamma=0.3,MSE=368430262.9076634\n",
      "For Iteration 231,alpha=0.2,beta=0.45,gamma=0.35,MSE=158290045.03764534\n",
      "For Iteration 232,alpha=0.2,beta=0.45,gamma=0.4,MSE=9085260.734577948\n",
      "For Iteration 233,alpha=0.2,beta=0.45,gamma=0.45,MSE=108682045.51855646\n",
      "For Iteration 234,alpha=0.2,beta=0.45,gamma=0.5,MSE=705382490.3320282\n",
      "For Iteration 235,alpha=0.2,beta=0.5,gamma=0.1,MSE=994146.9912512825\n"
     ]
    },
    {
     "name": "stdout",
     "output_type": "stream",
     "text": [
      "For Iteration 236,alpha=0.2,beta=0.5,gamma=0.15,MSE=41898063.3768913\n",
      "For Iteration 237,alpha=0.2,beta=0.5,gamma=0.2,MSE=62443417.12959119\n",
      "For Iteration 238,alpha=0.2,beta=0.5,gamma=0.25,MSE=22025083.38643484\n",
      "For Iteration 239,alpha=0.2,beta=0.5,gamma=0.3,MSE=9329140.231951049\n",
      "For Iteration 240,alpha=0.2,beta=0.5,gamma=0.35,MSE=201273403.10352102\n",
      "For Iteration 241,alpha=0.2,beta=0.5,gamma=0.4,MSE=884238188.7117431\n",
      "For Iteration 242,alpha=0.2,beta=0.5,gamma=0.45,MSE=2455800234.3471584\n",
      "For Iteration 243,alpha=0.2,beta=0.5,gamma=0.5,MSE=5196788098.745407\n",
      "For Iteration 244,alpha=0.25,beta=0.1,gamma=0.1,MSE=107916510.10378236\n",
      "For Iteration 245,alpha=0.25,beta=0.1,gamma=0.15,MSE=181248841.86753613\n",
      "For Iteration 246,alpha=0.25,beta=0.1,gamma=0.2,MSE=246683223.4107358\n",
      "For Iteration 247,alpha=0.25,beta=0.1,gamma=0.25,MSE=300498282.28933877\n",
      "For Iteration 248,alpha=0.25,beta=0.1,gamma=0.3,MSE=342257613.7883434\n",
      "For Iteration 249,alpha=0.25,beta=0.1,gamma=0.35,MSE=373385383.1011535\n",
      "For Iteration 250,alpha=0.25,beta=0.1,gamma=0.4,MSE=395834642.9459235\n",
      "For Iteration 251,alpha=0.25,beta=0.1,gamma=0.45,MSE=411276225.1548021\n",
      "For Iteration 252,alpha=0.25,beta=0.1,gamma=0.5,MSE=420942814.9700228\n",
      "For Iteration 253,alpha=0.25,beta=0.15,gamma=0.1,MSE=198642526.7128924\n",
      "For Iteration 254,alpha=0.25,beta=0.15,gamma=0.15,MSE=346128218.68210995\n",
      "For Iteration 255,alpha=0.25,beta=0.15,gamma=0.2,MSE=476713228.2135728\n",
      "For Iteration 256,alpha=0.25,beta=0.15,gamma=0.25,MSE=581109243.9486619\n",
      "For Iteration 257,alpha=0.25,beta=0.15,gamma=0.3,MSE=657319375.5762488\n",
      "For Iteration 258,alpha=0.25,beta=0.15,gamma=0.35,MSE=708604160.7059554\n",
      "For Iteration 259,alpha=0.25,beta=0.15,gamma=0.4,MSE=739204331.9015551\n",
      "For Iteration 260,alpha=0.25,beta=0.15,gamma=0.45,MSE=752509758.6182307\n",
      "For Iteration 261,alpha=0.25,beta=0.15,gamma=0.5,MSE=750921188.7218709\n",
      "For Iteration 262,alpha=0.25,beta=0.2,gamma=0.1,MSE=264563979.34701073\n",
      "For Iteration 263,alpha=0.25,beta=0.2,gamma=0.15,MSE=486672325.7530971\n",
      "For Iteration 264,alpha=0.25,beta=0.2,gamma=0.2,MSE=681172308.1359453\n",
      "For Iteration 265,alpha=0.25,beta=0.2,gamma=0.25,MSE=828231158.7693307\n",
      "For Iteration 266,alpha=0.25,beta=0.2,gamma=0.3,MSE=922614973.1652645\n",
      "For Iteration 267,alpha=0.25,beta=0.2,gamma=0.35,MSE=970252030.4068414\n",
      "For Iteration 268,alpha=0.25,beta=0.2,gamma=0.4,MSE=978103086.634123\n",
      "For Iteration 269,alpha=0.25,beta=0.2,gamma=0.45,MSE=951449649.5068344\n",
      "For Iteration 270,alpha=0.25,beta=0.2,gamma=0.5,MSE=894188561.5751164\n",
      "For Iteration 271,alpha=0.25,beta=0.25,gamma=0.1,MSE=265159137.96172872\n",
      "For Iteration 272,alpha=0.25,beta=0.25,gamma=0.15,MSE=533796580.19700015\n",
      "For Iteration 273,alpha=0.25,beta=0.25,gamma=0.2,MSE=765347724.9825605\n",
      "For Iteration 274,alpha=0.25,beta=0.25,gamma=0.25,MSE=921770981.0551025\n",
      "For Iteration 275,alpha=0.25,beta=0.25,gamma=0.3,MSE=993946558.7898946\n",
      "For Iteration 276,alpha=0.25,beta=0.25,gamma=0.35,MSE=992303491.7915024\n",
      "For Iteration 277,alpha=0.25,beta=0.25,gamma=0.4,MSE=928106621.6192633\n",
      "For Iteration 278,alpha=0.25,beta=0.25,gamma=0.45,MSE=811188262.8431555\n",
      "For Iteration 279,alpha=0.25,beta=0.25,gamma=0.5,MSE=652147595.8643138\n",
      "For Iteration 280,alpha=0.25,beta=0.3,gamma=0.1,MSE=180372270.35074756\n",
      "For Iteration 281,alpha=0.25,beta=0.3,gamma=0.15,MSE=436720687.4059814\n",
      "For Iteration 282,alpha=0.25,beta=0.3,gamma=0.2,MSE=654769135.2381195\n",
      "For Iteration 283,alpha=0.25,beta=0.3,gamma=0.25,MSE=770648638.606012\n",
      "For Iteration 284,alpha=0.25,beta=0.3,gamma=0.3,MSE=775455519.139129\n",
      "For Iteration 285,alpha=0.25,beta=0.3,gamma=0.35,MSE=689652222.9830947\n",
      "For Iteration 286,alpha=0.25,beta=0.3,gamma=0.4,MSE=536654049.9432142\n",
      "For Iteration 287,alpha=0.25,beta=0.3,gamma=0.45,MSE=343521522.3746215\n",
      "For Iteration 288,alpha=0.25,beta=0.3,gamma=0.5,MSE=150012484.86121064\n",
      "For Iteration 289,alpha=0.25,beta=0.35,gamma=0.1,MSE=49282121.367111966\n",
      "For Iteration 290,alpha=0.25,beta=0.35,gamma=0.15,MSE=216242206.98440957\n",
      "For Iteration 291,alpha=0.25,beta=0.35,gamma=0.2,MSE=366569090.02297455\n",
      "For Iteration 292,alpha=0.25,beta=0.35,gamma=0.25,MSE=410505040.5701803\n",
      "For Iteration 293,alpha=0.25,beta=0.35,gamma=0.3,MSE=349576423.38228726\n",
      "For Iteration 294,alpha=0.25,beta=0.35,gamma=0.35,MSE=223765428.21989736\n",
      "For Iteration 295,alpha=0.25,beta=0.35,gamma=0.4,MSE=84601165.2546553\n",
      "For Iteration 296,alpha=0.25,beta=0.35,gamma=0.45,MSE=2773348.7532415534\n",
      "For Iteration 297,alpha=0.25,beta=0.35,gamma=0.5,MSE=96080409.28619817\n",
      "For Iteration 298,alpha=0.25,beta=0.4,gamma=0.1,MSE=12432460.222767027\n",
      "For Iteration 299,alpha=0.25,beta=0.4,gamma=0.15,MSE=19965513.001904108\n",
      "For Iteration 300,alpha=0.25,beta=0.4,gamma=0.2,MSE=72572121.81955588\n",
      "For Iteration 301,alpha=0.25,beta=0.4,gamma=0.25,MSE=70120781.46263644\n",
      "For Iteration 302,alpha=0.25,beta=0.4,gamma=0.3,MSE=26473056.66818181\n",
      "For Iteration 303,alpha=0.25,beta=0.4,gamma=0.35,MSE=2169172.9543216946\n",
      "For Iteration 304,alpha=0.25,beta=0.4,gamma=0.4,MSE=81319422.60568506\n",
      "For Iteration 305,alpha=0.25,beta=0.4,gamma=0.45,MSE=409930162.3609848\n",
      "For Iteration 306,alpha=0.25,beta=0.4,gamma=0.5,MSE=1237778048.7027802\n",
      "For Iteration 307,alpha=0.25,beta=0.45,gamma=0.1,MSE=290696404.7400873\n",
      "For Iteration 308,alpha=0.25,beta=0.45,gamma=0.15,MSE=82884758.91807032\n",
      "For Iteration 309,alpha=0.25,beta=0.45,gamma=0.2,MSE=24601573.06633516\n",
      "For Iteration 310,alpha=0.25,beta=0.45,gamma=0.25,MSE=35567166.544440605\n",
      "For Iteration 311,alpha=0.25,beta=0.45,gamma=0.3,MSE=103823556.65183388\n",
      "For Iteration 312,alpha=0.25,beta=0.45,gamma=0.35,MSE=276822111.48987585\n",
      "For Iteration 313,alpha=0.25,beta=0.45,gamma=0.4,MSE=634998496.6469488\n",
      "For Iteration 314,alpha=0.25,beta=0.45,gamma=0.45,MSE=1431521316.431143\n",
      "For Iteration 315,alpha=0.25,beta=0.45,gamma=0.5,MSE=1794531467.4378333\n",
      "For Iteration 316,alpha=0.25,beta=0.5,gamma=0.1,MSE=1047266329.7472256\n",
      "For Iteration 317,alpha=0.25,beta=0.5,gamma=0.15,MSE=540688611.4506421\n",
      "For Iteration 318,alpha=0.25,beta=0.5,gamma=0.2,MSE=323371973.7974722\n",
      "For Iteration 319,alpha=0.25,beta=0.5,gamma=0.25,MSE=354486308.43404466\n",
      "For Iteration 320,alpha=0.25,beta=0.5,gamma=0.3,MSE=526998107.90108424\n",
      "For Iteration 321,alpha=0.25,beta=0.5,gamma=0.35,MSE=708964982.9615744\n",
      "For Iteration 322,alpha=0.25,beta=0.5,gamma=0.4,MSE=1092332419.343914\n",
      "For Iteration 323,alpha=0.25,beta=0.5,gamma=0.45,MSE=3736037114.0834537\n",
      "For Iteration 324,alpha=0.25,beta=0.5,gamma=0.5,MSE=12743475928.335674\n",
      "For Iteration 325,alpha=0.3,beta=0.1,gamma=0.1,MSE=98456940.33749351\n",
      "For Iteration 326,alpha=0.3,beta=0.1,gamma=0.15,MSE=182378808.47912398\n",
      "For Iteration 327,alpha=0.3,beta=0.1,gamma=0.2,MSE=254419650.80444387\n",
      "For Iteration 328,alpha=0.3,beta=0.1,gamma=0.25,MSE=311347120.14170957\n",
      "For Iteration 329,alpha=0.3,beta=0.1,gamma=0.3,MSE=351163115.9463534\n",
      "For Iteration 330,alpha=0.3,beta=0.1,gamma=0.35,MSE=374986256.4409038\n",
      "For Iteration 331,alpha=0.3,beta=0.1,gamma=0.4,MSE=385513518.32429874\n",
      "For Iteration 332,alpha=0.3,beta=0.1,gamma=0.45,MSE=384879490.6974523\n",
      "For Iteration 333,alpha=0.3,beta=0.1,gamma=0.5,MSE=374366735.5892864\n",
      "For Iteration 334,alpha=0.3,beta=0.15,gamma=0.1,MSE=153506091.13192806\n",
      "For Iteration 335,alpha=0.3,beta=0.15,gamma=0.15,MSE=308820272.2372008\n",
      "For Iteration 336,alpha=0.3,beta=0.15,gamma=0.2,MSE=441563388.5593534\n",
      "For Iteration 337,alpha=0.3,beta=0.15,gamma=0.25,MSE=542641656.7999388\n",
      "For Iteration 338,alpha=0.3,beta=0.15,gamma=0.3,MSE=604322924.8914084\n",
      "For Iteration 339,alpha=0.3,beta=0.15,gamma=0.35,MSE=630054627.3478304\n",
      "For Iteration 340,alpha=0.3,beta=0.15,gamma=0.4,MSE=626340251.050827\n",
      "For Iteration 341,alpha=0.3,beta=0.15,gamma=0.45,MSE=597837573.4861227\n",
      "For Iteration 342,alpha=0.3,beta=0.15,gamma=0.5,MSE=547562054.3235285\n",
      "For Iteration 343,alpha=0.3,beta=0.2,gamma=0.1,MSE=155691351.04423568\n",
      "For Iteration 344,alpha=0.3,beta=0.2,gamma=0.15,MSE=361444708.0407828\n",
      "For Iteration 345,alpha=0.3,beta=0.2,gamma=0.2,MSE=539769669.0512793\n",
      "For Iteration 346,alpha=0.3,beta=0.2,gamma=0.25,MSE=666955844.8735083\n",
      "For Iteration 347,alpha=0.3,beta=0.2,gamma=0.3,MSE=724834719.7708056\n",
      "For Iteration 348,alpha=0.3,beta=0.2,gamma=0.35,MSE=723267796.5056664\n",
      "For Iteration 349,alpha=0.3,beta=0.2,gamma=0.4,MSE=674650961.0159444\n",
      "For Iteration 350,alpha=0.3,beta=0.2,gamma=0.45,MSE=588648983.2869322\n",
      "For Iteration 351,alpha=0.3,beta=0.2,gamma=0.5,MSE=472846241.23134494\n"
     ]
    },
    {
     "name": "stdout",
     "output_type": "stream",
     "text": [
      "For Iteration 352,alpha=0.3,beta=0.25,gamma=0.1,MSE=92264922.92541301\n",
      "For Iteration 353,alpha=0.3,beta=0.25,gamma=0.15,MSE=293458527.6599504\n",
      "For Iteration 354,alpha=0.3,beta=0.25,gamma=0.2,MSE=481374688.328047\n",
      "For Iteration 355,alpha=0.3,beta=0.25,gamma=0.25,MSE=602012180.6460689\n",
      "For Iteration 356,alpha=0.3,beta=0.25,gamma=0.3,MSE=625803655.4194968\n",
      "For Iteration 357,alpha=0.3,beta=0.25,gamma=0.35,MSE=576306965.6124253\n",
      "For Iteration 358,alpha=0.3,beta=0.25,gamma=0.4,MSE=474025940.1371232\n",
      "For Iteration 359,alpha=0.3,beta=0.25,gamma=0.45,MSE=340921983.11105525\n",
      "For Iteration 360,alpha=0.3,beta=0.25,gamma=0.5,MSE=193699953.03462547\n",
      "For Iteration 361,alpha=0.3,beta=0.3,gamma=0.1,MSE=12414805.674995324\n",
      "For Iteration 362,alpha=0.3,beta=0.3,gamma=0.15,MSE=134089600.34015617\n",
      "For Iteration 363,alpha=0.3,beta=0.3,gamma=0.2,MSE=288819843.24239767\n",
      "For Iteration 364,alpha=0.3,beta=0.3,gamma=0.25,MSE=376008450.5210309\n",
      "For Iteration 365,alpha=0.3,beta=0.3,gamma=0.3,MSE=361446449.2405244\n",
      "For Iteration 366,alpha=0.3,beta=0.3,gamma=0.35,MSE=285186921.25175804\n",
      "For Iteration 367,alpha=0.3,beta=0.3,gamma=0.4,MSE=175998709.99815455\n",
      "For Iteration 368,alpha=0.3,beta=0.3,gamma=0.45,MSE=76270058.63368317\n",
      "For Iteration 369,alpha=0.3,beta=0.3,gamma=0.5,MSE=5956232.251591001\n",
      "For Iteration 370,alpha=0.3,beta=0.35,gamma=0.1,MSE=34306940.95774896\n",
      "For Iteration 371,alpha=0.3,beta=0.35,gamma=0.15,MSE=8128403.1616262\n",
      "For Iteration 372,alpha=0.3,beta=0.35,gamma=0.2,MSE=86637859.70286351\n",
      "For Iteration 373,alpha=0.3,beta=0.35,gamma=0.25,MSE=132548218.05428666\n",
      "For Iteration 374,alpha=0.3,beta=0.35,gamma=0.3,MSE=111143548.71089903\n",
      "For Iteration 375,alpha=0.3,beta=0.35,gamma=0.35,MSE=59202715.14902278\n",
      "For Iteration 376,alpha=0.3,beta=0.35,gamma=0.4,MSE=11288044.04325147\n",
      "For Iteration 377,alpha=0.3,beta=0.35,gamma=0.45,MSE=1788869.445815929\n",
      "For Iteration 378,alpha=0.3,beta=0.35,gamma=0.5,MSE=97710762.01881772\n",
      "For Iteration 379,alpha=0.3,beta=0.4,gamma=0.1,MSE=281236844.70974654\n",
      "For Iteration 380,alpha=0.3,beta=0.4,gamma=0.15,MSE=70228115.69255285\n",
      "For Iteration 381,alpha=0.3,beta=0.4,gamma=0.2,MSE=2060369.5838959478\n",
      "For Iteration 382,alpha=0.3,beta=0.4,gamma=0.25,MSE=9511580.233942062\n",
      "For Iteration 383,alpha=0.3,beta=0.4,gamma=0.3,MSE=7616662.903949139\n",
      "For Iteration 384,alpha=0.3,beta=0.4,gamma=0.35,MSE=2299009.1642243844\n",
      "For Iteration 385,alpha=0.3,beta=0.4,gamma=0.4,MSE=41032159.78787908\n",
      "For Iteration 386,alpha=0.3,beta=0.4,gamma=0.45,MSE=38778034.69405393\n",
      "For Iteration 387,alpha=0.3,beta=0.4,gamma=0.5,MSE=66692506.58331173\n",
      "For Iteration 388,alpha=0.3,beta=0.45,gamma=0.1,MSE=768165062.0644672\n",
      "For Iteration 389,alpha=0.3,beta=0.45,gamma=0.15,MSE=394009637.90457803\n",
      "For Iteration 390,alpha=0.3,beta=0.45,gamma=0.2,MSE=25466161.269537628\n",
      "For Iteration 391,alpha=0.3,beta=0.45,gamma=0.25,MSE=26659683.34073463\n",
      "For Iteration 392,alpha=0.3,beta=0.45,gamma=0.3,MSE=5113436.784457372\n",
      "For Iteration 393,alpha=0.3,beta=0.45,gamma=0.35,MSE=8882779.965538992\n",
      "For Iteration 394,alpha=0.3,beta=0.45,gamma=0.4,MSE=843643285.0224563\n",
      "For Iteration 395,alpha=0.3,beta=0.45,gamma=0.45,MSE=1200277252.5215142\n",
      "For Iteration 396,alpha=0.3,beta=0.45,gamma=0.5,MSE=1.421898615404902e+22\n",
      "For Iteration 397,alpha=0.3,beta=0.5,gamma=0.1,MSE=1354837287.3656108\n",
      "For Iteration 398,alpha=0.3,beta=0.5,gamma=0.15,MSE=992105397.78737\n",
      "For Iteration 399,alpha=0.3,beta=0.5,gamma=0.2,MSE=12004399.226598479\n",
      "For Iteration 400,alpha=0.3,beta=0.5,gamma=0.25,MSE=248658830.03995666\n",
      "For Iteration 401,alpha=0.3,beta=0.5,gamma=0.3,MSE=843471386.1637352\n",
      "For Iteration 402,alpha=0.3,beta=0.5,gamma=0.35,MSE=57863815637.54176\n",
      "For Iteration 403,alpha=0.3,beta=0.5,gamma=0.4,MSE=7849615676.832311\n",
      "For Iteration 404,alpha=0.3,beta=0.5,gamma=0.45,MSE=2.825233069406792e+44\n",
      "For Iteration 405,alpha=0.3,beta=0.5,gamma=0.5,MSE=4.545182329032045e+65\n",
      "For Iteration 406,alpha=0.35,beta=0.1,gamma=0.1,MSE=85362614.53731687\n",
      "For Iteration 407,alpha=0.35,beta=0.1,gamma=0.15,MSE=180322068.7572953\n",
      "For Iteration 408,alpha=0.35,beta=0.1,gamma=0.2,MSE=257565122.3200837\n",
      "For Iteration 409,alpha=0.35,beta=0.1,gamma=0.25,MSE=318758192.4417157\n",
      "For Iteration 410,alpha=0.35,beta=0.1,gamma=0.3,MSE=359363929.1928731\n",
      "For Iteration 411,alpha=0.35,beta=0.1,gamma=0.35,MSE=378495400.07794577\n",
      "For Iteration 412,alpha=0.35,beta=0.1,gamma=0.4,MSE=380464756.4925855\n",
      "For Iteration 413,alpha=0.35,beta=0.1,gamma=0.45,MSE=368610535.454239\n",
      "For Iteration 414,alpha=0.35,beta=0.1,gamma=0.5,MSE=344770260.65466624\n",
      "For Iteration 415,alpha=0.35,beta=0.15,gamma=0.1,MSE=110602452.98132937\n",
      "For Iteration 416,alpha=0.35,beta=0.15,gamma=0.15,MSE=274893667.9116933\n",
      "For Iteration 417,alpha=0.35,beta=0.15,gamma=0.2,MSE=408817883.5746572\n",
      "For Iteration 418,alpha=0.35,beta=0.15,gamma=0.25,MSE=516151156.64812356\n",
      "For Iteration 419,alpha=0.35,beta=0.15,gamma=0.3,MSE=576649867.203665\n",
      "For Iteration 420,alpha=0.35,beta=0.15,gamma=0.35,MSE=590731934.3646356\n",
      "For Iteration 421,alpha=0.35,beta=0.15,gamma=0.4,MSE=571219909.5715123\n",
      "For Iteration 422,alpha=0.35,beta=0.15,gamma=0.45,MSE=524647093.42339045\n",
      "For Iteration 423,alpha=0.35,beta=0.15,gamma=0.5,MSE=456843913.0173089\n",
      "For Iteration 424,alpha=0.35,beta=0.2,gamma=0.1,MSE=80850269.05721602\n",
      "For Iteration 425,alpha=0.35,beta=0.2,gamma=0.15,MSE=275815011.6810764\n",
      "For Iteration 426,alpha=0.35,beta=0.2,gamma=0.2,MSE=445477119.0050987\n",
      "For Iteration 427,alpha=0.35,beta=0.2,gamma=0.25,MSE=587445673.370873\n",
      "For Iteration 428,alpha=0.35,beta=0.2,gamma=0.3,MSE=645960905.4533429\n",
      "For Iteration 429,alpha=0.35,beta=0.2,gamma=0.35,MSE=634430491.5998766\n",
      "For Iteration 430,alpha=0.35,beta=0.2,gamma=0.4,MSE=578434186.4249831\n",
      "For Iteration 431,alpha=0.35,beta=0.2,gamma=0.45,MSE=485289667.386501\n",
      "For Iteration 432,alpha=0.35,beta=0.2,gamma=0.5,MSE=377330154.1996247\n",
      "For Iteration 433,alpha=0.35,beta=0.25,gamma=0.1,MSE=21192816.299564227\n",
      "For Iteration 434,alpha=0.35,beta=0.25,gamma=0.15,MSE=174712697.39587697\n",
      "For Iteration 435,alpha=0.35,beta=0.25,gamma=0.2,MSE=347534483.9376932\n",
      "For Iteration 436,alpha=0.35,beta=0.25,gamma=0.25,MSE=510223858.93360496\n",
      "For Iteration 437,alpha=0.35,beta=0.25,gamma=0.3,MSE=544709274.205203\n",
      "For Iteration 438,alpha=0.35,beta=0.25,gamma=0.35,MSE=509582825.0900908\n",
      "For Iteration 439,alpha=0.35,beta=0.25,gamma=0.4,MSE=429452108.4043026\n",
      "For Iteration 440,alpha=0.35,beta=0.25,gamma=0.45,MSE=302013192.9279912\n",
      "For Iteration 441,alpha=0.35,beta=0.25,gamma=0.5,MSE=225569895.23994744\n",
      "For Iteration 442,alpha=0.35,beta=0.3,gamma=0.1,MSE=5888763.782828845\n",
      "For Iteration 443,alpha=0.35,beta=0.3,gamma=0.15,MSE=45047248.24103863\n",
      "For Iteration 444,alpha=0.35,beta=0.3,gamma=0.2,MSE=186923331.80060893\n",
      "For Iteration 445,alpha=0.35,beta=0.3,gamma=0.25,MSE=364110691.37249804\n",
      "For Iteration 446,alpha=0.35,beta=0.3,gamma=0.3,MSE=357024990.7277824\n",
      "For Iteration 447,alpha=0.35,beta=0.3,gamma=0.35,MSE=340294918.4939195\n",
      "For Iteration 448,alpha=0.35,beta=0.3,gamma=0.4,MSE=270658867.08983475\n",
      "For Iteration 449,alpha=0.35,beta=0.3,gamma=0.45,MSE=69424278.27678105\n",
      "For Iteration 450,alpha=0.35,beta=0.3,gamma=0.5,MSE=332363836.9463319\n",
      "For Iteration 451,alpha=0.35,beta=0.35,gamma=0.1,MSE=93042358.39736746\n",
      "For Iteration 452,alpha=0.35,beta=0.35,gamma=0.15,MSE=6331327.865526672\n",
      "For Iteration 453,alpha=0.35,beta=0.35,gamma=0.2,MSE=65574786.87993498\n",
      "For Iteration 454,alpha=0.35,beta=0.35,gamma=0.25,MSE=267021154.42365736\n",
      "For Iteration 455,alpha=0.35,beta=0.35,gamma=0.3,MSE=178572178.51030007\n",
      "For Iteration 456,alpha=0.35,beta=0.35,gamma=0.35,MSE=230097403.08268836\n",
      "For Iteration 457,alpha=0.35,beta=0.35,gamma=0.4,MSE=520897512.39879036\n",
      "For Iteration 458,alpha=0.35,beta=0.35,gamma=0.45,MSE=3389136642.505009\n",
      "For Iteration 459,alpha=0.35,beta=0.35,gamma=0.5,MSE=24050086647.013714\n",
      "For Iteration 460,alpha=0.35,beta=0.4,gamma=0.1,MSE=230191680.63468695\n",
      "For Iteration 461,alpha=0.35,beta=0.4,gamma=0.15,MSE=164955029.1017686\n",
      "For Iteration 462,alpha=0.35,beta=0.4,gamma=0.2,MSE=23203195.862863276\n",
      "For Iteration 463,alpha=0.35,beta=0.4,gamma=0.25,MSE=414990169.78477275\n",
      "For Iteration 464,alpha=0.35,beta=0.4,gamma=0.3,MSE=78449744.51099837\n",
      "For Iteration 465,alpha=0.35,beta=0.4,gamma=0.35,MSE=739875882.3184758\n",
      "For Iteration 466,alpha=0.35,beta=0.4,gamma=0.4,MSE=7606734908.23478\n",
      "For Iteration 467,alpha=0.35,beta=0.4,gamma=0.45,MSE=9013201718.894316\n"
     ]
    },
    {
     "name": "stdout",
     "output_type": "stream",
     "text": [
      "For Iteration 468,alpha=0.35,beta=0.4,gamma=0.5,MSE=5.679984044421108e+32\n",
      "For Iteration 469,alpha=0.35,beta=0.45,gamma=0.1,MSE=253038471.72820634\n",
      "For Iteration 470,alpha=0.35,beta=0.45,gamma=0.15,MSE=553968370.2299324\n",
      "For Iteration 471,alpha=0.35,beta=0.45,gamma=0.2,MSE=106771596.3468646\n",
      "For Iteration 472,alpha=0.35,beta=0.45,gamma=0.25,MSE=5287714195.555311\n",
      "For Iteration 473,alpha=0.35,beta=0.45,gamma=0.3,MSE=41341650144.765274\n",
      "For Iteration 474,alpha=0.35,beta=0.45,gamma=0.35,MSE=2003237348.7149568\n",
      "For Iteration 475,alpha=0.35,beta=0.45,gamma=0.4,MSE=992615272.8346885\n",
      "For Iteration 476,alpha=0.35,beta=0.45,gamma=0.45,MSE=1.6182504606916215e+43\n",
      "For Iteration 477,alpha=0.35,beta=0.45,gamma=0.5,MSE=1.3227498279550665e+68\n",
      "For Iteration 478,alpha=0.35,beta=0.5,gamma=0.1,MSE=118662934.28320801\n",
      "For Iteration 479,alpha=0.35,beta=0.5,gamma=0.15,MSE=198381429.77079397\n",
      "For Iteration 480,alpha=0.35,beta=0.5,gamma=0.2,MSE=20403935475.661613\n",
      "For Iteration 481,alpha=0.35,beta=0.5,gamma=0.25,MSE=18418322700.117153\n",
      "For Iteration 482,alpha=0.35,beta=0.5,gamma=0.3,MSE=3175433559.7551265\n",
      "For Iteration 483,alpha=0.35,beta=0.5,gamma=0.35,MSE=1.3135841501557635e+51\n",
      "For Iteration 484,alpha=0.35,beta=0.5,gamma=0.4,MSE=4.9375937621092813e+58\n",
      "For Iteration 485,alpha=0.35,beta=0.5,gamma=0.45,MSE=1.1262768749941175e+181\n",
      "For Iteration 486,alpha=0.35,beta=0.5,gamma=0.5,MSE=2.116773151204909e+148\n",
      "For Iteration 487,alpha=0.4,beta=0.1,gamma=0.1,MSE=73493342.25950377\n",
      "For Iteration 488,alpha=0.4,beta=0.1,gamma=0.15,MSE=184832473.6255071\n",
      "For Iteration 489,alpha=0.4,beta=0.1,gamma=0.2,MSE=266773802.52174807\n",
      "For Iteration 490,alpha=0.4,beta=0.1,gamma=0.25,MSE=334270757.0754928\n",
      "For Iteration 491,alpha=0.4,beta=0.1,gamma=0.3,MSE=381928536.9118588\n",
      "For Iteration 492,alpha=0.4,beta=0.1,gamma=0.35,MSE=401016848.7919178\n",
      "For Iteration 493,alpha=0.4,beta=0.1,gamma=0.4,MSE=398152073.1505827\n",
      "For Iteration 494,alpha=0.4,beta=0.1,gamma=0.45,MSE=380161319.1963694\n",
      "For Iteration 495,alpha=0.4,beta=0.1,gamma=0.5,MSE=348450029.3086109\n",
      "For Iteration 496,alpha=0.4,beta=0.15,gamma=0.1,MSE=79322139.00425994\n",
      "For Iteration 497,alpha=0.4,beta=0.15,gamma=0.15,MSE=267489816.93418834\n",
      "For Iteration 498,alpha=0.4,beta=0.15,gamma=0.2,MSE=400623668.5182848\n",
      "For Iteration 499,alpha=0.4,beta=0.15,gamma=0.25,MSE=525793450.39460945\n",
      "For Iteration 500,alpha=0.4,beta=0.15,gamma=0.3,MSE=607078245.8279741\n",
      "For Iteration 501,alpha=0.4,beta=0.15,gamma=0.35,MSE=620322060.9639755\n",
      "For Iteration 502,alpha=0.4,beta=0.15,gamma=0.4,MSE=596569694.4810605\n",
      "For Iteration 503,alpha=0.4,beta=0.15,gamma=0.45,MSE=547320360.3473816\n",
      "For Iteration 504,alpha=0.4,beta=0.15,gamma=0.5,MSE=468801252.2201859\n",
      "For Iteration 505,alpha=0.4,beta=0.2,gamma=0.1,MSE=41410891.46447087\n",
      "For Iteration 506,alpha=0.4,beta=0.2,gamma=0.15,MSE=256651647.31689012\n",
      "For Iteration 507,alpha=0.4,beta=0.2,gamma=0.2,MSE=411446819.1332961\n",
      "For Iteration 508,alpha=0.4,beta=0.2,gamma=0.25,MSE=605509288.1515827\n",
      "For Iteration 509,alpha=0.4,beta=0.2,gamma=0.3,MSE=713099332.854427\n",
      "For Iteration 510,alpha=0.4,beta=0.2,gamma=0.35,MSE=693676392.7873033\n",
      "For Iteration 511,alpha=0.4,beta=0.2,gamma=0.4,MSE=654654763.6850029\n",
      "For Iteration 512,alpha=0.4,beta=0.2,gamma=0.45,MSE=579953393.4585276\n",
      "For Iteration 513,alpha=0.4,beta=0.2,gamma=0.5,MSE=417591902.1013226\n",
      "For Iteration 514,alpha=0.4,beta=0.25,gamma=0.1,MSE=3884920.62259921\n",
      "For Iteration 515,alpha=0.4,beta=0.25,gamma=0.15,MSE=162944493.08813766\n",
      "For Iteration 516,alpha=0.4,beta=0.25,gamma=0.2,MSE=300366084.15105176\n",
      "For Iteration 517,alpha=0.4,beta=0.25,gamma=0.25,MSE=600845645.5776246\n",
      "For Iteration 518,alpha=0.4,beta=0.25,gamma=0.3,MSE=718061164.0602504\n",
      "For Iteration 519,alpha=0.4,beta=0.25,gamma=0.35,MSE=632114828.0139844\n",
      "For Iteration 520,alpha=0.4,beta=0.25,gamma=0.4,MSE=636868895.6903025\n",
      "For Iteration 521,alpha=0.4,beta=0.25,gamma=0.45,MSE=665777209.9731873\n",
      "For Iteration 522,alpha=0.4,beta=0.25,gamma=0.5,MSE=58366364.45601606\n",
      "For Iteration 523,alpha=0.4,beta=0.3,gamma=0.1,MSE=11504925.36704423\n",
      "For Iteration 524,alpha=0.4,beta=0.3,gamma=0.15,MSE=51990031.470556214\n",
      "For Iteration 525,alpha=0.4,beta=0.3,gamma=0.2,MSE=130409532.43027876\n",
      "For Iteration 526,alpha=0.4,beta=0.3,gamma=0.25,MSE=636541261.334263\n",
      "For Iteration 527,alpha=0.4,beta=0.3,gamma=0.3,MSE=684739674.6703\n",
      "For Iteration 528,alpha=0.4,beta=0.3,gamma=0.35,MSE=590411407.4379525\n",
      "For Iteration 529,alpha=0.4,beta=0.3,gamma=0.4,MSE=300346210.4214221\n",
      "For Iteration 530,alpha=0.4,beta=0.3,gamma=0.45,MSE=4253357747.114408\n",
      "For Iteration 531,alpha=0.4,beta=0.3,gamma=0.5,MSE=21952745720.020294\n",
      "For Iteration 532,alpha=0.4,beta=0.35,gamma=0.1,MSE=25033519.304098994\n",
      "For Iteration 533,alpha=0.4,beta=0.35,gamma=0.15,MSE=1341608.0842064212\n",
      "For Iteration 534,alpha=0.4,beta=0.35,gamma=0.2,MSE=1389716.1135574407\n",
      "For Iteration 535,alpha=0.4,beta=0.35,gamma=0.25,MSE=660778175.5509874\n",
      "For Iteration 536,alpha=0.4,beta=0.35,gamma=0.3,MSE=396392294.8096193\n",
      "For Iteration 537,alpha=0.4,beta=0.35,gamma=0.35,MSE=2869492917.7511253\n",
      "For Iteration 538,alpha=0.4,beta=0.35,gamma=0.4,MSE=11684258413.150904\n",
      "For Iteration 539,alpha=0.4,beta=0.35,gamma=0.45,MSE=4988016246.454156\n",
      "For Iteration 540,alpha=0.4,beta=0.35,gamma=0.5,MSE=4.991368140406236e+31\n",
      "For Iteration 541,alpha=0.4,beta=0.4,gamma=0.1,MSE=13593165.472996393\n",
      "For Iteration 542,alpha=0.4,beta=0.4,gamma=0.15,MSE=182901100.71176642\n",
      "For Iteration 543,alpha=0.4,beta=0.4,gamma=0.2,MSE=3279119676.449629\n",
      "For Iteration 544,alpha=0.4,beta=0.4,gamma=0.25,MSE=4078852062.939031\n",
      "For Iteration 545,alpha=0.4,beta=0.4,gamma=0.3,MSE=833541929.888198\n",
      "For Iteration 546,alpha=0.4,beta=0.4,gamma=0.35,MSE=1263794175.9247181\n",
      "For Iteration 547,alpha=0.4,beta=0.4,gamma=0.4,MSE=1.108465030882858e+27\n",
      "For Iteration 548,alpha=0.4,beta=0.4,gamma=0.45,MSE=4.0666451214743286e+43\n",
      "For Iteration 549,alpha=0.4,beta=0.4,gamma=0.5,MSE=1.3706129357456936e+65\n",
      "For Iteration 550,alpha=0.4,beta=0.45,gamma=0.1,MSE=1675182604.280945\n",
      "For Iteration 551,alpha=0.4,beta=0.45,gamma=0.15,MSE=3443810318.3083253\n",
      "For Iteration 552,alpha=0.4,beta=0.45,gamma=0.2,MSE=20652599807.780857\n",
      "For Iteration 553,alpha=0.4,beta=0.45,gamma=0.25,MSE=1453378.3596237\n",
      "For Iteration 554,alpha=0.4,beta=0.45,gamma=0.3,MSE=306721935749020.1\n",
      "For Iteration 555,alpha=0.4,beta=0.45,gamma=0.35,MSE=2.529114339146059e+34\n",
      "For Iteration 556,alpha=0.4,beta=0.45,gamma=0.4,MSE=2.7302541318386285e+55\n",
      "For Iteration 557,alpha=0.4,beta=0.45,gamma=0.45,MSE=1.3254948297330515e+81\n",
      "For Iteration 558,alpha=0.4,beta=0.45,gamma=0.5,MSE=1.7583417502398834e+188\n",
      "For Iteration 559,alpha=0.4,beta=0.5,gamma=0.1,MSE=4593440592.170756\n",
      "For Iteration 560,alpha=0.4,beta=0.5,gamma=0.15,MSE=752872776.6647509\n",
      "For Iteration 561,alpha=0.4,beta=0.5,gamma=0.2,MSE=450680019.5585139\n",
      "For Iteration 562,alpha=0.4,beta=0.5,gamma=0.25,MSE=9.674792762343577e+38\n",
      "For Iteration 563,alpha=0.4,beta=0.5,gamma=0.3,MSE=6.991947966477475e+43\n",
      "For Iteration 564,alpha=0.4,beta=0.5,gamma=0.35,MSE=1.3044316917263547e+67\n"
     ]
    },
    {
     "ename": "ValueError",
     "evalue": "Input contains NaN, infinity or a value too large for dtype('float64').",
     "output_type": "error",
     "traceback": [
      "\u001b[1;31m---------------------------------------------------------------------------\u001b[0m",
      "\u001b[1;31mValueError\u001b[0m                                Traceback (most recent call last)",
      "Input \u001b[1;32mIn [150]\u001b[0m, in \u001b[0;36m<cell line: 4>\u001b[1;34m()\u001b[0m\n\u001b[0;32m      8\u001b[0m es_model \u001b[38;5;241m=\u001b[39m es\u001b[38;5;241m.\u001b[39mfit(smoothing_level\u001b[38;5;241m=\u001b[39mi,smoothing_trend\u001b[38;5;241m=\u001b[39mj,smoothing_seasonal\u001b[38;5;241m=\u001b[39mk)\n\u001b[0;32m      9\u001b[0m fcast \u001b[38;5;241m=\u001b[39m es_model\u001b[38;5;241m.\u001b[39mforecast(\u001b[38;5;28mlen\u001b[39m(test))\n\u001b[1;32m---> 10\u001b[0m mse \u001b[38;5;241m=\u001b[39m \u001b[43mmean_squared_error\u001b[49m\u001b[43m(\u001b[49m\u001b[43mtest\u001b[49m\u001b[43m,\u001b[49m\u001b[43mfcast\u001b[49m\u001b[43m)\u001b[49m\n\u001b[0;32m     11\u001b[0m rmse \u001b[38;5;241m=\u001b[39m np\u001b[38;5;241m.\u001b[39msqrt(mse)\n\u001b[0;32m     12\u001b[0m c \u001b[38;5;241m+\u001b[39m\u001b[38;5;241m=\u001b[39m \u001b[38;5;241m1\u001b[39m\n",
      "File \u001b[1;32m~\\anaconda3\\lib\\site-packages\\sklearn\\metrics\\_regression.py:438\u001b[0m, in \u001b[0;36mmean_squared_error\u001b[1;34m(y_true, y_pred, sample_weight, multioutput, squared)\u001b[0m\n\u001b[0;32m    378\u001b[0m \u001b[38;5;28;01mdef\u001b[39;00m \u001b[38;5;21mmean_squared_error\u001b[39m(\n\u001b[0;32m    379\u001b[0m     y_true, y_pred, \u001b[38;5;241m*\u001b[39m, sample_weight\u001b[38;5;241m=\u001b[39m\u001b[38;5;28;01mNone\u001b[39;00m, multioutput\u001b[38;5;241m=\u001b[39m\u001b[38;5;124m\"\u001b[39m\u001b[38;5;124muniform_average\u001b[39m\u001b[38;5;124m\"\u001b[39m, squared\u001b[38;5;241m=\u001b[39m\u001b[38;5;28;01mTrue\u001b[39;00m\n\u001b[0;32m    380\u001b[0m ):\n\u001b[0;32m    381\u001b[0m \u001b[38;5;250m    \u001b[39m\u001b[38;5;124;03m\"\"\"Mean squared error regression loss.\u001b[39;00m\n\u001b[0;32m    382\u001b[0m \n\u001b[0;32m    383\u001b[0m \u001b[38;5;124;03m    Read more in the :ref:`User Guide <mean_squared_error>`.\u001b[39;00m\n\u001b[1;32m   (...)\u001b[0m\n\u001b[0;32m    436\u001b[0m \u001b[38;5;124;03m    0.825...\u001b[39;00m\n\u001b[0;32m    437\u001b[0m \u001b[38;5;124;03m    \"\"\"\u001b[39;00m\n\u001b[1;32m--> 438\u001b[0m     y_type, y_true, y_pred, multioutput \u001b[38;5;241m=\u001b[39m \u001b[43m_check_reg_targets\u001b[49m\u001b[43m(\u001b[49m\n\u001b[0;32m    439\u001b[0m \u001b[43m        \u001b[49m\u001b[43my_true\u001b[49m\u001b[43m,\u001b[49m\u001b[43m \u001b[49m\u001b[43my_pred\u001b[49m\u001b[43m,\u001b[49m\u001b[43m \u001b[49m\u001b[43mmultioutput\u001b[49m\n\u001b[0;32m    440\u001b[0m \u001b[43m    \u001b[49m\u001b[43m)\u001b[49m\n\u001b[0;32m    441\u001b[0m     check_consistent_length(y_true, y_pred, sample_weight)\n\u001b[0;32m    442\u001b[0m     output_errors \u001b[38;5;241m=\u001b[39m np\u001b[38;5;241m.\u001b[39maverage((y_true \u001b[38;5;241m-\u001b[39m y_pred) \u001b[38;5;241m*\u001b[39m\u001b[38;5;241m*\u001b[39m \u001b[38;5;241m2\u001b[39m, axis\u001b[38;5;241m=\u001b[39m\u001b[38;5;241m0\u001b[39m, weights\u001b[38;5;241m=\u001b[39msample_weight)\n",
      "File \u001b[1;32m~\\anaconda3\\lib\\site-packages\\sklearn\\metrics\\_regression.py:96\u001b[0m, in \u001b[0;36m_check_reg_targets\u001b[1;34m(y_true, y_pred, multioutput, dtype)\u001b[0m\n\u001b[0;32m     94\u001b[0m check_consistent_length(y_true, y_pred)\n\u001b[0;32m     95\u001b[0m y_true \u001b[38;5;241m=\u001b[39m check_array(y_true, ensure_2d\u001b[38;5;241m=\u001b[39m\u001b[38;5;28;01mFalse\u001b[39;00m, dtype\u001b[38;5;241m=\u001b[39mdtype)\n\u001b[1;32m---> 96\u001b[0m y_pred \u001b[38;5;241m=\u001b[39m \u001b[43mcheck_array\u001b[49m\u001b[43m(\u001b[49m\u001b[43my_pred\u001b[49m\u001b[43m,\u001b[49m\u001b[43m \u001b[49m\u001b[43mensure_2d\u001b[49m\u001b[38;5;241;43m=\u001b[39;49m\u001b[38;5;28;43;01mFalse\u001b[39;49;00m\u001b[43m,\u001b[49m\u001b[43m \u001b[49m\u001b[43mdtype\u001b[49m\u001b[38;5;241;43m=\u001b[39;49m\u001b[43mdtype\u001b[49m\u001b[43m)\u001b[49m\n\u001b[0;32m     98\u001b[0m \u001b[38;5;28;01mif\u001b[39;00m y_true\u001b[38;5;241m.\u001b[39mndim \u001b[38;5;241m==\u001b[39m \u001b[38;5;241m1\u001b[39m:\n\u001b[0;32m     99\u001b[0m     y_true \u001b[38;5;241m=\u001b[39m y_true\u001b[38;5;241m.\u001b[39mreshape((\u001b[38;5;241m-\u001b[39m\u001b[38;5;241m1\u001b[39m, \u001b[38;5;241m1\u001b[39m))\n",
      "File \u001b[1;32m~\\anaconda3\\lib\\site-packages\\sklearn\\utils\\validation.py:800\u001b[0m, in \u001b[0;36mcheck_array\u001b[1;34m(array, accept_sparse, accept_large_sparse, dtype, order, copy, force_all_finite, ensure_2d, allow_nd, ensure_min_samples, ensure_min_features, estimator)\u001b[0m\n\u001b[0;32m    794\u001b[0m         \u001b[38;5;28;01mraise\u001b[39;00m \u001b[38;5;167;01mValueError\u001b[39;00m(\n\u001b[0;32m    795\u001b[0m             \u001b[38;5;124m\"\u001b[39m\u001b[38;5;124mFound array with dim \u001b[39m\u001b[38;5;132;01m%d\u001b[39;00m\u001b[38;5;124m. \u001b[39m\u001b[38;5;132;01m%s\u001b[39;00m\u001b[38;5;124m expected <= 2.\u001b[39m\u001b[38;5;124m\"\u001b[39m\n\u001b[0;32m    796\u001b[0m             \u001b[38;5;241m%\u001b[39m (array\u001b[38;5;241m.\u001b[39mndim, estimator_name)\n\u001b[0;32m    797\u001b[0m         )\n\u001b[0;32m    799\u001b[0m     \u001b[38;5;28;01mif\u001b[39;00m force_all_finite:\n\u001b[1;32m--> 800\u001b[0m         \u001b[43m_assert_all_finite\u001b[49m\u001b[43m(\u001b[49m\u001b[43marray\u001b[49m\u001b[43m,\u001b[49m\u001b[43m \u001b[49m\u001b[43mallow_nan\u001b[49m\u001b[38;5;241;43m=\u001b[39;49m\u001b[43mforce_all_finite\u001b[49m\u001b[43m \u001b[49m\u001b[38;5;241;43m==\u001b[39;49m\u001b[43m \u001b[49m\u001b[38;5;124;43m\"\u001b[39;49m\u001b[38;5;124;43mallow-nan\u001b[39;49m\u001b[38;5;124;43m\"\u001b[39;49m\u001b[43m)\u001b[49m\n\u001b[0;32m    802\u001b[0m \u001b[38;5;28;01mif\u001b[39;00m ensure_min_samples \u001b[38;5;241m>\u001b[39m \u001b[38;5;241m0\u001b[39m:\n\u001b[0;32m    803\u001b[0m     n_samples \u001b[38;5;241m=\u001b[39m _num_samples(array)\n",
      "File \u001b[1;32m~\\anaconda3\\lib\\site-packages\\sklearn\\utils\\validation.py:114\u001b[0m, in \u001b[0;36m_assert_all_finite\u001b[1;34m(X, allow_nan, msg_dtype)\u001b[0m\n\u001b[0;32m    107\u001b[0m     \u001b[38;5;28;01mif\u001b[39;00m (\n\u001b[0;32m    108\u001b[0m         allow_nan\n\u001b[0;32m    109\u001b[0m         \u001b[38;5;129;01mand\u001b[39;00m np\u001b[38;5;241m.\u001b[39misinf(X)\u001b[38;5;241m.\u001b[39many()\n\u001b[0;32m    110\u001b[0m         \u001b[38;5;129;01mor\u001b[39;00m \u001b[38;5;129;01mnot\u001b[39;00m allow_nan\n\u001b[0;32m    111\u001b[0m         \u001b[38;5;129;01mand\u001b[39;00m \u001b[38;5;129;01mnot\u001b[39;00m np\u001b[38;5;241m.\u001b[39misfinite(X)\u001b[38;5;241m.\u001b[39mall()\n\u001b[0;32m    112\u001b[0m     ):\n\u001b[0;32m    113\u001b[0m         type_err \u001b[38;5;241m=\u001b[39m \u001b[38;5;124m\"\u001b[39m\u001b[38;5;124minfinity\u001b[39m\u001b[38;5;124m\"\u001b[39m \u001b[38;5;28;01mif\u001b[39;00m allow_nan \u001b[38;5;28;01melse\u001b[39;00m \u001b[38;5;124m\"\u001b[39m\u001b[38;5;124mNaN, infinity\u001b[39m\u001b[38;5;124m\"\u001b[39m\n\u001b[1;32m--> 114\u001b[0m         \u001b[38;5;28;01mraise\u001b[39;00m \u001b[38;5;167;01mValueError\u001b[39;00m(\n\u001b[0;32m    115\u001b[0m             msg_err\u001b[38;5;241m.\u001b[39mformat(\n\u001b[0;32m    116\u001b[0m                 type_err, msg_dtype \u001b[38;5;28;01mif\u001b[39;00m msg_dtype \u001b[38;5;129;01mis\u001b[39;00m \u001b[38;5;129;01mnot\u001b[39;00m \u001b[38;5;28;01mNone\u001b[39;00m \u001b[38;5;28;01melse\u001b[39;00m X\u001b[38;5;241m.\u001b[39mdtype\n\u001b[0;32m    117\u001b[0m             )\n\u001b[0;32m    118\u001b[0m         )\n\u001b[0;32m    119\u001b[0m \u001b[38;5;66;03m# for object dtype data, we only check for NaNs (GH-13254)\u001b[39;00m\n\u001b[0;32m    120\u001b[0m \u001b[38;5;28;01melif\u001b[39;00m X\u001b[38;5;241m.\u001b[39mdtype \u001b[38;5;241m==\u001b[39m np\u001b[38;5;241m.\u001b[39mdtype(\u001b[38;5;124m\"\u001b[39m\u001b[38;5;124mobject\u001b[39m\u001b[38;5;124m\"\u001b[39m) \u001b[38;5;129;01mand\u001b[39;00m \u001b[38;5;129;01mnot\u001b[39;00m allow_nan:\n",
      "\u001b[1;31mValueError\u001b[0m: Input contains NaN, infinity or a value too large for dtype('float64')."
     ]
    }
   ],
   "source": [
    "min_mse = 9999999999999999\n",
    "av = bv = gv = 0\n",
    "c = 0\n",
    "for i in alpha:\n",
    "    for j in beta:\n",
    "        for k in gamma:\n",
    "            es = ExponentialSmoothing(train,trend='add',seasonal='add',seasonal_periods=12)\n",
    "            es_model = es.fit(smoothing_level=i,smoothing_trend=j,smoothing_seasonal=k)\n",
    "            fcast = es_model.forecast(len(test))\n",
    "            mse = mean_squared_error(test,fcast)\n",
    "            rmse = np.sqrt(mse)\n",
    "            c += 1\n",
    "            print(f'For Iteration {c},alpha={i},beta={j},gamma={k},MSE={mse}')\n",
    "            if mse <= min_mse:\n",
    "                min_mse = mse\n",
    "                av = i\n",
    "                bv = j\n",
    "                gv = k "
   ]
  },
  {
   "cell_type": "code",
   "execution_count": 152,
   "id": "65f55801",
   "metadata": {},
   "outputs": [
    {
     "name": "stdout",
     "output_type": "stream",
     "text": [
      "                               SARIMAX Results                                \n",
      "==============================================================================\n",
      "Dep. Variable:               priceMod   No. Observations:                 4353\n",
      "Model:                 ARIMA(1, 1, 1)   Log Likelihood              -34985.219\n",
      "Date:                Mon, 29 Jan 2024   AIC                          69976.437\n",
      "Time:                        13:09:24   BIC                          69995.572\n",
      "Sample:                             0   HQIC                         69983.191\n",
      "                               - 4353                                         \n",
      "Covariance Type:                  opg                                         \n",
      "==============================================================================\n",
      "                 coef    std err          z      P>|z|      [0.025      0.975]\n",
      "------------------------------------------------------------------------------\n",
      "ar.L1         -0.5648      0.008    -73.241      0.000      -0.580      -0.550\n",
      "ma.L1         -0.9999      0.066    -15.150      0.000      -1.129      -0.871\n",
      "sigma2      5.613e+05   3.65e+04     15.385      0.000     4.9e+05    6.33e+05\n",
      "===================================================================================\n",
      "Ljung-Box (L1) (Q):                  14.85   Jarque-Bera (JB):              6556.58\n",
      "Prob(Q):                              0.00   Prob(JB):                         0.00\n",
      "Heteroskedasticity (H):               0.91   Skew:                             0.70\n",
      "Prob(H) (two-sided):                  0.08   Kurtosis:                         8.85\n",
      "===================================================================================\n",
      "\n",
      "Warnings:\n",
      "[1] Covariance matrix calculated using the outer product of gradients (complex-step).\n"
     ]
    }
   ],
   "source": [
    "import pandas as pd\n",
    "from statsmodels.tsa.arima.model import ARIMA\n",
    "\n",
    "# Assuming d3 is your DataFrame or Series\n",
    "df2_stationary = df2.diff(1).dropna()\n",
    "\n",
    "# Set the frequency explicitly to 'M' for monthly data\n",
    "#df2_stationary.index.freq = 'M'\n",
    "\n",
    "# Identify p, d, and q parameters based on ACF and PACF plots or using other methods\n",
    "p = 1  # example\n",
    "d = 1  # example\n",
    "q = 1  # example\n",
    "\n",
    "# Set the seasonal period to 12 for monthly data\n",
    "seasonal_period = 12\n",
    "\n",
    "# Fit the ARIMA model with seasonal component\n",
    "model = ARIMA(df2_stationary, order=(p, d, q), seasonal_order=(0, 0, 0, seasonal_period))\n",
    "results = model.fit()\n",
    "\n",
    "# Summary of the model\n",
    "print(results.summary())"
   ]
  },
  {
   "cell_type": "code",
   "execution_count": 154,
   "id": "12e3e29f",
   "metadata": {},
   "outputs": [
    {
     "name": "stdout",
     "output_type": "stream",
     "text": [
      "                       ExponentialSmoothing Model Results                       \n",
      "================================================================================\n",
      "Dep. Variable:                 priceMod   No. Observations:                 4353\n",
      "Model:             ExponentialSmoothing   SSE                     4721831581.088\n",
      "Optimized:                         True   AIC                          60524.954\n",
      "Trend:                         Additive   BIC                          60627.011\n",
      "Seasonal:                      Additive   AICC                         60525.111\n",
      "Seasonal Periods:                    12   Date:                 Mon, 29 Jan 2024\n",
      "Box-Cox:                          False   Time:                         13:12:48\n",
      "Box-Cox Coeff.:                    None                                         \n",
      "=================================================================================\n",
      "                          coeff                 code              optimized      \n",
      "---------------------------------------------------------------------------------\n",
      "smoothing_level               0.2000000                alpha                False\n",
      "smoothing_trend               0.2000000                 beta                False\n",
      "smoothing_seasonal            0.2000000                gamma                False\n",
      "initial_level                 250.71544                  l.0                 True\n",
      "initial_trend                -30.214352                  b.0                 True\n",
      "initial_seasons.0            -160.31576                  s.0                 True\n",
      "initial_seasons.1            -251.09616                  s.1                 True\n",
      "initial_seasons.2             80.490273                  s.2                 True\n",
      "initial_seasons.3             98.682152                  s.3                 True\n",
      "initial_seasons.4            -225.65493                  s.4                 True\n",
      "initial_seasons.5             352.22884                  s.5                 True\n",
      "initial_seasons.6            -239.45541                  s.6                 True\n",
      "initial_seasons.7             576.90713                  s.7                 True\n",
      "initial_seasons.8            -746.06247                  s.8                 True\n",
      "initial_seasons.9             78.065206                  s.9                 True\n",
      "initial_seasons.10           -28.868270                 s.10                 True\n",
      "initial_seasons.11            76.159513                 s.11                 True\n",
      "---------------------------------------------------------------------------------\n"
     ]
    }
   ],
   "source": [
    "alpha = 0.2  # example\n",
    "beta = 0.2   # example\n",
    "gamma = 0.2  # example\n",
    "\n",
    "# Set the seasonal period to 12 for monthly data\n",
    "seasonal_period = 12\n",
    "\n",
    "# Fit the Triple Exponential Smoothing model\n",
    "model = ExponentialSmoothing(df2_stationary, trend='add', seasonal='add', seasonal_periods=seasonal_period)\n",
    "results = model.fit(smoothing_level=alpha, smoothing_slope=beta, smoothing_seasonal=gamma)\n",
    "forecast_periods = 12  \n",
    "# Make predictions\n",
    "predictions = results.predict(start=len(d3), end=len(d3) + forecast_periods - 1)\n",
    "\n",
    "# Print the summary\n",
    "print(results.summary())"
   ]
  },
  {
   "cell_type": "code",
   "execution_count": 156,
   "id": "06aba464",
   "metadata": {},
   "outputs": [
    {
     "ename": "AttributeError",
     "evalue": "'HoltWintersResults' object has no attribute 'rmse'",
     "output_type": "error",
     "traceback": [
      "\u001b[1;31m---------------------------------------------------------------------------\u001b[0m",
      "\u001b[1;31mAttributeError\u001b[0m                            Traceback (most recent call last)",
      "Input \u001b[1;32mIn [156]\u001b[0m, in \u001b[0;36m<cell line: 1>\u001b[1;34m()\u001b[0m\n\u001b[1;32m----> 1\u001b[0m \u001b[43mresults\u001b[49m\u001b[38;5;241;43m.\u001b[39;49m\u001b[43mrmse\u001b[49m\n",
      "File \u001b[1;32m~\\anaconda3\\lib\\site-packages\\statsmodels\\base\\wrapper.py:34\u001b[0m, in \u001b[0;36mResultsWrapper.__getattribute__\u001b[1;34m(self, attr)\u001b[0m\n\u001b[0;32m     31\u001b[0m \u001b[38;5;28;01mexcept\u001b[39;00m \u001b[38;5;167;01mAttributeError\u001b[39;00m:\n\u001b[0;32m     32\u001b[0m     \u001b[38;5;28;01mpass\u001b[39;00m\n\u001b[1;32m---> 34\u001b[0m obj \u001b[38;5;241m=\u001b[39m \u001b[38;5;28;43mgetattr\u001b[39;49m\u001b[43m(\u001b[49m\u001b[43mresults\u001b[49m\u001b[43m,\u001b[49m\u001b[43m \u001b[49m\u001b[43mattr\u001b[49m\u001b[43m)\u001b[49m\n\u001b[0;32m     35\u001b[0m data \u001b[38;5;241m=\u001b[39m results\u001b[38;5;241m.\u001b[39mmodel\u001b[38;5;241m.\u001b[39mdata\n\u001b[0;32m     36\u001b[0m how \u001b[38;5;241m=\u001b[39m \u001b[38;5;28mself\u001b[39m\u001b[38;5;241m.\u001b[39m_wrap_attrs\u001b[38;5;241m.\u001b[39mget(attr)\n",
      "\u001b[1;31mAttributeError\u001b[0m: 'HoltWintersResults' object has no attribute 'rmse'"
     ]
    }
   ],
   "source": []
  },
  {
   "cell_type": "code",
   "execution_count": null,
   "id": "a31fe9ff",
   "metadata": {},
   "outputs": [],
   "source": []
  }
 ],
 "metadata": {
  "kernelspec": {
   "display_name": "Python 3 (ipykernel)",
   "language": "python",
   "name": "python3"
  },
  "language_info": {
   "codemirror_mode": {
    "name": "ipython",
    "version": 3
   },
   "file_extension": ".py",
   "mimetype": "text/x-python",
   "name": "python",
   "nbconvert_exporter": "python",
   "pygments_lexer": "ipython3",
   "version": "3.9.12"
  }
 },
 "nbformat": 4,
 "nbformat_minor": 5
}
