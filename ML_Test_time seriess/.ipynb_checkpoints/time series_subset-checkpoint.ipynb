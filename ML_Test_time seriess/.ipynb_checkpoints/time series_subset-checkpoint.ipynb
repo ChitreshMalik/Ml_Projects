{
 "cells": [
  {
   "cell_type": "code",
   "execution_count": 2,
   "id": "34995597",
   "metadata": {},
   "outputs": [
    {
     "name": "stderr",
     "output_type": "stream",
     "text": [
      "C:\\Users\\Lenovo\\anaconda3\\lib\\site-packages\\scipy\\__init__.py:146: UserWarning: A NumPy version >=1.16.5 and <1.23.0 is required for this version of SciPy (detected version 1.26.4\n",
      "  warnings.warn(f\"A NumPy version >={np_minversion} and <{np_maxversion}\"\n"
     ]
    }
   ],
   "source": [
    "import pandas as pd\n",
    "import numpy as np\n",
    "import matplotlib.pyplot as plt\n",
    "import seaborn as sns"
   ]
  },
  {
   "cell_type": "code",
   "execution_count": 95,
   "id": "cde26295",
   "metadata": {},
   "outputs": [],
   "source": [
    "df=pd.read_csv(\"MonthWiseMarketArrivals.csv\")\n",
    "df[\"date\"]=pd.to_datetime(df['date'],format=\"%B-%Y\")"
   ]
  },
  {
   "cell_type": "code",
   "execution_count": 96,
   "id": "cb9bcf96",
   "metadata": {},
   "outputs": [
    {
     "data": {
      "text/plain": [
       "LASALGAON(MS)         242\n",
       "PIMPALGAON(MS)        224\n",
       "MANMAD(MS)            218\n",
       "LONAND(MS)            211\n",
       "MAHUVA(GUJ)           210\n",
       "                     ... \n",
       "RAJAHMUNDRY(AP)         1\n",
       "SRIGANGANAGAR(RAJ)      1\n",
       "MEERUT(UP)              1\n",
       "CHALLAKERE(KNT)         1\n",
       "NEEMUCH(MP)             1\n",
       "Name: market, Length: 120, dtype: int64"
      ]
     },
     "execution_count": 96,
     "metadata": {},
     "output_type": "execute_result"
    }
   ],
   "source": [
    "df[\"market\"].value_counts()"
   ]
  },
  {
   "cell_type": "code",
   "execution_count": 97,
   "id": "37695fc6",
   "metadata": {},
   "outputs": [
    {
     "data": {
      "text/plain": [
       "market      0\n",
       "month       0\n",
       "year        0\n",
       "quantity    0\n",
       "priceMin    0\n",
       "priceMax    0\n",
       "priceMod    0\n",
       "state       0\n",
       "city        0\n",
       "date        0\n",
       "dtype: int64"
      ]
     },
     "execution_count": 97,
     "metadata": {},
     "output_type": "execute_result"
    }
   ],
   "source": [
    "df.isnull().sum()"
   ]
  },
  {
   "cell_type": "code",
   "execution_count": 98,
   "id": "31be5ff6",
   "metadata": {},
   "outputs": [
    {
     "data": {
      "text/plain": [
       "0"
      ]
     },
     "execution_count": 98,
     "metadata": {},
     "output_type": "execute_result"
    }
   ],
   "source": [
    "df.duplicated().sum()"
   ]
  },
  {
   "cell_type": "code",
   "execution_count": 99,
   "id": "4ef0a705",
   "metadata": {},
   "outputs": [],
   "source": [
    "k=[]\n",
    "a=[]\n",
    "n=[]\n",
    "b=\"\"\n",
    "for i in df[\"market\"]:\n",
    "    a=i.split(\"(\")\n",
    "    if len(a)==2:\n",
    "        b=a[1][:2]\n",
    "        k.append(b)\n",
    "    else :\n",
    "        k.append(\"Unknown\")\n",
    "        n.append(\"Unknown\")\n",
    "        \n"
   ]
  },
  {
   "cell_type": "code",
   "execution_count": 100,
   "id": "38288a56",
   "metadata": {},
   "outputs": [
    {
     "data": {
      "text/plain": [
       "10227"
      ]
     },
     "execution_count": 100,
     "metadata": {},
     "output_type": "execute_result"
    }
   ],
   "source": [
    "len(k)"
   ]
  },
  {
   "cell_type": "code",
   "execution_count": 101,
   "id": "7063ba22",
   "metadata": {},
   "outputs": [
    {
     "data": {
      "text/plain": [
       "(10227, 10)"
      ]
     },
     "execution_count": 101,
     "metadata": {},
     "output_type": "execute_result"
    }
   ],
   "source": [
    "df.shape"
   ]
  },
  {
   "cell_type": "code",
   "execution_count": 102,
   "id": "4dcb9d41",
   "metadata": {},
   "outputs": [
    {
     "data": {
      "text/plain": [
       "2022"
      ]
     },
     "execution_count": 102,
     "metadata": {},
     "output_type": "execute_result"
    }
   ],
   "source": [
    "len(n)"
   ]
  },
  {
   "cell_type": "code",
   "execution_count": 103,
   "id": "ec6a7f75",
   "metadata": {},
   "outputs": [
    {
     "data": {
      "text/plain": [
       "MS     4354\n",
       "KNT     958\n",
       "GUJ     929\n",
       "UP      617\n",
       "PB      593\n",
       "RAJ     462\n",
       "TN      350\n",
       "MP      309\n",
       "AP      278\n",
       "HR      233\n",
       "WB      187\n",
       "JK      163\n",
       "DEL     158\n",
       "BHR     140\n",
       "ASM     134\n",
       "OR      129\n",
       "JH      123\n",
       "KEL      55\n",
       "HP       40\n",
       "KER      13\n",
       "CH        2\n",
       "Name: state, dtype: int64"
      ]
     },
     "execution_count": 103,
     "metadata": {},
     "output_type": "execute_result"
    }
   ],
   "source": [
    "df[\"state\"].value_counts()"
   ]
  },
  {
   "cell_type": "code",
   "execution_count": 104,
   "id": "6e1a525e",
   "metadata": {},
   "outputs": [
    {
     "data": {
      "text/html": [
       "<div>\n",
       "<style scoped>\n",
       "    .dataframe tbody tr th:only-of-type {\n",
       "        vertical-align: middle;\n",
       "    }\n",
       "\n",
       "    .dataframe tbody tr th {\n",
       "        vertical-align: top;\n",
       "    }\n",
       "\n",
       "    .dataframe thead th {\n",
       "        text-align: right;\n",
       "    }\n",
       "</style>\n",
       "<table border=\"1\" class=\"dataframe\">\n",
       "  <thead>\n",
       "    <tr style=\"text-align: right;\">\n",
       "      <th></th>\n",
       "      <th>market</th>\n",
       "      <th>month</th>\n",
       "      <th>year</th>\n",
       "      <th>quantity</th>\n",
       "      <th>priceMin</th>\n",
       "      <th>priceMax</th>\n",
       "      <th>priceMod</th>\n",
       "      <th>state</th>\n",
       "      <th>city</th>\n",
       "      <th>date</th>\n",
       "    </tr>\n",
       "  </thead>\n",
       "  <tbody>\n",
       "    <tr>\n",
       "      <th>0</th>\n",
       "      <td>ABOHAR(PB)</td>\n",
       "      <td>January</td>\n",
       "      <td>2005</td>\n",
       "      <td>2350</td>\n",
       "      <td>404</td>\n",
       "      <td>493</td>\n",
       "      <td>446</td>\n",
       "      <td>PB</td>\n",
       "      <td>ABOHAR</td>\n",
       "      <td>2005-01-01</td>\n",
       "    </tr>\n",
       "    <tr>\n",
       "      <th>1</th>\n",
       "      <td>ABOHAR(PB)</td>\n",
       "      <td>January</td>\n",
       "      <td>2006</td>\n",
       "      <td>900</td>\n",
       "      <td>487</td>\n",
       "      <td>638</td>\n",
       "      <td>563</td>\n",
       "      <td>PB</td>\n",
       "      <td>ABOHAR</td>\n",
       "      <td>2006-01-01</td>\n",
       "    </tr>\n",
       "    <tr>\n",
       "      <th>2</th>\n",
       "      <td>ABOHAR(PB)</td>\n",
       "      <td>January</td>\n",
       "      <td>2010</td>\n",
       "      <td>790</td>\n",
       "      <td>1283</td>\n",
       "      <td>1592</td>\n",
       "      <td>1460</td>\n",
       "      <td>PB</td>\n",
       "      <td>ABOHAR</td>\n",
       "      <td>2010-01-01</td>\n",
       "    </tr>\n",
       "    <tr>\n",
       "      <th>3</th>\n",
       "      <td>ABOHAR(PB)</td>\n",
       "      <td>January</td>\n",
       "      <td>2011</td>\n",
       "      <td>245</td>\n",
       "      <td>3067</td>\n",
       "      <td>3750</td>\n",
       "      <td>3433</td>\n",
       "      <td>PB</td>\n",
       "      <td>ABOHAR</td>\n",
       "      <td>2011-01-01</td>\n",
       "    </tr>\n",
       "    <tr>\n",
       "      <th>4</th>\n",
       "      <td>ABOHAR(PB)</td>\n",
       "      <td>January</td>\n",
       "      <td>2012</td>\n",
       "      <td>1035</td>\n",
       "      <td>523</td>\n",
       "      <td>686</td>\n",
       "      <td>605</td>\n",
       "      <td>PB</td>\n",
       "      <td>ABOHAR</td>\n",
       "      <td>2012-01-01</td>\n",
       "    </tr>\n",
       "  </tbody>\n",
       "</table>\n",
       "</div>"
      ],
      "text/plain": [
       "       market    month  year  quantity  priceMin  priceMax  priceMod state  \\\n",
       "0  ABOHAR(PB)  January  2005      2350       404       493       446    PB   \n",
       "1  ABOHAR(PB)  January  2006       900       487       638       563    PB   \n",
       "2  ABOHAR(PB)  January  2010       790      1283      1592      1460    PB   \n",
       "3  ABOHAR(PB)  January  2011       245      3067      3750      3433    PB   \n",
       "4  ABOHAR(PB)  January  2012      1035       523       686       605    PB   \n",
       "\n",
       "     city       date  \n",
       "0  ABOHAR 2005-01-01  \n",
       "1  ABOHAR 2006-01-01  \n",
       "2  ABOHAR 2010-01-01  \n",
       "3  ABOHAR 2011-01-01  \n",
       "4  ABOHAR 2012-01-01  "
      ]
     },
     "execution_count": 104,
     "metadata": {},
     "output_type": "execute_result"
    }
   ],
   "source": [
    "df.head()"
   ]
  },
  {
   "cell_type": "code",
   "execution_count": 105,
   "id": "e5b3b807",
   "metadata": {},
   "outputs": [],
   "source": [
    "state_wise=df.groupby(\"state\")"
   ]
  },
  {
   "cell_type": "code",
   "execution_count": 106,
   "id": "c5cd537c",
   "metadata": {},
   "outputs": [],
   "source": [
    "ms=state_wise.get_group(\"MS\")"
   ]
  },
  {
   "cell_type": "code",
   "execution_count": 107,
   "id": "1d2a72a8",
   "metadata": {},
   "outputs": [
    {
     "data": {
      "text/plain": [
       "(4354, 10)"
      ]
     },
     "execution_count": 107,
     "metadata": {},
     "output_type": "execute_result"
    }
   ],
   "source": [
    "ms.shape"
   ]
  },
  {
   "cell_type": "code",
   "execution_count": 113,
   "id": "8affe098",
   "metadata": {},
   "outputs": [
    {
     "data": {
      "text/html": [
       "<div>\n",
       "<style scoped>\n",
       "    .dataframe tbody tr th:only-of-type {\n",
       "        vertical-align: middle;\n",
       "    }\n",
       "\n",
       "    .dataframe tbody tr th {\n",
       "        vertical-align: top;\n",
       "    }\n",
       "\n",
       "    .dataframe thead th {\n",
       "        text-align: right;\n",
       "    }\n",
       "</style>\n",
       "<table border=\"1\" class=\"dataframe\">\n",
       "  <thead>\n",
       "    <tr style=\"text-align: right;\">\n",
       "      <th></th>\n",
       "      <th>market</th>\n",
       "      <th>month</th>\n",
       "      <th>year</th>\n",
       "      <th>quantity</th>\n",
       "      <th>priceMin</th>\n",
       "      <th>priceMax</th>\n",
       "      <th>priceMod</th>\n",
       "      <th>state</th>\n",
       "      <th>city</th>\n",
       "      <th>date</th>\n",
       "    </tr>\n",
       "  </thead>\n",
       "  <tbody>\n",
       "    <tr>\n",
       "      <th>348</th>\n",
       "      <td>AHMEDNAGAR(MS)</td>\n",
       "      <td>January</td>\n",
       "      <td>2002</td>\n",
       "      <td>14118</td>\n",
       "      <td>93</td>\n",
       "      <td>305</td>\n",
       "      <td>212</td>\n",
       "      <td>MS</td>\n",
       "      <td>AHMEDNAGAR</td>\n",
       "      <td>2002-01-01</td>\n",
       "    </tr>\n",
       "    <tr>\n",
       "      <th>349</th>\n",
       "      <td>AHMEDNAGAR(MS)</td>\n",
       "      <td>January</td>\n",
       "      <td>2004</td>\n",
       "      <td>30981</td>\n",
       "      <td>307</td>\n",
       "      <td>930</td>\n",
       "      <td>618</td>\n",
       "      <td>MS</td>\n",
       "      <td>AHMEDNAGAR</td>\n",
       "      <td>2004-01-01</td>\n",
       "    </tr>\n",
       "    <tr>\n",
       "      <th>350</th>\n",
       "      <td>AHMEDNAGAR(MS)</td>\n",
       "      <td>January</td>\n",
       "      <td>2005</td>\n",
       "      <td>58100</td>\n",
       "      <td>96</td>\n",
       "      <td>438</td>\n",
       "      <td>266</td>\n",
       "      <td>MS</td>\n",
       "      <td>AHMEDNAGAR</td>\n",
       "      <td>2005-01-01</td>\n",
       "    </tr>\n",
       "    <tr>\n",
       "      <th>351</th>\n",
       "      <td>AHMEDNAGAR(MS)</td>\n",
       "      <td>January</td>\n",
       "      <td>2006</td>\n",
       "      <td>72382</td>\n",
       "      <td>68</td>\n",
       "      <td>458</td>\n",
       "      <td>261</td>\n",
       "      <td>MS</td>\n",
       "      <td>AHMEDNAGAR</td>\n",
       "      <td>2006-01-01</td>\n",
       "    </tr>\n",
       "    <tr>\n",
       "      <th>352</th>\n",
       "      <td>AHMEDNAGAR(MS)</td>\n",
       "      <td>January</td>\n",
       "      <td>2007</td>\n",
       "      <td>105069</td>\n",
       "      <td>267</td>\n",
       "      <td>1321</td>\n",
       "      <td>795</td>\n",
       "      <td>MS</td>\n",
       "      <td>AHMEDNAGAR</td>\n",
       "      <td>2007-01-01</td>\n",
       "    </tr>\n",
       "  </tbody>\n",
       "</table>\n",
       "</div>"
      ],
      "text/plain": [
       "             market    month  year  quantity  priceMin  priceMax  priceMod  \\\n",
       "348  AHMEDNAGAR(MS)  January  2002     14118        93       305       212   \n",
       "349  AHMEDNAGAR(MS)  January  2004     30981       307       930       618   \n",
       "350  AHMEDNAGAR(MS)  January  2005     58100        96       438       266   \n",
       "351  AHMEDNAGAR(MS)  January  2006     72382        68       458       261   \n",
       "352  AHMEDNAGAR(MS)  January  2007    105069       267      1321       795   \n",
       "\n",
       "    state        city       date  \n",
       "348    MS  AHMEDNAGAR 2002-01-01  \n",
       "349    MS  AHMEDNAGAR 2004-01-01  \n",
       "350    MS  AHMEDNAGAR 2005-01-01  \n",
       "351    MS  AHMEDNAGAR 2006-01-01  \n",
       "352    MS  AHMEDNAGAR 2007-01-01  "
      ]
     },
     "execution_count": 113,
     "metadata": {},
     "output_type": "execute_result"
    }
   ],
   "source": [
    "ms.head()"
   ]
  },
  {
   "cell_type": "code",
   "execution_count": 108,
   "id": "72c49bcc",
   "metadata": {},
   "outputs": [
    {
     "data": {
      "text/plain": [
       "4112"
      ]
     },
     "execution_count": 108,
     "metadata": {},
     "output_type": "execute_result"
    }
   ],
   "source": [
    "ms[\"date\"].duplicated().sum()"
   ]
  },
  {
   "cell_type": "code",
   "execution_count": 120,
   "id": "dbc1cf95",
   "metadata": {},
   "outputs": [
    {
     "data": {
      "text/html": [
       "<div>\n",
       "<style scoped>\n",
       "    .dataframe tbody tr th:only-of-type {\n",
       "        vertical-align: middle;\n",
       "    }\n",
       "\n",
       "    .dataframe tbody tr th {\n",
       "        vertical-align: top;\n",
       "    }\n",
       "\n",
       "    .dataframe thead th {\n",
       "        text-align: right;\n",
       "    }\n",
       "</style>\n",
       "<table border=\"1\" class=\"dataframe\">\n",
       "  <thead>\n",
       "    <tr style=\"text-align: right;\">\n",
       "      <th></th>\n",
       "      <th>priceMod</th>\n",
       "    </tr>\n",
       "    <tr>\n",
       "      <th>date</th>\n",
       "      <th></th>\n",
       "    </tr>\n",
       "  </thead>\n",
       "  <tbody>\n",
       "    <tr>\n",
       "      <th>1996-01-01</th>\n",
       "      <td>226.000000</td>\n",
       "    </tr>\n",
       "    <tr>\n",
       "      <th>1996-02-01</th>\n",
       "      <td>186.000000</td>\n",
       "    </tr>\n",
       "    <tr>\n",
       "      <th>1996-03-01</th>\n",
       "      <td>243.000000</td>\n",
       "    </tr>\n",
       "    <tr>\n",
       "      <th>1996-04-01</th>\n",
       "      <td>254.000000</td>\n",
       "    </tr>\n",
       "    <tr>\n",
       "      <th>1996-05-01</th>\n",
       "      <td>269.000000</td>\n",
       "    </tr>\n",
       "    <tr>\n",
       "      <th>...</th>\n",
       "      <td>...</td>\n",
       "    </tr>\n",
       "    <tr>\n",
       "      <th>2015-10-01</th>\n",
       "      <td>2809.322581</td>\n",
       "    </tr>\n",
       "    <tr>\n",
       "      <th>2015-11-01</th>\n",
       "      <td>1930.806452</td>\n",
       "    </tr>\n",
       "    <tr>\n",
       "      <th>2015-12-01</th>\n",
       "      <td>1250.705882</td>\n",
       "    </tr>\n",
       "    <tr>\n",
       "      <th>2016-01-01</th>\n",
       "      <td>1127.935484</td>\n",
       "    </tr>\n",
       "    <tr>\n",
       "      <th>2016-02-01</th>\n",
       "      <td>799.166667</td>\n",
       "    </tr>\n",
       "  </tbody>\n",
       "</table>\n",
       "<p>242 rows × 1 columns</p>\n",
       "</div>"
      ],
      "text/plain": [
       "               priceMod\n",
       "date                   \n",
       "1996-01-01   226.000000\n",
       "1996-02-01   186.000000\n",
       "1996-03-01   243.000000\n",
       "1996-04-01   254.000000\n",
       "1996-05-01   269.000000\n",
       "...                 ...\n",
       "2015-10-01  2809.322581\n",
       "2015-11-01  1930.806452\n",
       "2015-12-01  1250.705882\n",
       "2016-01-01  1127.935484\n",
       "2016-02-01   799.166667\n",
       "\n",
       "[242 rows x 1 columns]"
      ]
     },
     "execution_count": 120,
     "metadata": {},
     "output_type": "execute_result"
    }
   ],
   "source": [
    "ms.groupby(\"date\")[[\"month\",\"priceMod\"]].mean()"
   ]
  },
  {
   "cell_type": "code",
   "execution_count": 109,
   "id": "d79cc65b",
   "metadata": {},
   "outputs": [],
   "source": [
    "df2=ms.groupby(\"date\")[[\"priceMod\"]].mean()"
   ]
  },
  {
   "cell_type": "code",
   "execution_count": 110,
   "id": "93dd5bec",
   "metadata": {},
   "outputs": [
    {
     "data": {
      "text/plain": [
       "(242, 1)"
      ]
     },
     "execution_count": 110,
     "metadata": {},
     "output_type": "execute_result"
    }
   ],
   "source": [
    "df2.shape"
   ]
  },
  {
   "cell_type": "code",
   "execution_count": 111,
   "id": "b5d79b01",
   "metadata": {},
   "outputs": [],
   "source": [
    "df2.reset_index(inplace=True)"
   ]
  },
  {
   "cell_type": "code",
   "execution_count": 112,
   "id": "adbc65c5",
   "metadata": {},
   "outputs": [
    {
     "data": {
      "text/html": [
       "<div>\n",
       "<style scoped>\n",
       "    .dataframe tbody tr th:only-of-type {\n",
       "        vertical-align: middle;\n",
       "    }\n",
       "\n",
       "    .dataframe tbody tr th {\n",
       "        vertical-align: top;\n",
       "    }\n",
       "\n",
       "    .dataframe thead th {\n",
       "        text-align: right;\n",
       "    }\n",
       "</style>\n",
       "<table border=\"1\" class=\"dataframe\">\n",
       "  <thead>\n",
       "    <tr style=\"text-align: right;\">\n",
       "      <th></th>\n",
       "      <th>date</th>\n",
       "      <th>priceMod</th>\n",
       "    </tr>\n",
       "  </thead>\n",
       "  <tbody>\n",
       "    <tr>\n",
       "      <th>0</th>\n",
       "      <td>1996-01-01</td>\n",
       "      <td>226.0</td>\n",
       "    </tr>\n",
       "    <tr>\n",
       "      <th>1</th>\n",
       "      <td>1996-02-01</td>\n",
       "      <td>186.0</td>\n",
       "    </tr>\n",
       "    <tr>\n",
       "      <th>2</th>\n",
       "      <td>1996-03-01</td>\n",
       "      <td>243.0</td>\n",
       "    </tr>\n",
       "    <tr>\n",
       "      <th>3</th>\n",
       "      <td>1996-04-01</td>\n",
       "      <td>254.0</td>\n",
       "    </tr>\n",
       "    <tr>\n",
       "      <th>4</th>\n",
       "      <td>1996-05-01</td>\n",
       "      <td>269.0</td>\n",
       "    </tr>\n",
       "  </tbody>\n",
       "</table>\n",
       "</div>"
      ],
      "text/plain": [
       "        date  priceMod\n",
       "0 1996-01-01     226.0\n",
       "1 1996-02-01     186.0\n",
       "2 1996-03-01     243.0\n",
       "3 1996-04-01     254.0\n",
       "4 1996-05-01     269.0"
      ]
     },
     "execution_count": 112,
     "metadata": {},
     "output_type": "execute_result"
    }
   ],
   "source": [
    "df2.head(5)"
   ]
  },
  {
   "cell_type": "code",
   "execution_count": 90,
   "id": "e399523b",
   "metadata": {},
   "outputs": [
    {
     "name": "stdout",
     "output_type": "stream",
     "text": [
      "1996-01-01 00:00:00\n",
      "2016-02-01 00:00:00\n"
     ]
    }
   ],
   "source": [
    "print(df2[\"date\"].min())\n",
    "print(df2[\"date\"].max())"
   ]
  },
  {
   "cell_type": "code",
   "execution_count": 114,
   "id": "eb772912",
   "metadata": {},
   "outputs": [
    {
     "name": "stdout",
     "output_type": "stream",
     "text": [
      "(242,)\n"
     ]
    }
   ],
   "source": [
    "d1 = pd.date_range(start=\"1996-01-01\",end=\"2016-02-01\", freq='MS') # Y = Year Start \n",
    "print(d1.shape)"
   ]
  },
  {
   "cell_type": "code",
   "execution_count": 115,
   "id": "5d8a7875",
   "metadata": {},
   "outputs": [
    {
     "name": "stdout",
     "output_type": "stream",
     "text": [
      "242\n",
      "0\n"
     ]
    }
   ],
   "source": [
    "print(len(set(d1).intersection(set(df2['date']))))\n",
    "print(len(set(d1).difference(set(df2['date']))))"
   ]
  },
  {
   "cell_type": "code",
   "execution_count": 117,
   "id": "25889643",
   "metadata": {},
   "outputs": [
    {
     "data": {
      "text/html": [
       "<div>\n",
       "<style scoped>\n",
       "    .dataframe tbody tr th:only-of-type {\n",
       "        vertical-align: middle;\n",
       "    }\n",
       "\n",
       "    .dataframe tbody tr th {\n",
       "        vertical-align: top;\n",
       "    }\n",
       "\n",
       "    .dataframe thead th {\n",
       "        text-align: right;\n",
       "    }\n",
       "</style>\n",
       "<table border=\"1\" class=\"dataframe\">\n",
       "  <thead>\n",
       "    <tr style=\"text-align: right;\">\n",
       "      <th></th>\n",
       "      <th>date</th>\n",
       "      <th>priceMod</th>\n",
       "    </tr>\n",
       "  </thead>\n",
       "  <tbody>\n",
       "    <tr>\n",
       "      <th>0</th>\n",
       "      <td>1996-01-01</td>\n",
       "      <td>226.0</td>\n",
       "    </tr>\n",
       "    <tr>\n",
       "      <th>1</th>\n",
       "      <td>1996-02-01</td>\n",
       "      <td>186.0</td>\n",
       "    </tr>\n",
       "    <tr>\n",
       "      <th>2</th>\n",
       "      <td>1996-03-01</td>\n",
       "      <td>243.0</td>\n",
       "    </tr>\n",
       "    <tr>\n",
       "      <th>3</th>\n",
       "      <td>1996-04-01</td>\n",
       "      <td>254.0</td>\n",
       "    </tr>\n",
       "    <tr>\n",
       "      <th>4</th>\n",
       "      <td>1996-05-01</td>\n",
       "      <td>269.0</td>\n",
       "    </tr>\n",
       "  </tbody>\n",
       "</table>\n",
       "</div>"
      ],
      "text/plain": [
       "        date  priceMod\n",
       "0 1996-01-01     226.0\n",
       "1 1996-02-01     186.0\n",
       "2 1996-03-01     243.0\n",
       "3 1996-04-01     254.0\n",
       "4 1996-05-01     269.0"
      ]
     },
     "execution_count": 117,
     "metadata": {},
     "output_type": "execute_result"
    }
   ],
   "source": [
    "df2.head()"
   ]
  },
  {
   "cell_type": "code",
   "execution_count": 121,
   "id": "9c158bb5",
   "metadata": {},
   "outputs": [
    {
     "data": {
      "text/html": [
       "<div>\n",
       "<style scoped>\n",
       "    .dataframe tbody tr th:only-of-type {\n",
       "        vertical-align: middle;\n",
       "    }\n",
       "\n",
       "    .dataframe tbody tr th {\n",
       "        vertical-align: top;\n",
       "    }\n",
       "\n",
       "    .dataframe thead tr th {\n",
       "        text-align: left;\n",
       "    }\n",
       "\n",
       "    .dataframe thead tr:last-of-type th {\n",
       "        text-align: right;\n",
       "    }\n",
       "</style>\n",
       "<table border=\"1\" class=\"dataframe\">\n",
       "  <thead>\n",
       "    <tr>\n",
       "      <th></th>\n",
       "      <th colspan=\"21\" halign=\"left\">priceMod</th>\n",
       "    </tr>\n",
       "    <tr>\n",
       "      <th>year</th>\n",
       "      <th>1996</th>\n",
       "      <th>1997</th>\n",
       "      <th>1998</th>\n",
       "      <th>1999</th>\n",
       "      <th>2000</th>\n",
       "      <th>2001</th>\n",
       "      <th>2002</th>\n",
       "      <th>2003</th>\n",
       "      <th>2004</th>\n",
       "      <th>2005</th>\n",
       "      <th>...</th>\n",
       "      <th>2007</th>\n",
       "      <th>2008</th>\n",
       "      <th>2009</th>\n",
       "      <th>2010</th>\n",
       "      <th>2011</th>\n",
       "      <th>2012</th>\n",
       "      <th>2013</th>\n",
       "      <th>2014</th>\n",
       "      <th>2015</th>\n",
       "      <th>2016</th>\n",
       "    </tr>\n",
       "    <tr>\n",
       "      <th>month</th>\n",
       "      <th></th>\n",
       "      <th></th>\n",
       "      <th></th>\n",
       "      <th></th>\n",
       "      <th></th>\n",
       "      <th></th>\n",
       "      <th></th>\n",
       "      <th></th>\n",
       "      <th></th>\n",
       "      <th></th>\n",
       "      <th></th>\n",
       "      <th></th>\n",
       "      <th></th>\n",
       "      <th></th>\n",
       "      <th></th>\n",
       "      <th></th>\n",
       "      <th></th>\n",
       "      <th></th>\n",
       "      <th></th>\n",
       "      <th></th>\n",
       "      <th></th>\n",
       "    </tr>\n",
       "  </thead>\n",
       "  <tbody>\n",
       "    <tr>\n",
       "      <th>April</th>\n",
       "      <td>254.0</td>\n",
       "      <td>214.00</td>\n",
       "      <td>239.625000</td>\n",
       "      <td>345.777778</td>\n",
       "      <td>189.777778</td>\n",
       "      <td>247.777778</td>\n",
       "      <td>166.071429</td>\n",
       "      <td>271.538462</td>\n",
       "      <td>289.450000</td>\n",
       "      <td>252.304348</td>\n",
       "      <td>...</td>\n",
       "      <td>438.592593</td>\n",
       "      <td>268.086957</td>\n",
       "      <td>452.461538</td>\n",
       "      <td>489.535714</td>\n",
       "      <td>490.884615</td>\n",
       "      <td>400.040000</td>\n",
       "      <td>785.500000</td>\n",
       "      <td>721.000000</td>\n",
       "      <td>964.214286</td>\n",
       "      <td>NaN</td>\n",
       "    </tr>\n",
       "    <tr>\n",
       "      <th>August</th>\n",
       "      <td>340.0</td>\n",
       "      <td>195.00</td>\n",
       "      <td>1319.500000</td>\n",
       "      <td>396.111111</td>\n",
       "      <td>252.222222</td>\n",
       "      <td>520.222222</td>\n",
       "      <td>430.142857</td>\n",
       "      <td>463.692308</td>\n",
       "      <td>367.900000</td>\n",
       "      <td>588.833333</td>\n",
       "      <td>...</td>\n",
       "      <td>1091.925926</td>\n",
       "      <td>730.470588</td>\n",
       "      <td>622.500000</td>\n",
       "      <td>796.269231</td>\n",
       "      <td>1002.720000</td>\n",
       "      <td>599.913043</td>\n",
       "      <td>3384.000000</td>\n",
       "      <td>1515.090909</td>\n",
       "      <td>4055.000000</td>\n",
       "      <td>NaN</td>\n",
       "    </tr>\n",
       "    <tr>\n",
       "      <th>December</th>\n",
       "      <td>385.0</td>\n",
       "      <td>688.75</td>\n",
       "      <td>1055.166667</td>\n",
       "      <td>302.888889</td>\n",
       "      <td>517.444444</td>\n",
       "      <td>406.900000</td>\n",
       "      <td>253.666667</td>\n",
       "      <td>635.923077</td>\n",
       "      <td>336.500000</td>\n",
       "      <td>525.434783</td>\n",
       "      <td>...</td>\n",
       "      <td>479.800000</td>\n",
       "      <td>990.285714</td>\n",
       "      <td>1337.740741</td>\n",
       "      <td>2391.428571</td>\n",
       "      <td>560.346154</td>\n",
       "      <td>1149.909091</td>\n",
       "      <td>1333.350000</td>\n",
       "      <td>1396.433333</td>\n",
       "      <td>1250.705882</td>\n",
       "      <td>NaN</td>\n",
       "    </tr>\n",
       "    <tr>\n",
       "      <th>February</th>\n",
       "      <td>186.0</td>\n",
       "      <td>271.00</td>\n",
       "      <td>822.000000</td>\n",
       "      <td>278.666667</td>\n",
       "      <td>216.000000</td>\n",
       "      <td>336.111111</td>\n",
       "      <td>202.538462</td>\n",
       "      <td>154.071429</td>\n",
       "      <td>657.176471</td>\n",
       "      <td>256.333333</td>\n",
       "      <td>...</td>\n",
       "      <td>898.814815</td>\n",
       "      <td>265.148148</td>\n",
       "      <td>979.851852</td>\n",
       "      <td>930.222222</td>\n",
       "      <td>854.583333</td>\n",
       "      <td>343.913043</td>\n",
       "      <td>1339.041667</td>\n",
       "      <td>612.888889</td>\n",
       "      <td>1324.433333</td>\n",
       "      <td>799.166667</td>\n",
       "    </tr>\n",
       "    <tr>\n",
       "      <th>January</th>\n",
       "      <td>226.0</td>\n",
       "      <td>290.00</td>\n",
       "      <td>1049.571429</td>\n",
       "      <td>494.714286</td>\n",
       "      <td>227.333333</td>\n",
       "      <td>480.777778</td>\n",
       "      <td>242.714286</td>\n",
       "      <td>176.454545</td>\n",
       "      <td>726.150000</td>\n",
       "      <td>286.565217</td>\n",
       "      <td>...</td>\n",
       "      <td>829.551724</td>\n",
       "      <td>282.148148</td>\n",
       "      <td>1129.200000</td>\n",
       "      <td>1184.392857</td>\n",
       "      <td>2418.000000</td>\n",
       "      <td>386.961538</td>\n",
       "      <td>1328.181818</td>\n",
       "      <td>872.842105</td>\n",
       "      <td>1152.785714</td>\n",
       "      <td>1127.935484</td>\n",
       "    </tr>\n",
       "    <tr>\n",
       "      <th>July</th>\n",
       "      <td>368.0</td>\n",
       "      <td>148.20</td>\n",
       "      <td>838.875000</td>\n",
       "      <td>424.555556</td>\n",
       "      <td>198.555556</td>\n",
       "      <td>344.777778</td>\n",
       "      <td>337.071429</td>\n",
       "      <td>426.153846</td>\n",
       "      <td>348.789474</td>\n",
       "      <td>353.800000</td>\n",
       "      <td>...</td>\n",
       "      <td>800.230769</td>\n",
       "      <td>575.640000</td>\n",
       "      <td>593.480000</td>\n",
       "      <td>623.333333</td>\n",
       "      <td>781.640000</td>\n",
       "      <td>542.208333</td>\n",
       "      <td>1981.130435</td>\n",
       "      <td>1701.578947</td>\n",
       "      <td>1966.100000</td>\n",
       "      <td>NaN</td>\n",
       "    </tr>\n",
       "    <tr>\n",
       "      <th>June</th>\n",
       "      <td>367.0</td>\n",
       "      <td>195.00</td>\n",
       "      <td>583.000000</td>\n",
       "      <td>427.555556</td>\n",
       "      <td>181.000000</td>\n",
       "      <td>286.444444</td>\n",
       "      <td>275.285714</td>\n",
       "      <td>415.000000</td>\n",
       "      <td>353.052632</td>\n",
       "      <td>298.521739</td>\n",
       "      <td>...</td>\n",
       "      <td>763.923077</td>\n",
       "      <td>354.160000</td>\n",
       "      <td>621.615385</td>\n",
       "      <td>586.925926</td>\n",
       "      <td>672.920000</td>\n",
       "      <td>452.500000</td>\n",
       "      <td>1291.041667</td>\n",
       "      <td>1217.250000</td>\n",
       "      <td>1501.482759</td>\n",
       "      <td>NaN</td>\n",
       "    </tr>\n",
       "    <tr>\n",
       "      <th>March</th>\n",
       "      <td>243.0</td>\n",
       "      <td>273.00</td>\n",
       "      <td>396.375000</td>\n",
       "      <td>241.888889</td>\n",
       "      <td>209.222222</td>\n",
       "      <td>307.666667</td>\n",
       "      <td>179.833333</td>\n",
       "      <td>214.076923</td>\n",
       "      <td>383.578947</td>\n",
       "      <td>225.260870</td>\n",
       "      <td>...</td>\n",
       "      <td>598.821429</td>\n",
       "      <td>292.708333</td>\n",
       "      <td>654.692308</td>\n",
       "      <td>585.925926</td>\n",
       "      <td>456.538462</td>\n",
       "      <td>353.409091</td>\n",
       "      <td>921.136364</td>\n",
       "      <td>712.166667</td>\n",
       "      <td>1089.458333</td>\n",
       "      <td>NaN</td>\n",
       "    </tr>\n",
       "    <tr>\n",
       "      <th>May</th>\n",
       "      <td>269.0</td>\n",
       "      <td>213.00</td>\n",
       "      <td>312.750000</td>\n",
       "      <td>464.888889</td>\n",
       "      <td>188.555556</td>\n",
       "      <td>210.555556</td>\n",
       "      <td>178.357143</td>\n",
       "      <td>293.846154</td>\n",
       "      <td>296.210526</td>\n",
       "      <td>234.333333</td>\n",
       "      <td>...</td>\n",
       "      <td>470.423077</td>\n",
       "      <td>230.920000</td>\n",
       "      <td>455.230769</td>\n",
       "      <td>506.500000</td>\n",
       "      <td>503.615385</td>\n",
       "      <td>364.200000</td>\n",
       "      <td>876.130435</td>\n",
       "      <td>796.055556</td>\n",
       "      <td>1160.714286</td>\n",
       "      <td>NaN</td>\n",
       "    </tr>\n",
       "    <tr>\n",
       "      <th>November</th>\n",
       "      <td>376.0</td>\n",
       "      <td>617.40</td>\n",
       "      <td>1443.000000</td>\n",
       "      <td>439.888889</td>\n",
       "      <td>582.111111</td>\n",
       "      <td>722.111111</td>\n",
       "      <td>390.538462</td>\n",
       "      <td>576.384615</td>\n",
       "      <td>380.736842</td>\n",
       "      <td>1006.782609</td>\n",
       "      <td>...</td>\n",
       "      <td>731.880000</td>\n",
       "      <td>897.458333</td>\n",
       "      <td>1412.740741</td>\n",
       "      <td>1735.653846</td>\n",
       "      <td>775.958333</td>\n",
       "      <td>993.583333</td>\n",
       "      <td>2581.736842</td>\n",
       "      <td>1354.240000</td>\n",
       "      <td>1930.806452</td>\n",
       "      <td>NaN</td>\n",
       "    </tr>\n",
       "    <tr>\n",
       "      <th>October</th>\n",
       "      <td>492.0</td>\n",
       "      <td>322.00</td>\n",
       "      <td>2289.000000</td>\n",
       "      <td>554.444444</td>\n",
       "      <td>427.888889</td>\n",
       "      <td>518.666667</td>\n",
       "      <td>547.142857</td>\n",
       "      <td>710.076923</td>\n",
       "      <td>452.789474</td>\n",
       "      <td>1023.708333</td>\n",
       "      <td>...</td>\n",
       "      <td>1239.692308</td>\n",
       "      <td>593.727273</td>\n",
       "      <td>1270.571429</td>\n",
       "      <td>1333.230769</td>\n",
       "      <td>837.769231</td>\n",
       "      <td>792.500000</td>\n",
       "      <td>3589.090909</td>\n",
       "      <td>1355.954545</td>\n",
       "      <td>2809.322581</td>\n",
       "      <td>NaN</td>\n",
       "    </tr>\n",
       "    <tr>\n",
       "      <th>September</th>\n",
       "      <td>317.0</td>\n",
       "      <td>240.60</td>\n",
       "      <td>1772.375000</td>\n",
       "      <td>605.000000</td>\n",
       "      <td>301.222222</td>\n",
       "      <td>479.300000</td>\n",
       "      <td>440.785714</td>\n",
       "      <td>506.214286</td>\n",
       "      <td>366.050000</td>\n",
       "      <td>799.750000</td>\n",
       "      <td>...</td>\n",
       "      <td>1295.535714</td>\n",
       "      <td>589.181818</td>\n",
       "      <td>622.464286</td>\n",
       "      <td>1221.814815</td>\n",
       "      <td>987.038462</td>\n",
       "      <td>523.760000</td>\n",
       "      <td>4039.809524</td>\n",
       "      <td>1316.347826</td>\n",
       "      <td>3965.441176</td>\n",
       "      <td>NaN</td>\n",
       "    </tr>\n",
       "  </tbody>\n",
       "</table>\n",
       "<p>12 rows × 21 columns</p>\n",
       "</div>"
      ],
      "text/plain": [
       "          priceMod                                                           \\\n",
       "year          1996    1997         1998        1999        2000        2001   \n",
       "month                                                                         \n",
       "April        254.0  214.00   239.625000  345.777778  189.777778  247.777778   \n",
       "August       340.0  195.00  1319.500000  396.111111  252.222222  520.222222   \n",
       "December     385.0  688.75  1055.166667  302.888889  517.444444  406.900000   \n",
       "February     186.0  271.00   822.000000  278.666667  216.000000  336.111111   \n",
       "January      226.0  290.00  1049.571429  494.714286  227.333333  480.777778   \n",
       "July         368.0  148.20   838.875000  424.555556  198.555556  344.777778   \n",
       "June         367.0  195.00   583.000000  427.555556  181.000000  286.444444   \n",
       "March        243.0  273.00   396.375000  241.888889  209.222222  307.666667   \n",
       "May          269.0  213.00   312.750000  464.888889  188.555556  210.555556   \n",
       "November     376.0  617.40  1443.000000  439.888889  582.111111  722.111111   \n",
       "October      492.0  322.00  2289.000000  554.444444  427.888889  518.666667   \n",
       "September    317.0  240.60  1772.375000  605.000000  301.222222  479.300000   \n",
       "\n",
       "                                                            ...               \\\n",
       "year             2002        2003        2004         2005  ...         2007   \n",
       "month                                                       ...                \n",
       "April      166.071429  271.538462  289.450000   252.304348  ...   438.592593   \n",
       "August     430.142857  463.692308  367.900000   588.833333  ...  1091.925926   \n",
       "December   253.666667  635.923077  336.500000   525.434783  ...   479.800000   \n",
       "February   202.538462  154.071429  657.176471   256.333333  ...   898.814815   \n",
       "January    242.714286  176.454545  726.150000   286.565217  ...   829.551724   \n",
       "July       337.071429  426.153846  348.789474   353.800000  ...   800.230769   \n",
       "June       275.285714  415.000000  353.052632   298.521739  ...   763.923077   \n",
       "March      179.833333  214.076923  383.578947   225.260870  ...   598.821429   \n",
       "May        178.357143  293.846154  296.210526   234.333333  ...   470.423077   \n",
       "November   390.538462  576.384615  380.736842  1006.782609  ...   731.880000   \n",
       "October    547.142857  710.076923  452.789474  1023.708333  ...  1239.692308   \n",
       "September  440.785714  506.214286  366.050000   799.750000  ...  1295.535714   \n",
       "\n",
       "                                                                           \\\n",
       "year             2008         2009         2010         2011         2012   \n",
       "month                                                                       \n",
       "April      268.086957   452.461538   489.535714   490.884615   400.040000   \n",
       "August     730.470588   622.500000   796.269231  1002.720000   599.913043   \n",
       "December   990.285714  1337.740741  2391.428571   560.346154  1149.909091   \n",
       "February   265.148148   979.851852   930.222222   854.583333   343.913043   \n",
       "January    282.148148  1129.200000  1184.392857  2418.000000   386.961538   \n",
       "July       575.640000   593.480000   623.333333   781.640000   542.208333   \n",
       "June       354.160000   621.615385   586.925926   672.920000   452.500000   \n",
       "March      292.708333   654.692308   585.925926   456.538462   353.409091   \n",
       "May        230.920000   455.230769   506.500000   503.615385   364.200000   \n",
       "November   897.458333  1412.740741  1735.653846   775.958333   993.583333   \n",
       "October    593.727273  1270.571429  1333.230769   837.769231   792.500000   \n",
       "September  589.181818   622.464286  1221.814815   987.038462   523.760000   \n",
       "\n",
       "                                                               \n",
       "year              2013         2014         2015         2016  \n",
       "month                                                          \n",
       "April       785.500000   721.000000   964.214286          NaN  \n",
       "August     3384.000000  1515.090909  4055.000000          NaN  \n",
       "December   1333.350000  1396.433333  1250.705882          NaN  \n",
       "February   1339.041667   612.888889  1324.433333   799.166667  \n",
       "January    1328.181818   872.842105  1152.785714  1127.935484  \n",
       "July       1981.130435  1701.578947  1966.100000          NaN  \n",
       "June       1291.041667  1217.250000  1501.482759          NaN  \n",
       "March       921.136364   712.166667  1089.458333          NaN  \n",
       "May         876.130435   796.055556  1160.714286          NaN  \n",
       "November   2581.736842  1354.240000  1930.806452          NaN  \n",
       "October    3589.090909  1355.954545  2809.322581          NaN  \n",
       "September  4039.809524  1316.347826  3965.441176          NaN  \n",
       "\n",
       "[12 rows x 21 columns]"
      ]
     },
     "execution_count": 121,
     "metadata": {},
     "output_type": "execute_result"
    }
   ],
   "source": [
    "pt1 = pd.pivot_table(data=ms,columns=['year'],index=['month'],values=['priceMod'])\n",
    "pt1"
   ]
  },
  {
   "cell_type": "code",
   "execution_count": 122,
   "id": "9ff081db",
   "metadata": {},
   "outputs": [
    {
     "data": {
      "text/html": [
       "<div>\n",
       "<style scoped>\n",
       "    .dataframe tbody tr th:only-of-type {\n",
       "        vertical-align: middle;\n",
       "    }\n",
       "\n",
       "    .dataframe tbody tr th {\n",
       "        vertical-align: top;\n",
       "    }\n",
       "\n",
       "    .dataframe thead tr th {\n",
       "        text-align: left;\n",
       "    }\n",
       "\n",
       "    .dataframe thead tr:last-of-type th {\n",
       "        text-align: right;\n",
       "    }\n",
       "</style>\n",
       "<table border=\"1\" class=\"dataframe\">\n",
       "  <thead>\n",
       "    <tr>\n",
       "      <th></th>\n",
       "      <th colspan=\"4\" halign=\"left\">priceMod</th>\n",
       "    </tr>\n",
       "    <tr>\n",
       "      <th>year</th>\n",
       "      <th>2012</th>\n",
       "      <th>2013</th>\n",
       "      <th>2014</th>\n",
       "      <th>2015</th>\n",
       "    </tr>\n",
       "    <tr>\n",
       "      <th>month</th>\n",
       "      <th></th>\n",
       "      <th></th>\n",
       "      <th></th>\n",
       "      <th></th>\n",
       "    </tr>\n",
       "  </thead>\n",
       "  <tbody>\n",
       "    <tr>\n",
       "      <th>April</th>\n",
       "      <td>400.040000</td>\n",
       "      <td>785.500000</td>\n",
       "      <td>721.000000</td>\n",
       "      <td>964.214286</td>\n",
       "    </tr>\n",
       "    <tr>\n",
       "      <th>August</th>\n",
       "      <td>599.913043</td>\n",
       "      <td>3384.000000</td>\n",
       "      <td>1515.090909</td>\n",
       "      <td>4055.000000</td>\n",
       "    </tr>\n",
       "    <tr>\n",
       "      <th>December</th>\n",
       "      <td>1149.909091</td>\n",
       "      <td>1333.350000</td>\n",
       "      <td>1396.433333</td>\n",
       "      <td>1250.705882</td>\n",
       "    </tr>\n",
       "    <tr>\n",
       "      <th>February</th>\n",
       "      <td>343.913043</td>\n",
       "      <td>1339.041667</td>\n",
       "      <td>612.888889</td>\n",
       "      <td>1324.433333</td>\n",
       "    </tr>\n",
       "    <tr>\n",
       "      <th>January</th>\n",
       "      <td>386.961538</td>\n",
       "      <td>1328.181818</td>\n",
       "      <td>872.842105</td>\n",
       "      <td>1152.785714</td>\n",
       "    </tr>\n",
       "    <tr>\n",
       "      <th>July</th>\n",
       "      <td>542.208333</td>\n",
       "      <td>1981.130435</td>\n",
       "      <td>1701.578947</td>\n",
       "      <td>1966.100000</td>\n",
       "    </tr>\n",
       "    <tr>\n",
       "      <th>June</th>\n",
       "      <td>452.500000</td>\n",
       "      <td>1291.041667</td>\n",
       "      <td>1217.250000</td>\n",
       "      <td>1501.482759</td>\n",
       "    </tr>\n",
       "    <tr>\n",
       "      <th>March</th>\n",
       "      <td>353.409091</td>\n",
       "      <td>921.136364</td>\n",
       "      <td>712.166667</td>\n",
       "      <td>1089.458333</td>\n",
       "    </tr>\n",
       "    <tr>\n",
       "      <th>May</th>\n",
       "      <td>364.200000</td>\n",
       "      <td>876.130435</td>\n",
       "      <td>796.055556</td>\n",
       "      <td>1160.714286</td>\n",
       "    </tr>\n",
       "    <tr>\n",
       "      <th>November</th>\n",
       "      <td>993.583333</td>\n",
       "      <td>2581.736842</td>\n",
       "      <td>1354.240000</td>\n",
       "      <td>1930.806452</td>\n",
       "    </tr>\n",
       "    <tr>\n",
       "      <th>October</th>\n",
       "      <td>792.500000</td>\n",
       "      <td>3589.090909</td>\n",
       "      <td>1355.954545</td>\n",
       "      <td>2809.322581</td>\n",
       "    </tr>\n",
       "    <tr>\n",
       "      <th>September</th>\n",
       "      <td>523.760000</td>\n",
       "      <td>4039.809524</td>\n",
       "      <td>1316.347826</td>\n",
       "      <td>3965.441176</td>\n",
       "    </tr>\n",
       "  </tbody>\n",
       "</table>\n",
       "</div>"
      ],
      "text/plain": [
       "              priceMod                                       \n",
       "year              2012         2013         2014         2015\n",
       "month                                                        \n",
       "April       400.040000   785.500000   721.000000   964.214286\n",
       "August      599.913043  3384.000000  1515.090909  4055.000000\n",
       "December   1149.909091  1333.350000  1396.433333  1250.705882\n",
       "February    343.913043  1339.041667   612.888889  1324.433333\n",
       "January     386.961538  1328.181818   872.842105  1152.785714\n",
       "July        542.208333  1981.130435  1701.578947  1966.100000\n",
       "June        452.500000  1291.041667  1217.250000  1501.482759\n",
       "March       353.409091   921.136364   712.166667  1089.458333\n",
       "May         364.200000   876.130435   796.055556  1160.714286\n",
       "November    993.583333  2581.736842  1354.240000  1930.806452\n",
       "October     792.500000  3589.090909  1355.954545  2809.322581\n",
       "September   523.760000  4039.809524  1316.347826  3965.441176"
      ]
     },
     "execution_count": 122,
     "metadata": {},
     "output_type": "execute_result"
    }
   ],
   "source": [
    "plot_data = pt1.iloc[:,16:20]\n",
    "plot_data"
   ]
  },
  {
   "cell_type": "code",
   "execution_count": 123,
   "id": "6d97e73a",
   "metadata": {},
   "outputs": [
    {
     "data": {
      "text/plain": [
       "[2012, 2013, 2014, 2015]"
      ]
     },
     "execution_count": 123,
     "metadata": {},
     "output_type": "execute_result"
    }
   ],
   "source": [
    "cols = [i[1] for i in plot_data.columns]\n",
    "cols"
   ]
  },
  {
   "cell_type": "code",
   "execution_count": 125,
   "id": "1d563ce5",
   "metadata": {},
   "outputs": [
    {
     "data": {
      "image/png": "[encoded data removed]",
      "text/plain": [
       "<Figure size 720x864 with 1 Axes>"
      ]
     },
     "metadata": {
      "needs_background": "light"
     },
     "output_type": "display_data"
    }
   ],
   "source": [
    "plt.figure(figsize=(10,12))\n",
    "plt.plot(plot_data,label=cols,marker='o')\n",
    "plt.xticks(rotation=\"vertical\")\n",
    "plt.legend()\n",
    "\n",
    "plt.show()"
   ]
  },
  {
   "cell_type": "code",
   "execution_count": 132,
   "id": "188e332b",
   "metadata": {},
   "outputs": [
    {
     "data": {
      "image/png": "[encoded data removed]",
      "text/plain": [
       "<Figure size 864x720 with 1 Axes>"
      ]
     },
     "metadata": {
      "needs_background": "light"
     },
     "output_type": "display_data"
    }
   ],
   "source": [
    "df2.plot(figsize=(12,10))\n",
    "plt.show()"
   ]
  },
  {
   "cell_type": "code",
   "execution_count": null,
   "id": "6008f78e",
   "metadata": {},
   "outputs": [],
   "source": []
  }
 ],
 "metadata": {
  "kernelspec": {
   "display_name": "Python 3 (ipykernel)",
   "language": "python",
   "name": "python3"
  },
  "language_info": {
   "codemirror_mode": {
    "name": "ipython",
    "version": 3
   },
   "file_extension": ".py",
   "mimetype": "text/x-python",
   "name": "python",
   "nbconvert_exporter": "python",
   "pygments_lexer": "ipython3",
   "version": "3.9.12"
  }
 },
 "nbformat": 4,
 "nbformat_minor": 5
}
