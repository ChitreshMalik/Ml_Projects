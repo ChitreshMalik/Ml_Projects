{
 "cells": [
  {
   "cell_type": "markdown",
   "id": "be4ed380",
   "metadata": {},
   "source": [
    "#### Import the libraries"
   ]
  },
  {
   "cell_type": "code",
   "execution_count": 2,
   "id": "f093ce82",
   "metadata": {},
   "outputs": [],
   "source": [
    "import numpy as np\n",
    "import pandas as pd\n",
    "import matplotlib.pyplot as plt\n",
    "import seaborn as sns"
   ]
  },
  {
   "cell_type": "code",
   "execution_count": 3,
   "id": "ecafb0c5",
   "metadata": {},
   "outputs": [],
   "source": [
    "import warnings\n",
    "warnings.filterwarnings('ignore')"
   ]
  },
  {
   "cell_type": "markdown",
   "id": "03c32f6f",
   "metadata": {},
   "source": [
    "#### Read the dataset"
   ]
  },
  {
   "cell_type": "code",
   "execution_count": 4,
   "id": "23efa947",
   "metadata": {},
   "outputs": [],
   "source": [
    "df = pd.read_csv('bank.csv')\n",
    "# OR\n",
    "#df = pd.read_excel('file_name.xlsx')\n",
    "#df.head()"
   ]
  },
  {
   "cell_type": "code",
   "execution_count": 5,
   "id": "6c220fde",
   "metadata": {},
   "outputs": [
    {
     "data": {
      "text/plain": [
       "(41188, 1)"
      ]
     },
     "execution_count": 5,
     "metadata": {},
     "output_type": "execute_result"
    }
   ],
   "source": [
    "df.shape"
   ]
  },
  {
   "cell_type": "markdown",
   "id": "05f2bfd3",
   "metadata": {},
   "source": [
    "### Data preprocessing\n"
   ]
  },
  {
   "cell_type": "markdown",
   "id": "83c2e7f7",
   "metadata": {},
   "source": [
    "#### 1) Create a function to return a dataframe containing columns, count of null values and percentage of null values for each column"
   ]
  },
  {
   "cell_type": "code",
   "execution_count": 6,
   "id": "b0834835",
   "metadata": {},
   "outputs": [],
   "source": [
    "def fetch_count_and_percent_of_null(data):  # data is df\n",
    "    nv = data.isnull().sum()  # nv = null values\n",
    "    nv = nv[nv>0]\n",
    "    res = pd.DataFrame({'Feature':nv.index,'Count_Null':nv.values,\n",
    "                       'Percent_Null':(nv.values/data.shape[0])*100})\n",
    "    res = res.sort_values('Percent_Null',ascending=False)\n",
    "    return res"
   ]
  },
  {
   "cell_type": "code",
   "execution_count": 7,
   "id": "2e4002b7",
   "metadata": {},
   "outputs": [
    {
     "data": {
      "text/html": [
       "<div>\n",
       "<style scoped>\n",
       "    .dataframe tbody tr th:only-of-type {\n",
       "        vertical-align: middle;\n",
       "    }\n",
       "\n",
       "    .dataframe tbody tr th {\n",
       "        vertical-align: top;\n",
       "    }\n",
       "\n",
       "    .dataframe thead th {\n",
       "        text-align: right;\n",
       "    }\n",
       "</style>\n",
       "<table border=\"1\" class=\"dataframe\">\n",
       "  <thead>\n",
       "    <tr style=\"text-align: right;\">\n",
       "      <th></th>\n",
       "      <th>Feature</th>\n",
       "      <th>Count_Null</th>\n",
       "      <th>Percent_Null</th>\n",
       "    </tr>\n",
       "  </thead>\n",
       "  <tbody>\n",
       "  </tbody>\n",
       "</table>\n",
       "</div>"
      ],
      "text/plain": [
       "Empty DataFrame\n",
       "Columns: [Feature, Count_Null, Percent_Null]\n",
       "Index: []"
      ]
     },
     "execution_count": 7,
     "metadata": {},
     "output_type": "execute_result"
    }
   ],
   "source": [
    "fetch_count_and_percent_of_null(df)"
   ]
  },
  {
   "cell_type": "code",
   "execution_count": null,
   "id": "42ed4ca4",
   "metadata": {},
   "outputs": [],
   "source": []
  },
  {
   "cell_type": "code",
   "execution_count": null,
   "id": "05c60f6e",
   "metadata": {},
   "outputs": [],
   "source": []
  },
  {
   "cell_type": "markdown",
   "id": "486c11e5",
   "metadata": {},
   "source": [
    "#### Handle Duplicates"
   ]
  },
  {
   "cell_type": "code",
   "execution_count": 8,
   "id": "30fb376d",
   "metadata": {},
   "outputs": [
    {
     "data": {
      "text/plain": [
       "12"
      ]
     },
     "execution_count": 8,
     "metadata": {},
     "output_type": "execute_result"
    }
   ],
   "source": [
    "df.duplicated().sum()"
   ]
  },
  {
   "cell_type": "markdown",
   "id": "6f8e055f",
   "metadata": {},
   "source": [
    "#### If duplicates exist"
   ]
  },
  {
   "cell_type": "code",
   "execution_count": 9,
   "id": "1f9352f8",
   "metadata": {},
   "outputs": [],
   "source": [
    "df.drop_duplicates(inplace=True)"
   ]
  },
  {
   "cell_type": "code",
   "execution_count": null,
   "id": "92315c2b",
   "metadata": {},
   "outputs": [],
   "source": []
  },
  {
   "cell_type": "markdown",
   "id": "fd2218ea",
   "metadata": {},
   "source": [
    "#### Check data types"
   ]
  },
  {
   "cell_type": "code",
   "execution_count": 10,
   "id": "7f7269ae",
   "metadata": {},
   "outputs": [
    {
     "data": {
      "text/plain": [
       "age;\"job\";\"marital\";\"education\";\"default\";\"housing\";\"loan\";\"contact\";\"month\";\"day_of_week\";\"duration\";\"campaign\";\"pdays\";\"previous\";\"poutcome\";\"emp.var.rate\";\"cons.price.idx\";\"cons.conf.idx\";\"euribor3m\";\"nr.employed\";\"y\"    object\n",
       "dtype: object"
      ]
     },
     "execution_count": 10,
     "metadata": {},
     "output_type": "execute_result"
    }
   ],
   "source": [
    "df.dtypes"
   ]
  },
  {
   "cell_type": "code",
   "execution_count": null,
   "id": "7f67635a",
   "metadata": {},
   "outputs": [],
   "source": []
  },
  {
   "cell_type": "markdown",
   "id": "46019b2c",
   "metadata": {},
   "source": [
    "#### Feature Preprocessing"
   ]
  },
  {
   "cell_type": "code",
   "execution_count": null,
   "id": "1f538676",
   "metadata": {},
   "outputs": [],
   "source": []
  },
  {
   "cell_type": "code",
   "execution_count": null,
   "id": "909307ed",
   "metadata": {},
   "outputs": [],
   "source": []
  },
  {
   "cell_type": "markdown",
   "id": "9ab9347e",
   "metadata": {},
   "source": [
    "#### Feature Engineering"
   ]
  },
  {
   "cell_type": "code",
   "execution_count": null,
   "id": "74e5f95e",
   "metadata": {},
   "outputs": [],
   "source": []
  },
  {
   "cell_type": "markdown",
   "id": "1bb84836",
   "metadata": {},
   "source": [
    "#### Separate numerical and Categorical Featurs"
   ]
  },
  {
   "cell_type": "code",
   "execution_count": 7,
   "id": "590fbe57",
   "metadata": {},
   "outputs": [],
   "source": [
    "num_cols = df.dtypes[df.dtypes!='object'].index\n",
    "cat_cols = df.dtypes[df.dtypes=='object'].index\n",
    "print(num_cols)\n",
    "print(cat_cols)"
   ]
  },
  {
   "cell_type": "markdown",
   "id": "eb3d5589",
   "metadata": {},
   "source": [
    "### EDA"
   ]
  },
  {
   "cell_type": "code",
   "execution_count": 8,
   "id": "59583f37",
   "metadata": {},
   "outputs": [],
   "source": [
    "for i in df.columns:\n",
    "    print(f'Feature {i} | Unique Count {df[i].nunique()}')"
   ]
  },
  {
   "cell_type": "markdown",
   "id": "223c5b86",
   "metadata": {},
   "source": [
    "#### Univariate Analysis"
   ]
  },
  {
   "cell_type": "markdown",
   "id": "56673768",
   "metadata": {},
   "source": [
    "#### 1) Countplot for Categorical Features"
   ]
  },
  {
   "cell_type": "code",
   "execution_count": 9,
   "id": "80406bba",
   "metadata": {},
   "outputs": [],
   "source": [
    "cols = []\n",
    "\n",
    "plt.figure(figsize=(12,20))\n",
    "for i in range(len(cols)): \n",
    "    plt.subplot(,,i+1)  \n",
    "    sns.countplot(x=df[cols[i]])\n",
    "    plt.title(f'Countplot for {cols[i]}')\n",
    "\n",
    "plt.tight_layout()\n",
    "plt.show()"
   ]
  },
  {
   "cell_type": "code",
   "execution_count": 10,
   "id": "cfb7c195",
   "metadata": {},
   "outputs": [],
   "source": [
    "# num_cols"
   ]
  },
  {
   "cell_type": "markdown",
   "id": "df439efe",
   "metadata": {},
   "source": [
    "#### 2) Boxplot for numerical Features"
   ]
  },
  {
   "cell_type": "code",
   "execution_count": 11,
   "id": "7bf8c67f",
   "metadata": {},
   "outputs": [],
   "source": [
    "cols = []\n",
    "\n",
    "plt.figure(figsize=(12,20))\n",
    "for i in range(len(cols)): \n",
    "    plt.subplot(,,i+1)\n",
    "    sns.boxplot(x=df[cols[i]])\n",
    "    plt.title(f'Boxplot for {cols[i]}')\n",
    "\n",
    "plt.tight_layout()\n",
    "plt.show()"
   ]
  },
  {
   "cell_type": "markdown",
   "id": "b08b4dd7",
   "metadata": {},
   "source": [
    "#### 3) Histplot for numerical Features"
   ]
  },
  {
   "cell_type": "code",
   "execution_count": 13,
   "id": "480184a3",
   "metadata": {},
   "outputs": [],
   "source": [
    "cols = []\n",
    "\n",
    "plt.figure(figsize=(12,20))\n",
    "for i in range(len(cols)):  \n",
    "    plt.subplot(,,i+1)    \n",
    "    sns.distplot(x=df[cols[i]],kde=True)\n",
    "    plt.title(f'Histplot for {cols[i]}')\n",
    "\n",
    "plt.tight_layout()\n",
    "plt.show()"
   ]
  },
  {
   "cell_type": "markdown",
   "id": "f0d082c4",
   "metadata": {},
   "source": [
    "#### 4) Pie Chart for Categorical Features"
   ]
  },
  {
   "cell_type": "code",
   "execution_count": null,
   "id": "7897a823",
   "metadata": {},
   "outputs": [],
   "source": []
  },
  {
   "cell_type": "code",
   "execution_count": null,
   "id": "cde0b78d",
   "metadata": {},
   "outputs": [],
   "source": []
  },
  {
   "cell_type": "markdown",
   "id": "7ddb3095",
   "metadata": {},
   "source": [
    "#### Correlation"
   ]
  },
  {
   "cell_type": "code",
   "execution_count": null,
   "id": "24b5af3b",
   "metadata": {},
   "outputs": [],
   "source": [
    "num_cols = df.dtypes[df.dtypes!='object'].index"
   ]
  },
  {
   "cell_type": "code",
   "execution_count": null,
   "id": "3beec3f5",
   "metadata": {},
   "outputs": [],
   "source": [
    "corr = df[num_cols].corr()\n",
    "\n",
    "plt.figure(figsize=(12,12))\n",
    "sns.heatmap(corr,annot=True,cmap='RdBu')  # annot= True => annotation\n",
    "plt.show()"
   ]
  },
  {
   "cell_type": "code",
   "execution_count": null,
   "id": "a4ddc73b",
   "metadata": {},
   "outputs": [],
   "source": []
  },
  {
   "cell_type": "markdown",
   "id": "cfc554a7",
   "metadata": {},
   "source": [
    "#### Drop Redundant Features (If Any)"
   ]
  },
  {
   "cell_type": "code",
   "execution_count": null,
   "id": "c8d8d72c",
   "metadata": {},
   "outputs": [],
   "source": [
    "df.drop(col_list,axis=1)"
   ]
  },
  {
   "cell_type": "code",
   "execution_count": null,
   "id": "df83df68",
   "metadata": {},
   "outputs": [],
   "source": []
  },
  {
   "cell_type": "markdown",
   "id": "41b95aa3",
   "metadata": {},
   "source": [
    "#### Outlier Treatment"
   ]
  },
  {
   "cell_type": "code",
   "execution_count": null,
   "id": "564a5289",
   "metadata": {},
   "outputs": [],
   "source": [
    "a = df.describe(percentiles =[0.01,0.02,0.03,0.97,0.98,0.99]).T\n",
    "a = a.iloc[:,3:]\n",
    "a"
   ]
  },
  {
   "cell_type": "code",
   "execution_count": null,
   "id": "b0f6feae",
   "metadata": {},
   "outputs": [],
   "source": [
    "df1 = df.copy()\n",
    "df2 = df.copy()"
   ]
  },
  {
   "cell_type": "code",
   "execution_count": null,
   "id": "ab387ee5",
   "metadata": {},
   "outputs": [],
   "source": []
  },
  {
   "cell_type": "markdown",
   "id": "033da7f5",
   "metadata": {},
   "source": [
    "### Method - 1 (Treats extreme outliers)"
   ]
  },
  {
   "cell_type": "code",
   "execution_count": 15,
   "id": "18fce189",
   "metadata": {},
   "outputs": [],
   "source": [
    "cols_left_skewed = []\n",
    "\n",
    "def lower_outlier_treatment(x):\n",
    "    x = x.clip(lower = x.quantile(0.01))\n",
    "    return x"
   ]
  },
  {
   "cell_type": "code",
   "execution_count": null,
   "id": "125bff13",
   "metadata": {},
   "outputs": [],
   "source": [
    "df[cols_left_skewed] = df[cols_left_skewed].apply(lower_outlier_treatment)"
   ]
  },
  {
   "cell_type": "code",
   "execution_count": null,
   "id": "1e47ce71",
   "metadata": {},
   "outputs": [],
   "source": [
    "cols_right_skewed = []\n",
    "\n",
    "def upper_outlier_treatment(x):\n",
    "    x = x.clip(upper = x.quantile(0.99))\n",
    "    return x"
   ]
  },
  {
   "cell_type": "code",
   "execution_count": null,
   "id": "f716870c",
   "metadata": {},
   "outputs": [],
   "source": [
    "df[cols_right_skewed] = df[cols_right_skewed].apply(lower_outlier_treatment)"
   ]
  },
  {
   "cell_type": "markdown",
   "id": "67a482a9",
   "metadata": {},
   "source": [
    "### Method - 2 (Treats all outliers)"
   ]
  },
  {
   "cell_type": "code",
   "execution_count": null,
   "id": "f213768b",
   "metadata": {},
   "outputs": [],
   "source": [
    "cols_with_outliers = []"
   ]
  },
  {
   "cell_type": "code",
   "execution_count": 40,
   "id": "ec94c64b",
   "metadata": {},
   "outputs": [],
   "source": [
    "for i in df[cols_with_outliers]:\n",
    "    q1 = df[i].quantile(0.25)\n",
    "    q3 = df[i].quantile(0.75)\n",
    "    iqr = q3 - q1\n",
    "    upper = q3 + 1.5*iqr\n",
    "    lower = q1 - 1.5*iqr\n",
    "    df[i] = np.where(df[i]>upper,upper,df[i])\n",
    "    df[i] = np.where(df[i]<lower,lower,df[i])"
   ]
  },
  {
   "cell_type": "code",
   "execution_count": null,
   "id": "27404d9f",
   "metadata": {},
   "outputs": [],
   "source": []
  },
  {
   "cell_type": "code",
   "execution_count": null,
   "id": "694689b4",
   "metadata": {},
   "outputs": [],
   "source": []
  },
  {
   "cell_type": "markdown",
   "id": "d903d4e4",
   "metadata": {},
   "source": [
    "#### Encoding"
   ]
  },
  {
   "cell_type": "code",
   "execution_count": 43,
   "id": "1b68e4a0",
   "metadata": {},
   "outputs": [],
   "source": [
    "cat_cols = df.dtypes[df.dtypes=='object'].index\n",
    "print(cat_cols)"
   ]
  },
  {
   "cell_type": "code",
   "execution_count": 41,
   "id": "6ebff329",
   "metadata": {},
   "outputs": [],
   "source": [
    "for i in cat_cols:\n",
    "    print(i,df[i].nunique())"
   ]
  },
  {
   "cell_type": "code",
   "execution_count": null,
   "id": "e2521801",
   "metadata": {},
   "outputs": [],
   "source": []
  },
  {
   "cell_type": "code",
   "execution_count": 16,
   "id": "f9b13b63",
   "metadata": {},
   "outputs": [],
   "source": [
    "cols_to_be_encoded = []\n",
    "\n",
    "df_dum = pd.get_dummies(data=df,columns = cols_to_be_encoded, drop_first=True)\n",
    "print(df_dum.shape)\n",
    "print(df_dum.columns)"
   ]
  },
  {
   "cell_type": "code",
   "execution_count": 17,
   "id": "5788884e",
   "metadata": {},
   "outputs": [],
   "source": [
    "df_dum.dtypes"
   ]
  },
  {
   "cell_type": "code",
   "execution_count": null,
   "id": "b41dce78",
   "metadata": {},
   "outputs": [],
   "source": []
  },
  {
   "cell_type": "markdown",
   "id": "24cd7cb7",
   "metadata": {},
   "source": [
    "#### Select x and y"
   ]
  },
  {
   "cell_type": "code",
   "execution_count": 20,
   "id": "83738f10",
   "metadata": {},
   "outputs": [],
   "source": [
    "x = df_dum.drop(['Target'],axis=1)\n",
    "y = df_dum['Rent']\n",
    "print(x.shape)\n",
    "print(y.shape)"
   ]
  },
  {
   "cell_type": "markdown",
   "id": "724dd9e2",
   "metadata": {},
   "source": [
    "#### Assumption Check: Multicollinearity(VIF)"
   ]
  },
  {
   "cell_type": "code",
   "execution_count": 74,
   "id": "b25a1dd1",
   "metadata": {},
   "outputs": [],
   "source": [
    "from statsmodels.stats.outliers_influence import variance_inflation_factor"
   ]
  },
  {
   "cell_type": "code",
   "execution_count": 21,
   "id": "ef364efd",
   "metadata": {},
   "outputs": [],
   "source": [
    "vif = pd.DataFrame()\n",
    "vif['Feature'] = x.columns\n",
    "vif['VIF'] = [variance_inflation_factor(x.values,i) for i in range(x.shape[1])]\n",
    "vif = vif.sort_values('VIF',ascending=False)\n",
    "vif"
   ]
  },
  {
   "cell_type": "code",
   "execution_count": null,
   "id": "95b73c8b",
   "metadata": {},
   "outputs": [],
   "source": []
  },
  {
   "cell_type": "code",
   "execution_count": null,
   "id": "d9b67d74",
   "metadata": {},
   "outputs": [],
   "source": []
  },
  {
   "cell_type": "markdown",
   "id": "b2bfe536",
   "metadata": {},
   "source": [
    "#### Assmption Check : Target variable is normally dist"
   ]
  },
  {
   "cell_type": "code",
   "execution_count": 42,
   "id": "6eadf0f8",
   "metadata": {},
   "outputs": [],
   "source": [
    "from scipy.stats import shapiro, jarque_bera\n",
    "# Ho : Data is normally dist => p>0.05\n",
    "# H1 : Data is not normally dist => p<=0.05"
   ]
  },
  {
   "cell_type": "code",
   "execution_count": 22,
   "id": "9b669829",
   "metadata": {},
   "outputs": [],
   "source": [
    "test_stat,p = shapiro(df_dum['Target'])\n",
    "print(test_stat)\n",
    "print(p)"
   ]
  },
  {
   "cell_type": "code",
   "execution_count": 23,
   "id": "37c8bff2",
   "metadata": {},
   "outputs": [],
   "source": [
    "test_stat,p = shapiro(np.log((df_dum['Target'])))\n",
    "print(test_stat)\n",
    "print(p)"
   ]
  },
  {
   "cell_type": "code",
   "execution_count": null,
   "id": "388c6d0d",
   "metadata": {},
   "outputs": [],
   "source": []
  },
  {
   "cell_type": "code",
   "execution_count": null,
   "id": "8dea986a",
   "metadata": {},
   "outputs": [],
   "source": []
  },
  {
   "cell_type": "code",
   "execution_count": null,
   "id": "d0de1017",
   "metadata": {},
   "outputs": [],
   "source": []
  },
  {
   "cell_type": "markdown",
   "id": "2b86d00a",
   "metadata": {},
   "source": [
    "### OLS Model - 1"
   ]
  },
  {
   "cell_type": "code",
   "execution_count": 98,
   "id": "fda56466",
   "metadata": {},
   "outputs": [],
   "source": [
    "x1 = x.copy()\n",
    "y1 = y.copy()"
   ]
  },
  {
   "cell_type": "code",
   "execution_count": 24,
   "id": "c5086f7b",
   "metadata": {},
   "outputs": [],
   "source": [
    "x1 = sm.add_constant(x1)\n",
    "ols_m1 = sm.OLS(y1,x1).fit()\n",
    "ols_m1.summary()"
   ]
  },
  {
   "cell_type": "code",
   "execution_count": 25,
   "id": "94459f3a",
   "metadata": {},
   "outputs": [],
   "source": [
    "print('OLS_M1')\n",
    "print(ols_m1.rsquared)\n",
    "print(ols_m1.rsquared_adj)"
   ]
  },
  {
   "cell_type": "markdown",
   "id": "35ca432d",
   "metadata": {},
   "source": [
    "#### Inference\n",
    "1) col1, cols2, cols3 etc have high p-value"
   ]
  },
  {
   "cell_type": "markdown",
   "id": "8e17943f",
   "metadata": {},
   "source": [
    "### OLS - M2"
   ]
  },
  {
   "cell_type": "code",
   "execution_count": 26,
   "id": "6ac2eaa7",
   "metadata": {},
   "outputs": [],
   "source": [
    "x2 = x.drop(['cols_with_high_p_val'],axis=1)\n",
    "y2 = y1.copy()"
   ]
  },
  {
   "cell_type": "code",
   "execution_count": 27,
   "id": "6a2e0724",
   "metadata": {},
   "outputs": [],
   "source": [
    "x2 = sm.add_constant(x2)\n",
    "ols_m2 = sm.OLS(y2,x2).fit()\n",
    "ols_m2.summary()"
   ]
  },
  {
   "cell_type": "code",
   "execution_count": 28,
   "id": "e3eff1b9",
   "metadata": {
    "scrolled": true
   },
   "outputs": [],
   "source": [
    "print('OLS_M1')\n",
    "print(ols_m1.rsquared)\n",
    "print(ols_m1.rsquared_adj)\n",
    "\n",
    "print('OLS_M2')\n",
    "print(ols_m2.rsquared)\n",
    "print(ols_m2.rsquared_adj)"
   ]
  },
  {
   "cell_type": "markdown",
   "id": "be544ff8",
   "metadata": {},
   "source": [
    "#### Assumption Check : Homescedasticity"
   ]
  },
  {
   "cell_type": "code",
   "execution_count": null,
   "id": "c04c2477",
   "metadata": {},
   "outputs": [],
   "source": [
    "residuals = ols_m2.resid"
   ]
  },
  {
   "cell_type": "code",
   "execution_count": null,
   "id": "c7e63dfa",
   "metadata": {},
   "outputs": [],
   "source": [
    "plt.scatter(ols_m2.predict(), residuals)   \n",
    "plt.axhline(0, color='red', linestyle='--')\n",
    "plt.xlabel('Fitted values')\n",
    "plt.ylabel('Residuals')\n",
    "plt.title('Residuals vs. Fitted values')\n",
    "plt.show()"
   ]
  },
  {
   "cell_type": "code",
   "execution_count": null,
   "id": "8f1511a0",
   "metadata": {},
   "outputs": [],
   "source": []
  },
  {
   "cell_type": "markdown",
   "id": "9136da7c",
   "metadata": {},
   "source": [
    "#### Split data into train and test"
   ]
  },
  {
   "cell_type": "code",
   "execution_count": 29,
   "id": "6ed5799e",
   "metadata": {},
   "outputs": [],
   "source": [
    "from sklearn.model_selection import train_test_split"
   ]
  },
  {
   "cell_type": "code",
   "execution_count": 30,
   "id": "dc13c204",
   "metadata": {},
   "outputs": [],
   "source": [
    "x_train,x_test, y_train,y_test = train_test_split(x,y,test_size=0.30,random_state=42)\n",
    "print(x_train.shape)\n",
    "print(x_test.shape)\n",
    "print(y_train.shape)\n",
    "print(y_test.shape)"
   ]
  },
  {
   "cell_type": "markdown",
   "id": "6463b8d2",
   "metadata": {},
   "source": [
    "#### Function to evaluate Regression Model"
   ]
  },
  {
   "cell_type": "code",
   "execution_count": 31,
   "id": "68e5c38d",
   "metadata": {},
   "outputs": [],
   "source": [
    "from sklearn.metrics import *"
   ]
  },
  {
   "cell_type": "markdown",
   "id": "578b36d3",
   "metadata": {},
   "source": [
    "#### Approach - 1"
   ]
  },
  {
   "cell_type": "code",
   "execution_count": 138,
   "id": "421b9c3a",
   "metadata": {},
   "outputs": [],
   "source": [
    "def eval_model_basic(ytest,ypred):\n",
    "    mae = mean_absolute_error(ytest,ypred)\n",
    "    mse = mean_squared_error(ytest,ypred)\n",
    "    rmse = np.sqrt(mse)\n",
    "    r2s = r2_score(ytest,ypred)\n",
    "    print('MAE',mae)\n",
    "    print('MSE',mse)\n",
    "    print('RMSE',rmse)\n",
    "    print('R2_Score',r2s)"
   ]
  },
  {
   "cell_type": "code",
   "execution_count": null,
   "id": "3d263855",
   "metadata": {},
   "outputs": [],
   "source": []
  },
  {
   "cell_type": "markdown",
   "id": "aa338f50",
   "metadata": {},
   "source": [
    "#### Apporach - 2"
   ]
  },
  {
   "cell_type": "code",
   "execution_count": 32,
   "id": "e3375441",
   "metadata": {},
   "outputs": [],
   "source": [
    "def eval_model_advanced(model,x_train,y_train,x_test,y_test,modelname):\n",
    "    model.fit(x_train,y_train)\n",
    "    ypred = model.predict(x_test)\n",
    "    train_r2 = model.score(x_train,y_train)\n",
    "    train_r2 = model.score(x_test,y_test)\n",
    "    test_mae = mean_absolute_error(ytest,ypred)\n",
    "    test_mse = mean_squared_error(ytest,ypred)\n",
    "    test_rmse = np.sqrt(mse)\n",
    "    res = pd.DataFrame({'Train_R2':train_r2,'Test_R2':test_r2,'Test_MAE':test_mae,\n",
    "                        'Test_MSE':test_mse,'Test_RMSE':test_rmse},index=[modelname])\n",
    "    return res"
   ]
  },
  {
   "cell_type": "code",
   "execution_count": 37,
   "id": "6116ffb6",
   "metadata": {},
   "outputs": [],
   "source": [
    "from sklearn.linear_model import LinearRegression, Ridge, Lasso"
   ]
  },
  {
   "cell_type": "markdown",
   "id": "241ec1ba",
   "metadata": {},
   "source": [
    "#### Linear Regression"
   ]
  },
  {
   "cell_type": "code",
   "execution_count": 33,
   "id": "67edc375",
   "metadata": {},
   "outputs": [],
   "source": [
    "lr1 = LinearRegression()\n",
    "lr1_res = eval_model_advanced(lr1,x_train,y_train,x_test,y_test,'Lin_Reg')\n",
    "lr1_res"
   ]
  },
  {
   "cell_type": "code",
   "execution_count": 34,
   "id": "68909ca7",
   "metadata": {},
   "outputs": [],
   "source": []
  },
  {
   "cell_type": "markdown",
   "id": "1b1bb734",
   "metadata": {},
   "source": [
    "#### If model Overfits => Apply Regularization"
   ]
  },
  {
   "cell_type": "markdown",
   "id": "18b64846",
   "metadata": {},
   "source": [
    "#### Ridge"
   ]
  },
  {
   "cell_type": "raw",
   "id": "90a39b1f",
   "metadata": {},
   "source": [
    "from sklearn.linear_model import Ridge\n",
    "from sklearn.model_selection import GridSearchCV\n",
    "\n",
    "# Create Ridge regression model\n",
    "ridge_model = Ridge()\n",
    "\n",
    "# Set up the parameter grid for tuning\n",
    "param_grid = {'alpha': [0.01, 0.1, 1, 10, 100]}\n",
    "\n",
    "# Perform GridSearchCV for hyperparameter tuning\n",
    "ridge_grid = GridSearchCV(ridge_model, param_grid, cv=5)\n",
    "ridge_grid.fit(X_train, y_train)\n",
    "\n",
    "# Get the best parameter\n",
    "best_alpha = ridge_grid.best_params_['alpha']\n"
   ]
  },
  {
   "cell_type": "code",
   "execution_count": null,
   "id": "4732bc5f",
   "metadata": {},
   "outputs": [],
   "source": [
    "rid1 = Ridge()\n",
    "rid1_res = eval_model_advanced(rid1,x_train,y_train,x_test,y_test,'Ridge')\n",
    "rid1_res"
   ]
  },
  {
   "cell_type": "code",
   "execution_count": null,
   "id": "91663edb",
   "metadata": {},
   "outputs": [],
   "source": []
  },
  {
   "cell_type": "markdown",
   "id": "234eb2c8",
   "metadata": {},
   "source": [
    "#### Lasso"
   ]
  },
  {
   "cell_type": "code",
   "execution_count": null,
   "id": "52c21680",
   "metadata": {},
   "outputs": [],
   "source": [
    "las1 = Lasso()\n",
    "las1_res = eval_model_advanced(las1,x_train,y_train,x_test,y_test,'Lasso')\n",
    "las1_res"
   ]
  },
  {
   "cell_type": "code",
   "execution_count": null,
   "id": "3d407c8f",
   "metadata": {},
   "outputs": [],
   "source": []
  },
  {
   "cell_type": "markdown",
   "id": "4571f75f",
   "metadata": {},
   "source": [
    "### Tabulate All Results"
   ]
  },
  {
   "cell_type": "code",
   "execution_count": null,
   "id": "b8109d47",
   "metadata": {},
   "outputs": [],
   "source": [
    "all_res = pd.concat([lr1_res,rid1_res,las1_res])\n",
    "all_res"
   ]
  },
  {
   "cell_type": "code",
   "execution_count": null,
   "id": "83cef194",
   "metadata": {},
   "outputs": [],
   "source": []
  },
  {
   "cell_type": "code",
   "execution_count": null,
   "id": "487143fd",
   "metadata": {},
   "outputs": [],
   "source": []
  },
  {
   "cell_type": "markdown",
   "id": "c7243602",
   "metadata": {},
   "source": [
    "#### Overtting and Underfitting\n",
    "\n",
    "1) Overfitting<br>\n",
    "a) Model with high train score and comparatively low test score.<br>\n",
    "b) Model with high variance and low bias.\n",
    "\n",
    "\n",
    "2) Underfitting<br>\n",
    "a) Model with high test score and comparatively low train score.<br>\n",
    "b) Model with low variance and high bias.\n",
    "\n",
    "Bias varaince TradeOff<br>\n",
    "1) Bais and Variance are inversely proprotaional."
   ]
  },
  {
   "cell_type": "code",
   "execution_count": null,
   "id": "f28ef9a6",
   "metadata": {},
   "outputs": [],
   "source": []
  },
  {
   "cell_type": "code",
   "execution_count": null,
   "id": "7dc319fb",
   "metadata": {},
   "outputs": [],
   "source": []
  }
 ],
 "metadata": {
  "kernelspec": {
   "display_name": "Python 3 (ipykernel)",
   "language": "python",
   "name": "python3"
  },
  "language_info": {
   "codemirror_mode": {
    "name": "ipython",
    "version": 3
   },
   "file_extension": ".py",
   "mimetype": "text/x-python",
   "name": "python",
   "nbconvert_exporter": "python",
   "pygments_lexer": "ipython3",
   "version": "3.9.12"
  }
 },
 "nbformat": 4,
 "nbformat_minor": 5
}
